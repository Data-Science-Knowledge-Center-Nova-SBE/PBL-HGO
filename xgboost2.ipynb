{
 "cells": [
  {
   "cell_type": "code",
   "execution_count": 1,
   "metadata": {},
   "outputs": [],
   "source": [
    "import pandas as pd\n",
    "# import pandasql as ps\n",
    "import matplotlib.pyplot as plt\n",
    "# Import argsort\n",
    "from numpy import argsort\n",
    "from Functions.connection.connection import *\n",
    "from Functions.AlertP1.data_cleaning import *\n",
    "from Functions.AlertP1.features import *\n",
    "from Functions.analysis.step_analysis import *\n",
    "from Functions.AlertP1.dummy_features import *\n",
    "from Functions.Models.xgboost import *\n",
    "from Functions.Models.evaluation import *\n",
    "from Functions.NLP.alertp1_nlp import *\n",
    "from Functions.NLP.data_with_nlp import *\n",
    "from Functions.pipeline import *"
   ]
  },
  {
   "cell_type": "code",
   "execution_count": 2,
   "metadata": {},
   "outputs": [],
   "source": [
    "def precision_at_k(y_true, y_pred, k):\n",
    "    y_true = y_true.to_numpy()\n",
    "    # Get the indices of the top k predictions\n",
    "    top_k_indices = np.argsort(y_pred)[-k:]\n",
    "    # Get the top k predictions\n",
    "    top_k_predictions = y_true[top_k_indices]\n",
    "    # Calculate precision@k\n",
    "    precision = np.sum(top_k_predictions) / k\n",
    "    return precision"
   ]
  },
  {
   "cell_type": "code",
   "execution_count": 3,
   "metadata": {},
   "outputs": [
    {
     "name": "stdout",
     "output_type": "stream",
     "text": [
      "Tables: [('ConsultaUrgencia_doentespedidosconsultaNeurologia2012',), ('consultaneurologia2012',), ('consultaneurologia201216anon_true',), ('hgo_data_032023',)]\n",
      "760\n"
     ]
    },
    {
     "name": "stderr",
     "output_type": "stream",
     "text": [
      "/Users/miguelcosta/Desktop/PBL/PBL-HGO-1/Functions/connection/connection.py:30: UserWarning: pandas only supports SQLAlchemy connectable (engine/connection) or database string URI or sqlite3 DBAPI2 connection. Other DBAPI2 objects are not tested. Please consider using SQLAlchemy.\n",
      "  alertP1 = pd.read_sql(\"\"\"SELECT * FROM consultaneurologia201216anon_true\"\"\",mydb)\n"
     ]
    }
   ],
   "source": [
    "alertP1=connection(\"credentials.txt\")"
   ]
  },
  {
   "cell_type": "code",
   "execution_count": 4,
   "metadata": {},
   "outputs": [
    {
     "name": "stderr",
     "output_type": "stream",
     "text": [
      "/Users/miguelcosta/Desktop/PBL/PBL-HGO-1/Functions/AlertP1/data_cleaning.py:14: SettingWithCopyWarning: \n",
      "A value is trying to be set on a copy of a slice from a DataFrame\n",
      "\n",
      "See the caveats in the documentation: https://pandas.pydata.org/pandas-docs/stable/user_guide/indexing.html#returning-a-view-versus-a-copy\n",
      "  alertP1['PROVENIENCIA'][alertP1['PROVENIENCIA']=='']='unknown'\n",
      "/Users/miguelcosta/Desktop/PBL/PBL-HGO-1/Functions/AlertP1/data_cleaning.py:15: SettingWithCopyWarning: \n",
      "A value is trying to be set on a copy of a slice from a DataFrame\n",
      "\n",
      "See the caveats in the documentation: https://pandas.pydata.org/pandas-docs/stable/user_guide/indexing.html#returning-a-view-versus-a-copy\n",
      "  alertP1['CTH_PRIOR'][alertP1['CTH_PRIOR']=='']='unknown'\n",
      "/Users/miguelcosta/Desktop/PBL/PBL-HGO-1/Functions/AlertP1/data_cleaning.py:25: SettingWithCopyWarning: \n",
      "A value is trying to be set on a copy of a slice from a DataFrame\n",
      "\n",
      "See the caveats in the documentation: https://pandas.pydata.org/pandas-docs/stable/user_guide/indexing.html#returning-a-view-versus-a-copy\n",
      "  alertP1['COD_UNID_SAUDE_PROV'][alertP1['COD_UNID_SAUDE_PROV']==3151401]=3151400\n",
      "/Users/miguelcosta/Desktop/PBL/PBL-HGO-1/Functions/AlertP1/data_cleaning.py:26: SettingWithCopyWarning: \n",
      "A value is trying to be set on a copy of a slice from a DataFrame\n",
      "\n",
      "See the caveats in the documentation: https://pandas.pydata.org/pandas-docs/stable/user_guide/indexing.html#returning-a-view-versus-a-copy\n",
      "  alertP1['COD_UNID_SAUDE_PROV'][alertP1['COD_UNID_SAUDE_PROV']==3150503]=3150572\n",
      "/Users/miguelcosta/Desktop/PBL/PBL-HGO-1/Functions/AlertP1/data_cleaning.py:27: SettingWithCopyWarning: \n",
      "A value is trying to be set on a copy of a slice from a DataFrame\n",
      "\n",
      "See the caveats in the documentation: https://pandas.pydata.org/pandas-docs/stable/user_guide/indexing.html#returning-a-view-versus-a-copy\n",
      "  alertP1['COD_UNID_SAUDE_PROV'][alertP1['COD_UNID_SAUDE_PROV']==3151603]=3151671\n",
      "/Users/miguelcosta/Desktop/PBL/PBL-HGO-1/Functions/AlertP1/data_cleaning.py:28: SettingWithCopyWarning: \n",
      "A value is trying to be set on a copy of a slice from a DataFrame\n",
      "\n",
      "See the caveats in the documentation: https://pandas.pydata.org/pandas-docs/stable/user_guide/indexing.html#returning-a-view-versus-a-copy\n",
      "  alertP1['COD_UNID_SAUDE_PROV'][alertP1['COD_UNID_SAUDE_PROV']==3152101]=3152100\n",
      "/Users/miguelcosta/Desktop/PBL/PBL-HGO-1/Functions/AlertP1/data_cleaning.py:30: SettingWithCopyWarning: \n",
      "A value is trying to be set on a copy of a slice from a DataFrame\n",
      "\n",
      "See the caveats in the documentation: https://pandas.pydata.org/pandas-docs/stable/user_guide/indexing.html#returning-a-view-versus-a-copy\n",
      "  alertP1['PROVENIENCIA'][alertP1['COD_UNID_SAUDE_PROV']==3150371]='CTH'\n",
      "/Users/miguelcosta/Desktop/PBL/PBL-HGO-1/Functions/AlertP1/features.py:20: SettingWithCopyWarning: \n",
      "A value is trying to be set on a copy of a slice from a DataFrame\n",
      "\n",
      "See the caveats in the documentation: https://pandas.pydata.org/pandas-docs/stable/user_guide/indexing.html#returning-a-view-versus-a-copy\n",
      "  alertP1['step'][alertP1['step']>=3]='3+'\n",
      "/Users/miguelcosta/Desktop/PBL/PBL-HGO-1/Functions/NLP/alertp1_nlp.py:168: FutureWarning: iteritems is deprecated and will be removed in a future version. Use .items instead.\n",
      "  for i, text in df[column].iteritems():\n",
      "/Users/miguelcosta/Desktop/PBL/PBL-HGO-1/Functions/NLP/alertp1_nlp.py:243: FutureWarning: iteritems is deprecated and will be removed in a future version. Use .items instead.\n",
      "  for i, text in df[column].iteritems():\n",
      "/Users/miguelcosta/Desktop/PBL/PBL-HGO-1/Functions/NLP/alertp1_nlp.py:218: FutureWarning: iteritems is deprecated and will be removed in a future version. Use .items instead.\n",
      "  for i, text in df[column].iteritems():\n",
      "/Users/miguelcosta/Desktop/PBL/PBL-HGO-1/Functions/NLP/alertp1_nlp.py:143: FutureWarning: iteritems is deprecated and will be removed in a future version. Use .items instead.\n",
      "  for i, text in df[column].iteritems():\n",
      "[nltk_data] Downloading package stopwords to\n",
      "[nltk_data]     /Users/miguelcosta/nltk_data...\n",
      "[nltk_data]   Package stopwords is already up-to-date!\n",
      "[nltk_data] Downloading package punkt to\n",
      "[nltk_data]     /Users/miguelcosta/nltk_data...\n",
      "[nltk_data]   Package punkt is already up-to-date!\n"
     ]
    }
   ],
   "source": [
    "data = pre_process(alertP1)"
   ]
  },
  {
   "cell_type": "code",
   "execution_count": 67,
   "metadata": {},
   "outputs": [],
   "source": [
    "eliminate_cols=['ID_DOENTE','PROCESSO','COD_REFERENCIA','result','COD_PZ','COD_UNID_SAUDE_PROV','UNID_PROV','TIPO_UNID','COD_CTH_PRIOR','CTH_PRIOR','COD_MOTIVO_RECUSA','DES_MOTIVO_RECUSA','COD_ESPECIALIDADE','DES_ESPECIALIDADE','agrupadora','OUTRA_ENTIDADE','DATA_RECEPCAO','DATA_ENVIO','DATA_RETORNO','NUM_TAXA','ESTADO','DATA_MARCACAO','DATA_REALIZACAO','OBSERVACOES','Mês_entrada','Ano_entrada','trata data recusa','resume saída','mês_saida','ano_saida','Texto','clean_text']\n",
    "X = data.drop(eliminate_cols,axis=1)# Features\n",
    "y = data.result # Target variable\n",
    "features=X.columns\n",
    "\n",
    "y_pred, model_score, X_train, X_test, y_train, y_test = xgb_classifier(X,y)"
   ]
  },
  {
   "cell_type": "code",
   "execution_count": 88,
   "metadata": {},
   "outputs": [],
   "source": [
    "import pandas as pd\n",
    "from sklearn.metrics import accuracy_score, recall_score, precision_score, precision_recall_curve, auc, confusion_matrix, cohen_kappa_score\n",
    "\n",
    "def evaluate_thresholds(y_pred, y_test, k = 211):\n",
    "    #Precion@k\n",
    "    def precision_at_k(y_true, y_pred, k):\n",
    "        y_true = y_true.to_numpy()\n",
    "        # Get the indices of the top k predictions\n",
    "        top_k_indices = np.argsort(y_pred)[-k:]\n",
    "        # Get the top k predictions\n",
    "        top_k_predictions = y_true[top_k_indices]\n",
    "        # Calculate precision@k\n",
    "        precision = np.sum(top_k_predictions) / k\n",
    "        return precision\n",
    "\n",
    "    # Default threshold (0.5)\n",
    "    default_threshold = 0.5\n",
    "    default_y_pred_binary = (y_pred >= default_threshold).astype(int)\n",
    "    default_accuracy = accuracy_score(y_test, default_y_pred_binary)\n",
    "    default_recall = recall_score(y_test, default_y_pred_binary)\n",
    "    default_precision = precision_score(y_test, default_y_pred_binary)\n",
    "    default_precision_at_k = precision_at_k(y_test, default_y_pred_binary, k)\n",
    "    \n",
    "    # Define thresholds\n",
    "   \n",
    "\n",
    "    # Precision-Recall trade-off\n",
    "    precision, recall, thresholds = precision_recall_curve(y_test, y_pred)\n",
    "    f1_scores = 2 * precision * recall / (precision + recall)\n",
    "    best_index = pd.Series(f1_scores).idxmax()\n",
    "    pr_threshold = thresholds[best_index]\n",
    "    pr_y_pred_binary = (y_pred >= pr_threshold).astype(int)\n",
    "    pr_accuracy = accuracy_score(y_test, pr_y_pred_binary)\n",
    "    pr_recall = recall_score(y_test, pr_y_pred_binary)\n",
    "    pr_precision = precision_score(y_test, pr_y_pred_binary)\n",
    "    pr_precision_at_k = precision_at_k(y_test, pr_y_pred_binary, k)\n",
    "    \n",
    "    thresholds = np.linspace(0, 1, 100)\n",
    "\n",
    "    # Balanced Accuracy\n",
    "    cms = [confusion_matrix(y_test, (y_pred >= t).astype(int)) for t in thresholds]\n",
    "    sensitivity = [cm[1, 1] / (cm[1, 1] + cm[1, 0]) for cm in cms]\n",
    "    specificity = [cm[0, 0] / (cm[0, 0] + cm[0, 1]) for cm in cms]\n",
    "    balanced_accuracy = [(s + sp) / 2 for s, sp in zip(sensitivity, specificity)]\n",
    "    ba_threshold = thresholds[np.argmax(balanced_accuracy)]\n",
    "    ba_y_pred_binary = (y_pred >= ba_threshold).astype(int)\n",
    "    ba_accuracy = accuracy_score(y_test, ba_y_pred_binary)\n",
    "    ba_recall = recall_score(y_test, ba_y_pred_binary)\n",
    "    ba_precision = precision_score(y_test, ba_y_pred_binary)\n",
    "    ba_precision_at_k = precision_at_k(y_test, ba_y_pred_binary,k)\n",
    "    \n",
    "    # Cohen's Kappa\n",
    "    kappas = [cohen_kappa_score(y_test, (y_pred >= t).astype(int)) for t in thresholds]\n",
    "    kappa_threshold = thresholds[np.argmax(kappas)]\n",
    "    kappa_y_pred_binary = (y_pred >= kappa_threshold).astype(int)\n",
    "    kappa_kappa = cohen_kappa_score(y_test, kappa_y_pred_binary)\n",
    "    kappa_accuracy = accuracy_score(y_test, kappa_y_pred_binary)\n",
    "    kappa_recall = recall_score(y_test, kappa_y_pred_binary)\n",
    "    kappa_precision = precision_score(y_test, kappa_y_pred_binary)\n",
    "    kappa_precision_at_k = precision_at_k(y_test, kappa_y_pred_binary, k)\n",
    "\n",
    "    # Limit to K\n",
    "    limit_to_k_threshold = np.sort(y_pred)[-k]\n",
    "    limit_to_k_y_pred_binary = (y_pred >= limit_to_k_threshold).astype(int)\n",
    "    limit_to_k_accuracy = accuracy_score(y_test, limit_to_k_y_pred_binary)\n",
    "    limit_to_k_recall = recall_score(y_test, limit_to_k_y_pred_binary)\n",
    "    limit_to_k_precision = precision_score(y_test, limit_to_k_y_pred_binary)\n",
    "    limit_to_k_precision_at_k = precision_at_k(y_test, limit_to_k_y_pred_binary, k)\n",
    "    \n",
    "    # Create output dataframe\n",
    "    data = {\n",
    "        'Analysis': ['Default', 'Precision-Recall trade-off', 'Balanced Accuracy', \"Cohen's Kappa\", 'Limit to K'],\n",
    "        'Threshold': [round(default_threshold, 2), round(pr_threshold, 2), round(ba_threshold, 2), round(kappa_threshold, 2), round(limit_to_k_threshold, 2)],\n",
    "        'Accuracy': [round(default_accuracy, 2), round(pr_accuracy, 2), round(ba_accuracy, 2), round(kappa_accuracy, 2), round(limit_to_k_accuracy, 2)],\n",
    "        'Recall': [round(default_recall, 2), round(pr_recall, 2), round(ba_recall, 2), round(kappa_recall, 2), round(limit_to_k_recall, 2)],\n",
    "        'Precision': [round(default_precision, 2), round(pr_precision, 2), round(ba_precision, 2), round(kappa_precision, 2), round(limit_to_k_precision, 2)],\n",
    "        'Precision@211': [round(default_precision_at_k, 2), round(pr_precision_at_k, 2), round(ba_precision_at_k, 2), round(kappa_precision_at_k, 2), round(limit_to_k_precision_at_k, 2)]\n",
    "    }\n",
    "    \n",
    "    df = pd.DataFrame(data)\n",
    "    return df\n",
    "\n",
    "\n"
   ]
  },
  {
   "cell_type": "code",
   "execution_count": 89,
   "metadata": {},
   "outputs": [
    {
     "data": {
      "text/html": [
       "<div>\n",
       "<style scoped>\n",
       "    .dataframe tbody tr th:only-of-type {\n",
       "        vertical-align: middle;\n",
       "    }\n",
       "\n",
       "    .dataframe tbody tr th {\n",
       "        vertical-align: top;\n",
       "    }\n",
       "\n",
       "    .dataframe thead th {\n",
       "        text-align: right;\n",
       "    }\n",
       "</style>\n",
       "<table border=\"1\" class=\"dataframe\">\n",
       "  <thead>\n",
       "    <tr style=\"text-align: right;\">\n",
       "      <th></th>\n",
       "      <th>Analysis</th>\n",
       "      <th>Threshold</th>\n",
       "      <th>Accuracy</th>\n",
       "      <th>Recall</th>\n",
       "      <th>Precision</th>\n",
       "      <th>Precision@211</th>\n",
       "    </tr>\n",
       "  </thead>\n",
       "  <tbody>\n",
       "    <tr>\n",
       "      <th>0</th>\n",
       "      <td>Default</td>\n",
       "      <td>0.50</td>\n",
       "      <td>0.69</td>\n",
       "      <td>0.95</td>\n",
       "      <td>0.69</td>\n",
       "      <td>0.68</td>\n",
       "    </tr>\n",
       "    <tr>\n",
       "      <th>1</th>\n",
       "      <td>Precision-Recall trade-off</td>\n",
       "      <td>0.59</td>\n",
       "      <td>0.75</td>\n",
       "      <td>0.90</td>\n",
       "      <td>0.76</td>\n",
       "      <td>0.75</td>\n",
       "    </tr>\n",
       "    <tr>\n",
       "      <th>2</th>\n",
       "      <td>Balanced Accuracy</td>\n",
       "      <td>0.68</td>\n",
       "      <td>0.71</td>\n",
       "      <td>0.73</td>\n",
       "      <td>0.81</td>\n",
       "      <td>0.76</td>\n",
       "    </tr>\n",
       "    <tr>\n",
       "      <th>3</th>\n",
       "      <td>Cohen's Kappa</td>\n",
       "      <td>0.61</td>\n",
       "      <td>0.75</td>\n",
       "      <td>0.86</td>\n",
       "      <td>0.78</td>\n",
       "      <td>0.79</td>\n",
       "    </tr>\n",
       "    <tr>\n",
       "      <th>4</th>\n",
       "      <td>Limit to K</td>\n",
       "      <td>0.63</td>\n",
       "      <td>0.73</td>\n",
       "      <td>0.80</td>\n",
       "      <td>0.80</td>\n",
       "      <td>0.80</td>\n",
       "    </tr>\n",
       "  </tbody>\n",
       "</table>\n",
       "</div>"
      ],
      "text/plain": [
       "                     Analysis  Threshold  Accuracy  Recall  Precision  \\\n",
       "0                     Default       0.50      0.69    0.95       0.69   \n",
       "1  Precision-Recall trade-off       0.59      0.75    0.90       0.76   \n",
       "2           Balanced Accuracy       0.68      0.71    0.73       0.81   \n",
       "3               Cohen's Kappa       0.61      0.75    0.86       0.78   \n",
       "4                  Limit to K       0.63      0.73    0.80       0.80   \n",
       "\n",
       "   Precision@211  \n",
       "0           0.68  \n",
       "1           0.75  \n",
       "2           0.76  \n",
       "3           0.79  \n",
       "4           0.80  "
      ]
     },
     "execution_count": 89,
     "metadata": {},
     "output_type": "execute_result"
    }
   ],
   "source": [
    "evaluate_thresholds(y_pred, y_test)"
   ]
  },
  {
   "cell_type": "code",
   "execution_count": 90,
   "metadata": {},
   "outputs": [
    {
     "data": {
      "image/png": "[encoded data removed]",
      "text/plain": [
       "<Figure size 640x480 with 1 Axes>"
      ]
     },
     "metadata": {},
     "output_type": "display_data"
    }
   ],
   "source": [
    "from xgboost import plot_importance\n",
    "\n",
    "# Plot the feature importance scores\n",
    "plot_importance(model_score)\n",
    "plt.show()"
   ]
  },
  {
   "cell_type": "code",
   "execution_count": null,
   "metadata": {},
   "outputs": [],
   "source": []
  }
 ],
 "metadata": {
  "kernelspec": {
   "display_name": "Python 3",
   "language": "python",
   "name": "python3"
  },
  "language_info": {
   "codemirror_mode": {
    "name": "ipython",
    "version": 3
   },
   "file_extension": ".py",
   "mimetype": "text/x-python",
   "name": "python",
   "nbconvert_exporter": "python",
   "pygments_lexer": "ipython3",
   "version": "3.11.2"
  },
  "orig_nbformat": 4
 },
 "nbformat": 4,
 "nbformat_minor": 2
}
