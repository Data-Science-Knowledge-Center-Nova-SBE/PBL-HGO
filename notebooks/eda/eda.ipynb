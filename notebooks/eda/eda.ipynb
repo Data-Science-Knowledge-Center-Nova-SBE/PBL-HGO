{
 "cells": [
  {
   "cell_type": "code",
   "execution_count": 1,
   "metadata": {},
   "outputs": [],
   "source": [
    "import mysql.connector\n",
    "import pandas as pd\n",
    "import numpy as np\n",
    "import seaborn as sns\n",
    "import matplotlib.pyplot as plt"
   ]
  },
  {
   "cell_type": "code",
   "execution_count": 3,
   "metadata": {},
   "outputs": [
    {
     "name": "stdout",
     "output_type": "stream",
     "text": [
      "Tables: [('ConsultaUrgencia_doentespedidosconsultaNeurologia2012',), ('consultaneurologia2012',), ('consultaneurologia201216anon_true',)]\n",
      "313\n"
     ]
    }
   ],
   "source": [
    "#Connection to the database\n",
    "host = credentials['Value'][0]\n",
    "user = credentials['Value'][1]\n",
    "password = credentials['Value'][2]\n",
    "database = credentials['Value'][3]\n",
    "port = credentials['Value'][4]\n",
    "mydb = mysql.connector.connect(host=host, user=user, database=database, port=port, password=password, auth_plugin='mysql_native_password')\n",
    "mycursor = mydb.cursor()\n",
    "\n",
    "#Safecheck to guarantee that the connection worked\n",
    "mycursor.execute('SHOW TABLES;')\n",
    "print(f\"Tables: {mycursor.fetchall()}\")\n",
    "print(mydb.connection_id) #it'll give connection_id,if got connected"
   ]
  },
  {
   "cell_type": "code",
   "execution_count": 4,
   "metadata": {},
   "outputs": [
    {
     "name": "stderr",
     "output_type": "stream",
     "text": [
      "/Users/gabrielabib/opt/anaconda3/lib/python3.9/site-packages/pandas/io/sql.py:761: UserWarning: pandas only support SQLAlchemy connectable(engine/connection) ordatabase string URI or sqlite3 DBAPI2 connectionother DBAPI2 objects are not tested, please consider using SQLAlchemy\n",
      "  warnings.warn(\n"
     ]
    },
    {
     "name": "stdout",
     "output_type": "stream",
     "text": [
      "<class 'pandas.core.frame.DataFrame'>\n",
      "RangeIndex: 10150 entries, 0 to 10149\n",
      "Data columns (total 31 columns):\n",
      " #   Column               Non-Null Count  Dtype \n",
      "---  ------               --------------  ----- \n",
      " 0   ID_DOENTE            10150 non-null  object\n",
      " 1   PROCESSO             10150 non-null  object\n",
      " 2   COD_REFERENCIA       10150 non-null  object\n",
      " 3   COD_PZ               10150 non-null  object\n",
      " 4   COD_UNID_SAUDE_PROV  10150 non-null  int64 \n",
      " 5   UNID_PROV            10150 non-null  object\n",
      " 6   TIPO_UNID            10150 non-null  object\n",
      " 7   PROVENIENCIA         10150 non-null  object\n",
      " 8   COD_CTH_PRIOR        10150 non-null  object\n",
      " 9   CTH_PRIOR            10150 non-null  object\n",
      " 10  COD_MOTIVO_RECUSA    10150 non-null  int64 \n",
      " 11  DES_MOTIVO_RECUSA    10150 non-null  object\n",
      " 12  COD_ESPECIALIDADE    10150 non-null  int64 \n",
      " 13  DES_ESPECIALIDADE    10150 non-null  object\n",
      " 14  agrupadora           10150 non-null  object\n",
      " 15  OUTRA_ENTIDADE       10150 non-null  int64 \n",
      " 16  DATA_RECEPCAO        10150 non-null  object\n",
      " 17  DATA_ENVIO           10150 non-null  object\n",
      " 18  DATA_RETORNO         10150 non-null  object\n",
      " 19  NUM_TAXA             10150 non-null  int64 \n",
      " 20  ESTADO               10150 non-null  object\n",
      " 21  DATA_MARCACAO        10150 non-null  object\n",
      " 22  DATA_REALIZACAO      10150 non-null  object\n",
      " 23  OBSERVACOES          10150 non-null  object\n",
      " 24  Mês_entrada          10150 non-null  int64 \n",
      " 25  Ano_entrada          10150 non-null  int64 \n",
      " 26  trata data recusa    10150 non-null  object\n",
      " 27  resume saída         10150 non-null  object\n",
      " 28  mês_saida            10150 non-null  object\n",
      " 29  ano_saida            10150 non-null  object\n",
      " 30  Texto                10150 non-null  object\n",
      "dtypes: int64(7), object(24)\n",
      "memory usage: 2.4+ MB\n"
     ]
    }
   ],
   "source": [
    "alertP1 = pd.read_sql(\"\"\"SELECT * FROM consultaneurologia201216anon_true\"\"\",mydb)\n",
    "alertP1\n",
    "alertP1.info()"
   ]
  },
  {
   "cell_type": "code",
   "execution_count": 5,
   "metadata": {},
   "outputs": [
    {
     "name": "stdout",
     "output_type": "stream",
     "text": [
      "122\n",
      "0\n",
      "0.0\n",
      "0          4332\n",
      "3150502     394\n",
      "3151672     379\n",
      "3150671     365\n",
      "3150572     361\n",
      "           ... \n",
      "4121100       1\n",
      "3111400       1\n",
      "4070571       1\n",
      "3150872       1\n",
      "4121101       1\n",
      "Name: COD_UNID_SAUDE_PROV, Length: 122, dtype: int64\n"
     ]
    },
    {
     "data": {
      "text/plain": [
       "<AxesSubplot:xlabel='COD_UNID_SAUDE_PROV', ylabel='count'>"
      ]
     },
     "execution_count": 5,
     "metadata": {},
     "output_type": "execute_result"
    },
    {
     "data": {
      "image/png": "[encoded data removed]",
      "text/plain": [
       "<Figure size 432x288 with 1 Axes>"
      ]
     },
     "metadata": {
      "needs_background": "light"
     },
     "output_type": "display_data"
    }
   ],
   "source": [
    "print(alertP1[\"COD_UNID_SAUDE_PROV\"].nunique())\n",
    "\n",
    "#number of empty values\n",
    "print(alertP1[\"COD_UNID_SAUDE_PROV\"].isna().sum())\n",
    "\n",
    "#percentage of empty cells\n",
    "print(alertP1[\"COD_UNID_SAUDE_PROV\"].isnull().sum()/alertP1[\"COD_UNID_SAUDE_PROV\"].shape[0] * 100)\n",
    "\n",
    "#the frequency of the values\n",
    "print(alertP1[\"COD_UNID_SAUDE_PROV\"].value_counts())\n",
    "\n",
    "#sns.countplot(alertP1[\"COD_MOTIVO_RECUSA\"],order=alertP1[\"COD_MOTIVO_RECUSA\"].sort_values())\n",
    "\n",
    "sns.countplot(x = 'COD_UNID_SAUDE_PROV',\n",
    "                data = alertP1,\n",
    "                order = alertP1['COD_UNID_SAUDE_PROV'].value_counts().index)"
   ]
  },
  {
   "cell_type": "code",
   "execution_count": 6,
   "metadata": {},
   "outputs": [
    {
     "name": "stdout",
     "output_type": "stream",
     "text": [
      "120\n",
      "0\n",
      "0.0\n",
      "                                  4332\n",
      "CHARNECA DA CAPARICA               394\n",
      "USF AMORA SAUDAVEL                 379\n",
      "USF COVA DA PIEDADE-CS C PIEDA     365\n",
      "USF MONTE DA CAPARICA              361\n",
      "                                  ... \n",
      "CARNAXIDE                            1\n",
      "USF EBORAE-CS EVORA                  1\n",
      "USF QUINTA DA LOMBA                  1\n",
      "USF ORIENTE                          1\n",
      "ASSUMAR                              1\n",
      "Name: UNID_PROV, Length: 120, dtype: int64\n"
     ]
    },
    {
     "data": {
      "text/plain": [
       "<AxesSubplot:xlabel='UNID_PROV', ylabel='count'>"
      ]
     },
     "execution_count": 6,
     "metadata": {},
     "output_type": "execute_result"
    },
    {
     "data": {
      "image/png": "[encoded data removed]",
      "text/plain": [
       "<Figure size 432x288 with 1 Axes>"
      ]
     },
     "metadata": {
      "needs_background": "light"
     },
     "output_type": "display_data"
    }
   ],
   "source": [
    "print(alertP1[\"UNID_PROV\"].nunique())\n",
    "\n",
    "#number of empty values\n",
    "print(alertP1[\"UNID_PROV\"].isna().sum())\n",
    "\n",
    "#percentage of empty cells\n",
    "print(alertP1[\"UNID_PROV\"].isnull().sum()/alertP1[\"UNID_PROV\"].shape[0] * 100)\n",
    "\n",
    "#the frequency of the values\n",
    "print(alertP1[\"UNID_PROV\"].value_counts())\n",
    "\n",
    "#sns.countplot(alertP1[\"COD_MOTIVO_RECUSA\"],order=alertP1[\"COD_MOTIVO_RECUSA\"].sort_values())\n",
    "\n",
    "sns.countplot(x = 'UNID_PROV',\n",
    "                data = alertP1,\n",
    "                order = alertP1['UNID_PROV'].value_counts().index)"
   ]
  },
  {
   "cell_type": "code",
   "execution_count": 7,
   "metadata": {},
   "outputs": [
    {
     "name": "stdout",
     "output_type": "stream",
     "text": [
      "3\n",
      "0\n",
      "0.0\n",
      "CS/USF    5681\n",
      "OUTRA     4332\n",
      "HOSP       137\n",
      "Name: TIPO_UNID, dtype: int64\n"
     ]
    },
    {
     "data": {
      "text/plain": [
       "<AxesSubplot:xlabel='TIPO_UNID', ylabel='count'>"
      ]
     },
     "execution_count": 7,
     "metadata": {},
     "output_type": "execute_result"
    },
    {
     "data": {
      "image/png": "[encoded data removed]",
      "text/plain": [
       "<Figure size 432x288 with 1 Axes>"
      ]
     },
     "metadata": {
      "needs_background": "light"
     },
     "output_type": "display_data"
    }
   ],
   "source": [
    "print(alertP1[\"TIPO_UNID\"].nunique())\n",
    "\n",
    "#number of empty values\n",
    "print(alertP1[\"TIPO_UNID\"].isna().sum())\n",
    "\n",
    "#percentage of empty cells\n",
    "print(alertP1[\"TIPO_UNID\"].isnull().sum()/alertP1[\"TIPO_UNID\"].shape[0] * 100)\n",
    "\n",
    "#the frequency of the values\n",
    "print(alertP1[\"TIPO_UNID\"].value_counts())\n",
    "\n",
    "#sns.countplot(alertP1[\"COD_MOTIVO_RECUSA\"],order=alertP1[\"COD_MOTIVO_RECUSA\"].sort_values())\n",
    "\n",
    "sns.countplot(x = 'TIPO_UNID',\n",
    "                data = alertP1,\n",
    "                order = alertP1['TIPO_UNID'].value_counts().index)"
   ]
  },
  {
   "cell_type": "code",
   "execution_count": 8,
   "metadata": {},
   "outputs": [
    {
     "name": "stdout",
     "output_type": "stream",
     "text": [
      "62\n",
      "0\n",
      "0.0\n",
      "0      5818\n",
      "195    3528\n",
      "2       298\n",
      "116     116\n",
      "237      91\n",
      "       ... \n",
      "219       1\n",
      "341       1\n",
      "282       1\n",
      "357       1\n",
      "335       1\n",
      "Name: OUTRA_ENTIDADE, Length: 62, dtype: int64\n"
     ]
    },
    {
     "data": {
      "text/plain": [
       "<AxesSubplot:xlabel='OUTRA_ENTIDADE', ylabel='count'>"
      ]
     },
     "execution_count": 8,
     "metadata": {},
     "output_type": "execute_result"
    },
    {
     "data": {
      "image/png": "[encoded data removed]",
      "text/plain": [
       "<Figure size 432x288 with 1 Axes>"
      ]
     },
     "metadata": {
      "needs_background": "light"
     },
     "output_type": "display_data"
    }
   ],
   "source": [
    "\n",
    "print(alertP1[\"OUTRA_ENTIDADE\"].nunique())\n",
    "\n",
    "#number of empty values\n",
    "print(alertP1[\"OUTRA_ENTIDADE\"].isna().sum())\n",
    "\n",
    "#percentage of empty cells\n",
    "print(alertP1[\"OUTRA_ENTIDADE\"].isnull().sum()/alertP1[\"OUTRA_ENTIDADE\"].shape[0] * 100)\n",
    "\n",
    "#the frequency of the values\n",
    "print(alertP1[\"OUTRA_ENTIDADE\"].value_counts())\n",
    "\n",
    "#sns.countplot(alertP1[\"COD_MOTIVO_RECUSA\"],order=alertP1[\"COD_MOTIVO_RECUSA\"].sort_values())\n",
    "\n",
    "sns.countplot(x = 'OUTRA_ENTIDADE',\n",
    "                data = alertP1,\n",
    "                order = alertP1['OUTRA_ENTIDADE'].value_counts().index)"
   ]
  },
  {
   "cell_type": "code",
   "execution_count": 9,
   "metadata": {},
   "outputs": [
    {
     "name": "stdout",
     "output_type": "stream",
     "text": [
      "4\n",
      "0\n",
      "0.0\n",
      "CTH    5672\n",
      "SAM    2831\n",
      "       1382\n",
      "SON     265\n",
      "Name: PROVENIENCIA, dtype: int64\n"
     ]
    },
    {
     "data": {
      "text/plain": [
       "<AxesSubplot:xlabel='PROVENIENCIA', ylabel='count'>"
      ]
     },
     "execution_count": 9,
     "metadata": {},
     "output_type": "execute_result"
    },
    {
     "data": {
      "image/png": "[encoded data removed]",
      "text/plain": [
       "<Figure size 432x288 with 1 Axes>"
      ]
     },
     "metadata": {
      "needs_background": "light"
     },
     "output_type": "display_data"
    }
   ],
   "source": [
    "\n",
    "print(alertP1[\"PROVENIENCIA\"].nunique())\n",
    "\n",
    "#number of empty values\n",
    "print(alertP1[\"PROVENIENCIA\"].isnull().sum())\n",
    "\n",
    "#percentage of empty cells\n",
    "print(alertP1[\"PROVENIENCIA\"].isnull().sum()/alertP1[\"PROVENIENCIA\"].shape[0] * 100)\n",
    "\n",
    "#the frequency of the values\n",
    "print(alertP1[\"PROVENIENCIA\"].value_counts())\n",
    "\n",
    "#sns.countplot(alertP1[\"COD_MOTIVO_RECUSA\"],order=alertP1[\"COD_MOTIVO_RECUSA\"].sort_values())\n",
    "\n",
    "sns.countplot(x = 'PROVENIENCIA',\n",
    "                data = alertP1,\n",
    "                order = alertP1['PROVENIENCIA'].value_counts().index)"
   ]
  },
  {
   "cell_type": "code",
   "execution_count": 10,
   "metadata": {},
   "outputs": [
    {
     "name": "stdout",
     "output_type": "stream",
     "text": [
      "4\n",
      "0\n",
      "0.0\n",
      "     7749\n",
      "3    2335\n",
      "2      60\n",
      "1       6\n",
      "Name: COD_CTH_PRIOR, dtype: int64\n"
     ]
    },
    {
     "data": {
      "text/plain": [
       "<AxesSubplot:xlabel='COD_CTH_PRIOR', ylabel='count'>"
      ]
     },
     "execution_count": 10,
     "metadata": {},
     "output_type": "execute_result"
    },
    {
     "data": {
      "image/png": "[encoded data removed]",
      "text/plain": [
       "<Figure size 432x288 with 1 Axes>"
      ]
     },
     "metadata": {
      "needs_background": "light"
     },
     "output_type": "display_data"
    }
   ],
   "source": [
    "print(alertP1[\"COD_CTH_PRIOR\"].nunique())\n",
    "\n",
    "#number of empty values\n",
    "print(alertP1[\"COD_CTH_PRIOR\"].isna().sum())\n",
    "\n",
    "#percentage of empty cells\n",
    "print(alertP1[\"COD_CTH_PRIOR\"].isnull().sum()/alertP1[\"COD_CTH_PRIOR\"].shape[0] * 100)\n",
    "\n",
    "#the frequency of the values\n",
    "print(alertP1[\"COD_CTH_PRIOR\"].value_counts())\n",
    "\n",
    "#sns.countplot(alertP1[\"COD_MOTIVO_RECUSA\"],order=alertP1[\"COD_MOTIVO_RECUSA\"].sort_values())\n",
    "\n",
    "sns.countplot(x = 'COD_CTH_PRIOR',\n",
    "                data = alertP1,\n",
    "                order = alertP1['COD_CTH_PRIOR'].value_counts().index)"
   ]
  },
  {
   "cell_type": "code",
   "execution_count": 11,
   "metadata": {},
   "outputs": [
    {
     "name": "stdout",
     "output_type": "stream",
     "text": [
      "4\n",
      "0\n",
      "0.0\n",
      "                     7749\n",
      "Normal               2335\n",
      "Prioritário            60\n",
      "Muito Prioritário       6\n",
      "Name: CTH_PRIOR, dtype: int64\n"
     ]
    },
    {
     "data": {
      "text/plain": [
       "<AxesSubplot:xlabel='CTH_PRIOR', ylabel='count'>"
      ]
     },
     "execution_count": 11,
     "metadata": {},
     "output_type": "execute_result"
    },
    {
     "data": {
      "image/png": "[encoded data removed]",
      "text/plain": [
       "<Figure size 432x288 with 1 Axes>"
      ]
     },
     "metadata": {
      "needs_background": "light"
     },
     "output_type": "display_data"
    }
   ],
   "source": [
    "print(alertP1[\"CTH_PRIOR\"].nunique())\n",
    "\n",
    "#number of empty values\n",
    "print(alertP1[\"CTH_PRIOR\"].isna().sum())\n",
    "\n",
    "#percentage of empty cells\n",
    "print(alertP1[\"CTH_PRIOR\"].isnull().sum()/alertP1[\"CTH_PRIOR\"].shape[0] * 100)\n",
    "\n",
    "#the frequency of the values\n",
    "print(alertP1[\"CTH_PRIOR\"].value_counts())\n",
    "\n",
    "#sns.countplot(alertP1[\"COD_MOTIVO_RECUSA\"],order=alertP1[\"COD_MOTIVO_RECUSA\"].sort_values())\n",
    "\n",
    "sns.countplot(x = 'CTH_PRIOR',\n",
    "                data = alertP1,\n",
    "                order = alertP1['CTH_PRIOR'].value_counts().index)"
   ]
  },
  {
   "cell_type": "code",
   "execution_count": null,
   "metadata": {},
   "outputs": [],
   "source": []
  }
 ],
 "metadata": {
  "kernelspec": {
   "display_name": "Python 3.9.12 ('base')",
   "language": "python",
   "name": "python3"
  },
  "language_info": {
   "codemirror_mode": {
    "name": "ipython",
    "version": 3
   },
   "file_extension": ".py",
   "mimetype": "text/x-python",
   "name": "python",
   "nbconvert_exporter": "python",
   "pygments_lexer": "ipython3",
   "version": "3.9.12"
  },
  "orig_nbformat": 4,
  "vscode": {
   "interpreter": {
    "hash": "eb98f5c2dde37d8a67961a214b34faf352e815d37d431ceb2c7a3f0b15f97046"
   }
  }
 },
 "nbformat": 4,
 "nbformat_minor": 2
}
