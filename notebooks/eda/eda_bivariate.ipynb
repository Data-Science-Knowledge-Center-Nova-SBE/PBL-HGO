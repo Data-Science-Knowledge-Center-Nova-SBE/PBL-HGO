{
 "cells": [
  {
   "cell_type": "code",
   "execution_count": 1,
   "id": "bc1767b4",
   "metadata": {},
   "outputs": [
    {
     "name": "stdout",
     "output_type": "stream",
     "text": [
      "Tables: [('ConsultaUrgencia_doentespedidosconsultaNeurologia2012',), ('consultaneurologia2012',), ('consultaneurologia201216anon_true',)]\n",
      "265\n"
     ]
    }
   ],
   "source": [
    "import mysql.connector\n",
    "import pandas as pd\n",
    "import seaborn as sns\n",
    "import numpy as np\n",
    "import matplotlib.pyplot as plt\n",
    "creds = [\"uktuserdaroglu\",\"Vacy4201(Pri\",\"172.20.20.4\",\"hgo\",3306]\n",
    "#Connection to the database\n",
    "host = creds[2]\n",
    "user = creds[0]\n",
    "password = creds[1]\n",
    "database = creds[3]\n",
    "port = creds[4]\n",
    "mydb = mysql.connector.connect(host=host, user=user, database=database, port=port, password=password, auth_plugin='mysql_native_password')\n",
    "mycursor = mydb.cursor()\n",
    "\n",
    "#Safecheck to guarantee that the connection worked\n",
    "mycursor.execute('SHOW TABLES;')\n",
    "print(f\"Tables: {mycursor.fetchall()}\")\n",
    "print(mydb.connection_id) #it'll give connection_id,if got connected"
   ]
  },
  {
   "cell_type": "code",
   "execution_count": 16,
   "id": "f04b2867",
   "metadata": {},
   "outputs": [
    {
     "name": "stdout",
     "output_type": "stream",
     "text": [
      "<class 'pandas.core.frame.DataFrame'>\n",
      "RangeIndex: 10150 entries, 0 to 10149\n",
      "Data columns (total 31 columns):\n",
      " #   Column               Non-Null Count  Dtype \n",
      "---  ------               --------------  ----- \n",
      " 0   ID_DOENTE            10150 non-null  object\n",
      " 1   PROCESSO             10150 non-null  object\n",
      " 2   COD_REFERENCIA       10150 non-null  object\n",
      " 3   COD_PZ               10150 non-null  object\n",
      " 4   COD_UNID_SAUDE_PROV  10150 non-null  int64 \n",
      " 5   UNID_PROV            10150 non-null  object\n",
      " 6   TIPO_UNID            10150 non-null  object\n",
      " 7   PROVENIENCIA         10150 non-null  object\n",
      " 8   COD_CTH_PRIOR        10150 non-null  object\n",
      " 9   CTH_PRIOR            10150 non-null  object\n",
      " 10  COD_MOTIVO_RECUSA    10150 non-null  int64 \n",
      " 11  DES_MOTIVO_RECUSA    10150 non-null  object\n",
      " 12  COD_ESPECIALIDADE    10150 non-null  int64 \n",
      " 13  DES_ESPECIALIDADE    10150 non-null  object\n",
      " 14  agrupadora           10150 non-null  object\n",
      " 15  OUTRA_ENTIDADE       10150 non-null  int64 \n",
      " 16  DATA_RECEPCAO        10150 non-null  object\n",
      " 17  DATA_ENVIO           10150 non-null  object\n",
      " 18  DATA_RETORNO         10150 non-null  object\n",
      " 19  NUM_TAXA             10150 non-null  int64 \n",
      " 20  ESTADO               10150 non-null  object\n",
      " 21  DATA_MARCACAO        10150 non-null  object\n",
      " 22  DATA_REALIZACAO      10150 non-null  object\n",
      " 23  OBSERVACOES          10150 non-null  object\n",
      " 24  Mês_entrada          10150 non-null  int64 \n",
      " 25  Ano_entrada          10150 non-null  int64 \n",
      " 26  trata data recusa    10150 non-null  object\n",
      " 27  resume saída         10150 non-null  object\n",
      " 28  mês_saida            10150 non-null  object\n",
      " 29  ano_saida            10150 non-null  object\n",
      " 30  Texto                10150 non-null  object\n",
      "dtypes: int64(7), object(24)\n",
      "memory usage: 2.4+ MB\n"
     ]
    }
   ],
   "source": [
    "referral = pd.read_sql(\"\"\"SELECT * FROM consultaneurologia201216anon_true\"\"\",mydb)\n",
    "referral\n",
    "referral.info()"
   ]
  },
  {
   "cell_type": "code",
   "execution_count": null,
   "id": "7cd074d4",
   "metadata": {},
   "outputs": [],
   "source": [
    "refferal"
   ]
  },
  {
   "cell_type": "code",
   "execution_count": 24,
   "id": "4223a7d9",
   "metadata": {},
   "outputs": [
    {
     "data": {
      "text/html": [
       "<div>\n",
       "<style scoped>\n",
       "    .dataframe tbody tr th:only-of-type {\n",
       "        vertical-align: middle;\n",
       "    }\n",
       "\n",
       "    .dataframe tbody tr th {\n",
       "        vertical-align: top;\n",
       "    }\n",
       "\n",
       "    .dataframe thead th {\n",
       "        text-align: right;\n",
       "    }\n",
       "</style>\n",
       "<table border=\"1\" class=\"dataframe\">\n",
       "  <thead>\n",
       "    <tr style=\"text-align: right;\">\n",
       "      <th></th>\n",
       "      <th>ID_DOENTE</th>\n",
       "      <th>PROCESSO</th>\n",
       "      <th>COD_REFERENCIA</th>\n",
       "      <th>COD_PZ</th>\n",
       "      <th>COD_UNID_SAUDE_PROV</th>\n",
       "      <th>UNID_PROV</th>\n",
       "      <th>TIPO_UNID</th>\n",
       "      <th>PROVENIENCIA</th>\n",
       "      <th>COD_CTH_PRIOR</th>\n",
       "      <th>CTH_PRIOR</th>\n",
       "      <th>...</th>\n",
       "      <th>Mês_entrada</th>\n",
       "      <th>Ano_entrada</th>\n",
       "      <th>trata data recusa</th>\n",
       "      <th>resume saída</th>\n",
       "      <th>mês_saida</th>\n",
       "      <th>ano_saida</th>\n",
       "      <th>Texto</th>\n",
       "      <th></th>\n",
       "      <th>Marcada</th>\n",
       "      <th>Realizada</th>\n",
       "    </tr>\n",
       "  </thead>\n",
       "  <tbody>\n",
       "    <tr>\n",
       "      <th>0</th>\n",
       "      <td>SSHCCB</td>\n",
       "      <td>LVMVDV</td>\n",
       "      <td>LQHSOQLH</td>\n",
       "      <td>GDCADAB</td>\n",
       "      <td>3151575</td>\n",
       "      <td>USF TORRE DA MARINHA</td>\n",
       "      <td>CS/USF</td>\n",
       "      <td>CTH</td>\n",
       "      <td>3</td>\n",
       "      <td>Normal</td>\n",
       "      <td>...</td>\n",
       "      <td>11</td>\n",
       "      <td>2014</td>\n",
       "      <td>21/05/2015</td>\n",
       "      <td>12/06/2015</td>\n",
       "      <td>6</td>\n",
       "      <td>2015</td>\n",
       "      <td>Utente de 75 anos, refere tremor desde há 5 an...</td>\n",
       "      <td>0</td>\n",
       "      <td>0</td>\n",
       "      <td>1</td>\n",
       "    </tr>\n",
       "    <tr>\n",
       "      <th>1</th>\n",
       "      <td>CSAS</td>\n",
       "      <td>LVMVBD</td>\n",
       "      <td>LOHLTRTS</td>\n",
       "      <td>FZFZSDB</td>\n",
       "      <td>3152471</td>\n",
       "      <td>USF SERVIR SAUDE-CS</td>\n",
       "      <td>CS/USF</td>\n",
       "      <td>CTH</td>\n",
       "      <td></td>\n",
       "      <td></td>\n",
       "      <td>...</td>\n",
       "      <td>4</td>\n",
       "      <td>2012</td>\n",
       "      <td>23/04/2012</td>\n",
       "      <td>02/07/2012</td>\n",
       "      <td>7</td>\n",
       "      <td>2012</td>\n",
       "      <td>Avaliação neurologica para avaliação da toma d...</td>\n",
       "      <td>0</td>\n",
       "      <td>0</td>\n",
       "      <td>1</td>\n",
       "    </tr>\n",
       "    <tr>\n",
       "      <th>2</th>\n",
       "      <td>ADCFD</td>\n",
       "      <td>LVMMVJ</td>\n",
       "      <td>LQHROQHL</td>\n",
       "      <td></td>\n",
       "      <td>0</td>\n",
       "      <td></td>\n",
       "      <td>OUTRA</td>\n",
       "      <td>SAM</td>\n",
       "      <td></td>\n",
       "      <td></td>\n",
       "      <td>...</td>\n",
       "      <td>9</td>\n",
       "      <td>2014</td>\n",
       "      <td>26/09/2014</td>\n",
       "      <td>13/01/2015</td>\n",
       "      <td>1</td>\n",
       "      <td>2015</td>\n",
       "      <td>cefaleias</td>\n",
       "      <td>0</td>\n",
       "      <td>0</td>\n",
       "      <td>1</td>\n",
       "    </tr>\n",
       "    <tr>\n",
       "      <th>3</th>\n",
       "      <td>SSZDBZ</td>\n",
       "      <td>LVMMLV</td>\n",
       "      <td>LPHQULSU</td>\n",
       "      <td>CSGGHEZ</td>\n",
       "      <td>3151672</td>\n",
       "      <td>USF AMORA SAUDAVEL</td>\n",
       "      <td>CS/USF</td>\n",
       "      <td>CTH</td>\n",
       "      <td></td>\n",
       "      <td></td>\n",
       "      <td>...</td>\n",
       "      <td>10</td>\n",
       "      <td>2013</td>\n",
       "      <td>25/10/2013</td>\n",
       "      <td>03/12/2013</td>\n",
       "      <td>12</td>\n",
       "      <td>2013</td>\n",
       "      <td>Utente do sexo feminino com 30 anos de idade, ...</td>\n",
       "      <td>0</td>\n",
       "      <td>0</td>\n",
       "      <td>1</td>\n",
       "    </tr>\n",
       "    <tr>\n",
       "      <th>4</th>\n",
       "      <td>SEAHEG</td>\n",
       "      <td>LVMNDL</td>\n",
       "      <td>LPHHVHVL</td>\n",
       "      <td></td>\n",
       "      <td>0</td>\n",
       "      <td></td>\n",
       "      <td>OUTRA</td>\n",
       "      <td></td>\n",
       "      <td></td>\n",
       "      <td></td>\n",
       "      <td>...</td>\n",
       "      <td>2</td>\n",
       "      <td>2013</td>\n",
       "      <td>26/02/2013</td>\n",
       "      <td>26/02/2013</td>\n",
       "      <td>2</td>\n",
       "      <td>2013</td>\n",
       "      <td>Sem relatorio clinico</td>\n",
       "      <td>1</td>\n",
       "      <td>0</td>\n",
       "      <td>0</td>\n",
       "    </tr>\n",
       "  </tbody>\n",
       "</table>\n",
       "<p>5 rows × 34 columns</p>\n",
       "</div>"
      ],
      "text/plain": [
       "  ID_DOENTE PROCESSO COD_REFERENCIA   COD_PZ  COD_UNID_SAUDE_PROV  \\\n",
       "0    SSHCCB   LVMVDV       LQHSOQLH  GDCADAB              3151575   \n",
       "1      CSAS   LVMVBD       LOHLTRTS  FZFZSDB              3152471   \n",
       "2     ADCFD   LVMMVJ       LQHROQHL                             0   \n",
       "3    SSZDBZ   LVMMLV       LPHQULSU  CSGGHEZ              3151672   \n",
       "4    SEAHEG   LVMNDL       LPHHVHVL                             0   \n",
       "\n",
       "              UNID_PROV TIPO_UNID PROVENIENCIA COD_CTH_PRIOR CTH_PRIOR  ...  \\\n",
       "0  USF TORRE DA MARINHA    CS/USF          CTH             3    Normal  ...   \n",
       "1   USF SERVIR SAUDE-CS    CS/USF          CTH                          ...   \n",
       "2                           OUTRA          SAM                          ...   \n",
       "3    USF AMORA SAUDAVEL    CS/USF          CTH                          ...   \n",
       "4                           OUTRA                                       ...   \n",
       "\n",
       "   Mês_entrada Ano_entrada  trata data recusa resume saída mês_saida  \\\n",
       "0           11        2014         21/05/2015   12/06/2015         6   \n",
       "1            4        2012         23/04/2012   02/07/2012         7   \n",
       "2            9        2014         26/09/2014   13/01/2015         1   \n",
       "3           10        2013         25/10/2013   03/12/2013        12   \n",
       "4            2        2013         26/02/2013   26/02/2013         2   \n",
       "\n",
       "   ano_saida                                              Texto    Marcada  \\\n",
       "0       2015  Utente de 75 anos, refere tremor desde há 5 an...  0       0   \n",
       "1       2012  Avaliação neurologica para avaliação da toma d...  0       0   \n",
       "2       2015                                          cefaleias  0       0   \n",
       "3       2013  Utente do sexo feminino com 30 anos de idade, ...  0       0   \n",
       "4       2013                             Sem relatorio clinico   1       0   \n",
       "\n",
       "   Realizada  \n",
       "0          1  \n",
       "1          1  \n",
       "2          1  \n",
       "3          1  \n",
       "4          0  \n",
       "\n",
       "[5 rows x 34 columns]"
      ]
     },
     "execution_count": 24,
     "metadata": {},
     "output_type": "execute_result"
    }
   ],
   "source": [
    "\n",
    "\n",
    "# get the dummies and store it in a variable\n",
    "dummies = pd.get_dummies(referral.ESTADO)\n",
    "\n",
    "# Concatenate the dummies to original df\n",
    "merged = pd.concat([referral, dummies], axis='columns')\n",
    " \n",
    "merged.head()"
   ]
  },
  {
   "cell_type": "code",
   "execution_count": 113,
   "id": "21d56ab3",
   "metadata": {},
   "outputs": [
    {
     "name": "stderr",
     "output_type": "stream",
     "text": [
      "C:\\Users\\asus\\Anaconda3\\lib\\site-packages\\ipykernel_launcher.py:2: FutureWarning: Indexing with multiple keys (implicitly converted to a tuple of keys) will be deprecated, use a list instead.\n",
      "  \n"
     ]
    },
    {
     "data": {
      "text/html": [
       "<div>\n",
       "<style scoped>\n",
       "    .dataframe tbody tr th:only-of-type {\n",
       "        vertical-align: middle;\n",
       "    }\n",
       "\n",
       "    .dataframe tbody tr th {\n",
       "        vertical-align: top;\n",
       "    }\n",
       "\n",
       "    .dataframe thead th {\n",
       "        text-align: right;\n",
       "    }\n",
       "</style>\n",
       "<table border=\"1\" class=\"dataframe\">\n",
       "  <thead>\n",
       "    <tr style=\"text-align: right;\">\n",
       "      <th></th>\n",
       "      <th>UNID_PROV</th>\n",
       "      <th>Realizada</th>\n",
       "      <th>Marcada</th>\n",
       "      <th>reject</th>\n",
       "      <th>count</th>\n",
       "      <th>rate</th>\n",
       "    </tr>\n",
       "  </thead>\n",
       "  <tbody>\n",
       "    <tr>\n",
       "      <th>0</th>\n",
       "      <td></td>\n",
       "      <td>1505.0</td>\n",
       "      <td>38.0</td>\n",
       "      <td>2789.0</td>\n",
       "      <td>4332.0</td>\n",
       "      <td>35.62</td>\n",
       "    </tr>\n",
       "    <tr>\n",
       "      <th>1</th>\n",
       "      <td>ABELA</td>\n",
       "      <td>0.0</td>\n",
       "      <td>0.0</td>\n",
       "      <td>1.0</td>\n",
       "      <td>1.0</td>\n",
       "      <td>0.00</td>\n",
       "    </tr>\n",
       "    <tr>\n",
       "      <th>2</th>\n",
       "      <td>ALHOS VEDROS</td>\n",
       "      <td>0.0</td>\n",
       "      <td>0.0</td>\n",
       "      <td>2.0</td>\n",
       "      <td>2.0</td>\n",
       "      <td>0.00</td>\n",
       "    </tr>\n",
       "    <tr>\n",
       "      <th>3</th>\n",
       "      <td>ALMODOVAR</td>\n",
       "      <td>0.0</td>\n",
       "      <td>0.0</td>\n",
       "      <td>2.0</td>\n",
       "      <td>2.0</td>\n",
       "      <td>0.00</td>\n",
       "    </tr>\n",
       "    <tr>\n",
       "      <th>4</th>\n",
       "      <td>ALTER DO CHAO</td>\n",
       "      <td>0.0</td>\n",
       "      <td>0.0</td>\n",
       "      <td>2.0</td>\n",
       "      <td>2.0</td>\n",
       "      <td>0.00</td>\n",
       "    </tr>\n",
       "  </tbody>\n",
       "</table>\n",
       "</div>"
      ],
      "text/plain": [
       "       UNID_PROV  Realizada  Marcada  reject   count   rate\n",
       "0                    1505.0     38.0  2789.0  4332.0  35.62\n",
       "1          ABELA        0.0      0.0     1.0     1.0   0.00\n",
       "2   ALHOS VEDROS        0.0      0.0     2.0     2.0   0.00\n",
       "3      ALMODOVAR        0.0      0.0     2.0     2.0   0.00\n",
       "4  ALTER DO CHAO        0.0      0.0     2.0     2.0   0.00"
      ]
     },
     "execution_count": 113,
     "metadata": {},
     "output_type": "execute_result"
    }
   ],
   "source": [
    "# I splitted estado to its distinct values \n",
    "hosp=merged.groupby(\"UNID_PROV\")[\"Realizada\",\"Marcada\",\"\"].sum().reset_index()\n",
    "\n",
    "#arranged \n",
    "hosp[\"reject\"]=hosp[\"\"]\n",
    "hosp.drop(\"\", axis='columns',inplace= True)\n",
    "hosp[\"count\"]=hosp[\"reject\"]+hosp[\"Marcada\"]+hosp[\"Realizada\"]\n",
    "\n",
    "#created a new variable show the success rating of having approval\n",
    "hosp[\"rate\"]=((hosp[\"Marcada\"]+hosp[\"Realizada\"])/(hosp[\"count\"])*100).round(decimals = 2)\n",
    "hosp.sort_values(by=[\"rate\"], ascending= False)\n",
    "hosp.head()\n",
    "\n",
    "\n"
   ]
  },
  {
   "cell_type": "code",
   "execution_count": 114,
   "id": "bbb8ac8d",
   "metadata": {},
   "outputs": [
    {
     "name": "stdout",
     "output_type": "stream",
     "text": [
      "Average number of referrals per hospital is 84.58333333333333\n"
     ]
    }
   ],
   "source": [
    "\n",
    "avg_ref_per_hosp= hosp[\"count\"].sum()/hosp[\"UNID_PROV\"].count() \n",
    "print(\"Average number of referrals per hospital is \" + str(avg_ref_per_hosp))\n",
    "\n"
   ]
  },
  {
   "cell_type": "code",
   "execution_count": 115,
   "id": "36402e34",
   "metadata": {},
   "outputs": [
    {
     "name": "stdout",
     "output_type": "stream",
     "text": [
      "Average number of referrals per hospital is 48.890756302521005\n"
     ]
    }
   ],
   "source": [
    "hosp=hosp.tail(119)\n",
    "avg_ref_per_hosp= (hosp[\"count\"].sum()/hosp[\"UNID_PROV\"].count())\n",
    "print(\"Average number of referrals per hospital is \" + str(avg_ref_per_hosp))"
   ]
  },
  {
   "cell_type": "code",
   "execution_count": 130,
   "id": "5608dbf8",
   "metadata": {},
   "outputs": [
    {
     "name": "stderr",
     "output_type": "stream",
     "text": [
      "C:\\Users\\asus\\Anaconda3\\lib\\site-packages\\ipykernel_launcher.py:1: FutureWarning: Dropping of nuisance columns in DataFrame reductions (with 'numeric_only=None') is deprecated; in a future version this will raise TypeError.  Select only valid columns before calling the reduction.\n",
      "  \"\"\"Entry point for launching an IPython kernel.\n"
     ]
    },
    {
     "data": {
      "text/plain": [
       "Realizada    137.7200\n",
       "Marcada        0.0000\n",
       "reject        77.0800\n",
       "count        214.8000\n",
       "rate          62.3812\n",
       "dtype: float64"
      ]
     },
     "execution_count": 130,
     "metadata": {},
     "output_type": "execute_result"
    }
   ],
   "source": [
    "#The average rate of getting approval\n",
    "hosp[hosp[\"count\"]>45].mean()u"
   ]
  },
  {
   "cell_type": "code",
   "execution_count": 127,
   "id": "da8c75ae",
   "metadata": {},
   "outputs": [
    {
     "name": "stderr",
     "output_type": "stream",
     "text": [
      "C:\\Users\\asus\\Anaconda3\\lib\\site-packages\\ipykernel_launcher.py:2: UserWarning: FixedFormatter should only be used together with FixedLocator\n",
      "  \n"
     ]
    },
    {
     "data": {
      "text/plain": [
       "[Text(0, 0, ''),\n",
       " Text(1, 0, ''),\n",
       " Text(2, 0, ''),\n",
       " Text(3, 0, ''),\n",
       " Text(4, 0, ''),\n",
       " Text(5, 0, ''),\n",
       " Text(6, 0, ''),\n",
       " Text(7, 0, ''),\n",
       " Text(8, 0, ''),\n",
       " Text(9, 0, ''),\n",
       " Text(10, 0, ''),\n",
       " Text(11, 0, '')]"
      ]
     },
     "execution_count": 127,
     "metadata": {},
     "output_type": "execute_result"
    },
    {
     "data": {
      "image/png": "[encoded data removed]",
      "text/plain": [
       "<Figure size 640x480 with 1 Axes>"
      ]
     },
     "metadata": {},
     "output_type": "display_data"
    }
   ],
   "source": [
    "\n",
    "ax=hosp[hosp[\"count\"]>200].plot.scatter(x=\"UNID_PROV\",y=\"count\")\n",
    "ax.set_xticklabels(ax.get_xticklabels(), rotation=40, ha=\"right\")\n",
    "\n",
    "\n",
    "#we have to extract outliers "
   ]
  },
  {
   "cell_type": "code",
   "execution_count": null,
   "id": "cd42efff",
   "metadata": {},
   "outputs": [],
   "source": []
  }
 ],
 "metadata": {
  "kernelspec": {
   "display_name": "Python 3.9.12 ('base')",
   "language": "python",
   "name": "python3"
  },
  "language_info": {
   "codemirror_mode": {
    "name": "ipython",
    "version": 3
   },
   "file_extension": ".py",
   "mimetype": "text/x-python",
   "name": "python",
   "nbconvert_exporter": "python",
   "pygments_lexer": "ipython3",
   "version": "3.9.12"
  },
  "vscode": {
   "interpreter": {
    "hash": "eb98f5c2dde37d8a67961a214b34faf352e815d37d431ceb2c7a3f0b15f97046"
   }
  }
 },
 "nbformat": 4,
 "nbformat_minor": 5
}
