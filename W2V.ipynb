{
 "cells": [
  {
   "cell_type": "code",
   "execution_count": 1,
   "metadata": {},
   "outputs": [
    {
     "name": "stdout",
     "output_type": "stream",
     "text": [
      "Tables: [('ConsultaUrgencia_doentespedidosconsultaNeurologia2012',), ('consultaneurologia2012',), ('consultaneurologia201216anon_true',), ('hgo_data_032023',)]\n",
      "899\n"
     ]
    }
   ],
   "source": [
    "import mysql.connector\n",
    "import pandas as pd\n",
    "import seaborn as sns\n",
    "import numpy as np\n",
    "import matplotlib.pyplot as plt\n",
    "from pandas import Timestamp\n",
    "from IPython.display import display\n",
    "from Functions.connection.connection import *\n",
    "from Functions.AlertP1.data_cleaning import *\n",
    "from Functions.AlertP1.features import *\n",
    "from Functions.analysis.step_analysis import *\n",
    "from Functions.AlertP1.dummy_features import *\n",
    "from Functions.Models.Logistic_regression import *\n",
    "from Functions.Models.evaluation import *\n",
    "#from Data_with_NLP import *\n",
    "import spacy\n",
    "from gensim.models import Word2Vec as w2v\n",
    "import re\n",
    "import nltk\n",
    "import gensim\n",
    "\n",
    "\n",
    "creds = [\"uktuserdaroglu\",\"Vacy4201(Pri\",\"172.20.20.4\",\"hgo\",3306]\n",
    "#Connection to the database\n",
    "host = creds[2]\n",
    "user = creds[0]\n",
    "password = creds[1]\n",
    "database = creds[3]\n",
    "port = creds[4]\n",
    "mydb = mysql.connector.connect(host=host, user=user, database=database, port=port, password=password, auth_plugin='mysql_native_password')\n",
    "mycursor = mydb.cursor()\n",
    "\n",
    "#Safecheck to guarantee that the connection worked\n",
    "mycursor.execute('SHOW TABLES;')\n",
    "print(f\"Tables: {mycursor.fetchall()}\")\n",
    "print(mydb.connection_id) #it'll give connection_id,if got connected"
   ]
  },
  {
   "cell_type": "code",
   "execution_count": 2,
   "metadata": {},
   "outputs": [
    {
     "name": "stderr",
     "output_type": "stream",
     "text": [
      "/Users/utkuserdaroglu/opt/anaconda3/lib/python3.9/site-packages/pandas/io/sql.py:762: UserWarning: pandas only support SQLAlchemy connectable(engine/connection) ordatabase string URI or sqlite3 DBAPI2 connectionother DBAPI2 objects are not tested, please consider using SQLAlchemy\n",
      "  warnings.warn(\n"
     ]
    }
   ],
   "source": [
    "alertP1 = pd.read_sql(\"\"\"SELECT * FROM consultaneurologia201216anon_true\"\"\",mydb)"
   ]
  },
  {
   "cell_type": "code",
   "execution_count": 3,
   "metadata": {},
   "outputs": [
    {
     "name": "stderr",
     "output_type": "stream",
     "text": [
      "/Users/utkuserdaroglu/Desktop/utkubranch/PBL-HGO/Functions/AlertP1/data_cleaning.py:14: SettingWithCopyWarning: \n",
      "A value is trying to be set on a copy of a slice from a DataFrame\n",
      "\n",
      "See the caveats in the documentation: https://pandas.pydata.org/pandas-docs/stable/user_guide/indexing.html#returning-a-view-versus-a-copy\n",
      "  alertP1['PROVENIENCIA'][alertP1['PROVENIENCIA']=='']='unknown'\n",
      "/Users/utkuserdaroglu/Desktop/utkubranch/PBL-HGO/Functions/AlertP1/data_cleaning.py:15: SettingWithCopyWarning: \n",
      "A value is trying to be set on a copy of a slice from a DataFrame\n",
      "\n",
      "See the caveats in the documentation: https://pandas.pydata.org/pandas-docs/stable/user_guide/indexing.html#returning-a-view-versus-a-copy\n",
      "  alertP1['CTH_PRIOR'][alertP1['CTH_PRIOR']=='']='unknown'\n"
     ]
    }
   ],
   "source": [
    "#changing columns with date to a datetime\n",
    "date_format_alertP1(alertP1)\n",
    "#change the blank values in proveniencia and priority to unknown\n",
    "replace_blank(alertP1)\n",
    "#merge duplicated entity\n",
    "#entity_duplicated(alertP1)\n",
    "#changing the text to lower case\n",
    "#lowering_text(alertP1)\n",
    "#create a column with the output of a referral and select the refused and accepted ones\n",
    "alertP1=result(alertP1)"
   ]
  },
  {
   "cell_type": "code",
   "execution_count": 4,
   "metadata": {},
   "outputs": [
    {
     "name": "stderr",
     "output_type": "stream",
     "text": [
      "/Users/utkuserdaroglu/Desktop/utkubranch/PBL-HGO/Functions/AlertP1/features.py:20: SettingWithCopyWarning: \n",
      "A value is trying to be set on a copy of a slice from a DataFrame\n",
      "\n",
      "See the caveats in the documentation: https://pandas.pydata.org/pandas-docs/stable/user_guide/indexing.html#returning-a-view-versus-a-copy\n",
      "  alertP1['step'][alertP1['step']>=3]='3+'\n"
     ]
    }
   ],
   "source": [
    "alertP1=bef_accepted(alertP1)\n",
    "class_area(alertP1)\n",
    "text_length(alertP1)\n",
    "referral_steps(alertP1)\n",
    "speciality(alertP1)\n",
    "alertP1=unit(alertP1)"
   ]
  },
  {
   "cell_type": "code",
   "execution_count": 5,
   "metadata": {},
   "outputs": [
    {
     "data": {
      "text/html": [
       "<div>\n",
       "<style scoped>\n",
       "    .dataframe tbody tr th:only-of-type {\n",
       "        vertical-align: middle;\n",
       "    }\n",
       "\n",
       "    .dataframe tbody tr th {\n",
       "        vertical-align: top;\n",
       "    }\n",
       "\n",
       "    .dataframe thead th {\n",
       "        text-align: right;\n",
       "    }\n",
       "</style>\n",
       "<table border=\"1\" class=\"dataframe\">\n",
       "  <thead>\n",
       "    <tr style=\"text-align: right;\">\n",
       "      <th></th>\n",
       "      <th>ID_DOENTE</th>\n",
       "      <th>PROCESSO</th>\n",
       "      <th>COD_REFERENCIA</th>\n",
       "      <th>COD_PZ</th>\n",
       "      <th>COD_UNID_SAUDE_PROV</th>\n",
       "      <th>UNID_PROV</th>\n",
       "      <th>TIPO_UNID</th>\n",
       "      <th>PROVENIENCIA</th>\n",
       "      <th>COD_CTH_PRIOR</th>\n",
       "      <th>CTH_PRIOR</th>\n",
       "      <th>...</th>\n",
       "      <th>mês_saida</th>\n",
       "      <th>ano_saida</th>\n",
       "      <th>Texto</th>\n",
       "      <th>result</th>\n",
       "      <th>before_accepted</th>\n",
       "      <th>area</th>\n",
       "      <th>text_length</th>\n",
       "      <th>step</th>\n",
       "      <th>speciality_type</th>\n",
       "      <th>unit</th>\n",
       "    </tr>\n",
       "  </thead>\n",
       "  <tbody>\n",
       "    <tr>\n",
       "      <th>1499</th>\n",
       "      <td>01-12-1GBF</td>\n",
       "      <td>MIVNNVE</td>\n",
       "      <td>LPHRRVQP</td>\n",
       "      <td></td>\n",
       "      <td>0</td>\n",
       "      <td></td>\n",
       "      <td>OUTRA</td>\n",
       "      <td>SAM</td>\n",
       "      <td></td>\n",
       "      <td>unknown</td>\n",
       "      <td>...</td>\n",
       "      <td>1</td>\n",
       "      <td>2014</td>\n",
       "      <td>Status pos AIT.  Estenose carótida interna dir...</td>\n",
       "      <td>1</td>\n",
       "      <td>not accepted before</td>\n",
       "      <td>outside area</td>\n",
       "      <td>51</td>\n",
       "      <td>1</td>\n",
       "      <td>General Neurology</td>\n",
       "      <td>HGO</td>\n",
       "    </tr>\n",
       "    <tr>\n",
       "      <th>959</th>\n",
       "      <td>0F-12-1GAG</td>\n",
       "      <td>LLCCECB</td>\n",
       "      <td>LRHHVTQR</td>\n",
       "      <td>GAGBESD</td>\n",
       "      <td>3151571</td>\n",
       "      <td>USF FFMAIS-CS SEIXAL</td>\n",
       "      <td>CS/USF</td>\n",
       "      <td>CTH</td>\n",
       "      <td></td>\n",
       "      <td>unknown</td>\n",
       "      <td>...</td>\n",
       "      <td>7</td>\n",
       "      <td>2015</td>\n",
       "      <td>Problema(s) de saúde a resolver: Parkinsonismo...</td>\n",
       "      <td>0</td>\n",
       "      <td>not accepted before</td>\n",
       "      <td>inside area</td>\n",
       "      <td>707</td>\n",
       "      <td>1</td>\n",
       "      <td>General Neurology</td>\n",
       "      <td>USF B</td>\n",
       "    </tr>\n",
       "    <tr>\n",
       "      <th>868</th>\n",
       "      <td>0F-12-1GAS</td>\n",
       "      <td>LLCJILJ</td>\n",
       "      <td>LQHOOLQV</td>\n",
       "      <td></td>\n",
       "      <td>0</td>\n",
       "      <td></td>\n",
       "      <td>OUTRA</td>\n",
       "      <td>SAM</td>\n",
       "      <td></td>\n",
       "      <td>unknown</td>\n",
       "      <td>...</td>\n",
       "      <td>1</td>\n",
       "      <td>2015</td>\n",
       "      <td>Ataxia de marcha, desiquilibrio  Sind. Meniér...</td>\n",
       "      <td>1</td>\n",
       "      <td>not accepted before</td>\n",
       "      <td>outside area</td>\n",
       "      <td>66</td>\n",
       "      <td>1</td>\n",
       "      <td>General Neurology</td>\n",
       "      <td>HGO</td>\n",
       "    </tr>\n",
       "    <tr>\n",
       "      <th>1519</th>\n",
       "      <td>0S-12-1GBF</td>\n",
       "      <td>MIVEMLC</td>\n",
       "      <td>LRHPVSVU</td>\n",
       "      <td>ZHEEZFSC</td>\n",
       "      <td>3151571</td>\n",
       "      <td>USF FFMAIS-CS SEIXAL</td>\n",
       "      <td>CS/USF</td>\n",
       "      <td>CTH</td>\n",
       "      <td>3</td>\n",
       "      <td>Normal</td>\n",
       "      <td>...</td>\n",
       "      <td>11</td>\n",
       "      <td>2015</td>\n",
       "      <td>Envio utente de 89 anos de idade com quadro co...</td>\n",
       "      <td>1</td>\n",
       "      <td>not accepted before</td>\n",
       "      <td>inside area</td>\n",
       "      <td>3024</td>\n",
       "      <td>1</td>\n",
       "      <td>General Neurology</td>\n",
       "      <td>USF B</td>\n",
       "    </tr>\n",
       "    <tr>\n",
       "      <th>4844</th>\n",
       "      <td>A,CBE+SA</td>\n",
       "      <td>VMNNVICN</td>\n",
       "      <td>LQHQLSHL</td>\n",
       "      <td></td>\n",
       "      <td>0</td>\n",
       "      <td></td>\n",
       "      <td>OUTRA</td>\n",
       "      <td>SAM</td>\n",
       "      <td></td>\n",
       "      <td>unknown</td>\n",
       "      <td>...</td>\n",
       "      <td>10</td>\n",
       "      <td>2014</td>\n",
       "      <td></td>\n",
       "      <td>1</td>\n",
       "      <td>not accepted before</td>\n",
       "      <td>outside area</td>\n",
       "      <td>0</td>\n",
       "      <td>1</td>\n",
       "      <td>General Neurology</td>\n",
       "      <td>HGO</td>\n",
       "    </tr>\n",
       "  </tbody>\n",
       "</table>\n",
       "<p>5 rows × 38 columns</p>\n",
       "</div>"
      ],
      "text/plain": [
       "       ID_DOENTE  PROCESSO COD_REFERENCIA    COD_PZ  COD_UNID_SAUDE_PROV  \\\n",
       "1499  01-12-1GBF   MIVNNVE       LPHRRVQP                              0   \n",
       "959   0F-12-1GAG   LLCCECB       LRHHVTQR   GAGBESD              3151571   \n",
       "868   0F-12-1GAS   LLCJILJ       LQHOOLQV                              0   \n",
       "1519  0S-12-1GBF   MIVEMLC       LRHPVSVU  ZHEEZFSC              3151571   \n",
       "4844    A,CBE+SA  VMNNVICN       LQHQLSHL                              0   \n",
       "\n",
       "                 UNID_PROV TIPO_UNID PROVENIENCIA COD_CTH_PRIOR CTH_PRIOR  \\\n",
       "1499                           OUTRA          SAM                 unknown   \n",
       "959   USF FFMAIS-CS SEIXAL    CS/USF          CTH                 unknown   \n",
       "868                            OUTRA          SAM                 unknown   \n",
       "1519  USF FFMAIS-CS SEIXAL    CS/USF          CTH             3    Normal   \n",
       "4844                           OUTRA          SAM                 unknown   \n",
       "\n",
       "      ...  mês_saida ano_saida  \\\n",
       "1499  ...          1      2014   \n",
       "959   ...          7      2015   \n",
       "868   ...          1      2015   \n",
       "1519  ...         11      2015   \n",
       "4844  ...         10      2014   \n",
       "\n",
       "                                                  Texto result  \\\n",
       "1499  Status pos AIT.  Estenose carótida interna dir...      1   \n",
       "959   Problema(s) de saúde a resolver: Parkinsonismo...      0   \n",
       "868    Ataxia de marcha, desiquilibrio  Sind. Meniér...      1   \n",
       "1519  Envio utente de 89 anos de idade com quadro co...      1   \n",
       "4844                                                         1   \n",
       "\n",
       "          before_accepted          area text_length step    speciality_type  \\\n",
       "1499  not accepted before  outside area          51    1  General Neurology   \n",
       "959   not accepted before   inside area         707    1  General Neurology   \n",
       "868   not accepted before  outside area          66    1  General Neurology   \n",
       "1519  not accepted before   inside area        3024    1  General Neurology   \n",
       "4844  not accepted before  outside area           0    1  General Neurology   \n",
       "\n",
       "       unit  \n",
       "1499    HGO  \n",
       "959   USF B  \n",
       "868     HGO  \n",
       "1519  USF B  \n",
       "4844    HGO  \n",
       "\n",
       "[5 rows x 38 columns]"
      ]
     },
     "execution_count": 5,
     "metadata": {},
     "output_type": "execute_result"
    }
   ],
   "source": [
    "#add symptoms column\n",
    "#symptoms_column(alertP1)\n",
    "\n",
    "\n",
    "#add exams columns\n",
    "#exams(alertP1)\n",
    "#add comorbidities columns\n",
    "#comorbidities(alertP1)\n",
    "\n",
    "\n",
    "#add medication columns\n",
    "#medication_column(alertP1)\n",
    "\n",
    "\n",
    "\n",
    "#synonyms(alertP1)\n",
    "#apply lemmatization and removing stop words\n",
    "#clean_text(alertP1)\n",
    "df=alertP1\n",
    "df.head()"
   ]
  },
  {
   "cell_type": "code",
   "execution_count": 6,
   "metadata": {},
   "outputs": [
    {
     "data": {
      "text/plain": [
       "1499    [status, pos, ait, estenose, carótida, interna...\n",
       "959     [problema, de, saúde, resolver, parkinsonismo,...\n",
       "868     [ataxia, de, marcha, desiquilibrio, sind, meni...\n",
       "1519    [envio, utente, de, anos, de, idade, com, quad...\n",
       "4844                                                   []\n",
       "                              ...                        \n",
       "5650                                                   []\n",
       "6526                                                   []\n",
       "6528                                                   []\n",
       "6527                                                   []\n",
       "1432    [justificação, cefaleias, luísa, rodrigues, dr...\n",
       "Name: Texto, Length: 9374, dtype: object"
      ]
     },
     "execution_count": 6,
     "metadata": {},
     "output_type": "execute_result"
    }
   ],
   "source": [
    "full_text=df.Texto.apply(gensim.utils.simple_preprocess)\n",
    "full_text"
   ]
  },
  {
   "cell_type": "code",
   "execution_count": 7,
   "metadata": {},
   "outputs": [],
   "source": [
    "model=w2v(full_text,\n",
    "          min_count=3,\n",
    "          window=4\n",
    "\n",
    ")"
   ]
  },
  {
   "cell_type": "code",
   "execution_count": 8,
   "metadata": {},
   "outputs": [
    {
     "name": "stdout",
     "output_type": "stream",
     "text": [
      "[('enxaqueca', 0.9984822869300842), ('sindrome', 0.9978830814361572), ('depressão', 0.9978559017181396), ('vive', 0.9976488351821899), ('eam', 0.9975206255912781), ('enxaquecas', 0.9972448945045471), ('avc', 0.9972030520439148), ('neoplasia', 0.9971941113471985), ('perturbações', 0.9970546364784241), ('tipo', 0.9970267415046692)]\n"
     ]
    }
   ],
   "source": [
    "print(model.wv.most_similar('parkinson'))"
   ]
  },
  {
   "cell_type": "code",
   "execution_count": 9,
   "metadata": {},
   "outputs": [],
   "source": [
    "#sentence to vec"
   ]
  }
 ],
 "metadata": {
  "kernelspec": {
   "display_name": "base",
   "language": "python",
   "name": "python3"
  },
  "language_info": {
   "codemirror_mode": {
    "name": "ipython",
    "version": 3
   },
   "file_extension": ".py",
   "mimetype": "text/x-python",
   "name": "python",
   "nbconvert_exporter": "python",
   "pygments_lexer": "ipython3",
   "version": "3.9.13"
  },
  "orig_nbformat": 4
 },
 "nbformat": 4,
 "nbformat_minor": 2
}
