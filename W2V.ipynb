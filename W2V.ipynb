{
 "cells": [
  {
   "cell_type": "code",
   "execution_count": 27,
   "metadata": {},
   "outputs": [
    {
     "name": "stdout",
     "output_type": "stream",
     "text": [
      "Tables: [('ConsultaUrgencia_doentespedidosconsultaNeurologia2012',), ('consultaneurologia2012',), ('consultaneurologia201216anon_true',), ('hgo_data_032023',)]\n",
      "661\n"
     ]
    }
   ],
   "source": [
    "import mysql.connector\n",
    "import pandas as pd\n",
    "import seaborn as sns\n",
    "import numpy as np\n",
    "import matplotlib.pyplot as plt\n",
    "from pandas import Timestamp\n",
    "from IPython.display import display\n",
    "from Functions.connection.connection import *\n",
    "from Functions.AlertP1.data_cleaning import *\n",
    "from Functions.AlertP1.features import *\n",
    "from Functions.analysis.step_analysis import *\n",
    "from Functions.AlertP1.dummy_features import *\n",
    "from Functions.Models.Logistic_regression import *\n",
    "from Functions.Models.evaluation import *\n",
    "#from Data_with_NLP import *\n",
    "import spacy\n",
    "from gensim.models import Word2Vec as w2v\n",
    "import re\n",
    "import nltk\n",
    "import gensim\n",
    "\n",
    "\n",
    "creds = [\"uktuserdaroglu\",\"Vacy4201(Pri\",\"172.20.20.4\",\"hgo\",3306]\n",
    "#Connection to the database\n",
    "host = creds[2]\n",
    "user = creds[0]\n",
    "password = creds[1]\n",
    "database = creds[3]\n",
    "port = creds[4]\n",
    "mydb = mysql.connector.connect(host=host, user=user, database=database, port=port, password=password, auth_plugin='mysql_native_password')\n",
    "mycursor = mydb.cursor()\n",
    "\n",
    "#Safecheck to guarantee that the connection worked\n",
    "mycursor.execute('SHOW TABLES;')\n",
    "print(f\"Tables: {mycursor.fetchall()}\")\n",
    "print(mydb.connection_id) #it'll give connection_id,if got connected"
   ]
  },
  {
   "cell_type": "code",
   "execution_count": 28,
   "metadata": {},
   "outputs": [
    {
     "name": "stderr",
     "output_type": "stream",
     "text": [
      "/Users/utkuserdaroglu/opt/anaconda3/lib/python3.9/site-packages/pandas/io/sql.py:762: UserWarning: pandas only support SQLAlchemy connectable(engine/connection) ordatabase string URI or sqlite3 DBAPI2 connectionother DBAPI2 objects are not tested, please consider using SQLAlchemy\n",
      "  warnings.warn(\n"
     ]
    }
   ],
   "source": [
    "alertP1 = pd.read_sql(\"\"\"SELECT * FROM consultaneurologia201216anon_true\"\"\",mydb)"
   ]
  },
  {
   "cell_type": "code",
   "execution_count": 29,
   "metadata": {},
   "outputs": [
    {
     "name": "stderr",
     "output_type": "stream",
     "text": [
      "/Users/utkuserdaroglu/Desktop/utkubranch/PBL-HGO/Functions/AlertP1/data_cleaning.py:14: SettingWithCopyWarning: \n",
      "A value is trying to be set on a copy of a slice from a DataFrame\n",
      "\n",
      "See the caveats in the documentation: https://pandas.pydata.org/pandas-docs/stable/user_guide/indexing.html#returning-a-view-versus-a-copy\n",
      "  alertP1['PROVENIENCIA'][alertP1['PROVENIENCIA']=='']='unknown'\n",
      "/Users/utkuserdaroglu/Desktop/utkubranch/PBL-HGO/Functions/AlertP1/data_cleaning.py:15: SettingWithCopyWarning: \n",
      "A value is trying to be set on a copy of a slice from a DataFrame\n",
      "\n",
      "See the caveats in the documentation: https://pandas.pydata.org/pandas-docs/stable/user_guide/indexing.html#returning-a-view-versus-a-copy\n",
      "  alertP1['CTH_PRIOR'][alertP1['CTH_PRIOR']=='']='unknown'\n"
     ]
    }
   ],
   "source": [
    "#changing columns with date to a datetime\n",
    "date_format_alertP1(alertP1)\n",
    "#change the blank values in proveniencia and priority to unknown\n",
    "replace_blank(alertP1)\n",
    "#merge duplicated entity\n",
    "#entity_duplicated(alertP1)\n",
    "#changing the text to lower case\n",
    "#lowering_text(alertP1)\n",
    "#create a column with the output of a referral and select the refused and accepted ones\n",
    "alertP1=result(alertP1)"
   ]
  },
  {
   "cell_type": "code",
   "execution_count": 30,
   "metadata": {},
   "outputs": [
    {
     "name": "stderr",
     "output_type": "stream",
     "text": [
      "/Users/utkuserdaroglu/Desktop/utkubranch/PBL-HGO/Functions/AlertP1/features.py:20: SettingWithCopyWarning: \n",
      "A value is trying to be set on a copy of a slice from a DataFrame\n",
      "\n",
      "See the caveats in the documentation: https://pandas.pydata.org/pandas-docs/stable/user_guide/indexing.html#returning-a-view-versus-a-copy\n",
      "  alertP1['step'][alertP1['step']>=3]='3+'\n",
      "/Users/utkuserdaroglu/Desktop/utkubranch/PBL-HGO/Functions/AlertP1/features.py:30: SettingWithCopyWarning: \n",
      "A value is trying to be set on a copy of a slice from a DataFrame\n",
      "\n",
      "See the caveats in the documentation: https://pandas.pydata.org/pandas-docs/stable/user_guide/indexing.html#returning-a-view-versus-a-copy\n",
      "  alertP1['unit'][alertP1['TIPO_UNID']!='CS/USF']='HOSP'\n"
     ]
    }
   ],
   "source": [
    "alertP1=bef_accepted(alertP1)\n",
    "class_area(alertP1)\n",
    "text_length(alertP1)\n",
    "referral_steps(alertP1)\n",
    "speciality(alertP1)\n",
    "alertP1=unit(alertP1)"
   ]
  },
  {
   "cell_type": "code",
   "execution_count": 31,
   "metadata": {},
   "outputs": [
    {
     "data": {
      "text/html": [
       "<div>\n",
       "<style scoped>\n",
       "    .dataframe tbody tr th:only-of-type {\n",
       "        vertical-align: middle;\n",
       "    }\n",
       "\n",
       "    .dataframe tbody tr th {\n",
       "        vertical-align: top;\n",
       "    }\n",
       "\n",
       "    .dataframe thead th {\n",
       "        text-align: right;\n",
       "    }\n",
       "</style>\n",
       "<table border=\"1\" class=\"dataframe\">\n",
       "  <thead>\n",
       "    <tr style=\"text-align: right;\">\n",
       "      <th></th>\n",
       "      <th>ID_DOENTE</th>\n",
       "      <th>PROCESSO</th>\n",
       "      <th>COD_REFERENCIA</th>\n",
       "      <th>COD_PZ</th>\n",
       "      <th>COD_UNID_SAUDE_PROV</th>\n",
       "      <th>UNID_PROV</th>\n",
       "      <th>TIPO_UNID</th>\n",
       "      <th>PROVENIENCIA</th>\n",
       "      <th>COD_CTH_PRIOR</th>\n",
       "      <th>CTH_PRIOR</th>\n",
       "      <th>...</th>\n",
       "      <th>resume saída</th>\n",
       "      <th>mês_saida</th>\n",
       "      <th>ano_saida</th>\n",
       "      <th>Texto</th>\n",
       "      <th>result</th>\n",
       "      <th>area</th>\n",
       "      <th>text_length</th>\n",
       "      <th>step</th>\n",
       "      <th>speciality_type</th>\n",
       "      <th>unit</th>\n",
       "    </tr>\n",
       "  </thead>\n",
       "  <tbody>\n",
       "    <tr>\n",
       "      <th>0</th>\n",
       "      <td>SSHCCB</td>\n",
       "      <td>LVMVDV</td>\n",
       "      <td>LQHSOQLH</td>\n",
       "      <td>GDCADAB</td>\n",
       "      <td>3151575</td>\n",
       "      <td>USF TORRE DA MARINHA</td>\n",
       "      <td>CS/USF</td>\n",
       "      <td>CTH</td>\n",
       "      <td>3</td>\n",
       "      <td>Normal</td>\n",
       "      <td>...</td>\n",
       "      <td>12/06/2015</td>\n",
       "      <td>6</td>\n",
       "      <td>2015</td>\n",
       "      <td>Utente de 75 anos, refere tremor desde há 5 an...</td>\n",
       "      <td>1</td>\n",
       "      <td>inside area</td>\n",
       "      <td>701</td>\n",
       "      <td>1</td>\n",
       "      <td>General Neurology</td>\n",
       "      <td>USF</td>\n",
       "    </tr>\n",
       "    <tr>\n",
       "      <th>1</th>\n",
       "      <td>CSAS</td>\n",
       "      <td>LVMVBD</td>\n",
       "      <td>LOHLTRTS</td>\n",
       "      <td>FZFZSDB</td>\n",
       "      <td>3152471</td>\n",
       "      <td>USF SERVIR SAUDE-CS</td>\n",
       "      <td>CS/USF</td>\n",
       "      <td>CTH</td>\n",
       "      <td></td>\n",
       "      <td>unknown</td>\n",
       "      <td>...</td>\n",
       "      <td>02/07/2012</td>\n",
       "      <td>7</td>\n",
       "      <td>2012</td>\n",
       "      <td>Avaliação neurologica para avaliação da toma d...</td>\n",
       "      <td>1</td>\n",
       "      <td>inside area</td>\n",
       "      <td>363</td>\n",
       "      <td>1</td>\n",
       "      <td>General Neurology</td>\n",
       "      <td>USF</td>\n",
       "    </tr>\n",
       "    <tr>\n",
       "      <th>2</th>\n",
       "      <td>ADCFD</td>\n",
       "      <td>LVMMVJ</td>\n",
       "      <td>LQHROQHL</td>\n",
       "      <td></td>\n",
       "      <td>0</td>\n",
       "      <td></td>\n",
       "      <td>OUTRA</td>\n",
       "      <td>SAM</td>\n",
       "      <td></td>\n",
       "      <td>unknown</td>\n",
       "      <td>...</td>\n",
       "      <td>13/01/2015</td>\n",
       "      <td>1</td>\n",
       "      <td>2015</td>\n",
       "      <td>cefaleias</td>\n",
       "      <td>1</td>\n",
       "      <td>outside area</td>\n",
       "      <td>9</td>\n",
       "      <td>1</td>\n",
       "      <td>Other specialities</td>\n",
       "      <td>HOSP</td>\n",
       "    </tr>\n",
       "    <tr>\n",
       "      <th>3</th>\n",
       "      <td>SSZDBZ</td>\n",
       "      <td>LVMMLV</td>\n",
       "      <td>LPHQULSU</td>\n",
       "      <td>CSGGHEZ</td>\n",
       "      <td>3151672</td>\n",
       "      <td>USF AMORA SAUDAVEL</td>\n",
       "      <td>CS/USF</td>\n",
       "      <td>CTH</td>\n",
       "      <td></td>\n",
       "      <td>unknown</td>\n",
       "      <td>...</td>\n",
       "      <td>03/12/2013</td>\n",
       "      <td>12</td>\n",
       "      <td>2013</td>\n",
       "      <td>Utente do sexo feminino com 30 anos de idade, ...</td>\n",
       "      <td>1</td>\n",
       "      <td>inside area</td>\n",
       "      <td>417</td>\n",
       "      <td>1</td>\n",
       "      <td>General Neurology</td>\n",
       "      <td>USF</td>\n",
       "    </tr>\n",
       "    <tr>\n",
       "      <th>4</th>\n",
       "      <td>SEAHEG</td>\n",
       "      <td>LVMNDL</td>\n",
       "      <td>LPHHVHVL</td>\n",
       "      <td></td>\n",
       "      <td>0</td>\n",
       "      <td></td>\n",
       "      <td>OUTRA</td>\n",
       "      <td>unknown</td>\n",
       "      <td></td>\n",
       "      <td>unknown</td>\n",
       "      <td>...</td>\n",
       "      <td>26/02/2013</td>\n",
       "      <td>2</td>\n",
       "      <td>2013</td>\n",
       "      <td>Sem relatorio clinico</td>\n",
       "      <td>0</td>\n",
       "      <td>outside area</td>\n",
       "      <td>22</td>\n",
       "      <td>1</td>\n",
       "      <td>General Neurology</td>\n",
       "      <td>HOSP</td>\n",
       "    </tr>\n",
       "  </tbody>\n",
       "</table>\n",
       "<p>5 rows × 37 columns</p>\n",
       "</div>"
      ],
      "text/plain": [
       "  ID_DOENTE PROCESSO COD_REFERENCIA   COD_PZ  COD_UNID_SAUDE_PROV  \\\n",
       "0    SSHCCB   LVMVDV       LQHSOQLH  GDCADAB              3151575   \n",
       "1      CSAS   LVMVBD       LOHLTRTS  FZFZSDB              3152471   \n",
       "2     ADCFD   LVMMVJ       LQHROQHL                             0   \n",
       "3    SSZDBZ   LVMMLV       LPHQULSU  CSGGHEZ              3151672   \n",
       "4    SEAHEG   LVMNDL       LPHHVHVL                             0   \n",
       "\n",
       "              UNID_PROV TIPO_UNID PROVENIENCIA COD_CTH_PRIOR CTH_PRIOR  ...  \\\n",
       "0  USF TORRE DA MARINHA    CS/USF          CTH             3    Normal  ...   \n",
       "1   USF SERVIR SAUDE-CS    CS/USF          CTH                 unknown  ...   \n",
       "2                           OUTRA          SAM                 unknown  ...   \n",
       "3    USF AMORA SAUDAVEL    CS/USF          CTH                 unknown  ...   \n",
       "4                           OUTRA      unknown                 unknown  ...   \n",
       "\n",
       "   resume saída mês_saida  ano_saida  \\\n",
       "0    12/06/2015         6       2015   \n",
       "1    02/07/2012         7       2012   \n",
       "2    13/01/2015         1       2015   \n",
       "3    03/12/2013        12       2013   \n",
       "4    26/02/2013         2       2013   \n",
       "\n",
       "                                               Texto result          area  \\\n",
       "0  Utente de 75 anos, refere tremor desde há 5 an...      1   inside area   \n",
       "1  Avaliação neurologica para avaliação da toma d...      1   inside area   \n",
       "2                                          cefaleias      1  outside area   \n",
       "3  Utente do sexo feminino com 30 anos de idade, ...      1   inside area   \n",
       "4                             Sem relatorio clinico       0  outside area   \n",
       "\n",
       "  text_length step     speciality_type  unit  \n",
       "0         701    1   General Neurology   USF  \n",
       "1         363    1   General Neurology   USF  \n",
       "2           9    1  Other specialities  HOSP  \n",
       "3         417    1   General Neurology   USF  \n",
       "4          22    1   General Neurology  HOSP  \n",
       "\n",
       "[5 rows x 37 columns]"
      ]
     },
     "execution_count": 31,
     "metadata": {},
     "output_type": "execute_result"
    }
   ],
   "source": [
    "#add symptoms column\n",
    "#symptoms_column(alertP1)\n",
    "\n",
    "\n",
    "#add exams columns\n",
    "#exams(alertP1)\n",
    "#add comorbidities columns\n",
    "#comorbidities(alertP1)\n",
    "\n",
    "\n",
    "#add medication columns\n",
    "#medication_column(alertP1)\n",
    "\n",
    "\n",
    "\n",
    "#synonyms(alertP1)\n",
    "#apply lemmatization and removing stop words\n",
    "#clean_text(alertP1)\n",
    "df=alertP1\n",
    "df.head()"
   ]
  },
  {
   "cell_type": "code",
   "execution_count": 32,
   "metadata": {},
   "outputs": [
    {
     "data": {
      "text/plain": [
       "0        [utente, de, anos, refere, tremor, desde, há, ...\n",
       "1        [avaliação, neurologica, para, avaliação, da, ...\n",
       "2                                              [cefaleias]\n",
       "3        [utente, do, sexo, feminino, com, anos, de, id...\n",
       "4                                [sem, relatorio, clinico]\n",
       "                               ...                        \n",
       "10144                                                   []\n",
       "10146                                                   []\n",
       "10147                                                   []\n",
       "10148                                                   []\n",
       "10149                                                   []\n",
       "Name: Texto, Length: 9374, dtype: object"
      ]
     },
     "execution_count": 32,
     "metadata": {},
     "output_type": "execute_result"
    }
   ],
   "source": [
    "full_text=df.Texto.apply(gensim.utils.simple_preprocess)\n",
    "full_text"
   ]
  },
  {
   "cell_type": "code",
   "execution_count": 33,
   "metadata": {},
   "outputs": [],
   "source": [
    "model=w2v(full_text,\n",
    "          min_count=3,\n",
    "          window=4\n",
    "\n",
    ")"
   ]
  },
  {
   "cell_type": "code",
   "execution_count": 36,
   "metadata": {},
   "outputs": [
    {
     "name": "stdout",
     "output_type": "stream",
     "text": [
      "[('diagnóstico', 0.9966307282447815), ('doença', 0.9957289099693298), ('enxaquecas', 0.9951974153518677), ('enxaqueca', 0.9943707585334778), ('neoplasia', 0.9929117560386658), ('vive', 0.9925993084907532), ('depressão', 0.9925804734230042), ('dte', 0.9924935102462769), ('gravis', 0.9920356273651123), ('sindrome', 0.9917923808097839)]\n"
     ]
    }
   ],
   "source": [
    "print(model.wv.most_similar('parkinson'))"
   ]
  },
  {
   "cell_type": "code",
   "execution_count": null,
   "metadata": {},
   "outputs": [],
   "source": [
    "#sentence to vec"
   ]
  }
 ],
 "metadata": {
  "kernelspec": {
   "display_name": "base",
   "language": "python",
   "name": "python3"
  },
  "language_info": {
   "codemirror_mode": {
    "name": "ipython",
    "version": 3
   },
   "file_extension": ".py",
   "mimetype": "text/x-python",
   "name": "python",
   "nbconvert_exporter": "python",
   "pygments_lexer": "ipython3",
   "version": "3.9.13"
  },
  "orig_nbformat": 4
 },
 "nbformat": 4,
 "nbformat_minor": 2
}
