{
 "cells": [
  {
   "cell_type": "code",
   "execution_count": 1,
   "metadata": {},
   "outputs": [
    {
     "ename": "ModuleNotFoundError",
     "evalue": "No module named 'Data_with_NLP'",
     "output_type": "error",
     "traceback": [
      "\u001b[1;31m---------------------------------------------------------------------------\u001b[0m",
      "\u001b[1;31mModuleNotFoundError\u001b[0m                       Traceback (most recent call last)",
      "\u001b[1;32mC:\\Users\\MAROUA~1\\AppData\\Local\\Temp/ipykernel_14004/364629559.py\u001b[0m in \u001b[0;36m<module>\u001b[1;34m\u001b[0m\n\u001b[0;32m     11\u001b[0m \u001b[1;32mfrom\u001b[0m \u001b[0mFunctions\u001b[0m\u001b[1;33m.\u001b[0m\u001b[0mModels\u001b[0m\u001b[1;33m.\u001b[0m\u001b[0mLogistic_regression\u001b[0m \u001b[1;32mimport\u001b[0m \u001b[1;33m*\u001b[0m\u001b[1;33m\u001b[0m\u001b[1;33m\u001b[0m\u001b[0m\n\u001b[0;32m     12\u001b[0m \u001b[1;32mfrom\u001b[0m \u001b[0mFunctions\u001b[0m\u001b[1;33m.\u001b[0m\u001b[0mModels\u001b[0m\u001b[1;33m.\u001b[0m\u001b[0mevaluation\u001b[0m \u001b[1;32mimport\u001b[0m \u001b[1;33m*\u001b[0m\u001b[1;33m\u001b[0m\u001b[1;33m\u001b[0m\u001b[0m\n\u001b[1;32m---> 13\u001b[1;33m \u001b[1;32mfrom\u001b[0m \u001b[0mData_with_NLP\u001b[0m \u001b[1;32mimport\u001b[0m \u001b[1;33m*\u001b[0m\u001b[1;33m\u001b[0m\u001b[1;33m\u001b[0m\u001b[0m\n\u001b[0m",
      "\u001b[1;31mModuleNotFoundError\u001b[0m: No module named 'Data_with_NLP'"
     ]
    }
   ],
   "source": [
    "import pandas as pd\n",
    "# import pandasql as ps\n",
    "import matplotlib.pyplot as plt\n",
    "# Import argsort\n",
    "from numpy import argsort\n",
    "from Functions.connection.connection import *\n",
    "from Functions.AlertP1.data_cleaning import *\n",
    "from Functions.AlertP1.features import *\n",
    "from Functions.analysis.step_analysis import *\n",
    "from Functions.AlertP1.dummy_features import *\n",
    "from Functions.Models.Logistic_regression import *\n",
    "from Functions.Models.evaluation import *\n",
<<<<<<< HEAD
    "from Functions.NLP.data_with_nlp import *"
=======
    "from Data_with_NLP import *"
>>>>>>> gabrabib
   ]
  },
  {
   "attachments": {},
   "cell_type": "markdown",
   "metadata": {},
   "source": [
    "## Connection to databse"
   ]
  },
  {
   "cell_type": "code",
<<<<<<< HEAD
<<<<<<< HEAD
   "execution_count": 2,
=======
   "execution_count": 4,
>>>>>>> gabrabib
=======
   "execution_count": 2,
>>>>>>> origin/marouan
   "metadata": {},
   "outputs": [
    {
     "name": "stdout",
     "output_type": "stream",
     "text": [
      "Tables: [('ConsultaUrgencia_doentespedidosconsultaNeurologia2012',), ('consultaneurologia2012',), ('consultaneurologia201216anon_true',), ('hgo_data_032023',)]\n",
<<<<<<< HEAD
<<<<<<< HEAD
      "822\n"
=======
      "632\n"
     ]
    },
    {
     "name": "stderr",
     "output_type": "stream",
     "text": [
      "/Users/gabrielabib/Desktop/NOVA_SBE/PBL/PBL-HGO/Functions/connection/connection.py:27: UserWarning: pandas only supports SQLAlchemy connectable (engine/connection) or database string URI or sqlite3 DBAPI2 connection. Other DBAPI2 objects are not tested. Please consider using SQLAlchemy.\n",
      "  alertP1 = pd.read_sql(\"\"\"SELECT * FROM consultaneurologia201216anon_true\"\"\",mydb)\n"
>>>>>>> gabrabib
=======
      "644\n"
>>>>>>> origin/marouan
     ]
    }
   ],
   "source": [
<<<<<<< HEAD
    "alertP1=connection(\"/Users/MarouanKamoun/Desktop/HGO pbl/credentials.csv\")"
=======
    "alertP1=connection(\"../credentials.csv\")"
>>>>>>> gabrabib
   ]
  },
  {
   "attachments": {},
   "cell_type": "markdown",
   "metadata": {},
   "source": [
    "## Data cleaning"
   ]
  },
  {
   "cell_type": "code",
<<<<<<< HEAD
<<<<<<< HEAD
   "execution_count": 3,
=======
   "execution_count": 5,
>>>>>>> gabrabib
=======
   "execution_count": 3,
>>>>>>> origin/marouan
   "metadata": {},
   "outputs": [
    {
     "name": "stderr",
     "output_type": "stream",
     "text": [
<<<<<<< HEAD
      "c:\\Users\\MarouanKamoun\\Desktop\\HGO pbl\\PBL-HGO\\PBL-HGO\\Functions\\AlertP1\\data_cleaning.py:14: SettingWithCopyWarning: \n",
=======
      "/Users/gabrielabib/Desktop/NOVA_SBE/PBL/PBL-HGO/Functions/AlertP1/data_cleaning.py:14: SettingWithCopyWarning: \n",
>>>>>>> gabrabib
      "A value is trying to be set on a copy of a slice from a DataFrame\n",
      "\n",
      "See the caveats in the documentation: https://pandas.pydata.org/pandas-docs/stable/user_guide/indexing.html#returning-a-view-versus-a-copy\n",
      "  alertP1['PROVENIENCIA'][alertP1['PROVENIENCIA']=='']='unknown'\n",
<<<<<<< HEAD
      "c:\\Users\\MarouanKamoun\\Desktop\\HGO pbl\\PBL-HGO\\PBL-HGO\\Functions\\AlertP1\\data_cleaning.py:15: SettingWithCopyWarning: \n",
=======
      "/Users/gabrielabib/Desktop/NOVA_SBE/PBL/PBL-HGO/Functions/AlertP1/data_cleaning.py:15: SettingWithCopyWarning: \n",
>>>>>>> gabrabib
      "A value is trying to be set on a copy of a slice from a DataFrame\n",
      "\n",
      "See the caveats in the documentation: https://pandas.pydata.org/pandas-docs/stable/user_guide/indexing.html#returning-a-view-versus-a-copy\n",
      "  alertP1['CTH_PRIOR'][alertP1['CTH_PRIOR']=='']='unknown'\n",
<<<<<<< HEAD
      "c:\\Users\\MarouanKamoun\\Desktop\\HGO pbl\\PBL-HGO\\PBL-HGO\\Functions\\AlertP1\\data_cleaning.py:25: SettingWithCopyWarning: \n",
=======
      "/Users/gabrielabib/Desktop/NOVA_SBE/PBL/PBL-HGO/Functions/AlertP1/data_cleaning.py:25: SettingWithCopyWarning: \n",
>>>>>>> gabrabib
      "A value is trying to be set on a copy of a slice from a DataFrame\n",
      "\n",
      "See the caveats in the documentation: https://pandas.pydata.org/pandas-docs/stable/user_guide/indexing.html#returning-a-view-versus-a-copy\n",
      "  alertP1['COD_UNID_SAUDE_PROV'][alertP1['COD_UNID_SAUDE_PROV']==3151401]=3151400\n",
<<<<<<< HEAD
      "c:\\Users\\MarouanKamoun\\Desktop\\HGO pbl\\PBL-HGO\\PBL-HGO\\Functions\\AlertP1\\data_cleaning.py:26: SettingWithCopyWarning: \n",
=======
      "/Users/gabrielabib/Desktop/NOVA_SBE/PBL/PBL-HGO/Functions/AlertP1/data_cleaning.py:26: SettingWithCopyWarning: \n",
>>>>>>> gabrabib
      "A value is trying to be set on a copy of a slice from a DataFrame\n",
      "\n",
      "See the caveats in the documentation: https://pandas.pydata.org/pandas-docs/stable/user_guide/indexing.html#returning-a-view-versus-a-copy\n",
      "  alertP1['COD_UNID_SAUDE_PROV'][alertP1['COD_UNID_SAUDE_PROV']==3150503]=3150572\n",
<<<<<<< HEAD
      "c:\\Users\\MarouanKamoun\\Desktop\\HGO pbl\\PBL-HGO\\PBL-HGO\\Functions\\AlertP1\\data_cleaning.py:27: SettingWithCopyWarning: \n",
=======
      "/Users/gabrielabib/Desktop/NOVA_SBE/PBL/PBL-HGO/Functions/AlertP1/data_cleaning.py:27: SettingWithCopyWarning: \n",
>>>>>>> gabrabib
      "A value is trying to be set on a copy of a slice from a DataFrame\n",
      "\n",
      "See the caveats in the documentation: https://pandas.pydata.org/pandas-docs/stable/user_guide/indexing.html#returning-a-view-versus-a-copy\n",
      "  alertP1['COD_UNID_SAUDE_PROV'][alertP1['COD_UNID_SAUDE_PROV']==3151603]=3151671\n",
<<<<<<< HEAD
      "c:\\Users\\MarouanKamoun\\Desktop\\HGO pbl\\PBL-HGO\\PBL-HGO\\Functions\\AlertP1\\data_cleaning.py:28: SettingWithCopyWarning: \n",
=======
      "/Users/gabrielabib/Desktop/NOVA_SBE/PBL/PBL-HGO/Functions/AlertP1/data_cleaning.py:28: SettingWithCopyWarning: \n",
>>>>>>> gabrabib
      "A value is trying to be set on a copy of a slice from a DataFrame\n",
      "\n",
      "See the caveats in the documentation: https://pandas.pydata.org/pandas-docs/stable/user_guide/indexing.html#returning-a-view-versus-a-copy\n",
      "  alertP1['COD_UNID_SAUDE_PROV'][alertP1['COD_UNID_SAUDE_PROV']==3152101]=3152100\n",
<<<<<<< HEAD
      "c:\\Users\\MarouanKamoun\\Desktop\\HGO pbl\\PBL-HGO\\PBL-HGO\\Functions\\AlertP1\\data_cleaning.py:30: SettingWithCopyWarning: \n",
=======
      "/Users/gabrielabib/Desktop/NOVA_SBE/PBL/PBL-HGO/Functions/AlertP1/data_cleaning.py:30: SettingWithCopyWarning: \n",
>>>>>>> gabrabib
      "A value is trying to be set on a copy of a slice from a DataFrame\n",
      "\n",
      "See the caveats in the documentation: https://pandas.pydata.org/pandas-docs/stable/user_guide/indexing.html#returning-a-view-versus-a-copy\n",
      "  alertP1['PROVENIENCIA'][alertP1['COD_UNID_SAUDE_PROV']==3150371]='CTH'\n"
     ]
    }
   ],
   "source": [
    "#changing columns with date to a datetime\n",
    "date_format_alertP1(alertP1)\n",
    "#change the blank values in proveniencia and priority to unknown\n",
    "replace_blank(alertP1)\n",
    "#merge duplicated entity\n",
    "entity_duplicated(alertP1)\n",
    "#changing the text to lower case\n",
    "lowering_text(alertP1)\n",
    "#create a column with the output of a referral and select the refused and accepted ones\n",
    "alertP1=result(alertP1)"
   ]
  },
  {
   "attachments": {},
   "cell_type": "markdown",
   "metadata": {},
   "source": [
    "## Creating new columns for non NLP features "
   ]
  },
  {
   "cell_type": "code",
<<<<<<< HEAD
<<<<<<< HEAD
   "execution_count": 4,
=======
   "execution_count": 6,
>>>>>>> gabrabib
=======
   "execution_count": 4,
>>>>>>> origin/marouan
   "metadata": {},
   "outputs": [
    {
     "name": "stderr",
     "output_type": "stream",
     "text": [
<<<<<<< HEAD
      "c:\\Users\\MarouanKamoun\\Desktop\\HGO pbl\\PBL-HGO\\PBL-HGO\\Functions\\AlertP1\\features.py:20: SettingWithCopyWarning: \n",
=======
      "/Users/gabrielabib/Desktop/NOVA_SBE/PBL/PBL-HGO/Functions/AlertP1/features.py:20: SettingWithCopyWarning: \n",
>>>>>>> gabrabib
      "A value is trying to be set on a copy of a slice from a DataFrame\n",
      "\n",
      "See the caveats in the documentation: https://pandas.pydata.org/pandas-docs/stable/user_guide/indexing.html#returning-a-view-versus-a-copy\n",
      "  alertP1['step'][alertP1['step']>=3]='3+'\n",
      "c:\\Users\\MarouanKamoun\\Desktop\\HGO pbl\\PBL-HGO\\PBL-HGO\\Functions\\AlertP1\\features.py:32: SettingWithCopyWarning: \n",
      "A value is trying to be set on a copy of a slice from a DataFrame\n",
      "\n",
      "See the caveats in the documentation: https://pandas.pydata.org/pandas-docs/stable/user_guide/indexing.html#returning-a-view-versus-a-copy\n",
      "  alertP1['unit'][(alertP1['COD_UNID_SAUDE_PROV']==3151772) & (alertP1['DATA_RECEPCAO']<'23/07/2012')]='CS'\n",
      "c:\\Users\\MarouanKamoun\\Desktop\\HGO pbl\\PBL-HGO\\PBL-HGO\\Functions\\AlertP1\\features.py:33: SettingWithCopyWarning: \n",
      "A value is trying to be set on a copy of a slice from a DataFrame\n",
      "\n",
      "See the caveats in the documentation: https://pandas.pydata.org/pandas-docs/stable/user_guide/indexing.html#returning-a-view-versus-a-copy\n",
      "  alertP1['unit'][(alertP1['COD_UNID_SAUDE_PROV']==3151201) & (alertP1['DATA_RECEPCAO']<'01/04/2015')]='CS'\n",
      "c:\\Users\\MarouanKamoun\\Desktop\\HGO pbl\\PBL-HGO\\PBL-HGO\\Functions\\AlertP1\\features.py:34: SettingWithCopyWarning: \n",
      "A value is trying to be set on a copy of a slice from a DataFrame\n",
      "\n",
      "See the caveats in the documentation: https://pandas.pydata.org/pandas-docs/stable/user_guide/indexing.html#returning-a-view-versus-a-copy\n",
      "  alertP1['unit'][(alertP1['COD_UNID_SAUDE_PROV']==3150501) & (alertP1['DATA_RECEPCAO']<'15/05/2015')]='CS'\n",
      "c:\\Users\\MarouanKamoun\\Desktop\\HGO pbl\\PBL-HGO\\PBL-HGO\\Functions\\AlertP1\\features.py:35: SettingWithCopyWarning: \n",
      "A value is trying to be set on a copy of a slice from a DataFrame\n",
      "\n",
      "See the caveats in the documentation: https://pandas.pydata.org/pandas-docs/stable/user_guide/indexing.html#returning-a-view-versus-a-copy\n",
      "  alertP1['unit'][(alertP1['COD_UNID_SAUDE_PROV']==3150573) & (alertP1['DATA_RECEPCAO']<'15/05/2015')]='CS'\n"
     ]
    }
   ],
   "source": [
    "alertP1=bef_accepted(alertP1)\n",
    "class_area(alertP1)\n",
    "text_length(alertP1)\n",
    "referral_steps(alertP1)\n",
    "speciality(alertP1)\n",
    "alertP1=unit(alertP1)"
   ]
  },
  {
   "attachments": {},
   "cell_type": "markdown",
   "metadata": {},
   "source": [
    "## add NLP features"
   ]
  },
  {
   "cell_type": "code",
<<<<<<< HEAD
<<<<<<< HEAD
   "execution_count": 5,
   "metadata": {},
   "outputs": [
    {
=======
   "execution_count": 7,
=======
   "execution_count": 6,
>>>>>>> origin/marouan
   "metadata": {},
   "outputs": [
    {
     "name": "stderr",
     "output_type": "stream",
     "text": [
      "/Users/gabrielabib/Desktop/NOVA_SBE/PBL/PBL-HGO/Functions/NLP/alertp1_nlp.py:168: FutureWarning: iteritems is deprecated and will be removed in a future version. Use .items instead.\n",
      "  for i, text in df[column].iteritems():\n"
     ]
    },
    {
<<<<<<< HEAD
>>>>>>> gabrabib
     "ename": "KeyboardInterrupt",
     "evalue": "",
     "output_type": "error",
     "traceback": [
<<<<<<< HEAD
      "\u001b[1;31m---------------------------------------------------------------------------\u001b[0m",
      "\u001b[1;31mKeyboardInterrupt\u001b[0m                         Traceback (most recent call last)",
      "\u001b[1;32mC:\\Users\\MAROUA~1\\AppData\\Local\\Temp/ipykernel_11456/743585013.py\u001b[0m in \u001b[0;36m<module>\u001b[1;34m\u001b[0m\n\u001b[0;32m      1\u001b[0m \u001b[1;31m#add symptoms column\u001b[0m\u001b[1;33m\u001b[0m\u001b[1;33m\u001b[0m\u001b[0m\n\u001b[1;32m----> 2\u001b[1;33m \u001b[0msymptoms_column\u001b[0m\u001b[1;33m(\u001b[0m\u001b[0malertP1\u001b[0m\u001b[1;33m)\u001b[0m\u001b[1;33m\u001b[0m\u001b[1;33m\u001b[0m\u001b[0m\n\u001b[0m\u001b[0;32m      3\u001b[0m \u001b[1;31m#add exams columns\u001b[0m\u001b[1;33m\u001b[0m\u001b[1;33m\u001b[0m\u001b[0m\n\u001b[0;32m      4\u001b[0m \u001b[0mexams\u001b[0m\u001b[1;33m(\u001b[0m\u001b[0malertP1\u001b[0m\u001b[1;33m)\u001b[0m\u001b[1;33m\u001b[0m\u001b[1;33m\u001b[0m\u001b[0m\n\u001b[0;32m      5\u001b[0m \u001b[1;31m#add comorbidities columns\u001b[0m\u001b[1;33m\u001b[0m\u001b[1;33m\u001b[0m\u001b[0m\n",
      "\u001b[1;32mc:\\Users\\MarouanKamoun\\Desktop\\HGO pbl\\PBL-HGO\\PBL-HGO\\Functions\\NLP\\data_with_nlp.py\u001b[0m in \u001b[0;36msymptoms_column\u001b[1;34m(alertP1)\u001b[0m\n\u001b[0;32m     26\u001b[0m \u001b[1;31m#Symptoms\u001b[0m\u001b[1;33m\u001b[0m\u001b[1;33m\u001b[0m\u001b[0m\n\u001b[0;32m     27\u001b[0m \u001b[1;32mdef\u001b[0m \u001b[0msymptoms_column\u001b[0m\u001b[1;33m(\u001b[0m\u001b[0malertP1\u001b[0m\u001b[1;33m)\u001b[0m\u001b[1;33m:\u001b[0m\u001b[1;33m\u001b[0m\u001b[1;33m\u001b[0m\u001b[0m\n\u001b[1;32m---> 28\u001b[1;33m    \u001b[0mcategorize_symptoms\u001b[0m\u001b[1;33m(\u001b[0m\u001b[0malertP1\u001b[0m\u001b[1;33m,\u001b[0m\u001b[1;34m\"clean_text\"\u001b[0m\u001b[1;33m,\u001b[0m \u001b[1;34m\"Data/symptoms_data.xlsx\"\u001b[0m\u001b[1;33m,\u001b[0m \u001b[1;36m80\u001b[0m\u001b[1;33m)\u001b[0m\u001b[1;33m\u001b[0m\u001b[1;33m\u001b[0m\u001b[0m\n\u001b[0m\u001b[0;32m     29\u001b[0m    \u001b[0madd_textcount_columns\u001b[0m\u001b[1;33m(\u001b[0m\u001b[0malertP1\u001b[0m\u001b[1;33m,\u001b[0m\u001b[1;34m\"clean_text\"\u001b[0m\u001b[1;33m,\u001b[0m\u001b[1;34m\"symptom_1\"\u001b[0m\u001b[1;33m)\u001b[0m\u001b[1;33m\u001b[0m\u001b[1;33m\u001b[0m\u001b[0m\n\u001b[0;32m     30\u001b[0m    \u001b[0madd_textcount_columns\u001b[0m\u001b[1;33m(\u001b[0m\u001b[0malertP1\u001b[0m\u001b[1;33m,\u001b[0m\u001b[1;34m\"clean_text\"\u001b[0m\u001b[1;33m,\u001b[0m\u001b[1;34m\"symptom_0\"\u001b[0m\u001b[1;33m)\u001b[0m\u001b[1;33m\u001b[0m\u001b[1;33m\u001b[0m\u001b[0m\n",
      "\u001b[1;32mc:\\Users\\MarouanKamoun\\Desktop\\HGO pbl\\PBL-HGO\\PBL-HGO\\Functions\\NLP\\alertp1_nlp.py\u001b[0m in \u001b[0;36mcategorize_symptoms\u001b[1;34m(df, column, symptoms_excel, threshold)\u001b[0m\n\u001b[0;32m    168\u001b[0m     \u001b[1;32mfor\u001b[0m \u001b[0mi\u001b[0m\u001b[1;33m,\u001b[0m \u001b[0mtext\u001b[0m \u001b[1;32min\u001b[0m \u001b[0mdf\u001b[0m\u001b[1;33m[\u001b[0m\u001b[0mcolumn\u001b[0m\u001b[1;33m]\u001b[0m\u001b[1;33m.\u001b[0m\u001b[0miteritems\u001b[0m\u001b[1;33m(\u001b[0m\u001b[1;33m)\u001b[0m\u001b[1;33m:\u001b[0m\u001b[1;33m\u001b[0m\u001b[1;33m\u001b[0m\u001b[0m\n\u001b[0;32m    169\u001b[0m         \u001b[0mwords\u001b[0m \u001b[1;33m=\u001b[0m \u001b[0mre\u001b[0m\u001b[1;33m.\u001b[0m\u001b[0mfindall\u001b[0m\u001b[1;33m(\u001b[0m\u001b[1;34mr'\\b\\w+\\b'\u001b[0m\u001b[1;33m,\u001b[0m \u001b[0mtext\u001b[0m\u001b[1;33m)\u001b[0m\u001b[1;33m\u001b[0m\u001b[1;33m\u001b[0m\u001b[0m\n\u001b[1;32m--> 170\u001b[1;33m         \u001b[1;32mfor\u001b[0m \u001b[0mindex\u001b[0m\u001b[1;33m,\u001b[0m \u001b[0mrow\u001b[0m \u001b[1;32min\u001b[0m \u001b[0msymptoms_df\u001b[0m\u001b[1;33m.\u001b[0m\u001b[0miterrows\u001b[0m\u001b[1;33m(\u001b[0m\u001b[1;33m)\u001b[0m\u001b[1;33m:\u001b[0m\u001b[1;33m\u001b[0m\u001b[1;33m\u001b[0m\u001b[0m\n\u001b[0m\u001b[0;32m    171\u001b[0m             \u001b[0msymptom_name\u001b[0m \u001b[1;33m=\u001b[0m \u001b[0mrow\u001b[0m\u001b[1;33m[\u001b[0m\u001b[1;34m\"symptom\"\u001b[0m\u001b[1;33m]\u001b[0m\u001b[1;33m.\u001b[0m\u001b[0mlower\u001b[0m\u001b[1;33m(\u001b[0m\u001b[1;33m)\u001b[0m\u001b[1;33m\u001b[0m\u001b[1;33m\u001b[0m\u001b[0m\n\u001b[0;32m    172\u001b[0m             \u001b[0msymptom_consultation\u001b[0m \u001b[1;33m=\u001b[0m \u001b[1;34m'symptom_'\u001b[0m \u001b[1;33m+\u001b[0m \u001b[0mstr\u001b[0m\u001b[1;33m(\u001b[0m\u001b[0mrow\u001b[0m\u001b[1;33m[\u001b[0m\u001b[1;34m'consultation'\u001b[0m\u001b[1;33m]\u001b[0m\u001b[1;33m)\u001b[0m\u001b[1;33m\u001b[0m\u001b[1;33m\u001b[0m\u001b[0m\n",
      "\u001b[1;32mc:\\Users\\MarouanKamoun\\anaconda3\\lib\\site-packages\\pandas\\core\\frame.py\u001b[0m in \u001b[0;36miterrows\u001b[1;34m(self)\u001b[0m\n\u001b[0;32m   1261\u001b[0m         \u001b[0mklass\u001b[0m \u001b[1;33m=\u001b[0m \u001b[0mself\u001b[0m\u001b[1;33m.\u001b[0m\u001b[0m_constructor_sliced\u001b[0m\u001b[1;33m\u001b[0m\u001b[1;33m\u001b[0m\u001b[0m\n\u001b[0;32m   1262\u001b[0m         \u001b[1;32mfor\u001b[0m \u001b[0mk\u001b[0m\u001b[1;33m,\u001b[0m \u001b[0mv\u001b[0m \u001b[1;32min\u001b[0m \u001b[0mzip\u001b[0m\u001b[1;33m(\u001b[0m\u001b[0mself\u001b[0m\u001b[1;33m.\u001b[0m\u001b[0mindex\u001b[0m\u001b[1;33m,\u001b[0m \u001b[0mself\u001b[0m\u001b[1;33m.\u001b[0m\u001b[0mvalues\u001b[0m\u001b[1;33m)\u001b[0m\u001b[1;33m:\u001b[0m\u001b[1;33m\u001b[0m\u001b[1;33m\u001b[0m\u001b[0m\n\u001b[1;32m-> 1263\u001b[1;33m             \u001b[0ms\u001b[0m \u001b[1;33m=\u001b[0m \u001b[0mklass\u001b[0m\u001b[1;33m(\u001b[0m\u001b[0mv\u001b[0m\u001b[1;33m,\u001b[0m \u001b[0mindex\u001b[0m\u001b[1;33m=\u001b[0m\u001b[0mcolumns\u001b[0m\u001b[1;33m,\u001b[0m \u001b[0mname\u001b[0m\u001b[1;33m=\u001b[0m\u001b[0mk\u001b[0m\u001b[1;33m)\u001b[0m\u001b[1;33m\u001b[0m\u001b[1;33m\u001b[0m\u001b[0m\n\u001b[0m\u001b[0;32m   1264\u001b[0m             \u001b[1;32myield\u001b[0m \u001b[0mk\u001b[0m\u001b[1;33m,\u001b[0m \u001b[0ms\u001b[0m\u001b[1;33m\u001b[0m\u001b[1;33m\u001b[0m\u001b[0m\n\u001b[0;32m   1265\u001b[0m \u001b[1;33m\u001b[0m\u001b[0m\n",
      "\u001b[1;32mc:\\Users\\MarouanKamoun\\anaconda3\\lib\\site-packages\\pandas\\core\\series.py\u001b[0m in \u001b[0;36m__init__\u001b[1;34m(self, data, index, dtype, name, copy, fastpath)\u001b[0m\n\u001b[0;32m    445\u001b[0m                     \u001b[0mdata\u001b[0m \u001b[1;33m=\u001b[0m \u001b[0mSingleArrayManager\u001b[0m\u001b[1;33m.\u001b[0m\u001b[0mfrom_array\u001b[0m\u001b[1;33m(\u001b[0m\u001b[0mdata\u001b[0m\u001b[1;33m,\u001b[0m \u001b[0mindex\u001b[0m\u001b[1;33m)\u001b[0m\u001b[1;33m\u001b[0m\u001b[1;33m\u001b[0m\u001b[0m\n\u001b[0;32m    446\u001b[0m \u001b[1;33m\u001b[0m\u001b[0m\n\u001b[1;32m--> 447\u001b[1;33m         \u001b[0mgeneric\u001b[0m\u001b[1;33m.\u001b[0m\u001b[0mNDFrame\u001b[0m\u001b[1;33m.\u001b[0m\u001b[0m__init__\u001b[0m\u001b[1;33m(\u001b[0m\u001b[0mself\u001b[0m\u001b[1;33m,\u001b[0m \u001b[0mdata\u001b[0m\u001b[1;33m)\u001b[0m\u001b[1;33m\u001b[0m\u001b[1;33m\u001b[0m\u001b[0m\n\u001b[0m\u001b[0;32m    448\u001b[0m         \u001b[0mself\u001b[0m\u001b[1;33m.\u001b[0m\u001b[0mname\u001b[0m \u001b[1;33m=\u001b[0m \u001b[0mname\u001b[0m\u001b[1;33m\u001b[0m\u001b[1;33m\u001b[0m\u001b[0m\n\u001b[0;32m    449\u001b[0m         \u001b[0mself\u001b[0m\u001b[1;33m.\u001b[0m\u001b[0m_set_axis\u001b[0m\u001b[1;33m(\u001b[0m\u001b[1;36m0\u001b[0m\u001b[1;33m,\u001b[0m \u001b[0mindex\u001b[0m\u001b[1;33m,\u001b[0m \u001b[0mfastpath\u001b[0m\u001b[1;33m=\u001b[0m\u001b[1;32mTrue\u001b[0m\u001b[1;33m)\u001b[0m\u001b[1;33m\u001b[0m\u001b[1;33m\u001b[0m\u001b[0m\n",
      "\u001b[1;32mc:\\Users\\MarouanKamoun\\anaconda3\\lib\\site-packages\\pandas\\core\\generic.py\u001b[0m in \u001b[0;36m__init__\u001b[1;34m(self, data, copy, attrs)\u001b[0m\n\u001b[0;32m    240\u001b[0m \u001b[1;33m\u001b[0m\u001b[0m\n\u001b[0;32m    241\u001b[0m         \u001b[0mobject\u001b[0m\u001b[1;33m.\u001b[0m\u001b[0m__setattr__\u001b[0m\u001b[1;33m(\u001b[0m\u001b[0mself\u001b[0m\u001b[1;33m,\u001b[0m \u001b[1;34m\"_is_copy\"\u001b[0m\u001b[1;33m,\u001b[0m \u001b[1;32mNone\u001b[0m\u001b[1;33m)\u001b[0m\u001b[1;33m\u001b[0m\u001b[1;33m\u001b[0m\u001b[0m\n\u001b[1;32m--> 242\u001b[1;33m         \u001b[0mobject\u001b[0m\u001b[1;33m.\u001b[0m\u001b[0m__setattr__\u001b[0m\u001b[1;33m(\u001b[0m\u001b[0mself\u001b[0m\u001b[1;33m,\u001b[0m \u001b[1;34m\"_mgr\"\u001b[0m\u001b[1;33m,\u001b[0m \u001b[0mdata\u001b[0m\u001b[1;33m)\u001b[0m\u001b[1;33m\u001b[0m\u001b[1;33m\u001b[0m\u001b[0m\n\u001b[0m\u001b[0;32m    243\u001b[0m         \u001b[0mobject\u001b[0m\u001b[1;33m.\u001b[0m\u001b[0m__setattr__\u001b[0m\u001b[1;33m(\u001b[0m\u001b[0mself\u001b[0m\u001b[1;33m,\u001b[0m \u001b[1;34m\"_item_cache\"\u001b[0m\u001b[1;33m,\u001b[0m \u001b[1;33m{\u001b[0m\u001b[1;33m}\u001b[0m\u001b[1;33m)\u001b[0m\u001b[1;33m\u001b[0m\u001b[1;33m\u001b[0m\u001b[0m\n\u001b[0;32m    244\u001b[0m         \u001b[1;32mif\u001b[0m \u001b[0mattrs\u001b[0m \u001b[1;32mis\u001b[0m \u001b[1;32mNone\u001b[0m\u001b[1;33m:\u001b[0m\u001b[1;33m\u001b[0m\u001b[1;33m\u001b[0m\u001b[0m\n",
      "\u001b[1;31mKeyboardInterrupt\u001b[0m: "
=======
      "\u001b[0;31m---------------------------------------------------------------------------\u001b[0m",
      "\u001b[0;31mKeyboardInterrupt\u001b[0m                         Traceback (most recent call last)",
      "Cell \u001b[0;32mIn[7], line 2\u001b[0m\n\u001b[1;32m      1\u001b[0m \u001b[39m#add symptoms column\u001b[39;00m\n\u001b[0;32m----> 2\u001b[0m symptoms_column(alertP1)\n\u001b[1;32m      3\u001b[0m \u001b[39m#add exams columns\u001b[39;00m\n\u001b[1;32m      4\u001b[0m \u001b[39m#exams(alertP1)\u001b[39;00m\n\u001b[1;32m      5\u001b[0m \u001b[39m#add comorbidities columns\u001b[39;00m\n\u001b[1;32m      6\u001b[0m \u001b[39m#comorbidities(alertP1)\u001b[39;00m\n\u001b[1;32m      7\u001b[0m \u001b[39m#add medication columns\u001b[39;00m\n\u001b[1;32m      8\u001b[0m medication_column(alertP1)\n",
      "File \u001b[0;32m~/Desktop/NOVA_SBE/PBL/PBL-HGO/Data_with_NLP.py:20\u001b[0m, in \u001b[0;36msymptoms_column\u001b[0;34m(alertP1)\u001b[0m\n\u001b[1;32m     19\u001b[0m \u001b[39mdef\u001b[39;00m \u001b[39msymptoms_column\u001b[39m(alertP1):\n\u001b[0;32m---> 20\u001b[0m    categorize_symptoms(alertP1,\u001b[39m\"\u001b[39;49m\u001b[39mclean_text\u001b[39;49m\u001b[39m\"\u001b[39;49m, \u001b[39m\"\u001b[39;49m\u001b[39mData/symptoms_data.xlsx\u001b[39;49m\u001b[39m\"\u001b[39;49m, \u001b[39m80\u001b[39;49m)\n\u001b[1;32m     21\u001b[0m    add_textcount_columns(alertP1,\u001b[39m\"\u001b[39m\u001b[39mclean_text\u001b[39m\u001b[39m\"\u001b[39m,\u001b[39m\"\u001b[39m\u001b[39msymptom_1\u001b[39m\u001b[39m\"\u001b[39m)\n\u001b[1;32m     22\u001b[0m    add_textcount_columns(alertP1,\u001b[39m\"\u001b[39m\u001b[39mclean_text\u001b[39m\u001b[39m\"\u001b[39m,\u001b[39m\"\u001b[39m\u001b[39msymptom_0\u001b[39m\u001b[39m\"\u001b[39m)  \n",
      "File \u001b[0;32m~/Desktop/NOVA_SBE/PBL/PBL-HGO/Functions/NLP/alertp1_nlp.py:171\u001b[0m, in \u001b[0;36mcategorize_symptoms\u001b[0;34m(df, column, symptoms_excel, threshold)\u001b[0m\n\u001b[1;32m    169\u001b[0m words \u001b[39m=\u001b[39m re\u001b[39m.\u001b[39mfindall(\u001b[39mr\u001b[39m\u001b[39m'\u001b[39m\u001b[39m\\\u001b[39m\u001b[39mb\u001b[39m\u001b[39m\\\u001b[39m\u001b[39mw+\u001b[39m\u001b[39m\\\u001b[39m\u001b[39mb\u001b[39m\u001b[39m'\u001b[39m, text)\n\u001b[1;32m    170\u001b[0m \u001b[39mfor\u001b[39;00m index, row \u001b[39min\u001b[39;00m symptoms_df\u001b[39m.\u001b[39miterrows():\n\u001b[0;32m--> 171\u001b[0m     symptom_name \u001b[39m=\u001b[39m row[\u001b[39m\"\u001b[39;49m\u001b[39msymptom\u001b[39;49m\u001b[39m\"\u001b[39;49m]\u001b[39m.\u001b[39mlower()\n\u001b[1;32m    172\u001b[0m     symptom_consultation \u001b[39m=\u001b[39m \u001b[39m'\u001b[39m\u001b[39msymptom_\u001b[39m\u001b[39m'\u001b[39m \u001b[39m+\u001b[39m \u001b[39mstr\u001b[39m(row[\u001b[39m'\u001b[39m\u001b[39mconsultation\u001b[39m\u001b[39m'\u001b[39m])\n\u001b[1;32m    173\u001b[0m     \u001b[39mfor\u001b[39;00m word \u001b[39min\u001b[39;00m words:\n",
      "File \u001b[0;32m/usr/local/Caskroom/miniconda/base/envs/nova/lib/python3.10/site-packages/pandas/core/series.py:981\u001b[0m, in \u001b[0;36mSeries.__getitem__\u001b[0;34m(self, key)\u001b[0m\n\u001b[1;32m    978\u001b[0m     \u001b[39mreturn\u001b[39;00m \u001b[39mself\u001b[39m\u001b[39m.\u001b[39m_values[key]\n\u001b[1;32m    980\u001b[0m \u001b[39melif\u001b[39;00m key_is_scalar:\n\u001b[0;32m--> 981\u001b[0m     \u001b[39mreturn\u001b[39;00m \u001b[39mself\u001b[39;49m\u001b[39m.\u001b[39;49m_get_value(key)\n\u001b[1;32m    983\u001b[0m \u001b[39mif\u001b[39;00m is_hashable(key):\n\u001b[1;32m    984\u001b[0m     \u001b[39m# Otherwise index.get_value will raise InvalidIndexError\u001b[39;00m\n\u001b[1;32m    985\u001b[0m     \u001b[39mtry\u001b[39;00m:\n\u001b[1;32m    986\u001b[0m         \u001b[39m# For labels that don't resolve as scalars like tuples and frozensets\u001b[39;00m\n",
      "File \u001b[0;32m/usr/local/Caskroom/miniconda/base/envs/nova/lib/python3.10/site-packages/pandas/core/series.py:1090\u001b[0m, in \u001b[0;36mSeries._get_value\u001b[0;34m(self, label, takeable)\u001b[0m\n\u001b[1;32m   1088\u001b[0m \u001b[39m# Similar to Index.get_value, but we do not fall back to positional\u001b[39;00m\n\u001b[1;32m   1089\u001b[0m loc \u001b[39m=\u001b[39m \u001b[39mself\u001b[39m\u001b[39m.\u001b[39mindex\u001b[39m.\u001b[39mget_loc(label)\n\u001b[0;32m-> 1090\u001b[0m \u001b[39mreturn\u001b[39;00m \u001b[39mself\u001b[39;49m\u001b[39m.\u001b[39;49mindex\u001b[39m.\u001b[39;49m_get_values_for_loc(\u001b[39mself\u001b[39;49m, loc, label)\n",
      "File \u001b[0;32m/usr/local/Caskroom/miniconda/base/envs/nova/lib/python3.10/site-packages/pandas/core/indexes/base.py:5944\u001b[0m, in \u001b[0;36mIndex._get_values_for_loc\u001b[0;34m(self, series, loc, key)\u001b[0m\n\u001b[1;32m   5935\u001b[0m \u001b[39m\u001b[39m\u001b[39m\"\"\"\u001b[39;00m\n\u001b[1;32m   5936\u001b[0m \u001b[39mDo a positional lookup on the given Series, returning either a scalar\u001b[39;00m\n\u001b[1;32m   5937\u001b[0m \u001b[39mor a Series.\u001b[39;00m\n\u001b[0;32m   (...)\u001b[0m\n\u001b[1;32m   5941\u001b[0m \u001b[39mkey is included for MultiIndex compat.\u001b[39;00m\n\u001b[1;32m   5942\u001b[0m \u001b[39m\"\"\"\u001b[39;00m\n\u001b[1;32m   5943\u001b[0m \u001b[39mif\u001b[39;00m is_integer(loc):\n\u001b[0;32m-> 5944\u001b[0m     \u001b[39mreturn\u001b[39;00m series\u001b[39m.\u001b[39;49m_values[loc]\n\u001b[1;32m   5946\u001b[0m \u001b[39mreturn\u001b[39;00m series\u001b[39m.\u001b[39miloc[loc]\n",
      "File \u001b[0;32m/usr/local/Caskroom/miniconda/base/envs/nova/lib/python3.10/site-packages/pandas/core/series.py:740\u001b[0m, in \u001b[0;36mSeries._values\u001b[0;34m(self)\u001b[0m\n\u001b[1;32m    708\u001b[0m \u001b[39m@property\u001b[39m\n\u001b[1;32m    709\u001b[0m \u001b[39mdef\u001b[39;00m \u001b[39m_values\u001b[39m(\u001b[39mself\u001b[39m):\n\u001b[1;32m    710\u001b[0m \u001b[39m    \u001b[39m\u001b[39m\"\"\"\u001b[39;00m\n\u001b[1;32m    711\u001b[0m \u001b[39m    Return the internal repr of this data (defined by Block.interval_values).\u001b[39;00m\n\u001b[1;32m    712\u001b[0m \u001b[39m    This are the values as stored in the Block (ndarray or ExtensionArray\u001b[39;00m\n\u001b[0;32m   (...)\u001b[0m\n\u001b[1;32m    738\u001b[0m \n\u001b[1;32m    739\u001b[0m \u001b[39m    \"\"\"\u001b[39;00m\n\u001b[0;32m--> 740\u001b[0m     \u001b[39mreturn\u001b[39;00m \u001b[39mself\u001b[39;49m\u001b[39m.\u001b[39;49m_mgr\u001b[39m.\u001b[39;49minternal_values()\n",
      "File \u001b[0;32m/usr/local/Caskroom/miniconda/base/envs/nova/lib/python3.10/site-packages/pandas/core/internals/managers.py:2071\u001b[0m, in \u001b[0;36mSingleBlockManager.internal_values\u001b[0;34m(self)\u001b[0m\n\u001b[1;32m   2069\u001b[0m \u001b[39mdef\u001b[39;00m \u001b[39minternal_values\u001b[39m(\u001b[39mself\u001b[39m):\n\u001b[1;32m   2070\u001b[0m \u001b[39m    \u001b[39m\u001b[39m\"\"\"The array that Series._values returns\"\"\"\u001b[39;00m\n\u001b[0;32m-> 2071\u001b[0m     \u001b[39mreturn\u001b[39;00m \u001b[39mself\u001b[39;49m\u001b[39m.\u001b[39;49m_block\u001b[39m.\u001b[39mvalues\n",
      "File \u001b[0;32m/usr/local/Caskroom/miniconda/base/envs/nova/lib/python3.10/site-packages/pandas/_libs/properties.pyx:36\u001b[0m, in \u001b[0;36mpandas._libs.properties.CachedProperty.__get__\u001b[0;34m()\u001b[0m\n",
      "File \u001b[0;32m/usr/local/Caskroom/miniconda/base/envs/nova/lib/python3.10/site-packages/pandas/core/internals/managers.py:2009\u001b[0m, in \u001b[0;36mSingleBlockManager._block\u001b[0;34m(self)\u001b[0m\n\u001b[1;32m   2006\u001b[0m \u001b[39mdef\u001b[39;00m \u001b[39m_post_setstate\u001b[39m(\u001b[39mself\u001b[39m):\n\u001b[1;32m   2007\u001b[0m     \u001b[39mpass\u001b[39;00m\n\u001b[0;32m-> 2009\u001b[0m \u001b[39m@cache_readonly\u001b[39m\n\u001b[1;32m   2010\u001b[0m \u001b[39mdef\u001b[39;00m \u001b[39m_block\u001b[39m(\u001b[39mself\u001b[39m) \u001b[39m-\u001b[39m\u001b[39m>\u001b[39m Block:\n\u001b[1;32m   2011\u001b[0m     \u001b[39mreturn\u001b[39;00m \u001b[39mself\u001b[39m\u001b[39m.\u001b[39mblocks[\u001b[39m0\u001b[39m]\n\u001b[1;32m   2013\u001b[0m \u001b[39m@property\u001b[39m\n\u001b[1;32m   2014\u001b[0m \u001b[39mdef\u001b[39;00m \u001b[39m_blknos\u001b[39m(\u001b[39mself\u001b[39m):\n",
      "\u001b[0;31mKeyboardInterrupt\u001b[0m: "
>>>>>>> gabrabib
     ]
=======
     "data": {
      "text/html": [
       "<div>\n",
       "<style scoped>\n",
       "    .dataframe tbody tr th:only-of-type {\n",
       "        vertical-align: middle;\n",
       "    }\n",
       "\n",
       "    .dataframe tbody tr th {\n",
       "        vertical-align: top;\n",
       "    }\n",
       "\n",
       "    .dataframe thead th {\n",
       "        text-align: right;\n",
       "    }\n",
       "</style>\n",
       "<table border=\"1\" class=\"dataframe\">\n",
       "  <thead>\n",
       "    <tr style=\"text-align: right;\">\n",
       "      <th></th>\n",
       "      <th>ID_DOENTE</th>\n",
       "      <th>PROCESSO</th>\n",
       "      <th>COD_REFERENCIA</th>\n",
       "      <th>COD_PZ</th>\n",
       "      <th>COD_UNID_SAUDE_PROV</th>\n",
       "      <th>UNID_PROV</th>\n",
       "      <th>TIPO_UNID</th>\n",
       "      <th>PROVENIENCIA</th>\n",
       "      <th>COD_CTH_PRIOR</th>\n",
       "      <th>CTH_PRIOR</th>\n",
       "      <th>...</th>\n",
       "      <th>text_length</th>\n",
       "      <th>step</th>\n",
       "      <th>speciality_type</th>\n",
       "      <th>unit</th>\n",
       "      <th>symptom_1</th>\n",
       "      <th>symptom_0</th>\n",
       "      <th>exam_identified</th>\n",
       "      <th>medication_level_1</th>\n",
       "      <th>medication_level_2</th>\n",
       "      <th>medication_level_3</th>\n",
       "    </tr>\n",
       "  </thead>\n",
       "  <tbody>\n",
       "    <tr>\n",
       "      <th>1499</th>\n",
       "      <td>01-12-1GBF</td>\n",
       "      <td>MIVNNVE</td>\n",
       "      <td>LPHRRVQP</td>\n",
       "      <td></td>\n",
       "      <td>0</td>\n",
       "      <td></td>\n",
       "      <td>OUTRA</td>\n",
       "      <td>SAM</td>\n",
       "      <td></td>\n",
       "      <td>unknown</td>\n",
       "      <td>...</td>\n",
       "      <td>51</td>\n",
       "      <td>1</td>\n",
       "      <td>General Neurology</td>\n",
       "      <td>HGO</td>\n",
       "      <td>1</td>\n",
       "      <td>0</td>\n",
       "      <td>0</td>\n",
       "      <td>0</td>\n",
       "      <td>0</td>\n",
       "      <td>0</td>\n",
       "    </tr>\n",
       "    <tr>\n",
       "      <th>959</th>\n",
       "      <td>0F-12-1GAG</td>\n",
       "      <td>LLCCECB</td>\n",
       "      <td>LRHHVTQR</td>\n",
       "      <td>GAGBESD</td>\n",
       "      <td>3151571</td>\n",
       "      <td>USF FFMAIS-CS SEIXAL</td>\n",
       "      <td>CS/USF</td>\n",
       "      <td>CTH</td>\n",
       "      <td></td>\n",
       "      <td>unknown</td>\n",
       "      <td>...</td>\n",
       "      <td>707</td>\n",
       "      <td>1</td>\n",
       "      <td>General Neurology</td>\n",
       "      <td>USF B</td>\n",
       "      <td>4</td>\n",
       "      <td>2</td>\n",
       "      <td>0</td>\n",
       "      <td>0</td>\n",
       "      <td>2</td>\n",
       "      <td>0</td>\n",
       "    </tr>\n",
       "    <tr>\n",
       "      <th>868</th>\n",
       "      <td>0F-12-1GAS</td>\n",
       "      <td>LLCJILJ</td>\n",
       "      <td>LQHOOLQV</td>\n",
       "      <td></td>\n",
       "      <td>0</td>\n",
       "      <td></td>\n",
       "      <td>OUTRA</td>\n",
       "      <td>SAM</td>\n",
       "      <td></td>\n",
       "      <td>unknown</td>\n",
       "      <td>...</td>\n",
       "      <td>66</td>\n",
       "      <td>1</td>\n",
       "      <td>General Neurology</td>\n",
       "      <td>HGO</td>\n",
       "      <td>1</td>\n",
       "      <td>0</td>\n",
       "      <td>0</td>\n",
       "      <td>0</td>\n",
       "      <td>0</td>\n",
       "      <td>0</td>\n",
       "    </tr>\n",
       "    <tr>\n",
       "      <th>1519</th>\n",
       "      <td>0S-12-1GBF</td>\n",
       "      <td>MIVEMLC</td>\n",
       "      <td>LRHPVSVU</td>\n",
       "      <td>ZHEEZFSC</td>\n",
       "      <td>3151571</td>\n",
       "      <td>USF FFMAIS-CS SEIXAL</td>\n",
       "      <td>CS/USF</td>\n",
       "      <td>CTH</td>\n",
       "      <td>3</td>\n",
       "      <td>Normal</td>\n",
       "      <td>...</td>\n",
       "      <td>3024</td>\n",
       "      <td>1</td>\n",
       "      <td>General Neurology</td>\n",
       "      <td>USF B</td>\n",
       "      <td>3</td>\n",
       "      <td>6</td>\n",
       "      <td>0</td>\n",
       "      <td>1</td>\n",
       "      <td>9</td>\n",
       "      <td>6</td>\n",
       "    </tr>\n",
       "    <tr>\n",
       "      <th>4844</th>\n",
       "      <td>A,CBE+SA</td>\n",
       "      <td>VMNNVICN</td>\n",
       "      <td>LQHQLSHL</td>\n",
       "      <td></td>\n",
       "      <td>0</td>\n",
       "      <td></td>\n",
       "      <td>OUTRA</td>\n",
       "      <td>SAM</td>\n",
       "      <td></td>\n",
       "      <td>unknown</td>\n",
       "      <td>...</td>\n",
       "      <td>0</td>\n",
       "      <td>1</td>\n",
       "      <td>General Neurology</td>\n",
       "      <td>HGO</td>\n",
       "      <td>0</td>\n",
       "      <td>0</td>\n",
       "      <td>0</td>\n",
       "      <td>0</td>\n",
       "      <td>0</td>\n",
       "      <td>0</td>\n",
       "    </tr>\n",
       "    <tr>\n",
       "      <th>...</th>\n",
       "      <td>...</td>\n",
       "      <td>...</td>\n",
       "      <td>...</td>\n",
       "      <td>...</td>\n",
       "      <td>...</td>\n",
       "      <td>...</td>\n",
       "      <td>...</td>\n",
       "      <td>...</td>\n",
       "      <td>...</td>\n",
       "      <td>...</td>\n",
       "      <td>...</td>\n",
       "      <td>...</td>\n",
       "      <td>...</td>\n",
       "      <td>...</td>\n",
       "      <td>...</td>\n",
       "      <td>...</td>\n",
       "      <td>...</td>\n",
       "      <td>...</td>\n",
       "      <td>...</td>\n",
       "      <td>...</td>\n",
       "      <td>...</td>\n",
       "    </tr>\n",
       "    <tr>\n",
       "      <th>5650</th>\n",
       "      <td>ZZZZB</td>\n",
       "      <td>BIJJVNJN</td>\n",
       "      <td>LRHRUSHO</td>\n",
       "      <td>ZHCBZAHZ</td>\n",
       "      <td>3150572</td>\n",
       "      <td>USF MONTE DA CAPARICA</td>\n",
       "      <td>CS/USF</td>\n",
       "      <td>CTH</td>\n",
       "      <td></td>\n",
       "      <td>unknown</td>\n",
       "      <td>...</td>\n",
       "      <td>0</td>\n",
       "      <td>1</td>\n",
       "      <td>General Neurology</td>\n",
       "      <td>CS</td>\n",
       "      <td>0</td>\n",
       "      <td>0</td>\n",
       "      <td>0</td>\n",
       "      <td>0</td>\n",
       "      <td>0</td>\n",
       "      <td>0</td>\n",
       "    </tr>\n",
       "    <tr>\n",
       "      <th>6526</th>\n",
       "      <td>ZZZZHA</td>\n",
       "      <td>BMJIDEDD</td>\n",
       "      <td>LQHSSUHH</td>\n",
       "      <td>GEASHED</td>\n",
       "      <td>3152471</td>\n",
       "      <td>USF SERVIR SAUDE-CS</td>\n",
       "      <td>CS/USF</td>\n",
       "      <td>CTH</td>\n",
       "      <td>3</td>\n",
       "      <td>Normal</td>\n",
       "      <td>...</td>\n",
       "      <td>0</td>\n",
       "      <td>1</td>\n",
       "      <td>General Neurology</td>\n",
       "      <td>USF B</td>\n",
       "      <td>0</td>\n",
       "      <td>0</td>\n",
       "      <td>0</td>\n",
       "      <td>0</td>\n",
       "      <td>0</td>\n",
       "      <td>0</td>\n",
       "    </tr>\n",
       "    <tr>\n",
       "      <th>6528</th>\n",
       "      <td>ZZZZSD</td>\n",
       "      <td>BMJIDCLL</td>\n",
       "      <td>LRHOUTQL</td>\n",
       "      <td></td>\n",
       "      <td>0</td>\n",
       "      <td></td>\n",
       "      <td>OUTRA</td>\n",
       "      <td>SAM</td>\n",
       "      <td></td>\n",
       "      <td>unknown</td>\n",
       "      <td>...</td>\n",
       "      <td>0</td>\n",
       "      <td>1</td>\n",
       "      <td>General Neurology</td>\n",
       "      <td>HGO</td>\n",
       "      <td>0</td>\n",
       "      <td>0</td>\n",
       "      <td>0</td>\n",
       "      <td>0</td>\n",
       "      <td>0</td>\n",
       "      <td>0</td>\n",
       "    </tr>\n",
       "    <tr>\n",
       "      <th>6527</th>\n",
       "      <td>ZZZZSH</td>\n",
       "      <td>BMJIDCLJ</td>\n",
       "      <td>LQHLTUVQ</td>\n",
       "      <td></td>\n",
       "      <td>0</td>\n",
       "      <td></td>\n",
       "      <td>OUTRA</td>\n",
       "      <td>SAM</td>\n",
       "      <td></td>\n",
       "      <td>unknown</td>\n",
       "      <td>...</td>\n",
       "      <td>0</td>\n",
       "      <td>1</td>\n",
       "      <td>General Neurology</td>\n",
       "      <td>HGO</td>\n",
       "      <td>0</td>\n",
       "      <td>0</td>\n",
       "      <td>0</td>\n",
       "      <td>0</td>\n",
       "      <td>0</td>\n",
       "      <td>0</td>\n",
       "    </tr>\n",
       "    <tr>\n",
       "      <th>1432</th>\n",
       "      <td>ZZZZZD</td>\n",
       "      <td>IIVJJJM</td>\n",
       "      <td>LRHHLPPH</td>\n",
       "      <td>GSGFESG</td>\n",
       "      <td>3150672</td>\n",
       "      <td>USF FEIJO-CS COVA DA PIEDADE</td>\n",
       "      <td>CS/USF</td>\n",
       "      <td>CTH</td>\n",
       "      <td>3</td>\n",
       "      <td>Normal</td>\n",
       "      <td>...</td>\n",
       "      <td>543</td>\n",
       "      <td>1</td>\n",
       "      <td>General Neurology</td>\n",
       "      <td>USF B</td>\n",
       "      <td>5</td>\n",
       "      <td>1</td>\n",
       "      <td>0</td>\n",
       "      <td>0</td>\n",
       "      <td>1</td>\n",
       "      <td>1</td>\n",
       "    </tr>\n",
       "  </tbody>\n",
       "</table>\n",
       "<p>9374 rows × 45 columns</p>\n",
       "</div>"
      ],
      "text/plain": [
       "       ID_DOENTE  PROCESSO COD_REFERENCIA    COD_PZ  COD_UNID_SAUDE_PROV  \\\n",
       "1499  01-12-1GBF   MIVNNVE       LPHRRVQP                              0   \n",
       "959   0F-12-1GAG   LLCCECB       LRHHVTQR   GAGBESD              3151571   \n",
       "868   0F-12-1GAS   LLCJILJ       LQHOOLQV                              0   \n",
       "1519  0S-12-1GBF   MIVEMLC       LRHPVSVU  ZHEEZFSC              3151571   \n",
       "4844    A,CBE+SA  VMNNVICN       LQHQLSHL                              0   \n",
       "...          ...       ...            ...       ...                  ...   \n",
       "5650       ZZZZB  BIJJVNJN       LRHRUSHO  ZHCBZAHZ              3150572   \n",
       "6526      ZZZZHA  BMJIDEDD       LQHSSUHH   GEASHED              3152471   \n",
       "6528      ZZZZSD  BMJIDCLL       LRHOUTQL                              0   \n",
       "6527      ZZZZSH  BMJIDCLJ       LQHLTUVQ                              0   \n",
       "1432      ZZZZZD   IIVJJJM       LRHHLPPH   GSGFESG              3150672   \n",
       "\n",
       "                         UNID_PROV TIPO_UNID PROVENIENCIA COD_CTH_PRIOR  \\\n",
       "1499                                   OUTRA          SAM                 \n",
       "959           USF FFMAIS-CS SEIXAL    CS/USF          CTH                 \n",
       "868                                    OUTRA          SAM                 \n",
       "1519          USF FFMAIS-CS SEIXAL    CS/USF          CTH             3   \n",
       "4844                                   OUTRA          SAM                 \n",
       "...                            ...       ...          ...           ...   \n",
       "5650         USF MONTE DA CAPARICA    CS/USF          CTH                 \n",
       "6526           USF SERVIR SAUDE-CS    CS/USF          CTH             3   \n",
       "6528                                   OUTRA          SAM                 \n",
       "6527                                   OUTRA          SAM                 \n",
       "1432  USF FEIJO-CS COVA DA PIEDADE    CS/USF          CTH             3   \n",
       "\n",
       "     CTH_PRIOR  ...  text_length step    speciality_type   unit symptom_1  \\\n",
       "1499   unknown  ...           51    1  General Neurology    HGO         1   \n",
       "959    unknown  ...          707    1  General Neurology  USF B         4   \n",
       "868    unknown  ...           66    1  General Neurology    HGO         1   \n",
       "1519    Normal  ...         3024    1  General Neurology  USF B         3   \n",
       "4844   unknown  ...            0    1  General Neurology    HGO         0   \n",
       "...        ...  ...          ...  ...                ...    ...       ...   \n",
       "5650   unknown  ...            0    1  General Neurology     CS         0   \n",
       "6526    Normal  ...            0    1  General Neurology  USF B         0   \n",
       "6528   unknown  ...            0    1  General Neurology    HGO         0   \n",
       "6527   unknown  ...            0    1  General Neurology    HGO         0   \n",
       "1432    Normal  ...          543    1  General Neurology  USF B         5   \n",
       "\n",
       "      symptom_0 exam_identified medication_level_1 medication_level_2  \\\n",
       "1499          0               0                  0                  0   \n",
       "959           2               0                  0                  2   \n",
       "868           0               0                  0                  0   \n",
       "1519          6               0                  1                  9   \n",
       "4844          0               0                  0                  0   \n",
       "...         ...             ...                ...                ...   \n",
       "5650          0               0                  0                  0   \n",
       "6526          0               0                  0                  0   \n",
       "6528          0               0                  0                  0   \n",
       "6527          0               0                  0                  0   \n",
       "1432          1               0                  0                  1   \n",
       "\n",
       "      medication_level_3  \n",
       "1499                   0  \n",
       "959                    0  \n",
       "868                    0  \n",
       "1519                   6  \n",
       "4844                   0  \n",
       "...                  ...  \n",
       "5650                   0  \n",
       "6526                   0  \n",
       "6528                   0  \n",
       "6527                   0  \n",
       "1432                   1  \n",
       "\n",
       "[9374 rows x 45 columns]"
      ]
     },
     "execution_count": 6,
     "metadata": {},
     "output_type": "execute_result"
>>>>>>> origin/marouan
    }
   ],
   "source": [
    "#add symptoms column\n",
    "symptoms_column(alertP1)\n",
    "#add exams columns\n",
<<<<<<< HEAD
    "exams(alertP1)\n",
    "#add comorbidities columns\n",
    "comorbidities(alertP1)\n",
    "#add medication columns\n",
    "medication_column(alertP1)\n",
    "#synonyms(alertP1)\n",
=======
    "#exams(alertP1)\n",
    "#add comorbidities columns\n",
    "#comorbidities(alertP1)\n",
    "#add medication columns\n",
    "medication_column(alertP1)\n",
<<<<<<< HEAD
    "\n",
>>>>>>> gabrabib
=======
    "#synonyms(alertP1)\n",
>>>>>>> origin/marouan
    "#apply lemmatization and removing stop words\n",
    "clean_text(alertP1)\n",
    "alertP1"
   ]
  },
  {
   "attachments": {},
   "cell_type": "markdown",
   "metadata": {},
   "source": [
    "## structured data with dummies"
   ]
  },
  {
   "cell_type": "code",
<<<<<<< HEAD
<<<<<<< HEAD
   "execution_count": null,
=======
   "execution_count": 100,
>>>>>>> gabrabib
=======
   "execution_count": 5,
>>>>>>> origin/marouan
   "metadata": {},
   "outputs": [
    {
     "name": "stdout",
     "output_type": "stream",
     "text": [
      "Index([          'ID_DOENTE',            'PROCESSO',      'COD_REFERENCIA',\n",
      "                    'COD_PZ', 'COD_UNID_SAUDE_PROV',           'UNID_PROV',\n",
      "                 'TIPO_UNID',       'COD_CTH_PRIOR',           'CTH_PRIOR',\n",
      "         'COD_MOTIVO_RECUSA',   'DES_MOTIVO_RECUSA',   'COD_ESPECIALIDADE',\n",
      "         'DES_ESPECIALIDADE',          'agrupadora',      'OUTRA_ENTIDADE',\n",
      "             'DATA_RECEPCAO',          'DATA_ENVIO',        'DATA_RETORNO',\n",
      "                  'NUM_TAXA',              'ESTADO',       'DATA_MARCACAO',\n",
      "           'DATA_REALIZACAO',         'OBSERVACOES',         'Mês_entrada',\n",
      "               'Ano_entrada',   'trata data recusa',        'resume saída',\n",
      "                 'mês_saida',           'ano_saida',               'Texto',\n",
      "                'clean_text',              'result',         'text_length',\n",
      "              'outside area',                 'SAM',                 'SON',\n",
      "                   'unknown',  'Other specialities',                     2,\n",
<<<<<<< HEAD
<<<<<<< HEAD
      "                        '3+',                 'HGO',                'HOSP',\n",
      "                      'UCSP',                 'USF',               'outro',\n",
=======
      "                        '3+',                'HOSP',                'UCSP',\n",
      "                     'USF A',               'USF B',               'outro',\n",
>>>>>>> gabrabib
=======
      "                        '3+',                 'HGO',                'HOSP',\n",
      "                      'UCSP',                 'USF',               'outro',\n",
>>>>>>> origin/marouan
      "       'not accepted before'],\n",
      "      dtype='object')\n"
     ]
    },
    {
     "data": {
      "text/html": [
       "<div>\n",
       "<style scoped>\n",
       "    .dataframe tbody tr th:only-of-type {\n",
       "        vertical-align: middle;\n",
       "    }\n",
       "\n",
       "    .dataframe tbody tr th {\n",
       "        vertical-align: top;\n",
       "    }\n",
       "\n",
       "    .dataframe thead th {\n",
       "        text-align: right;\n",
       "    }\n",
       "</style>\n",
       "<table border=\"1\" class=\"dataframe\">\n",
       "  <thead>\n",
       "    <tr style=\"text-align: right;\">\n",
       "      <th></th>\n",
       "      <th>ID_DOENTE</th>\n",
       "      <th>PROCESSO</th>\n",
       "      <th>COD_REFERENCIA</th>\n",
       "      <th>COD_PZ</th>\n",
       "      <th>COD_UNID_SAUDE_PROV</th>\n",
       "      <th>UNID_PROV</th>\n",
       "      <th>TIPO_UNID</th>\n",
       "      <th>COD_CTH_PRIOR</th>\n",
       "      <th>CTH_PRIOR</th>\n",
       "      <th>COD_MOTIVO_RECUSA</th>\n",
       "      <th>...</th>\n",
       "      <th>unknown</th>\n",
       "      <th>Other specialities</th>\n",
       "      <th>2</th>\n",
       "      <th>3+</th>\n",
<<<<<<< HEAD
<<<<<<< HEAD
       "      <th>HGO</th>\n",
       "      <th>HOSP</th>\n",
       "      <th>UCSP</th>\n",
       "      <th>USF</th>\n",
=======
       "      <th>HOSP</th>\n",
       "      <th>UCSP</th>\n",
       "      <th>USF A</th>\n",
       "      <th>USF B</th>\n",
>>>>>>> gabrabib
=======
       "      <th>HGO</th>\n",
       "      <th>HOSP</th>\n",
       "      <th>UCSP</th>\n",
       "      <th>USF</th>\n",
>>>>>>> origin/marouan
       "      <th>outro</th>\n",
       "      <th>not accepted before</th>\n",
       "    </tr>\n",
       "  </thead>\n",
       "  <tbody>\n",
       "    <tr>\n",
       "      <th>9915</th>\n",
       "      <td>SEAFHB</td>\n",
       "      <td>BBLVVLDC</td>\n",
       "      <td>LOHHHLOV</td>\n",
       "      <td>SFGHADG</td>\n",
       "      <td>3150305</td>\n",
       "      <td>UCSP RAINHA D. LEONOR</td>\n",
       "      <td>CS/USF</td>\n",
       "      <td></td>\n",
       "      <td>unknown</td>\n",
       "      <td>0</td>\n",
       "      <td>...</td>\n",
       "      <td>0</td>\n",
       "      <td>1</td>\n",
       "      <td>0</td>\n",
       "      <td>0</td>\n",
       "      <td>0</td>\n",
<<<<<<< HEAD
<<<<<<< HEAD
       "      <td>0</td>\n",
       "      <td>1</td>\n",
       "      <td>0</td>\n",
       "      <td>0</td>\n",
=======
       "      <td>1</td>\n",
=======
>>>>>>> origin/marouan
       "      <td>0</td>\n",
       "      <td>1</td>\n",
       "      <td>0</td>\n",
       "      <td>0</td>\n",
>>>>>>> gabrabib
       "      <td>1</td>\n",
       "    </tr>\n",
       "    <tr>\n",
       "      <th>6944</th>\n",
       "      <td>ZDGGGA</td>\n",
       "      <td>BMJNMVVJ</td>\n",
       "      <td>LOHHHHRS</td>\n",
       "      <td></td>\n",
       "      <td>0</td>\n",
       "      <td></td>\n",
       "      <td>OUTRA</td>\n",
       "      <td></td>\n",
       "      <td>unknown</td>\n",
       "      <td>0</td>\n",
       "      <td>...</td>\n",
       "      <td>1</td>\n",
       "      <td>0</td>\n",
       "      <td>0</td>\n",
       "      <td>0</td>\n",
<<<<<<< HEAD
<<<<<<< HEAD
       "      <td>1</td>\n",
=======
       "      <td>0</td>\n",
>>>>>>> gabrabib
=======
       "      <td>1</td>\n",
>>>>>>> origin/marouan
       "      <td>0</td>\n",
       "      <td>0</td>\n",
       "      <td>0</td>\n",
       "      <td>0</td>\n",
       "      <td>1</td>\n",
       "    </tr>\n",
       "    <tr>\n",
       "      <th>8937</th>\n",
       "      <td>EESHSS</td>\n",
       "      <td>BCVNLDCN</td>\n",
       "      <td>LOHHHOVP</td>\n",
       "      <td>SSDBCAZ</td>\n",
       "      <td>3150305</td>\n",
       "      <td>UCSP RAINHA D. LEONOR</td>\n",
       "      <td>CS/USF</td>\n",
       "      <td></td>\n",
       "      <td>unknown</td>\n",
       "      <td>0</td>\n",
       "      <td>...</td>\n",
       "      <td>0</td>\n",
       "      <td>1</td>\n",
       "      <td>0</td>\n",
       "      <td>0</td>\n",
       "      <td>0</td>\n",
<<<<<<< HEAD
<<<<<<< HEAD
       "      <td>0</td>\n",
       "      <td>1</td>\n",
       "      <td>0</td>\n",
       "      <td>0</td>\n",
=======
       "      <td>1</td>\n",
=======
>>>>>>> origin/marouan
       "      <td>0</td>\n",
       "      <td>1</td>\n",
       "      <td>0</td>\n",
       "      <td>0</td>\n",
>>>>>>> gabrabib
       "      <td>1</td>\n",
       "    </tr>\n",
       "    <tr>\n",
       "      <th>3454</th>\n",
       "      <td>CSSBHC</td>\n",
       "      <td>VJMCILIL</td>\n",
       "      <td>LOHHHOOO</td>\n",
       "      <td>SFDZSZB</td>\n",
       "      <td>3150502</td>\n",
       "      <td>CHARNECA DA CAPARICA</td>\n",
       "      <td>CS/USF</td>\n",
       "      <td></td>\n",
       "      <td>unknown</td>\n",
       "      <td>15</td>\n",
       "      <td>...</td>\n",
       "      <td>0</td>\n",
       "      <td>0</td>\n",
       "      <td>0</td>\n",
       "      <td>0</td>\n",
       "      <td>0</td>\n",
       "      <td>0</td>\n",
<<<<<<< HEAD
<<<<<<< HEAD
       "      <td>0</td>\n",
=======
       "      <td>1</td>\n",
>>>>>>> gabrabib
=======
       "      <td>0</td>\n",
>>>>>>> origin/marouan
       "      <td>0</td>\n",
       "      <td>0</td>\n",
       "      <td>1</td>\n",
       "    </tr>\n",
       "    <tr>\n",
       "      <th>2078</th>\n",
       "      <td>AESBSC</td>\n",
       "      <td>NINBJJC</td>\n",
       "      <td>LOHHHPTO</td>\n",
       "      <td></td>\n",
       "      <td>0</td>\n",
       "      <td></td>\n",
       "      <td>OUTRA</td>\n",
       "      <td></td>\n",
       "      <td>unknown</td>\n",
       "      <td>0</td>\n",
       "      <td>...</td>\n",
       "      <td>1</td>\n",
       "      <td>0</td>\n",
       "      <td>0</td>\n",
       "      <td>0</td>\n",
<<<<<<< HEAD
<<<<<<< HEAD
       "      <td>1</td>\n",
=======
       "      <td>0</td>\n",
>>>>>>> gabrabib
=======
       "      <td>1</td>\n",
>>>>>>> origin/marouan
       "      <td>0</td>\n",
       "      <td>0</td>\n",
       "      <td>0</td>\n",
       "      <td>0</td>\n",
       "      <td>1</td>\n",
       "    </tr>\n",
       "    <tr>\n",
       "      <th>...</th>\n",
       "      <td>...</td>\n",
       "      <td>...</td>\n",
       "      <td>...</td>\n",
       "      <td>...</td>\n",
       "      <td>...</td>\n",
       "      <td>...</td>\n",
       "      <td>...</td>\n",
       "      <td>...</td>\n",
       "      <td>...</td>\n",
       "      <td>...</td>\n",
       "      <td>...</td>\n",
       "      <td>...</td>\n",
       "      <td>...</td>\n",
       "      <td>...</td>\n",
       "      <td>...</td>\n",
       "      <td>...</td>\n",
       "      <td>...</td>\n",
       "      <td>...</td>\n",
       "      <td>...</td>\n",
       "      <td>...</td>\n",
       "      <td>...</td>\n",
       "    </tr>\n",
       "    <tr>\n",
<<<<<<< HEAD
<<<<<<< HEAD
=======
>>>>>>> origin/marouan
       "      <th>7353</th>\n",
       "      <td>ZSGCCF</td>\n",
       "      <td>BMJCJLIJ</td>\n",
       "      <td>LSHVLHUO</td>\n",
       "      <td>ZEFHCECF</td>\n",
       "      <td>3150672</td>\n",
       "      <td>USF FEIJO-CS COVA DA PIEDADE</td>\n",
<<<<<<< HEAD
=======
       "      <th>5534</th>\n",
       "      <td>AEBBFD</td>\n",
       "      <td>VENBDBMJ</td>\n",
       "      <td>LSHVHVTV</td>\n",
       "      <td>ZEFHECZH</td>\n",
       "      <td>3113271</td>\n",
       "      <td>USF MACTAMA</td>\n",
>>>>>>> gabrabib
=======
>>>>>>> origin/marouan
       "      <td>CS/USF</td>\n",
       "      <td>3</td>\n",
       "      <td>Normal</td>\n",
       "      <td>0</td>\n",
       "      <td>...</td>\n",
       "      <td>0</td>\n",
       "      <td>0</td>\n",
<<<<<<< HEAD
<<<<<<< HEAD
       "      <td>1</td>\n",
=======
       "      <td>0</td>\n",
>>>>>>> gabrabib
=======
       "      <td>1</td>\n",
>>>>>>> origin/marouan
       "      <td>0</td>\n",
       "      <td>0</td>\n",
       "      <td>0</td>\n",
       "      <td>0</td>\n",
       "      <td>1</td>\n",
       "      <td>0</td>\n",
<<<<<<< HEAD
<<<<<<< HEAD
=======
>>>>>>> origin/marouan
       "      <td>0</td>\n",
       "    </tr>\n",
       "    <tr>\n",
       "      <th>9425</th>\n",
       "      <td>EBESGE</td>\n",
       "      <td>BDVDJJIB</td>\n",
       "      <td>LSHVLLVV</td>\n",
       "      <td></td>\n",
       "      <td>0</td>\n",
       "      <td></td>\n",
       "      <td>OUTRA</td>\n",
       "      <td></td>\n",
       "      <td>unknown</td>\n",
       "      <td>0</td>\n",
       "      <td>...</td>\n",
       "      <td>0</td>\n",
       "      <td>1</td>\n",
       "      <td>0</td>\n",
       "      <td>0</td>\n",
       "      <td>1</td>\n",
       "      <td>0</td>\n",
       "      <td>0</td>\n",
       "      <td>0</td>\n",
       "      <td>0</td>\n",
<<<<<<< HEAD
=======
>>>>>>> gabrabib
=======
>>>>>>> origin/marouan
       "      <td>1</td>\n",
       "    </tr>\n",
       "    <tr>\n",
       "      <th>5513</th>\n",
       "      <td>GFHDGC</td>\n",
       "      <td>VENBCMMN</td>\n",
       "      <td>LTHHHOTL</td>\n",
       "      <td>ZEFZEDDG</td>\n",
       "      <td>3150371</td>\n",
       "      <td>USF S JOAO DO PRAGAL-CS ALMADA</td>\n",
       "      <td>CS/USF</td>\n",
       "      <td>3</td>\n",
       "      <td>Normal</td>\n",
       "      <td>0</td>\n",
       "      <td>...</td>\n",
       "      <td>0</td>\n",
       "      <td>0</td>\n",
       "      <td>0</td>\n",
       "      <td>0</td>\n",
       "      <td>0</td>\n",
       "      <td>0</td>\n",
       "      <td>0</td>\n",
       "      <td>1</td>\n",
       "      <td>0</td>\n",
       "      <td>1</td>\n",
       "    </tr>\n",
       "    <tr>\n",
       "      <th>6424</th>\n",
       "      <td>FCDEF</td>\n",
       "      <td>BIJIMMIJ</td>\n",
       "      <td>LSHVLOQU</td>\n",
       "      <td></td>\n",
       "      <td>0</td>\n",
       "      <td></td>\n",
       "      <td>OUTRA</td>\n",
       "      <td>3</td>\n",
       "      <td>Normal</td>\n",
       "      <td>0</td>\n",
       "      <td>...</td>\n",
       "      <td>0</td>\n",
       "      <td>1</td>\n",
       "      <td>1</td>\n",
       "      <td>0</td>\n",
<<<<<<< HEAD
<<<<<<< HEAD
=======
       "      <td>0</td>\n",
       "      <td>0</td>\n",
       "      <td>0</td>\n",
       "      <td>0</td>\n",
       "      <td>0</td>\n",
       "      <td>0</td>\n",
       "    </tr>\n",
       "    <tr>\n",
       "      <th>9425</th>\n",
       "      <td>EBESGE</td>\n",
       "      <td>BDVDJJIB</td>\n",
       "      <td>LSHVLLVV</td>\n",
       "      <td></td>\n",
       "      <td>0</td>\n",
       "      <td></td>\n",
       "      <td>OUTRA</td>\n",
       "      <td></td>\n",
       "      <td>unknown</td>\n",
       "      <td>0</td>\n",
       "      <td>...</td>\n",
       "      <td>0</td>\n",
>>>>>>> gabrabib
=======
>>>>>>> origin/marouan
       "      <td>1</td>\n",
       "      <td>0</td>\n",
       "      <td>0</td>\n",
       "      <td>0</td>\n",
       "      <td>0</td>\n",
       "      <td>0</td>\n",
<<<<<<< HEAD
<<<<<<< HEAD
=======
       "      <td>0</td>\n",
       "      <td>0</td>\n",
       "      <td>1</td>\n",
>>>>>>> gabrabib
=======
>>>>>>> origin/marouan
       "    </tr>\n",
       "    <tr>\n",
       "      <th>4044</th>\n",
       "      <td>CDABCC</td>\n",
       "      <td>VLNVILNB</td>\n",
       "      <td>LSHVLLUO</td>\n",
       "      <td>ZEFZDDBB</td>\n",
       "      <td>3150371</td>\n",
       "      <td>USF S JOAO DO PRAGAL-CS ALMADA</td>\n",
       "      <td>CS/USF</td>\n",
       "      <td>3</td>\n",
       "      <td>Normal</td>\n",
       "      <td>0</td>\n",
       "      <td>...</td>\n",
       "      <td>0</td>\n",
       "      <td>0</td>\n",
       "      <td>0</td>\n",
       "      <td>0</td>\n",
       "      <td>0</td>\n",
       "      <td>0</td>\n",
       "      <td>0</td>\n",
       "      <td>1</td>\n",
       "      <td>0</td>\n",
       "      <td>1</td>\n",
       "    </tr>\n",
       "  </tbody>\n",
       "</table>\n",
       "<p>9374 rows × 46 columns</p>\n",
       "</div>"
      ],
      "text/plain": [
       "     ID_DOENTE  PROCESSO COD_REFERENCIA    COD_PZ  COD_UNID_SAUDE_PROV  \\\n",
       "9915    SEAFHB  BBLVVLDC       LOHHHLOV   SFGHADG              3150305   \n",
       "6944    ZDGGGA  BMJNMVVJ       LOHHHHRS                              0   \n",
       "8937    EESHSS  BCVNLDCN       LOHHHOVP   SSDBCAZ              3150305   \n",
       "3454    CSSBHC  VJMCILIL       LOHHHOOO   SFDZSZB              3150502   \n",
       "2078    AESBSC   NINBJJC       LOHHHPTO                              0   \n",
       "...        ...       ...            ...       ...                  ...   \n",
<<<<<<< HEAD
<<<<<<< HEAD
       "7353    ZSGCCF  BMJCJLIJ       LSHVLHUO  ZEFHCECF              3150672   \n",
       "9425    EBESGE  BDVDJJIB       LSHVLLVV                              0   \n",
       "5513    GFHDGC  VENBCMMN       LTHHHOTL  ZEFZEDDG              3150371   \n",
       "6424     FCDEF  BIJIMMIJ       LSHVLOQU                              0   \n",
=======
       "5534    AEBBFD  VENBDBMJ       LSHVHVTV  ZEFHECZH              3113271   \n",
       "5513    GFHDGC  VENBCMMN       LTHHHOTL  ZEFZEDDG              3150371   \n",
       "6424     FCDEF  BIJIMMIJ       LSHVLOQU                              0   \n",
       "9425    EBESGE  BDVDJJIB       LSHVLLVV                              0   \n",
>>>>>>> gabrabib
=======
       "7353    ZSGCCF  BMJCJLIJ       LSHVLHUO  ZEFHCECF              3150672   \n",
       "9425    EBESGE  BDVDJJIB       LSHVLLVV                              0   \n",
       "5513    GFHDGC  VENBCMMN       LTHHHOTL  ZEFZEDDG              3150371   \n",
       "6424     FCDEF  BIJIMMIJ       LSHVLOQU                              0   \n",
>>>>>>> origin/marouan
       "4044    CDABCC  VLNVILNB       LSHVLLUO  ZEFZDDBB              3150371   \n",
       "\n",
       "                           UNID_PROV TIPO_UNID COD_CTH_PRIOR CTH_PRIOR  \\\n",
       "9915           UCSP RAINHA D. LEONOR    CS/USF                 unknown   \n",
       "6944                                     OUTRA                 unknown   \n",
       "8937           UCSP RAINHA D. LEONOR    CS/USF                 unknown   \n",
       "3454            CHARNECA DA CAPARICA    CS/USF                 unknown   \n",
       "2078                                     OUTRA                 unknown   \n",
       "...                              ...       ...           ...       ...   \n",
<<<<<<< HEAD
<<<<<<< HEAD
       "7353    USF FEIJO-CS COVA DA PIEDADE    CS/USF             3    Normal   \n",
       "9425                                     OUTRA                 unknown   \n",
       "5513  USF S JOAO DO PRAGAL-CS ALMADA    CS/USF             3    Normal   \n",
       "6424                                     OUTRA             3    Normal   \n",
       "4044  USF S JOAO DO PRAGAL-CS ALMADA    CS/USF             3    Normal   \n",
       "\n",
       "      COD_MOTIVO_RECUSA  ... unknown  Other specialities  2 3+  HGO HOSP UCSP  \\\n",
       "9915                  0  ...       0                   1  0  0    0    0    1   \n",
       "6944                  0  ...       1                   0  0  0    1    0    0   \n",
       "8937                  0  ...       0                   1  0  0    0    0    1   \n",
       "3454                 15  ...       0                   0  0  0    0    0    0   \n",
       "2078                  0  ...       1                   0  0  0    1    0    0   \n",
       "...                 ...  ...     ...                 ... .. ..  ...  ...  ...   \n",
       "7353                  0  ...       0                   0  1  0    0    0    0   \n",
       "9425                  0  ...       0                   1  0  0    1    0    0   \n",
       "5513                  0  ...       0                   0  0  0    0    0    0   \n",
       "6424                  0  ...       0                   1  1  0    1    0    0   \n",
       "4044                  0  ...       0                   0  0  0    0    0    0   \n",
       "\n",
       "     USF  outro not accepted before  \n",
       "9915   0      0                   1  \n",
       "6944   0      0                   1  \n",
       "8937   0      0                   1  \n",
       "3454   0      0                   1  \n",
       "2078   0      0                   1  \n",
       "...   ..    ...                 ...  \n",
       "7353   1      0                   0  \n",
       "9425   0      0                   1  \n",
       "5513   1      0                   1  \n",
       "6424   0      0                   0  \n",
       "4044   1      0                   1  \n",
=======
       "5534                     USF MACTAMA    CS/USF             3    Normal   \n",
=======
       "7353    USF FEIJO-CS COVA DA PIEDADE    CS/USF             3    Normal   \n",
       "9425                                     OUTRA                 unknown   \n",
>>>>>>> origin/marouan
       "5513  USF S JOAO DO PRAGAL-CS ALMADA    CS/USF             3    Normal   \n",
       "6424                                     OUTRA             3    Normal   \n",
       "4044  USF S JOAO DO PRAGAL-CS ALMADA    CS/USF             3    Normal   \n",
       "\n",
       "      COD_MOTIVO_RECUSA  ... unknown  Other specialities  2 3+  HGO HOSP UCSP  \\\n",
       "9915                  0  ...       0                   1  0  0    0    0    1   \n",
       "6944                  0  ...       1                   0  0  0    1    0    0   \n",
       "8937                  0  ...       0                   1  0  0    0    0    1   \n",
       "3454                 15  ...       0                   0  0  0    0    0    0   \n",
       "2078                  0  ...       1                   0  0  0    1    0    0   \n",
       "...                 ...  ...     ...                 ... .. ..  ...  ...  ...   \n",
       "7353                  0  ...       0                   0  1  0    0    0    0   \n",
       "9425                  0  ...       0                   1  0  0    1    0    0   \n",
       "5513                  0  ...       0                   0  0  0    0    0    0   \n",
       "6424                  0  ...       0                   1  1  0    1    0    0   \n",
       "4044                  0  ...       0                   0  0  0    0    0    0   \n",
       "\n",
<<<<<<< HEAD
       "     USF A USF B  outro not accepted before  \n",
       "9915     0     0      0                   1  \n",
       "6944     0     0      0                   1  \n",
       "8937     0     0      0                   1  \n",
       "3454     1     0      0                   1  \n",
       "2078     0     0      0                   1  \n",
       "...    ...   ...    ...                 ...  \n",
       "5534     0     1      0                   1  \n",
       "5513     0     1      0                   1  \n",
       "6424     0     0      0                   0  \n",
       "9425     0     0      0                   1  \n",
       "4044     0     1      0                   1  \n",
>>>>>>> gabrabib
=======
       "     USF  outro not accepted before  \n",
       "9915   0      0                   1  \n",
       "6944   0      0                   1  \n",
       "8937   0      0                   1  \n",
       "3454   0      0                   1  \n",
       "2078   0      0                   1  \n",
       "...   ..    ...                 ...  \n",
       "7353   1      0                   0  \n",
       "9425   0      0                   1  \n",
       "5513   1      0                   1  \n",
       "6424   0      0                   0  \n",
       "4044   1      0                   1  \n",
>>>>>>> origin/marouan
       "\n",
       "[9374 rows x 46 columns]"
      ]
     },
<<<<<<< HEAD
<<<<<<< HEAD
     "execution_count": 5,
=======
     "execution_count": 100,
>>>>>>> gabrabib
=======
     "execution_count": 5,
>>>>>>> origin/marouan
     "metadata": {},
     "output_type": "execute_result"
    }
   ],
   "source": [
    "alertP1=alertP1.sort_values('DATA_RECEPCAO')\n",
    "data=structured_data_dummies(alertP1)\n",
    "print(data.columns)\n",
    "data"
   ]
  },
  {
   "cell_type": "code",
<<<<<<< HEAD
<<<<<<< HEAD
   "execution_count": null,
=======
   "execution_count": 101,
>>>>>>> gabrabib
=======
   "execution_count": 6,
>>>>>>> origin/marouan
   "metadata": {},
   "outputs": [
    {
     "data": {
      "text/html": [
       "<div>\n",
       "<style scoped>\n",
       "    .dataframe tbody tr th:only-of-type {\n",
       "        vertical-align: middle;\n",
       "    }\n",
       "\n",
       "    .dataframe tbody tr th {\n",
       "        vertical-align: top;\n",
       "    }\n",
       "\n",
       "    .dataframe thead th {\n",
       "        text-align: right;\n",
       "    }\n",
       "</style>\n",
       "<table border=\"1\" class=\"dataframe\">\n",
       "  <thead>\n",
       "    <tr style=\"text-align: right;\">\n",
       "      <th></th>\n",
       "      <th>ID_DOENTE</th>\n",
       "      <th>PROCESSO</th>\n",
       "      <th>COD_REFERENCIA</th>\n",
       "      <th>COD_PZ</th>\n",
       "      <th>COD_UNID_SAUDE_PROV</th>\n",
       "      <th>UNID_PROV</th>\n",
       "      <th>TIPO_UNID</th>\n",
       "      <th>COD_CTH_PRIOR</th>\n",
       "      <th>CTH_PRIOR</th>\n",
       "      <th>COD_MOTIVO_RECUSA</th>\n",
       "      <th>...</th>\n",
       "      <th>unknown</th>\n",
       "      <th>Other specialities</th>\n",
       "      <th>2</th>\n",
       "      <th>3+</th>\n",
<<<<<<< HEAD
<<<<<<< HEAD
       "      <th>HGO</th>\n",
       "      <th>HOSP</th>\n",
       "      <th>UCSP</th>\n",
       "      <th>USF</th>\n",
=======
       "      <th>HOSP</th>\n",
       "      <th>UCSP</th>\n",
       "      <th>USF A</th>\n",
       "      <th>USF B</th>\n",
>>>>>>> gabrabib
=======
       "      <th>HGO</th>\n",
       "      <th>HOSP</th>\n",
       "      <th>UCSP</th>\n",
       "      <th>USF</th>\n",
>>>>>>> origin/marouan
       "      <th>outro</th>\n",
       "      <th>not accepted before</th>\n",
       "    </tr>\n",
       "  </thead>\n",
       "  <tbody>\n",
       "    <tr>\n",
       "      <th>630</th>\n",
       "      <td>EGBZZB</td>\n",
       "      <td>VLNMEEM</td>\n",
       "      <td>LOHHHSHT</td>\n",
       "      <td>SSDBHEA</td>\n",
       "      <td>3150502</td>\n",
       "      <td>CHARNECA DA CAPARICA</td>\n",
       "      <td>CS/USF</td>\n",
       "      <td></td>\n",
       "      <td>unknown</td>\n",
       "      <td>0</td>\n",
       "      <td>...</td>\n",
       "      <td>0</td>\n",
       "      <td>0</td>\n",
       "      <td>0</td>\n",
       "      <td>0</td>\n",
       "      <td>0</td>\n",
       "      <td>0</td>\n",
<<<<<<< HEAD
<<<<<<< HEAD
       "      <td>0</td>\n",
=======
       "      <td>1</td>\n",
>>>>>>> gabrabib
=======
       "      <td>0</td>\n",
>>>>>>> origin/marouan
       "      <td>0</td>\n",
       "      <td>0</td>\n",
       "      <td>1</td>\n",
       "    </tr>\n",
       "    <tr>\n",
<<<<<<< HEAD
<<<<<<< HEAD
=======
>>>>>>> origin/marouan
       "      <th>1537</th>\n",
       "      <td>FGSEDD</td>\n",
       "      <td>MIVCNDB</td>\n",
       "      <td>LOHHLSTU</td>\n",
       "      <td></td>\n",
       "      <td>0</td>\n",
       "      <td></td>\n",
       "      <td>OUTRA</td>\n",
       "      <td></td>\n",
       "      <td>unknown</td>\n",
       "      <td>7</td>\n",
       "      <td>...</td>\n",
       "      <td>1</td>\n",
       "      <td>0</td>\n",
       "      <td>0</td>\n",
       "      <td>0</td>\n",
       "      <td>1</td>\n",
       "      <td>0</td>\n",
       "      <td>0</td>\n",
       "      <td>0</td>\n",
       "      <td>0</td>\n",
       "      <td>1</td>\n",
       "    </tr>\n",
       "    <tr>\n",
       "      <th>1103</th>\n",
       "      <td>ESSSBD</td>\n",
       "      <td>LLDDNEN</td>\n",
       "      <td>LOHHLTSH</td>\n",
       "      <td>SCCBZCA</td>\n",
<<<<<<< HEAD
=======
       "      <th>985</th>\n",
       "      <td>BSEZF</td>\n",
       "      <td>LLCBVJI</td>\n",
       "      <td>LOHHLTRS</td>\n",
       "      <td>SCCABHA</td>\n",
>>>>>>> gabrabib
=======
>>>>>>> origin/marouan
       "      <td>3150571</td>\n",
       "      <td>USF SOBREDA-CS COSTA CAPARICA</td>\n",
       "      <td>CS/USF</td>\n",
       "      <td></td>\n",
       "      <td>unknown</td>\n",
<<<<<<< HEAD
<<<<<<< HEAD
       "      <td>0</td>\n",
=======
       "      <td>53</td>\n",
>>>>>>> gabrabib
=======
       "      <td>0</td>\n",
>>>>>>> origin/marouan
       "      <td>...</td>\n",
       "      <td>0</td>\n",
       "      <td>1</td>\n",
       "      <td>0</td>\n",
       "      <td>0</td>\n",
       "      <td>0</td>\n",
       "      <td>0</td>\n",
       "      <td>0</td>\n",
       "      <td>1</td>\n",
       "      <td>0</td>\n",
       "      <td>1</td>\n",
       "    </tr>\n",
       "    <tr>\n",
       "      <th>752</th>\n",
       "      <td>DECZCS</td>\n",
       "      <td>VLEVCVE</td>\n",
       "      <td>LOHHLTOU</td>\n",
       "      <td>SCCDEGG</td>\n",
       "      <td>3151672</td>\n",
       "      <td>USF AMORA SAUDAVEL</td>\n",
       "      <td>CS/USF</td>\n",
       "      <td></td>\n",
       "      <td>unknown</td>\n",
       "      <td>0</td>\n",
       "      <td>...</td>\n",
       "      <td>0</td>\n",
       "      <td>0</td>\n",
       "      <td>0</td>\n",
       "      <td>0</td>\n",
       "      <td>0</td>\n",
       "      <td>0</td>\n",
       "      <td>0</td>\n",
       "      <td>1</td>\n",
       "      <td>0</td>\n",
       "      <td>1</td>\n",
       "    </tr>\n",
       "    <tr>\n",
<<<<<<< HEAD
<<<<<<< HEAD
=======
>>>>>>> origin/marouan
       "      <th>938</th>\n",
       "      <td>FEZCGS</td>\n",
       "      <td>LLCNMCN</td>\n",
       "      <td>LOHHLTOL</td>\n",
       "      <td>SCASHFF</td>\n",
       "      <td>3151571</td>\n",
       "      <td>USF FFMAIS-CS SEIXAL</td>\n",
<<<<<<< HEAD
=======
       "      <th>1103</th>\n",
       "      <td>ESSSBD</td>\n",
       "      <td>LLDDNEN</td>\n",
       "      <td>LOHHLTSH</td>\n",
       "      <td>SCCBZCA</td>\n",
       "      <td>3150571</td>\n",
       "      <td>USF SOBREDA-CS COSTA CAPARICA</td>\n",
>>>>>>> gabrabib
=======
>>>>>>> origin/marouan
       "      <td>CS/USF</td>\n",
       "      <td></td>\n",
       "      <td>unknown</td>\n",
       "      <td>0</td>\n",
       "      <td>...</td>\n",
       "      <td>0</td>\n",
<<<<<<< HEAD
<<<<<<< HEAD
       "      <td>0</td>\n",
=======
       "      <td>1</td>\n",
>>>>>>> gabrabib
=======
       "      <td>0</td>\n",
>>>>>>> origin/marouan
       "      <td>0</td>\n",
       "      <td>0</td>\n",
       "      <td>0</td>\n",
       "      <td>0</td>\n",
       "      <td>0</td>\n",
       "      <td>1</td>\n",
       "      <td>0</td>\n",
       "      <td>1</td>\n",
       "    </tr>\n",
       "    <tr>\n",
<<<<<<< HEAD
<<<<<<< HEAD
=======
       "      <th>1537</th>\n",
       "      <td>FGSEDD</td>\n",
       "      <td>MIVCNDB</td>\n",
       "      <td>LOHHLSTU</td>\n",
       "      <td></td>\n",
       "      <td>0</td>\n",
       "      <td></td>\n",
       "      <td>OUTRA</td>\n",
       "      <td></td>\n",
       "      <td>unknown</td>\n",
       "      <td>7</td>\n",
       "      <td>...</td>\n",
       "      <td>1</td>\n",
       "      <td>0</td>\n",
       "      <td>0</td>\n",
       "      <td>0</td>\n",
       "      <td>0</td>\n",
       "      <td>0</td>\n",
       "      <td>0</td>\n",
       "      <td>0</td>\n",
       "      <td>0</td>\n",
       "      <td>1</td>\n",
       "    </tr>\n",
       "    <tr>\n",
>>>>>>> gabrabib
=======
>>>>>>> origin/marouan
       "      <th>...</th>\n",
       "      <td>...</td>\n",
       "      <td>...</td>\n",
       "      <td>...</td>\n",
       "      <td>...</td>\n",
       "      <td>...</td>\n",
       "      <td>...</td>\n",
       "      <td>...</td>\n",
       "      <td>...</td>\n",
       "      <td>...</td>\n",
       "      <td>...</td>\n",
       "      <td>...</td>\n",
       "      <td>...</td>\n",
       "      <td>...</td>\n",
       "      <td>...</td>\n",
       "      <td>...</td>\n",
       "      <td>...</td>\n",
       "      <td>...</td>\n",
       "      <td>...</td>\n",
       "      <td>...</td>\n",
       "      <td>...</td>\n",
       "      <td>...</td>\n",
       "    </tr>\n",
       "    <tr>\n",
       "      <th>1606</th>\n",
       "      <td>FFDSBH</td>\n",
       "      <td>MILLLCJ</td>\n",
       "      <td>LSHUVULH</td>\n",
       "      <td>ZESCCSSF</td>\n",
       "      <td>3152401</td>\n",
       "      <td>UCSP CORROIOS</td>\n",
       "      <td>CS/USF</td>\n",
       "      <td>2</td>\n",
       "      <td>Prioritário</td>\n",
       "      <td>0</td>\n",
       "      <td>...</td>\n",
       "      <td>0</td>\n",
       "      <td>0</td>\n",
       "      <td>0</td>\n",
       "      <td>0</td>\n",
       "      <td>0</td>\n",
<<<<<<< HEAD
<<<<<<< HEAD
=======
       "      <td>1</td>\n",
       "      <td>0</td>\n",
       "      <td>0</td>\n",
       "      <td>0</td>\n",
       "      <td>1</td>\n",
       "    </tr>\n",
       "    <tr>\n",
       "      <th>1177</th>\n",
       "      <td>ZHZFA</td>\n",
       "      <td>ILBIBCL</td>\n",
       "      <td>LSHVHLHP</td>\n",
       "      <td>ZESBFBCB</td>\n",
       "      <td>3152400</td>\n",
       "      <td>CORROIOS (SEDE)</td>\n",
       "      <td>CS/USF</td>\n",
       "      <td>3</td>\n",
       "      <td>Normal</td>\n",
       "      <td>0</td>\n",
       "      <td>...</td>\n",
       "      <td>0</td>\n",
       "      <td>0</td>\n",
=======
>>>>>>> origin/marouan
       "      <td>0</td>\n",
       "      <td>1</td>\n",
>>>>>>> gabrabib
       "      <td>0</td>\n",
       "      <td>0</td>\n",
       "      <td>1</td>\n",
<<<<<<< HEAD
       "      <td>0</td>\n",
       "      <td>0</td>\n",
<<<<<<< HEAD
       "      <td>1</td>\n",
=======
       "      <td>0</td>\n",
       "      <td>0</td>\n",
>>>>>>> gabrabib
=======
>>>>>>> origin/marouan
       "    </tr>\n",
       "    <tr>\n",
       "      <th>1335</th>\n",
       "      <td>EBBCSA</td>\n",
       "      <td>I,IJME+LI</td>\n",
       "      <td>LSHVHLLH</td>\n",
       "      <td>ZESBAHAD</td>\n",
       "      <td>3150571</td>\n",
       "      <td>USF SOBREDA-CS COSTA CAPARICA</td>\n",
       "      <td>CS/USF</td>\n",
       "      <td>3</td>\n",
       "      <td>Normal</td>\n",
       "      <td>0</td>\n",
       "      <td>...</td>\n",
       "      <td>0</td>\n",
       "      <td>0</td>\n",
       "      <td>0</td>\n",
       "      <td>0</td>\n",
       "      <td>0</td>\n",
       "      <td>0</td>\n",
       "      <td>0</td>\n",
       "      <td>1</td>\n",
       "      <td>0</td>\n",
       "      <td>1</td>\n",
       "    </tr>\n",
       "    <tr>\n",
<<<<<<< HEAD
<<<<<<< HEAD
=======
>>>>>>> origin/marouan
       "      <th>1177</th>\n",
       "      <td>ZHZFA</td>\n",
       "      <td>ILBIBCL</td>\n",
       "      <td>LSHVHLHP</td>\n",
       "      <td>ZESBFBCB</td>\n",
       "      <td>3152400</td>\n",
       "      <td>CORROIOS (SEDE)</td>\n",
       "      <td>CS/USF</td>\n",
       "      <td>3</td>\n",
       "      <td>Normal</td>\n",
       "      <td>0</td>\n",
       "      <td>...</td>\n",
       "      <td>0</td>\n",
       "      <td>0</td>\n",
       "      <td>0</td>\n",
       "      <td>1</td>\n",
       "      <td>0</td>\n",
       "      <td>0</td>\n",
       "      <td>1</td>\n",
       "      <td>0</td>\n",
       "      <td>0</td>\n",
       "      <td>0</td>\n",
       "    </tr>\n",
       "    <tr>\n",
<<<<<<< HEAD
=======
>>>>>>> gabrabib
=======
>>>>>>> origin/marouan
       "      <th>1332</th>\n",
       "      <td>FDSADA</td>\n",
       "      <td>IIJMMNJ</td>\n",
       "      <td>LSHVHSUR</td>\n",
       "      <td>ZESGGDFH</td>\n",
       "      <td>3150572</td>\n",
       "      <td>USF MONTE DA CAPARICA</td>\n",
       "      <td>CS/USF</td>\n",
       "      <td></td>\n",
       "      <td>unknown</td>\n",
       "      <td>7</td>\n",
       "      <td>...</td>\n",
       "      <td>0</td>\n",
       "      <td>0</td>\n",
       "      <td>0</td>\n",
       "      <td>0</td>\n",
       "      <td>0</td>\n",
       "      <td>0</td>\n",
       "      <td>0</td>\n",
<<<<<<< HEAD
<<<<<<< HEAD
       "      <td>0</td>\n",
=======
       "      <td>1</td>\n",
>>>>>>> gabrabib
=======
       "      <td>0</td>\n",
>>>>>>> origin/marouan
       "      <td>0</td>\n",
       "      <td>1</td>\n",
       "    </tr>\n",
       "    <tr>\n",
       "      <th>1227</th>\n",
       "      <td>FAFFZB</td>\n",
       "      <td>ILBEBDI</td>\n",
       "      <td>LSHVHUHL</td>\n",
       "      <td></td>\n",
       "      <td>0</td>\n",
       "      <td></td>\n",
       "      <td>OUTRA</td>\n",
       "      <td></td>\n",
       "      <td>unknown</td>\n",
       "      <td>0</td>\n",
       "      <td>...</td>\n",
       "      <td>0</td>\n",
       "      <td>0</td>\n",
       "      <td>0</td>\n",
       "      <td>0</td>\n",
<<<<<<< HEAD
<<<<<<< HEAD
       "      <td>1</td>\n",
=======
       "      <td>0</td>\n",
>>>>>>> gabrabib
=======
       "      <td>1</td>\n",
>>>>>>> origin/marouan
       "      <td>0</td>\n",
       "      <td>0</td>\n",
       "      <td>0</td>\n",
       "      <td>0</td>\n",
       "      <td>1</td>\n",
       "    </tr>\n",
       "  </tbody>\n",
       "</table>\n",
       "<p>1609 rows × 46 columns</p>\n",
       "</div>"
      ],
      "text/plain": [
       "     ID_DOENTE   PROCESSO COD_REFERENCIA    COD_PZ  COD_UNID_SAUDE_PROV  \\\n",
       "630     EGBZZB    VLNMEEM       LOHHHSHT   SSDBHEA              3150502   \n",
<<<<<<< HEAD
<<<<<<< HEAD
       "1537    FGSEDD    MIVCNDB       LOHHLSTU                              0   \n",
       "1103    ESSSBD    LLDDNEN       LOHHLTSH   SCCBZCA              3150571   \n",
       "752     DECZCS    VLEVCVE       LOHHLTOU   SCCDEGG              3151672   \n",
       "938     FEZCGS    LLCNMCN       LOHHLTOL   SCASHFF              3151571   \n",
       "...        ...        ...            ...       ...                  ...   \n",
       "1606    FFDSBH    MILLLCJ       LSHUVULH  ZESCCSSF              3152401   \n",
       "1335    EBBCSA  I,IJME+LI       LSHVHLLH  ZESBAHAD              3150571   \n",
       "1177     ZHZFA    ILBIBCL       LSHVHLHP  ZESBFBCB              3152400   \n",
=======
       "985      BSEZF    LLCBVJI       LOHHLTRS   SCCABHA              3150571   \n",
       "752     DECZCS    VLEVCVE       LOHHLTOU   SCCDEGG              3151672   \n",
       "1103    ESSSBD    LLDDNEN       LOHHLTSH   SCCBZCA              3150571   \n",
=======
>>>>>>> origin/marouan
       "1537    FGSEDD    MIVCNDB       LOHHLSTU                              0   \n",
       "1103    ESSSBD    LLDDNEN       LOHHLTSH   SCCBZCA              3150571   \n",
       "752     DECZCS    VLEVCVE       LOHHLTOU   SCCDEGG              3151672   \n",
       "938     FEZCGS    LLCNMCN       LOHHLTOL   SCASHFF              3151571   \n",
       "...        ...        ...            ...       ...                  ...   \n",
       "1606    FFDSBH    MILLLCJ       LSHUVULH  ZESCCSSF              3152401   \n",
       "1335    EBBCSA  I,IJME+LI       LSHVHLLH  ZESBAHAD              3150571   \n",
<<<<<<< HEAD
>>>>>>> gabrabib
=======
       "1177     ZHZFA    ILBIBCL       LSHVHLHP  ZESBFBCB              3152400   \n",
>>>>>>> origin/marouan
       "1332    FDSADA    IIJMMNJ       LSHVHSUR  ZESGGDFH              3150572   \n",
       "1227    FAFFZB    ILBEBDI       LSHVHUHL                              0   \n",
       "\n",
       "                          UNID_PROV TIPO_UNID COD_CTH_PRIOR    CTH_PRIOR  \\\n",
       "630            CHARNECA DA CAPARICA    CS/USF                    unknown   \n",
<<<<<<< HEAD
<<<<<<< HEAD
       "1537                                    OUTRA                    unknown   \n",
       "1103  USF SOBREDA-CS COSTA CAPARICA    CS/USF                    unknown   \n",
       "752              USF AMORA SAUDAVEL    CS/USF                    unknown   \n",
       "938            USF FFMAIS-CS SEIXAL    CS/USF                    unknown   \n",
       "...                             ...       ...           ...          ...   \n",
       "1606                  UCSP CORROIOS    CS/USF             2  Prioritário   \n",
       "1335  USF SOBREDA-CS COSTA CAPARICA    CS/USF             3       Normal   \n",
       "1177                CORROIOS (SEDE)    CS/USF             3       Normal   \n",
       "1332          USF MONTE DA CAPARICA    CS/USF                    unknown   \n",
       "1227                                    OUTRA                    unknown   \n",
       "\n",
       "      COD_MOTIVO_RECUSA  ... unknown  Other specialities  2 3+  HGO HOSP UCSP  \\\n",
       "630                   0  ...       0                   0  0  0    0    0    0   \n",
       "1537                  7  ...       1                   0  0  0    1    0    0   \n",
       "1103                  0  ...       0                   1  0  0    0    0    0   \n",
       "752                   0  ...       0                   0  0  0    0    0    0   \n",
       "938                   0  ...       0                   0  0  0    0    0    0   \n",
       "...                 ...  ...     ...                 ... .. ..  ...  ...  ...   \n",
       "1606                  0  ...       0                   0  0  0    0    0    1   \n",
       "1335                  0  ...       0                   0  0  0    0    0    0   \n",
       "1177                  0  ...       0                   0  0  1    0    0    1   \n",
       "1332                  7  ...       0                   0  0  0    0    0    0   \n",
       "1227                  0  ...       0                   0  0  0    1    0    0   \n",
       "\n",
       "     USF  outro not accepted before  \n",
       "630    0      0                   1  \n",
       "1537   0      0                   1  \n",
       "1103   1      0                   1  \n",
       "752    1      0                   1  \n",
       "938    1      0                   1  \n",
       "...   ..    ...                 ...  \n",
       "1606   0      0                   1  \n",
       "1335   1      0                   1  \n",
       "1177   0      0                   0  \n",
       "1332   0      0                   1  \n",
       "1227   0      0                   1  \n",
=======
       "985   USF SOBREDA-CS COSTA CAPARICA    CS/USF                    unknown   \n",
       "752              USF AMORA SAUDAVEL    CS/USF                    unknown   \n",
       "1103  USF SOBREDA-CS COSTA CAPARICA    CS/USF                    unknown   \n",
=======
>>>>>>> origin/marouan
       "1537                                    OUTRA                    unknown   \n",
       "1103  USF SOBREDA-CS COSTA CAPARICA    CS/USF                    unknown   \n",
       "752              USF AMORA SAUDAVEL    CS/USF                    unknown   \n",
       "938            USF FFMAIS-CS SEIXAL    CS/USF                    unknown   \n",
       "...                             ...       ...           ...          ...   \n",
       "1606                  UCSP CORROIOS    CS/USF             2  Prioritário   \n",
       "1335  USF SOBREDA-CS COSTA CAPARICA    CS/USF             3       Normal   \n",
       "1177                CORROIOS (SEDE)    CS/USF             3       Normal   \n",
       "1332          USF MONTE DA CAPARICA    CS/USF                    unknown   \n",
       "1227                                    OUTRA                    unknown   \n",
       "\n",
       "      COD_MOTIVO_RECUSA  ... unknown  Other specialities  2 3+  HGO HOSP UCSP  \\\n",
       "630                   0  ...       0                   0  0  0    0    0    0   \n",
       "1537                  7  ...       1                   0  0  0    1    0    0   \n",
       "1103                  0  ...       0                   1  0  0    0    0    0   \n",
       "752                   0  ...       0                   0  0  0    0    0    0   \n",
       "938                   0  ...       0                   0  0  0    0    0    0   \n",
       "...                 ...  ...     ...                 ... .. ..  ...  ...  ...   \n",
       "1606                  0  ...       0                   0  0  0    0    0    1   \n",
       "1335                  0  ...       0                   0  0  0    0    0    0   \n",
       "1177                  0  ...       0                   0  0  1    0    0    1   \n",
       "1332                  7  ...       0                   0  0  0    0    0    0   \n",
       "1227                  0  ...       0                   0  0  0    1    0    0   \n",
       "\n",
<<<<<<< HEAD
       "     USF A USF B  outro not accepted before  \n",
       "630      1     0      0                   1  \n",
       "985      0     1      0                   1  \n",
       "752      0     1      0                   1  \n",
       "1103     0     1      0                   1  \n",
       "1537     0     0      0                   1  \n",
       "...    ...   ...    ...                 ...  \n",
       "1606     0     0      0                   1  \n",
       "1177     0     0      0                   0  \n",
       "1335     0     1      0                   1  \n",
       "1332     0     1      0                   1  \n",
       "1227     0     0      0                   1  \n",
>>>>>>> gabrabib
=======
       "     USF  outro not accepted before  \n",
       "630    0      0                   1  \n",
       "1537   0      0                   1  \n",
       "1103   1      0                   1  \n",
       "752    1      0                   1  \n",
       "938    1      0                   1  \n",
       "...   ..    ...                 ...  \n",
       "1606   0      0                   1  \n",
       "1335   1      0                   1  \n",
       "1177   0      0                   0  \n",
       "1332   0      0                   1  \n",
       "1227   0      0                   1  \n",
>>>>>>> origin/marouan
       "\n",
       "[1609 rows x 46 columns]"
      ]
     },
<<<<<<< HEAD
<<<<<<< HEAD
     "execution_count": 6,
=======
     "execution_count": 101,
>>>>>>> gabrabib
=======
     "execution_count": 6,
>>>>>>> origin/marouan
     "metadata": {},
     "output_type": "execute_result"
    }
   ],
   "source": [
    "data=data[data['text_length']>0]\n",
    "#data['medication_count']=data['medication_level_1']+data['medication_level_2']+data['medication_level_3']\n",
    "#data['medication_concentration']=data['medication_count']/data['text_length']\n",
    "data"
   ]
  },
  {
   "cell_type": "markdown",
   "metadata": {},
   "source": [
    "## Logistic regression text variables"
   ]
  },
  {
   "cell_type": "code",
<<<<<<< HEAD
<<<<<<< HEAD
   "execution_count": null,
=======
   "execution_count": 97,
>>>>>>> gabrabib
=======
   "execution_count": 7,
>>>>>>> origin/marouan
   "metadata": {},
   "outputs": [
    {
     "name": "stderr",
     "output_type": "stream",
     "text": [
      "c:\\Users\\MarouanKamoun\\anaconda3\\lib\\site-packages\\sklearn\\linear_model\\_logistic.py:763: ConvergenceWarning: lbfgs failed to converge (status=1):\n",
      "STOP: TOTAL NO. of ITERATIONS REACHED LIMIT.\n",
      "\n",
      "Increase the number of iterations (max_iter) or scale the data as shown in:\n",
      "    https://scikit-learn.org/stable/modules/preprocessing.html\n",
      "Please also refer to the documentation for alternative solver options:\n",
      "    https://scikit-learn.org/stable/modules/linear_model.html#logistic-regression\n",
      "  n_iter_i = _check_optimize_result(\n"
     ]
    },
    {
     "data": {
      "text/html": [
       "<div>\n",
       "<style scoped>\n",
       "    .dataframe tbody tr th:only-of-type {\n",
       "        vertical-align: middle;\n",
       "    }\n",
       "\n",
       "    .dataframe tbody tr th {\n",
       "        vertical-align: top;\n",
       "    }\n",
       "\n",
       "    .dataframe thead th {\n",
       "        text-align: right;\n",
       "    }\n",
       "</style>\n",
       "<table border=\"1\" class=\"dataframe\">\n",
       "  <thead>\n",
       "    <tr style=\"text-align: right;\">\n",
       "      <th></th>\n",
       "      <th>Feature</th>\n",
       "      <th>coefficients</th>\n",
       "    </tr>\n",
       "  </thead>\n",
       "  <tbody>\n",
       "    <tr>\n",
       "      <th>0</th>\n",
       "      <td>text_length</td>\n",
<<<<<<< HEAD
<<<<<<< HEAD
       "      <td>0.001538</td>\n",
=======
       "      <td>0.001517</td>\n",
>>>>>>> gabrabib
=======
       "      <td>0.001538</td>\n",
>>>>>>> origin/marouan
       "    </tr>\n",
       "    <tr>\n",
       "      <th>1</th>\n",
       "      <td>outside area</td>\n",
<<<<<<< HEAD
<<<<<<< HEAD
       "      <td>0.396770</td>\n",
=======
       "      <td>0.180726</td>\n",
>>>>>>> gabrabib
=======
       "      <td>0.396770</td>\n",
>>>>>>> origin/marouan
       "    </tr>\n",
       "    <tr>\n",
       "      <th>2</th>\n",
       "      <td>SAM</td>\n",
<<<<<<< HEAD
<<<<<<< HEAD
       "      <td>-0.074802</td>\n",
=======
       "      <td>-0.148305</td>\n",
>>>>>>> gabrabib
=======
       "      <td>-0.074802</td>\n",
>>>>>>> origin/marouan
       "    </tr>\n",
       "    <tr>\n",
       "      <th>3</th>\n",
       "      <td>SON</td>\n",
<<<<<<< HEAD
<<<<<<< HEAD
       "      <td>-0.140445</td>\n",
=======
       "      <td>-0.124294</td>\n",
>>>>>>> gabrabib
=======
       "      <td>-0.140445</td>\n",
>>>>>>> origin/marouan
       "    </tr>\n",
       "    <tr>\n",
       "      <th>4</th>\n",
       "      <td>unknown</td>\n",
<<<<<<< HEAD
<<<<<<< HEAD
       "      <td>-0.890324</td>\n",
=======
       "      <td>-1.048564</td>\n",
>>>>>>> gabrabib
=======
       "      <td>-0.890324</td>\n",
>>>>>>> origin/marouan
       "    </tr>\n",
       "    <tr>\n",
       "      <th>5</th>\n",
       "      <td>Other specialities</td>\n",
<<<<<<< HEAD
<<<<<<< HEAD
       "      <td>3.042161</td>\n",
=======
       "      <td>3.300145</td>\n",
>>>>>>> gabrabib
=======
       "      <td>3.042161</td>\n",
>>>>>>> origin/marouan
       "    </tr>\n",
       "    <tr>\n",
       "      <th>6</th>\n",
       "      <td>2</td>\n",
<<<<<<< HEAD
<<<<<<< HEAD
       "      <td>-0.007097</td>\n",
=======
       "      <td>-0.021963</td>\n",
>>>>>>> gabrabib
=======
       "      <td>-0.007097</td>\n",
>>>>>>> origin/marouan
       "    </tr>\n",
       "    <tr>\n",
       "      <th>7</th>\n",
       "      <td>3+</td>\n",
<<<<<<< HEAD
<<<<<<< HEAD
       "      <td>-0.106309</td>\n",
       "    </tr>\n",
       "    <tr>\n",
       "      <th>8</th>\n",
       "      <td>HGO</td>\n",
       "      <td>-0.552698</td>\n",
       "    </tr>\n",
       "    <tr>\n",
       "      <th>9</th>\n",
       "      <td>HOSP</td>\n",
       "      <td>-0.537341</td>\n",
       "    </tr>\n",
       "    <tr>\n",
       "      <th>10</th>\n",
       "      <td>UCSP</td>\n",
       "      <td>-0.091562</td>\n",
       "    </tr>\n",
       "    <tr>\n",
       "      <th>11</th>\n",
       "      <td>USF</td>\n",
       "      <td>0.559514</td>\n",
=======
       "      <td>-0.048756</td>\n",
=======
       "      <td>-0.106309</td>\n",
>>>>>>> origin/marouan
       "    </tr>\n",
       "    <tr>\n",
       "      <th>8</th>\n",
       "      <td>HGO</td>\n",
       "      <td>-0.552698</td>\n",
       "    </tr>\n",
       "    <tr>\n",
       "      <th>9</th>\n",
       "      <td>HOSP</td>\n",
       "      <td>-0.537341</td>\n",
       "    </tr>\n",
       "    <tr>\n",
       "      <th>10</th>\n",
       "      <td>UCSP</td>\n",
       "      <td>-0.091562</td>\n",
       "    </tr>\n",
       "    <tr>\n",
       "      <th>11</th>\n",
<<<<<<< HEAD
       "      <td>USF B</td>\n",
       "      <td>0.753448</td>\n",
>>>>>>> gabrabib
=======
       "      <td>USF</td>\n",
       "      <td>0.559514</td>\n",
>>>>>>> origin/marouan
       "    </tr>\n",
       "    <tr>\n",
       "      <th>12</th>\n",
       "      <td>outro</td>\n",
<<<<<<< HEAD
<<<<<<< HEAD
       "      <td>0.637976</td>\n",
=======
       "      <td>0.611501</td>\n",
>>>>>>> gabrabib
=======
       "      <td>0.637976</td>\n",
>>>>>>> origin/marouan
       "    </tr>\n",
       "    <tr>\n",
       "      <th>13</th>\n",
       "      <td>not accepted before</td>\n",
<<<<<<< HEAD
<<<<<<< HEAD
       "      <td>-0.581612</td>\n",
=======
       "      <td>-0.584272</td>\n",
>>>>>>> gabrabib
=======
       "      <td>-0.581612</td>\n",
>>>>>>> origin/marouan
       "    </tr>\n",
       "  </tbody>\n",
       "</table>\n",
       "</div>"
      ],
      "text/plain": [
       "                Feature  coefficients\n",
<<<<<<< HEAD
<<<<<<< HEAD
=======
>>>>>>> origin/marouan
       "0           text_length      0.001538\n",
       "1          outside area      0.396770\n",
       "2                   SAM     -0.074802\n",
       "3                   SON     -0.140445\n",
       "4               unknown     -0.890324\n",
       "5    Other specialities      3.042161\n",
       "6                     2     -0.007097\n",
       "7                    3+     -0.106309\n",
       "8                   HGO     -0.552698\n",
       "9                  HOSP     -0.537341\n",
       "10                 UCSP     -0.091562\n",
       "11                  USF      0.559514\n",
       "12                outro      0.637976\n",
       "13  not accepted before     -0.581612"
<<<<<<< HEAD
      ]
     },
     "execution_count": 7,
=======
       "0           text_length      0.001517\n",
       "1          outside area      0.180726\n",
       "2                   SAM     -0.148305\n",
       "3                   SON     -0.124294\n",
       "4               unknown     -1.048564\n",
       "5    Other specialities      3.300145\n",
       "6                     2     -0.021963\n",
       "7                    3+     -0.048756\n",
       "8                  HOSP     -0.310332\n",
       "9                  UCSP      0.105854\n",
       "10                USF A      0.190320\n",
       "11                USF B      0.753448\n",
       "12                outro      0.611501\n",
       "13  not accepted before     -0.584272"
      ]
     },
     "execution_count": 97,
>>>>>>> gabrabib
=======
      ]
     },
     "execution_count": 7,
>>>>>>> origin/marouan
     "metadata": {},
     "output_type": "execute_result"
    }
   ],
   "source": [
    "#split dataset in features and target variable// Question: is it the right option?\n",
    "eliminate_cols=['ID_DOENTE','PROCESSO','COD_REFERENCIA','result','COD_PZ','COD_UNID_SAUDE_PROV','UNID_PROV','TIPO_UNID','COD_CTH_PRIOR','CTH_PRIOR','COD_MOTIVO_RECUSA','DES_MOTIVO_RECUSA','COD_ESPECIALIDADE','DES_ESPECIALIDADE','agrupadora','OUTRA_ENTIDADE','DATA_RECEPCAO','DATA_ENVIO','DATA_RETORNO','NUM_TAXA','ESTADO','DATA_MARCACAO','DATA_REALIZACAO','OBSERVACOES','Mês_entrada','Ano_entrada','trata data recusa','resume saída','mês_saida','ano_saida','Texto','clean_text']\n",
    "X = data.drop(eliminate_cols,axis=1)# Features\n",
    "y = data.result # Target variable\n",
    "features=X.columns\n",
    "#log_regression is defined in functions\n",
    "y_pred,coefficients,intercept,X_train, X_test, y_train, y_test=log_regression(X,y)\n",
    "df = pd.DataFrame(features, columns =['Feature'])\n",
    "df['coefficients']=coefficients.T\n",
    "df\n"
   ]
  },
  {
   "cell_type": "code",
<<<<<<< HEAD
   "execution_count": null,
=======
   "execution_count": 8,
>>>>>>> gabrabib
   "metadata": {},
   "outputs": [
    {
     "data": {
      "text/plain": [
       "result\n",
       "1         211\n",
       "0         111\n",
       "dtype: int64"
      ]
     },
     "execution_count": 8,
     "metadata": {},
     "output_type": "execute_result"
    }
   ],
   "source": [
    "y_df = pd.DataFrame(y_test)\n",
    "distribution = y_df.value_counts()\n",
    "distribution"
   ]
  },
  {
   "attachments": {},
   "cell_type": "markdown",
   "metadata": {},
   "source": [
    "metrics"
   ]
  },
  {
   "cell_type": "code",
<<<<<<< HEAD
<<<<<<< HEAD
   "execution_count": null,
=======
   "execution_count": 98,
>>>>>>> gabrabib
=======
   "execution_count": 8,
>>>>>>> origin/marouan
   "metadata": {},
   "outputs": [
    {
     "name": "stdout",
     "output_type": "stream",
     "text": [
      "Accuracy: 0.70\n",
<<<<<<< HEAD
<<<<<<< HEAD
      "Recall: 0.94\n",
      "Precision: 0.70\n",
      "              precision    recall  f1-score   support\n",
      "\n",
      "     refused       0.67      0.23      0.35       111\n",
      "    accepted       0.70      0.94      0.80       211\n",
      "\n",
      "    accuracy                           0.70       322\n",
      "   macro avg       0.68      0.59      0.57       322\n",
      "weighted avg       0.69      0.70      0.64       322\n",
=======
      "Recall: 0.96\n",
=======
      "Recall: 0.94\n",
>>>>>>> origin/marouan
      "Precision: 0.70\n",
      "              precision    recall  f1-score   support\n",
      "\n",
      "     refused       0.67      0.23      0.35       111\n",
      "    accepted       0.70      0.94      0.80       211\n",
      "\n",
      "    accuracy                           0.70       322\n",
<<<<<<< HEAD
      "   macro avg       0.71      0.58      0.56       322\n",
      "weighted avg       0.70      0.70      0.64       322\n",
>>>>>>> gabrabib
=======
      "   macro avg       0.68      0.59      0.57       322\n",
      "weighted avg       0.69      0.70      0.64       322\n",
>>>>>>> origin/marouan
      "\n"
     ]
    },
    {
     "data": {
<<<<<<< HEAD
<<<<<<< HEAD
      "image/png": "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",
=======
      "image/png": "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",
>>>>>>> gabrabib
=======
      "image/png": "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",
>>>>>>> origin/marouan
      "text/plain": [
       "<Figure size 432x288 with 2 Axes>"
      ]
     },
     "metadata": {
      "needs_background": "light"
     },
     "output_type": "display_data"
    }
   ],
   "source": [
    "# Evaluate the accuracy of the model\n",
    "accuracy = accuracy_score(y_test, y_pred)\n",
    "print(\"Accuracy: {:.2f}\".format(accuracy))\n",
    "# Evaluate the recall of the model\n",
    "recall = recall_score(y_test, y_pred)\n",
    "print(\"Recall: {:.2f}\".format(recall))\n",
    "\n",
    "# Evaluate the precision of the model\n",
    "precision = precision_score(y_test, y_pred)\n",
    "print(\"Precision: {:.2f}\".format(precision))\n",
    "\n",
    "# Calculate the confusion matrix of the model\n",
    "cnf_matrix = confusion_matrix(y_test, y_pred)\n",
    "\n",
    "\n",
    "class_names=[0,1] # name  of classes\n",
    "fig, ax = plt.subplots()\n",
    "tick_marks = np.arange(len(class_names))\n",
    "plt.xticks(tick_marks, class_names)\n",
    "plt.yticks(tick_marks, class_names)\n",
    "# create heatmap\n",
    "sns.heatmap(pd.DataFrame(cnf_matrix), annot=True, cmap=\"YlGnBu\" ,fmt='g')\n",
    "ax.xaxis.set_label_position(\"top\")\n",
    "plt.tight_layout()\n",
    "plt.title('Confusion matrix', y=1.1)\n",
    "plt.ylabel('Actual label')\n",
    "plt.xlabel('Predicted label')\n",
    "# Print the evaluation matrix\n",
    "target_names = ['refused', 'accepted']\n",
    "print(classification_report(y_test, y_pred, target_names=target_names))"
   ]
  },
  {
   "cell_type": "code",
<<<<<<< HEAD
<<<<<<< HEAD
   "execution_count": null,
   "metadata": {},
   "outputs": [
    {
     "name": "stderr",
     "output_type": "stream",
     "text": [
      "c:\\Users\\MarouanKamoun\\anaconda3\\lib\\site-packages\\sklearn\\feature_selection\\_univariate_selection.py:114: UserWarning: Features [18] are constant.\n",
      "  warnings.warn(\"Features %s are constant.\" % constant_features_idx,\n",
      "c:\\Users\\MarouanKamoun\\anaconda3\\lib\\site-packages\\sklearn\\feature_selection\\_univariate_selection.py:116: RuntimeWarning: invalid value encountered in true_divide\n",
      "  f = msb / msw\n"
     ]
    },
    {
=======
   "execution_count": 99,
   "metadata": {},
   "outputs": [
    {
>>>>>>> gabrabib
=======
   "execution_count": 27,
   "metadata": {},
   "outputs": [
    {
     "name": "stderr",
     "output_type": "stream",
     "text": [
      "c:\\Users\\MarouanKamoun\\anaconda3\\lib\\site-packages\\sklearn\\feature_selection\\_univariate_selection.py:114: UserWarning: Features [18] are constant.\n",
      "  warnings.warn(\"Features %s are constant.\" % constant_features_idx,\n",
      "c:\\Users\\MarouanKamoun\\anaconda3\\lib\\site-packages\\sklearn\\feature_selection\\_univariate_selection.py:116: RuntimeWarning: invalid value encountered in true_divide\n",
      "  f = msb / msw\n"
     ]
    },
    {
>>>>>>> origin/marouan
     "data": {
      "text/html": [
       "<div>\n",
       "<style scoped>\n",
       "    .dataframe tbody tr th:only-of-type {\n",
       "        vertical-align: middle;\n",
       "    }\n",
       "\n",
       "    .dataframe tbody tr th {\n",
       "        vertical-align: top;\n",
       "    }\n",
       "\n",
       "    .dataframe thead th {\n",
       "        text-align: right;\n",
       "    }\n",
       "</style>\n",
       "<table border=\"1\" class=\"dataframe\">\n",
       "  <thead>\n",
       "    <tr style=\"text-align: right;\">\n",
       "      <th></th>\n",
       "      <th>Feature</th>\n",
       "      <th>p_value</th>\n",
       "    </tr>\n",
       "  </thead>\n",
       "  <tbody>\n",
       "    <tr>\n",
       "      <th>0</th>\n",
       "      <td>text_length</td>\n",
       "      <td>1.491237e-30</td>\n",
       "    </tr>\n",
       "    <tr>\n",
       "      <th>1</th>\n",
<<<<<<< HEAD
<<<<<<< HEAD
=======
>>>>>>> origin/marouan
       "      <td>symptom_1</td>\n",
       "      <td>5.731039e-29</td>\n",
       "    </tr>\n",
       "    <tr>\n",
       "      <th>2</th>\n",
       "      <td>symptom_0</td>\n",
       "      <td>2.359101e-10</td>\n",
       "    </tr>\n",
       "    <tr>\n",
       "      <th>3</th>\n",
       "      <td>exam_identified</td>\n",
       "      <td>4.201840e-10</td>\n",
       "    </tr>\n",
       "    <tr>\n",
       "      <th>4</th>\n",
       "      <td>comorbidity_identified</td>\n",
       "      <td>8.156181e-05</td>\n",
       "    </tr>\n",
       "    <tr>\n",
       "      <th>5</th>\n",
       "      <td>medication_level_1</td>\n",
       "      <td>8.071507e-11</td>\n",
       "    </tr>\n",
       "    <tr>\n",
       "      <th>6</th>\n",
       "      <td>medication_level_2</td>\n",
       "      <td>7.473917e-15</td>\n",
       "    </tr>\n",
       "    <tr>\n",
       "      <th>7</th>\n",
       "      <td>medication_level_3</td>\n",
       "      <td>1.799237e-06</td>\n",
       "    </tr>\n",
       "    <tr>\n",
       "      <th>8</th>\n",
<<<<<<< HEAD
=======
>>>>>>> gabrabib
=======
>>>>>>> origin/marouan
       "      <td>outside area</td>\n",
       "      <td>1.106719e-27</td>\n",
       "    </tr>\n",
       "    <tr>\n",
<<<<<<< HEAD
<<<<<<< HEAD
       "      <th>9</th>\n",
=======
       "      <th>2</th>\n",
>>>>>>> gabrabib
=======
       "      <th>9</th>\n",
>>>>>>> origin/marouan
       "      <td>SAM</td>\n",
       "      <td>1.051842e-04</td>\n",
       "    </tr>\n",
       "    <tr>\n",
<<<<<<< HEAD
<<<<<<< HEAD
       "      <th>10</th>\n",
=======
       "      <th>3</th>\n",
>>>>>>> gabrabib
=======
       "      <th>10</th>\n",
>>>>>>> origin/marouan
       "      <td>SON</td>\n",
       "      <td>7.611581e-04</td>\n",
       "    </tr>\n",
       "    <tr>\n",
<<<<<<< HEAD
<<<<<<< HEAD
       "      <th>11</th>\n",
=======
       "      <th>4</th>\n",
>>>>>>> gabrabib
=======
       "      <th>11</th>\n",
>>>>>>> origin/marouan
       "      <td>unknown</td>\n",
       "      <td>2.499057e-31</td>\n",
       "    </tr>\n",
       "    <tr>\n",
<<<<<<< HEAD
<<<<<<< HEAD
       "      <th>12</th>\n",
=======
       "      <th>5</th>\n",
>>>>>>> gabrabib
=======
       "      <th>12</th>\n",
>>>>>>> origin/marouan
       "      <td>Other specialities</td>\n",
       "      <td>4.704782e-23</td>\n",
       "    </tr>\n",
       "    <tr>\n",
<<<<<<< HEAD
<<<<<<< HEAD
       "      <th>13</th>\n",
=======
       "      <th>6</th>\n",
>>>>>>> gabrabib
=======
       "      <th>13</th>\n",
>>>>>>> origin/marouan
       "      <td>2</td>\n",
       "      <td>3.219752e-02</td>\n",
       "    </tr>\n",
       "    <tr>\n",
<<<<<<< HEAD
<<<<<<< HEAD
       "      <th>14</th>\n",
=======
       "      <th>7</th>\n",
>>>>>>> gabrabib
=======
       "      <th>14</th>\n",
>>>>>>> origin/marouan
       "      <td>3+</td>\n",
       "      <td>1.193271e-01</td>\n",
       "    </tr>\n",
       "    <tr>\n",
<<<<<<< HEAD
<<<<<<< HEAD
=======
>>>>>>> origin/marouan
       "      <th>15</th>\n",
       "      <td>HGO</td>\n",
       "      <td>1.195598e-30</td>\n",
       "    </tr>\n",
       "    <tr>\n",
       "      <th>16</th>\n",
<<<<<<< HEAD
=======
       "      <th>8</th>\n",
>>>>>>> gabrabib
=======
>>>>>>> origin/marouan
       "      <td>HOSP</td>\n",
       "      <td>3.315177e-04</td>\n",
       "    </tr>\n",
       "    <tr>\n",
<<<<<<< HEAD
<<<<<<< HEAD
       "      <th>17</th>\n",
=======
       "      <th>9</th>\n",
>>>>>>> gabrabib
=======
       "      <th>17</th>\n",
>>>>>>> origin/marouan
       "      <td>UCSP</td>\n",
       "      <td>5.678582e-01</td>\n",
       "    </tr>\n",
       "    <tr>\n",
<<<<<<< HEAD
<<<<<<< HEAD
       "      <th>18</th>\n",
       "      <td>USF A</td>\n",
       "      <td>NaN</td>\n",
       "    </tr>\n",
       "    <tr>\n",
       "      <th>19</th>\n",
       "      <td>USF B</td>\n",
       "      <td>2.445800e-30</td>\n",
       "    </tr>\n",
       "    <tr>\n",
       "      <th>20</th>\n",
=======
       "      <th>10</th>\n",
=======
       "      <th>18</th>\n",
>>>>>>> origin/marouan
       "      <td>USF A</td>\n",
       "      <td>NaN</td>\n",
       "    </tr>\n",
       "    <tr>\n",
       "      <th>19</th>\n",
       "      <td>USF B</td>\n",
       "      <td>2.445800e-30</td>\n",
       "    </tr>\n",
       "    <tr>\n",
<<<<<<< HEAD
       "      <th>12</th>\n",
>>>>>>> gabrabib
=======
       "      <th>20</th>\n",
>>>>>>> origin/marouan
       "      <td>outro</td>\n",
       "      <td>9.732322e-02</td>\n",
       "    </tr>\n",
       "    <tr>\n",
<<<<<<< HEAD
<<<<<<< HEAD
       "      <th>21</th>\n",
=======
       "      <th>13</th>\n",
>>>>>>> gabrabib
=======
       "      <th>21</th>\n",
>>>>>>> origin/marouan
       "      <td>not accepted before</td>\n",
       "      <td>4.943833e-05</td>\n",
       "    </tr>\n",
       "  </tbody>\n",
       "</table>\n",
       "</div>"
      ],
      "text/plain": [
<<<<<<< HEAD
<<<<<<< HEAD
=======
>>>>>>> origin/marouan
       "                   Feature       p_value\n",
       "0              text_length  1.491237e-30\n",
       "1                symptom_1  5.731039e-29\n",
       "2                symptom_0  2.359101e-10\n",
       "3          exam_identified  4.201840e-10\n",
       "4   comorbidity_identified  8.156181e-05\n",
       "5       medication_level_1  8.071507e-11\n",
       "6       medication_level_2  7.473917e-15\n",
       "7       medication_level_3  1.799237e-06\n",
       "8             outside area  1.106719e-27\n",
       "9                      SAM  1.051842e-04\n",
       "10                     SON  7.611581e-04\n",
       "11                 unknown  2.499057e-31\n",
       "12      Other specialities  4.704782e-23\n",
       "13                       2  3.219752e-02\n",
       "14                      3+  1.193271e-01\n",
       "15                     HGO  1.195598e-30\n",
       "16                    HOSP  3.315177e-04\n",
       "17                    UCSP  5.678582e-01\n",
       "18                   USF A           NaN\n",
       "19                   USF B  2.445800e-30\n",
       "20                   outro  9.732322e-02\n",
       "21     not accepted before  4.943833e-05"
<<<<<<< HEAD
      ]
     },
     "execution_count": 27,
=======
       "                Feature       p_value\n",
       "0           text_length  1.491237e-30\n",
       "1          outside area  1.106719e-27\n",
       "2                   SAM  1.051842e-04\n",
       "3                   SON  7.611581e-04\n",
       "4               unknown  2.499057e-31\n",
       "5    Other specialities  4.704782e-23\n",
       "6                     2  3.219752e-02\n",
       "7                    3+  1.193271e-01\n",
       "8                  HOSP  3.315177e-04\n",
       "9                  UCSP  5.678582e-01\n",
       "10                USF A  7.602602e-01\n",
       "11                USF B  2.682556e-30\n",
       "12                outro  9.732322e-02\n",
       "13  not accepted before  4.943833e-05"
      ]
     },
     "execution_count": 99,
>>>>>>> gabrabib
=======
      ]
     },
     "execution_count": 27,
>>>>>>> origin/marouan
     "metadata": {},
     "output_type": "execute_result"
    }
   ],
   "source": [
    "p_value(X,y)"
   ]
  },
  {
   "attachments": {},
   "cell_type": "markdown",
   "metadata": {},
   "source": [
    "## Logistic without high p-value"
   ]
  },
  {
   "cell_type": "code",
<<<<<<< HEAD
<<<<<<< HEAD
   "execution_count": null,
=======
   "execution_count": 102,
>>>>>>> gabrabib
=======
   "execution_count": 33,
>>>>>>> origin/marouan
   "metadata": {},
   "outputs": [
    {
     "name": "stderr",
     "output_type": "stream",
     "text": [
      "c:\\Users\\MarouanKamoun\\anaconda3\\lib\\site-packages\\sklearn\\linear_model\\_logistic.py:763: ConvergenceWarning: lbfgs failed to converge (status=1):\n",
      "STOP: TOTAL NO. of ITERATIONS REACHED LIMIT.\n",
      "\n",
      "Increase the number of iterations (max_iter) or scale the data as shown in:\n",
      "    https://scikit-learn.org/stable/modules/preprocessing.html\n",
      "Please also refer to the documentation for alternative solver options:\n",
      "    https://scikit-learn.org/stable/modules/linear_model.html#logistic-regression\n",
      "  n_iter_i = _check_optimize_result(\n"
     ]
    },
    {
     "data": {
      "text/html": [
       "<div>\n",
       "<style scoped>\n",
       "    .dataframe tbody tr th:only-of-type {\n",
       "        vertical-align: middle;\n",
       "    }\n",
       "\n",
       "    .dataframe tbody tr th {\n",
       "        vertical-align: top;\n",
       "    }\n",
       "\n",
       "    .dataframe thead th {\n",
       "        text-align: right;\n",
       "    }\n",
       "</style>\n",
       "<table border=\"1\" class=\"dataframe\">\n",
       "  <thead>\n",
       "    <tr style=\"text-align: right;\">\n",
       "      <th></th>\n",
       "      <th>Feature</th>\n",
       "      <th>coefficients</th>\n",
       "    </tr>\n",
       "  </thead>\n",
       "  <tbody>\n",
       "    <tr>\n",
       "      <th>0</th>\n",
       "      <td>text_length</td>\n",
<<<<<<< HEAD
<<<<<<< HEAD
       "      <td>0.000964</td>\n",
       "    </tr>\n",
       "    <tr>\n",
       "      <th>1</th>\n",
       "      <td>symptom_1</td>\n",
       "      <td>0.241643</td>\n",
       "    </tr>\n",
       "    <tr>\n",
       "      <th>2</th>\n",
       "      <td>symptom_0</td>\n",
       "      <td>-0.076039</td>\n",
       "    </tr>\n",
       "    <tr>\n",
       "      <th>3</th>\n",
       "      <td>exam_identified</td>\n",
       "      <td>0.346592</td>\n",
       "    </tr>\n",
       "    <tr>\n",
       "      <th>4</th>\n",
       "      <td>comorbidity_identified</td>\n",
       "      <td>0.079926</td>\n",
       "    </tr>\n",
       "    <tr>\n",
       "      <th>5</th>\n",
       "      <td>medication_level_1</td>\n",
       "      <td>0.236041</td>\n",
       "    </tr>\n",
       "    <tr>\n",
       "      <th>6</th>\n",
       "      <td>medication_level_2</td>\n",
       "      <td>0.187597</td>\n",
       "    </tr>\n",
       "    <tr>\n",
       "      <th>7</th>\n",
       "      <td>medication_level_3</td>\n",
       "      <td>-0.245346</td>\n",
       "    </tr>\n",
       "    <tr>\n",
       "      <th>8</th>\n",
       "      <td>outside area</td>\n",
       "      <td>0.318917</td>\n",
       "    </tr>\n",
       "    <tr>\n",
       "      <th>9</th>\n",
       "      <td>SAM</td>\n",
       "      <td>-0.040433</td>\n",
       "    </tr>\n",
       "    <tr>\n",
       "      <th>10</th>\n",
       "      <td>SON</td>\n",
       "      <td>-0.005520</td>\n",
       "    </tr>\n",
       "    <tr>\n",
       "      <th>11</th>\n",
       "      <td>unknown</td>\n",
       "      <td>-0.694384</td>\n",
       "    </tr>\n",
       "    <tr>\n",
       "      <th>12</th>\n",
       "      <td>Other specialities</td>\n",
       "      <td>3.161296</td>\n",
       "    </tr>\n",
       "    <tr>\n",
       "      <th>13</th>\n",
       "      <td>2</td>\n",
       "      <td>0.046195</td>\n",
       "    </tr>\n",
       "    <tr>\n",
       "      <th>14</th>\n",
       "      <td>HGO</td>\n",
       "      <td>-0.416651</td>\n",
       "    </tr>\n",
       "    <tr>\n",
       "      <th>15</th>\n",
       "      <td>HOSP</td>\n",
       "      <td>-0.316627</td>\n",
       "    </tr>\n",
       "    <tr>\n",
       "      <th>16</th>\n",
       "      <td>USF B</td>\n",
       "      <td>0.648308</td>\n",
       "    </tr>\n",
       "    <tr>\n",
       "      <th>17</th>\n",
       "      <td>not accepted before</td>\n",
       "      <td>-0.511765</td>\n",
=======
       "      <td>0.001428</td>\n",
=======
       "      <td>0.000964</td>\n",
>>>>>>> origin/marouan
       "    </tr>\n",
       "    <tr>\n",
       "      <th>1</th>\n",
       "      <td>symptom_1</td>\n",
       "      <td>0.241643</td>\n",
       "    </tr>\n",
       "    <tr>\n",
       "      <th>2</th>\n",
       "      <td>symptom_0</td>\n",
       "      <td>-0.076039</td>\n",
       "    </tr>\n",
       "    <tr>\n",
       "      <th>3</th>\n",
       "      <td>exam_identified</td>\n",
       "      <td>0.346592</td>\n",
       "    </tr>\n",
       "    <tr>\n",
       "      <th>4</th>\n",
       "      <td>comorbidity_identified</td>\n",
       "      <td>0.079926</td>\n",
       "    </tr>\n",
       "    <tr>\n",
       "      <th>5</th>\n",
       "      <td>medication_level_1</td>\n",
       "      <td>0.236041</td>\n",
       "    </tr>\n",
       "    <tr>\n",
       "      <th>6</th>\n",
       "      <td>medication_level_2</td>\n",
       "      <td>0.187597</td>\n",
       "    </tr>\n",
       "    <tr>\n",
       "      <th>7</th>\n",
       "      <td>medication_level_3</td>\n",
       "      <td>-0.245346</td>\n",
       "    </tr>\n",
       "    <tr>\n",
       "      <th>8</th>\n",
       "      <td>outside area</td>\n",
       "      <td>0.318917</td>\n",
       "    </tr>\n",
       "    <tr>\n",
       "      <th>9</th>\n",
       "      <td>SAM</td>\n",
       "      <td>-0.040433</td>\n",
       "    </tr>\n",
       "    <tr>\n",
       "      <th>10</th>\n",
       "      <td>SON</td>\n",
       "      <td>-0.005520</td>\n",
       "    </tr>\n",
       "    <tr>\n",
       "      <th>11</th>\n",
       "      <td>unknown</td>\n",
       "      <td>-0.694384</td>\n",
       "    </tr>\n",
       "    <tr>\n",
       "      <th>12</th>\n",
       "      <td>Other specialities</td>\n",
       "      <td>3.161296</td>\n",
       "    </tr>\n",
       "    <tr>\n",
       "      <th>13</th>\n",
       "      <td>2</td>\n",
       "      <td>0.046195</td>\n",
       "    </tr>\n",
       "    <tr>\n",
       "      <th>14</th>\n",
       "      <td>HGO</td>\n",
       "      <td>-0.416651</td>\n",
       "    </tr>\n",
       "    <tr>\n",
       "      <th>15</th>\n",
       "      <td>HOSP</td>\n",
       "      <td>-0.316627</td>\n",
       "    </tr>\n",
       "    <tr>\n",
       "      <th>16</th>\n",
       "      <td>USF B</td>\n",
       "      <td>0.648308</td>\n",
       "    </tr>\n",
       "    <tr>\n",
       "      <th>17</th>\n",
       "      <td>not accepted before</td>\n",
<<<<<<< HEAD
       "      <td>-0.739419</td>\n",
>>>>>>> gabrabib
=======
       "      <td>-0.511765</td>\n",
>>>>>>> origin/marouan
       "    </tr>\n",
       "  </tbody>\n",
       "</table>\n",
       "</div>"
      ],
      "text/plain": [
<<<<<<< HEAD
<<<<<<< HEAD
=======
>>>>>>> origin/marouan
       "                   Feature  coefficients\n",
       "0              text_length      0.000964\n",
       "1                symptom_1      0.241643\n",
       "2                symptom_0     -0.076039\n",
       "3          exam_identified      0.346592\n",
       "4   comorbidity_identified      0.079926\n",
       "5       medication_level_1      0.236041\n",
       "6       medication_level_2      0.187597\n",
       "7       medication_level_3     -0.245346\n",
       "8             outside area      0.318917\n",
       "9                      SAM     -0.040433\n",
       "10                     SON     -0.005520\n",
       "11                 unknown     -0.694384\n",
       "12      Other specialities      3.161296\n",
       "13                       2      0.046195\n",
       "14                     HGO     -0.416651\n",
       "15                    HOSP     -0.316627\n",
       "16                   USF B      0.648308\n",
       "17     not accepted before     -0.511765"
<<<<<<< HEAD
      ]
     },
     "execution_count": 33,
=======
       "               Feature  coefficients\n",
       "0          text_length      0.001428\n",
       "1         outside area      0.434390\n",
       "2                  SAM     -0.686910\n",
       "3                  SON     -0.446685\n",
       "4              unknown     -1.547475\n",
       "5   Other specialities      3.120622\n",
       "6                    2     -0.023971\n",
       "7                 HOSP     -0.662697\n",
       "8                USF B      0.526557\n",
       "9  not accepted before     -0.739419"
      ]
     },
     "execution_count": 102,
>>>>>>> gabrabib
=======
      ]
     },
     "execution_count": 33,
>>>>>>> origin/marouan
     "metadata": {},
     "output_type": "execute_result"
    }
   ],
   "source": [
    "\n",
    "eliminate_cols=['ID_DOENTE','PROCESSO','COD_REFERENCIA','result','COD_PZ','COD_UNID_SAUDE_PROV','UNID_PROV','TIPO_UNID','COD_CTH_PRIOR','CTH_PRIOR','COD_MOTIVO_RECUSA','DES_MOTIVO_RECUSA','COD_ESPECIALIDADE','DES_ESPECIALIDADE','agrupadora','OUTRA_ENTIDADE','DATA_RECEPCAO','DATA_ENVIO','DATA_RETORNO','NUM_TAXA','ESTADO','DATA_MARCACAO','DATA_REALIZACAO','OBSERVACOES','Mês_entrada','Ano_entrada','trata data recusa','resume saída','mês_saida','ano_saida','Texto','clean_text','outro','USF A','UCSP','3+']\n",
    "X = data.drop(eliminate_cols,axis=1)# Features\n",
    "y = data.result # Target variable\n",
    "features=X.columns\n",
    "#log_regression is defined in functions\n",
    "y_pred,coefficients,intercept,X_train, X_test, y_train, y_test=log_regression(X,y)\n",
    "df = pd.DataFrame(features, columns =['Feature'])\n",
    "df['coefficients']=coefficients.T\n",
    "df\n"
   ]
  },
  {
   "cell_type": "code",
<<<<<<< HEAD
<<<<<<< HEAD
   "execution_count": null,
=======
   "execution_count": 103,
>>>>>>> gabrabib
=======
   "execution_count": 34,
>>>>>>> origin/marouan
   "metadata": {},
   "outputs": [
    {
     "name": "stdout",
     "output_type": "stream",
     "text": [
<<<<<<< HEAD
<<<<<<< HEAD
      "Accuracy: 0.717391304347826\n",
      "Recall: 0.6199777977029162\n",
      "Precision: 0.7136557177615572\n",
      "              precision    recall  f1-score   support\n",
      "\n",
      "     refused       0.71      0.31      0.43       111\n",
      "    accepted       0.72      0.93      0.81       211\n",
      "\n",
      "    accuracy                           0.72       322\n",
      "   macro avg       0.71      0.62      0.62       322\n",
      "weighted avg       0.72      0.72      0.68       322\n",
=======
      "Accuracy: 0.6925465838509317\n",
      "Recall: 0.5796720891507621\n",
      "Precision: 0.6812354312354312\n",
=======
      "Accuracy: 0.717391304347826\n",
      "Recall: 0.6199777977029162\n",
      "Precision: 0.7136557177615572\n",
>>>>>>> origin/marouan
      "              precision    recall  f1-score   support\n",
      "\n",
      "     refused       0.71      0.31      0.43       111\n",
      "    accepted       0.72      0.93      0.81       211\n",
      "\n",
<<<<<<< HEAD
      "    accuracy                           0.69       322\n",
      "   macro avg       0.68      0.58      0.56       322\n",
      "weighted avg       0.69      0.69      0.64       322\n",
>>>>>>> gabrabib
=======
      "    accuracy                           0.72       322\n",
      "   macro avg       0.71      0.62      0.62       322\n",
      "weighted avg       0.72      0.72      0.68       322\n",
>>>>>>> origin/marouan
      "\n"
     ]
    },
    {
     "data": {
<<<<<<< HEAD
<<<<<<< HEAD
      "image/png": "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",
=======
      "image/png": "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",
>>>>>>> gabrabib
=======
      "image/png": "iVBORw0KGgoAAAANSUhEUgAAAaIAAAFBCAYAAAA126tDAAAAOXRFWHRTb2Z0d2FyZQBNYXRwbG90bGliIHZlcnNpb24zLjQuMywgaHR0cHM6Ly9tYXRwbG90bGliLm9yZy/MnkTPAAAACXBIWXMAAAsTAAALEwEAmpwYAAAfL0lEQVR4nO3dd7RddZ338fcnIEjvIKAMoAEGGcGGWEAURVAU5VEBsTMGHHsXxyWiw6NjwXFsGKQ5IE1EHPGhDKMiCtJEehXEQCgSpIlAwvf54+wbT0KSe89t+56T92utvXLOb++z9/eGrPvhV87eqSokSWrLtLYLkCQt3QwiSVKrDCJJUqsMIklSqwwiSVKrDCJJUqsMIk1pSVZI8t9J7k1y0hjOs0+SM8eztrYk2T7JtW3XIY2X+D0ijYckbwI+DGwB3A9cChxcVeeO8bxvAd4HvKCq5o61zqkuSQHTq+qGtmuRJos9Io1Zkg8D/wH8X2A9YCPg28Du43D6fwCuWxpCaCSSLNt2DdJ4M4g0JklWAz4HvKeqflRVD1bVo1X131X1seaY5ZP8R5Lbmu0/kizf7NsxyawkH0lyZ5LZSd7R7DsI+AywZ5IHkuyb5LNJjum6/sZJaugXdJK3J/lDkvuT3JRkn672c7s+94IkFzZDfhcmeUHXvl8k+XySXzfnOTPJ2ov5+Yfq/3hX/a9N8sok1yWZk+RTXcdvm+S8JH9pjv1mkuWafec0h/2++Xn37Dr/J5LcDhw51NZ85qnNNZ7VvN8gyZ+T7DiW/67SZDKINFbPB54InLKEY/4V2A7YBtga2Bb4dNf+JwGrARsC+wLfSrJGVR1Ip5d1QlWtXFWHL6mQJCsB/wnsWlWrAC+gM0S48HFrAqc1x64FHAKclmStrsPeBLwDWBdYDvjoEi79JDp/BxvSCc7DgDcDzwa2Bz6TZNPm2HnAh4C16fzd7QT8C0BV7dAcs3Xz857Qdf416fQOZ3RfuKpuBD4BHJtkReBI4Kiq+sUS6pWmFINIY7UW8Odhhs72AT5XVXdW1V3AQcBbuvY/2ux/tKp+BjwAbD7Keh4DtkqyQlXNrqorF3HMq4Drq+q/qmpuVR0HXAO8uuuYI6vquqp6CDiRToguzqN05sMeBY6nEzJfr6r7m+tfCTwDoKourqrzm+veDHwXePEIfqYDq+rhpp4FVNVhwPXAb4H16QS/1DcMIo3V3cDaw8xdbAD8sev9H5u2+edYKMj+CqzcayFV9SCwJ7A/MDvJaUm2GEE9QzVt2PX+9h7qubuq5jWvh4Lijq79Dw19PslmSX6a5PYk99Hp8S1y2K/LXVX1t2GOOQzYCvhGVT08zLHSlGIQaazOA/4GvHYJx9xGZ1hpyEZN22g8CKzY9f5J3Tur6oyqejmdnsE1dH5BD1fPUE23jrKmXnyHTl3Tq2pV4FNAhvnMEpe2JlmZzmKRw4HPNkOPUt8wiDQmVXUvnXmRbzWT9CsmeUKSXZN8qTnsOODTSdZpJv0/AxyzuHMO41JghyQbNQslDhjakWS9JK9p5ooepjPEN28R5/gZsFmSNyVZNsmewJbAT0dZUy9WAe4DHmh6a+9eaP8dwKaP+9SSfR24uKr+mc7c16FjrlKaRAaRxqyqDqHzHaJPA3cBfwLeC/y4OeTfgIuAy4DLgUuattFc6yzghOZcF7NgeEwDPkKnxzOHztzLvyziHHcDuzXH3g18HNitqv48mpp69FE6CyHup9NbO2Gh/Z8Fjm5W1b1xuJMl2R3Yhc5wJHT+OzxraLWg1A/8QqskqVX2iCRJrTKIJEmtMogkSa0yiCRJrTKIJEmtMogkSa0yiCRJrTKIJEmtMogkSa0yiCRJrTKIJEmtMogkSa0yiCRJrTKIJEmtMogkSa0yiCRJrTKIJEmtMogkSa0yiNSaJPOSXJrkiiQnJVlxDOc6Ksnrm9ffS7LlEo7dMckLRnGNm5OsPdL2hY55oMdrfTbJR3utUepHBpHa9FBVbVNVWwGPAPt370yyzGhOWlX/XFVXLeGQHYGeg0jSxDCINFX8Cnha01v5eZIfAJcnWSbJl5NcmOSyJPsBpOObSa5Kchqw7tCJkvwiyXOa17skuSTJ75OcnWRjOoH3oaY3tn2SdZKc3FzjwiQvbD67VpIzk/wuyXeBDPdDJPlxkouTXJlkxkL7vtrUcnaSdZq2pyY5vfnMr5JsMS5/m1IfWbbtAqQkywK7Aqc3TdsCW1XVTc0v83ur6rlJlgd+neRM4JnA5sA/AesBVwFHLHTedYDDgB2ac61ZVXOSHAo8UFVfaY77AfC1qjo3yUbAGcA/AgcC51bV55K8ClggWBbjnc01VgAuTHJyVd0NrARcUlUfSfKZ5tzvBWYC+1fV9UmeB3wbeOko/hqlvmUQqU0rJLm0ef0r4HA6Q2YXVNVNTfvOwDOG5n+A1YDpwA7AcVU1D7gtyf8u4vzbAecMnauq5iymjpcBWybzOzyrJlmlucYezWdPS3LPCH6m9yd5XfP6KU2tdwOPASc07ccAP0qycvPzntR17eVHcA1poBhEatNDVbVNd0PzC/nB7ibgfVV1xkLHvRKoYc6fERwDnSHq51fVQ4uoZSSfHzp+Rzqh9vyq+muSXwBPXMzh1Vz3Lwv/HUhLG+eINNWdAbw7yRMAkmyWZCXgHGCvZg5pfeAli/jsecCLk2zSfHbNpv1+YJWu486kM0xGc9w2zctzgH2atl2BNYapdTXgniaEtqDTIxsyDRjq1b2JzpDffcBNSd7QXCNJth7mGtLAMYg01X2PzvzPJUmuAL5Lpyd/CnA9cDnwHeCXC3+wqu6iM6/zoyS/5+9DY/8NvG5osQLwfuA5zWKIq/j76r2DgB2SXEJniPCWYWo9HVg2yWXA54Hzu/Y9CDw9ycV05oA+17TvA+zb1HclsPsI/k6kgZKqEY88SJI07uwRSZJaZRBJklo1ZVfN3fvI6Y4ZatIddb3/b6bJ9YGn7zzsF6V7scJGe/f0u/OhW44b1+uPxpQNIklS75L++58pg0iSBkj6cMbFIJKkAWKPSJLUKoNIktSqrvsW9g2DSJIGij0iSVKLHJqTJLXKIJIktcrl25KkVtkjkiS1yiCSJLXKIJIktSr4PSJJUovsEUmSWmUQSZJaZRBJklpmEEmSWmSPSJLUKoNIktQqb/EjSWqVPSJJUqt8MJ4kqVX2iCRJrXKOSJLUKntEkqRWGUSSpFaN99BckiOA3YA7q2qrpu0EYPPmkNWBv1TVNkk2Bq4Grm32nV9V+w93DYNIkgbJ+PeIjgK+CXx/qKGq9px/ueSrwL1dx99YVdv0cgGDSJIGyHgPzVXVOU1PZxHXSoA3Ai8dyzX6bzBRkrRYSXrdZiS5qGub0cPltgfuqKrru9o2SfK7JL9Msv1ITmKPSJIGSK9zRFU1E5g5ysvtDRzX9X42sFFV3Z3k2cCPkzy9qu5b0kkMIkkaIJO1ai7JssAewLOH2qrqYeDh5vXFSW4ENgMuWtK5DCJJGiSTd4uflwHXVNWsv1866wBzqmpekk2B6cAfhjuRc0SSNEiWSW/bMJIcB5wHbJ5kVpJ9m117seCwHMAOwGVJfg/8ENi/quYMdw17RJI0SMa5R1RVey+m/e2LaDsZOLnXaxhEkjRI+nCcyyCSpAFSPgZCktSq/sshg0iSBsq0/ksig0iSBolDc5KkVvVfDhlEkjRQHJqTJLXKoTlJUqv6L4cMIkkaKA7NSZJa1X85ZBBJ0iDxzgqSpHY5NCdJalX/5ZBBJEkDxaE5SVKrHJqTJLWq/3LIIJKkgeLQnCSpVQaRJKlVPipcktQqe0SSpFb1Xw4ZRP3s4YcfZb+3/yePPDKXefMeY6eXb82M97xy/v5jjvpf/vOrp3LmOQez+hort1ipBsk9t97BmV89cv77++64m233eiW3X3sTf7ntTgAeefAhlltpBfY85JNtlbnUKpdvazItt9yyfPvw97Liissz99F5vOttX+f5L9qSf9p6Y+64/R5+e961PGn9NdouUwNmjQ3Xmx8wj817jKPf9Wk2fd7WbP3ql8w/5tdH/ojlVlqhrRKXbn04NNeH01oakoQVV1wegLlz5zF37rz5/wa/9qVTeN+HX0P68B+l+sesy69ltfXWZpV115zfVlXc8JvfMf1Fz26xsqVYetymAIOoz82b9xj7vP5LvOLF/8q2223OVs/YmHN+fjnrrLsam22+YdvlacDdcO4lTN9+wcCZfdWNrLj6Kqy+wbotVbWUm5betmEkOSLJnUmu6Gr7bJJbk1zabK/s2ndAkhuSXJvkFSMpecKG5pJsAewObAgUcBvwk6q6eqKuuTRaZplpHPvDj3P/fX/l4x88nOuvvZUjDzuLb3z33W2XpgE379G53Hzh5Wz35lcv0H79uRfbG2rT+I+CHAV8E/j+Qu1fq6qvLHjpbAnsBTwd2AD4nySbVdW8JV1gQnpEST4BHE+n43cBcGHz+rgki529TDIjyUVJLjrqez+biNIG1iqrrsiznvs0zvn5Fdx2693s8/ovsfsrDuLOO/7CW974Zf785/vaLlED5pbfXcXamz6FFVdfdX7bY/Pm8Yfzf8/TXvisFitbyo3z0FxVnQPMGeHVdweOr6qHq+om4AZg2+E+NFE9on2Bp1fVo92NSQ4BrgS+uKgPVdVMYCbAvY+cXhNU28C4Z84DLLvsNFZZdUX+9rdHuOD863jrO3fijF8ePP+Y3V9xEEcf/xFXzWncXf+rx/d8Zv3+WtbYcD1WXttFMq3pcdVckhnAjK6mmc3v4uG8N8lbgYuAj1TVPXRGwM7vOmZW07ZEExVEj9Hplv1xofb1m30aB3++614O+vSxPDbvMR6r4mU7P5PtX7xV22VpKfDow4/wp99fw4v332uB9ut/fTFP295huVb1GETdHYAefAf4PJ1pl88DXwXeyaL7WMN2KiYqiD4InJ3keuBPTdtGwNOA907QNZc60zffkGNO+vgSjzn1jAMnqRotTZ6w/HLs+/1/f1z7Tu97SwvVqFtNwkq4qrpj6HWSw4CfNm9nAU/pOvTJdNYHLNGEBFFVnZ5kMzpjgxvSSclZwIXDTVpJksZgEr7QmmT9qprdvH0dMLSi7ifAD5ppmA2A6XTWCSzRhK2aq6rHWHCsUJI00cZ51VyS44AdgbWTzAIOBHZMsg2dYbebgf0AqurKJCcCVwFzgfeMpPPhnRUkaZCMc4+oqvZeRPPhSzj+YODgxe1fFINIkgZJH96mwCCSpEHSh7f1MogkaYDUMv3XJTKIJGmQ9F8OGUSSNFB8HpEkqVXOEUmSWmWPSJLUqv7LIYNIkgZJ2SOSJLXKIJIktcrFCpKkVvk9IklSq+wRSZJa5RyRJKlVBpEkqU3l0JwkqVUuVpAktcoekSSpVc4RSZJaZRBJklrVfzlkEEnSIPGmp5KkdrlYQZLUKntEkqRW9V8O9eNXnyRJizNtWm/bcJIckeTOJFd0tX05yTVJLktySpLVm/aNkzyU5NJmO3RENY/yZ5UkTUFJb9sIHAXsslDbWcBWVfUM4DrggK59N1bVNs22/0guYBBJ0gAZ7yCqqnOAOQu1nVlVc5u35wNPHkvNi50jSnI/UENvh67fvK6qWnUsF5Ykjb9M/qq5dwIndL3fJMnvgPuAT1fVr4Y7wWKDqKpWGXt9kqTJ1GsOJZkBzOhqmllVM0f42X8F5gLHNk2zgY2q6u4kzwZ+nOTpVXXfks4zolVzSV4ETK+qI5OsDaxSVTeN5LOSpMnTaxA1oTOi4FnwOnkbsBuwU1VVc66HgYeb1xcnuRHYDLhoSecaNoiSHAg8B9gcOBJYDjgGeGGvhUuSJlYmYeY/yS7AJ4AXV9Vfu9rXAeZU1bwkmwLTgT8Md76R9IheBzwTuASgqm5L4rCdJE1B4z1FlOQ4YEdg7SSzgAPprJJbHjirmZM6v1khtwPwuSRzgXnA/lU1Z5En7jKSIHqkqipJNUWtNJofRpI08cb7xgpVtfcimg9fzLEnAyf3eo2RdOJOTPJdYPUk7wL+Bzis1wtJkibeBHyPaMIN2yOqqq8keTmdpXibAZ+pqrMmvDJJUs+mSrj0YqT3mrscWIHO94gun7hyJElj0cL3iMZs2KG5JP8MXADsAbweOD/JOye6MElS7zKtt20qGEmP6GPAM6vqboAkawG/AY6YyMIkSb3rww7RiIJoFnB/1/v7gT9NTDmSpLEYqCBK8uHm5a3Ab5OcSmeOaHc6Q3WSpClmmSky3NaLJfWIhr60emOzDTl14sqRJI3FQPWIquqgySxEkjR2AxVEQ5p7B30ceDrwxKH2qnrpBNYlSRqFjPetFSbBSEYTjwWuATYBDgJuBi6cwJokSaPUj3dWGEkQrVVVhwOPVtUvq+qdwHYTXJckaRT6MYhGsnz70ebP2UleBdzGGB8LK0maGFMlXHoxkiD6tySrAR8BvgGsCnxoQquSJI1KH04Rjeimpz9tXt4LvGRiy5EkjcVA9YiSfIPOF1gXqarePyEVSZJGbarcP64XS+oRLfEZ45KkqWegekRVdfRkFiJJGrt+fAzESJ9HJEnqA32YQwaRJA0Sg0iS1KqBCqK2V82tttymE3l6aZE+ueuBbZegpcwHbtl5XM83aN8jctWcJPWZgQoiV81JUv+ZlsUOZE1ZI30MxCeALfExEJI0pfVjj2ikj4G4Gh8DIUlT3rQet+EkOSLJnUmu6GpbM8lZSa5v/lyja98BSW5Icm2SV4y05uH4GAhJ6hPTUj1tI3AUsMtCbZ8Ezq6q6cDZzXuSbAnsRedBqrsA306yzLA1j6CIBR4DkeSZ+BgISZqSpqW3bThVdQ4wZ6Hm3YGhdQRHA6/taj++qh6uqpuAG4Bth7uGj4GQpAEySfc8Xa+qZgNU1ewk6zbtGwLndx03q2lbIh8DIUkDpNfFCklmADO6mmZW1cxRXn5RVx92/G8kq+aOXNSJmrkiSdIUkh6Xbzeh02vw3JFk/aY3tD5wZ9M+C3hK13FPpvNU7yUaSS/up8BpzXY2naG5B3oqWZI0KcZ7jmgxfgK8rXn9NuDUrva9kiyfZBNgOnDBcCcbydDcyd3vkxwH/E8vFUuSJsd4zxE1v/N3BNZOMgs4EPgicGKSfYFbgDcAVNWVSU4ErgLmAu+pqnnDXWM0Nz2dDmw0is9JkibYeN9Zoar2XsyunRZz/MHAwb1cYyRzRPez4BzR7XTutCBJmmL68c4KIxmaW2UyCpEkjd0kLd8eV8PWnOTskbRJkto3SYsVxtWSnkf0RGBFOhNUa/D39eGrAhtMQm2SpB4N2t239wM+SCd0LubvQXQf8K2JLUuSNBpTpZfTiyU9j+jrwNeTvK+qvjGJNUmSRmkg54iAx5KsPvQmyRpJ/mXiSpIkjdYE3H17wo0kiN5VVX8ZelNV9wDvmrCKJEmjNlCLFbpMS5KqKoDm2RLLTWxZkqTRmCrh0ouRBNEZdG7lcCidL7buD5w+oVVJkkalH+eIRhJEn6Bzi/B301k5dyZw2EQWJUkanWWnTY15n14MG55V9VhVHVpVr6+q/wNcSecBeZKkKWZaj9tUMKKbnibZBtgb2BO4CfjRBNYkSRqlgZojSrIZsBedALobOAFIVfmUVkmaonp9MN5UsKQe0TXAr4BXV9UNAEk+NClVSZJGpR97REsaIvw/dB758PMkhyXZiUU/j1ySNEX04xzRYuuoqlOqak9gC+AXwIeA9ZJ8J8nOk1SfJKkHA3lnhap6sKqOrardgCcDlwKfnOjCJEm9G9Q7K8xXVXOA7zabJGmKmSrh0ouegkiSNLUt03YBo2AQSdIAmSrzPr0wiCRpgDg0J0lqlUEkSWrVMgaRJKlN9ogkSa0a78UKSTanc6/RIZsCnwFWp/O07rua9k9V1c9Gcw2DSJIGyHj3iKrqWmAbmP+E7luBU4B3AF+rqq+M9RoGkSQNkAn+HtFOwI1V9cdk/BJvqtzzTpI0Dib4Fj97Acd1vX9vksuSHJFkjVHXPNoPSpKmnl5veppkRpKLurYZizpvkuWA1wAnNU3fAZ5KZ9huNvDV0dbs0JwkDZBel29X1Uxg5ggO3RW4pKruaD53x9COJIcBP+3tyn9nEEnSAJnA5dt70zUsl2T9qprdvH0dcMVoT2wQSdIAmYggSrIi8HJgv67mLyXZBijg5oX29cQgkqQBMhFBVFV/BdZaqO0t43V+g0iSBsgy3n1bktSmflwKbRBJ0gDxXnOSpFYZRJKkVjlHJElqlT0iSVKrDCJJUqsMIklSq3xUuCSpVeP9hNbJYBBJ0gDpxy+09mPN6nLAAV/n+c9/M7vt9p7H7Tv88B+x+eavZs6ce1uoTIPk0C/vxx8vOZSLzvrS/LZ/+seN+MUpB3Hhmf/OD4/4KKusvAIAe732hZz//74wf3vw5mN5xpb/0FbpS50JfjDehDCI+twee+zE97732ce1z559F7/5zaVssME6k1+UBs5/nfRLdn/rFxdo+86XZvDpLx7Pc3f+BD85/SI+tN9uABz/41+z3a4HsN2uB7DvB7/NH2fdxWVX/bGNspdKy6S3bSowiPrcc5+7Fauttsrj2r/whe/xsY+9g/F8rryWXr++4Brm/OWBBdqmb7o+5/72agD+91eX8dpXbvu4z71x9xdw4qm/mZQa1dHrE1qnAoNoAJ199m9Zd9212GKLTdouRQPsqmtnsdvLnw3AHq/ajievv9bjjnn9q59vEE2yZaf1tk0Fk15GkncsYd/8Z6fPnHnCZJY1MB566G8ceuiJfOAD+7Rdigbcfh/7Lvu9bWd+fdrBrLzyCjzy6NwF9j93m6fy14ce5qrrZrVU4dJpWo/bVNDGqrmDgCMXtWPBZ6dfNzX6jH3mlltuZ9asO9h99/cDcPvtf2aPPT7ISScdwjrrrNFydRok1914G69+8xcAeNomT2LXl26zwP43vMZhuTb042j8hARRkssWtwtYbyKuqY7NN9+Y8847Zv77l750X374w0NYc83VWqxKg2idtVblrrvvIwmffP/rOOyYs+fvS8Ier3oeL3vD51qscOnUhzk0YT2i9YBXAPcs1B7A/0UaRx/+8Je54ILLueee+9hhh7fzvve9iTe8Yee2y9KAOfob72P75/8ja6+xCjf89pt8/pAfsvJKT2S/t3b+rZ16+gV8/8RfzD/+Rc/bgltnz+HmW+5sqeKlVz/2iFI1/iNgSQ4Hjqyqcxex7wdV9abhz+LQnCbfChsd2HYJWso8dMtx4xodl/z5tJ5+dz5r7Ve1Hl0T0iOqqn2XsG8EISRJGo1MkSXZvfAWP5I0QFrv3oyCQSRJA6Qf54gMIkkaIH2YQwaRJA2SqXIj014YRJI0QCYih5LcDNwPzAPmVtVzkqwJnABsDNwMvLGqFv7KzohMlTs8SJLGQdLb1oOXVNU2VfWc5v0ngbOrajpwdvN+VAwiSRog6XEbg92Bo5vXRwOvHe2JDCJJGiATFEQFnJnk4iQzmrb1qmo2QPPnuqOt2TkiSRogvS5WaIJlRlfTzOYG1N1eWFW3JVkXOCvJNWOrckEGkSQNkF6H2xZ86sFij7mt+fPOJKcA2wJ3JFm/qmYnWR8Y9Y0FHZqTpAGSVE/b8OfLSklWGXoN7AxcAfwEeFtz2NuAU0dbsz0iSRogE7B8ez3glHSW2C0L/KCqTk9yIXBikn2BW4A3jPYCBpEkDZDxvsVPVf0B2HoR7XcDO43HNQwiSRog/TjfYhBJ0gDxpqeSpFb1YQ4ZRJI0SOwRSZJa1Yc5ZBBJ0iDxMRCSpFb1YQ4ZRJI0SEZyt4SpxiCSpAFij0iS1CpXzUmSWtWHOWQQSdIg8RY/kqRWOTQnSWpZ/yWRQSRJAyQGkSSpTUn/zRIZRJI0UOwRSZJalD5cN2cQSdIAcWhOktQyh+YkSS1y1ZwkqVUGkSSpZc4RSZJalD68x49BJEkDxSCSJLWoH+eI+m8wUZK0BNN63JYsyVOS/DzJ1UmuTPKBpv2zSW5NcmmzvXK0FdsjkqQBMgE9ornAR6rqkiSrABcnOavZ97Wq+spYL2AQSdIAGe/FClU1G5jdvL4/ydXAhuN5DYfmJGmgpKctyYwkF3VtMxZ75mRj4JnAb5um9ya5LMkRSdYYbcUGkSQNkDCtp62qZlbVc7q2mYs8b7IycDLwwaq6D/gO8FRgGzo9pq+OtmaDSJIGSm89ohGdMXkCnRA6tqp+BFBVd1TVvKp6DDgM2Ha0FTtHJEkDZLzniNI54eHA1VV1SFf7+s38EcDrgCtGew2DSJIGyrivmnsh8Bbg8iSXNm2fAvZOsg1QwM3AfqO9gEEkSQNkvB+MV1Xnsuh0+9l4XcMgkqSB0n93VjCIJGmA9OMtfgwiSRog3n1bktSy/vtWjkEkSQPEoTlJUssMIklSi5wjkiS1zDkiSVKL+nGOKFXVdg0aZ0lmLO4OutJE8N+cxqL/+nAaicU+T0SaIP6b06gZRJKkVhlEkqRWGUSDybF6TTb/zWnUXKwgSWqVPSJJUqsMIklSqwyiAZJklyTXJrkhySfbrkeDL8kRSe5MckXbtah/GUQDIskywLeAXYEt6TxPfst2q9JS4Chgl7aLUH8ziAbHtsANVfWHqnoEOB7YveWaNOCq6hxgTtt1qL8ZRINjQ+BPXe9nNW2SNKUZRINjUXc6dG2+pCnPIBocs4CndL1/MnBbS7VI0ogZRIPjQmB6kk2SLAfsBfyk5ZokaVgG0YCoqrnAe4EzgKuBE6vqynar0qBLchxwHrB5kllJ9m27JvUfb/EjSWqVPSJJUqsMIklSqwwiSVKrDCJJUqsMIklSqwwiSVKrDCJJUqv+P7IfYoVArAF9AAAAAElFTkSuQmCC",
>>>>>>> origin/marouan
      "text/plain": [
       "<Figure size 432x288 with 2 Axes>"
      ]
     },
     "metadata": {
      "needs_background": "light"
     },
     "output_type": "display_data"
    }
   ],
   "source": [
    "# Evaluate the accuracy of the model\n",
    "accuracy = accuracy_score(y_test, y_pred)\n",
    "print(\"Accuracy:\", accuracy)\n",
    "\n",
    "# Evaluate the recall of the model\n",
    "recall = recall_score(y_test, y_pred, average='macro')\n",
    "print(\"Recall:\", recall)\n",
    "# Evaluate the precision of the model\n",
    "precision = precision_score(y_test, y_pred, average='macro')\n",
    "print(\"Precision:\", precision)\n",
    "\n",
    "# Calculate the confusion matrix of the model\n",
    "cnf_matrix = confusion_matrix(y_test, y_pred)\n",
    "\n",
    "\n",
    "class_names=[0,1] # name  of classes\n",
    "fig, ax = plt.subplots()\n",
    "tick_marks = np.arange(len(class_names))\n",
    "plt.xticks(tick_marks, class_names)\n",
    "plt.yticks(tick_marks, class_names)\n",
    "# create heatmap\n",
    "sns.heatmap(pd.DataFrame(cnf_matrix), annot=True, cmap=\"YlGnBu\" ,fmt='g')\n",
    "ax.xaxis.set_label_position(\"top\")\n",
    "plt.tight_layout()\n",
    "plt.title('Confusion matrix', y=1.1)\n",
    "plt.ylabel('Actual label')\n",
    "plt.xlabel('Predicted label')\n",
    "# Print the evaluation matrix\n",
    "target_names = ['refused', 'accepted']\n",
    "print(classification_report(y_test, y_pred, target_names=target_names))\n"
   ]
  },
  {
   "cell_type": "code",
<<<<<<< HEAD
<<<<<<< HEAD
   "execution_count": null,
=======
   "execution_count": 104,
>>>>>>> gabrabib
=======
   "execution_count": 35,
>>>>>>> origin/marouan
   "metadata": {},
   "outputs": [
    {
     "data": {
      "text/html": [
       "<div>\n",
       "<style scoped>\n",
       "    .dataframe tbody tr th:only-of-type {\n",
       "        vertical-align: middle;\n",
       "    }\n",
       "\n",
       "    .dataframe tbody tr th {\n",
       "        vertical-align: top;\n",
       "    }\n",
       "\n",
       "    .dataframe thead th {\n",
       "        text-align: right;\n",
       "    }\n",
       "</style>\n",
       "<table border=\"1\" class=\"dataframe\">\n",
       "  <thead>\n",
       "    <tr style=\"text-align: right;\">\n",
       "      <th></th>\n",
       "      <th>Feature</th>\n",
       "      <th>p_value</th>\n",
       "    </tr>\n",
       "  </thead>\n",
       "  <tbody>\n",
       "    <tr>\n",
       "      <th>0</th>\n",
       "      <td>text_length</td>\n",
       "      <td>1.491237e-30</td>\n",
       "    </tr>\n",
       "    <tr>\n",
       "      <th>1</th>\n",
<<<<<<< HEAD
<<<<<<< HEAD
=======
>>>>>>> origin/marouan
       "      <td>symptom_1</td>\n",
       "      <td>5.731039e-29</td>\n",
       "    </tr>\n",
       "    <tr>\n",
       "      <th>2</th>\n",
       "      <td>symptom_0</td>\n",
       "      <td>2.359101e-10</td>\n",
       "    </tr>\n",
       "    <tr>\n",
       "      <th>3</th>\n",
       "      <td>exam_identified</td>\n",
       "      <td>4.201840e-10</td>\n",
       "    </tr>\n",
       "    <tr>\n",
       "      <th>4</th>\n",
       "      <td>comorbidity_identified</td>\n",
       "      <td>8.156181e-05</td>\n",
       "    </tr>\n",
       "    <tr>\n",
       "      <th>5</th>\n",
       "      <td>medication_level_1</td>\n",
       "      <td>8.071507e-11</td>\n",
       "    </tr>\n",
       "    <tr>\n",
       "      <th>6</th>\n",
       "      <td>medication_level_2</td>\n",
       "      <td>7.473917e-15</td>\n",
       "    </tr>\n",
       "    <tr>\n",
       "      <th>7</th>\n",
       "      <td>medication_level_3</td>\n",
       "      <td>1.799237e-06</td>\n",
       "    </tr>\n",
       "    <tr>\n",
       "      <th>8</th>\n",
<<<<<<< HEAD
=======
>>>>>>> gabrabib
=======
>>>>>>> origin/marouan
       "      <td>outside area</td>\n",
       "      <td>1.106719e-27</td>\n",
       "    </tr>\n",
       "    <tr>\n",
<<<<<<< HEAD
<<<<<<< HEAD
       "      <th>9</th>\n",
=======
       "      <th>2</th>\n",
>>>>>>> gabrabib
=======
       "      <th>9</th>\n",
>>>>>>> origin/marouan
       "      <td>SAM</td>\n",
       "      <td>1.051842e-04</td>\n",
       "    </tr>\n",
       "    <tr>\n",
<<<<<<< HEAD
<<<<<<< HEAD
       "      <th>10</th>\n",
=======
       "      <th>3</th>\n",
>>>>>>> gabrabib
=======
       "      <th>10</th>\n",
>>>>>>> origin/marouan
       "      <td>SON</td>\n",
       "      <td>7.611581e-04</td>\n",
       "    </tr>\n",
       "    <tr>\n",
<<<<<<< HEAD
<<<<<<< HEAD
       "      <th>11</th>\n",
=======
       "      <th>4</th>\n",
>>>>>>> gabrabib
=======
       "      <th>11</th>\n",
>>>>>>> origin/marouan
       "      <td>unknown</td>\n",
       "      <td>2.499057e-31</td>\n",
       "    </tr>\n",
       "    <tr>\n",
<<<<<<< HEAD
<<<<<<< HEAD
       "      <th>12</th>\n",
=======
       "      <th>5</th>\n",
>>>>>>> gabrabib
=======
       "      <th>12</th>\n",
>>>>>>> origin/marouan
       "      <td>Other specialities</td>\n",
       "      <td>4.704782e-23</td>\n",
       "    </tr>\n",
       "    <tr>\n",
<<<<<<< HEAD
<<<<<<< HEAD
       "      <th>13</th>\n",
=======
       "      <th>6</th>\n",
>>>>>>> gabrabib
=======
       "      <th>13</th>\n",
>>>>>>> origin/marouan
       "      <td>2</td>\n",
       "      <td>3.219752e-02</td>\n",
       "    </tr>\n",
       "    <tr>\n",
<<<<<<< HEAD
<<<<<<< HEAD
=======
>>>>>>> origin/marouan
       "      <th>14</th>\n",
       "      <td>HGO</td>\n",
       "      <td>1.195598e-30</td>\n",
       "    </tr>\n",
       "    <tr>\n",
       "      <th>15</th>\n",
<<<<<<< HEAD
=======
       "      <th>7</th>\n",
>>>>>>> gabrabib
=======
>>>>>>> origin/marouan
       "      <td>HOSP</td>\n",
       "      <td>3.315177e-04</td>\n",
       "    </tr>\n",
       "    <tr>\n",
<<<<<<< HEAD
<<<<<<< HEAD
       "      <th>16</th>\n",
       "      <td>USF B</td>\n",
       "      <td>2.445800e-30</td>\n",
       "    </tr>\n",
       "    <tr>\n",
       "      <th>17</th>\n",
=======
       "      <th>8</th>\n",
=======
       "      <th>16</th>\n",
>>>>>>> origin/marouan
       "      <td>USF B</td>\n",
       "      <td>2.445800e-30</td>\n",
       "    </tr>\n",
       "    <tr>\n",
<<<<<<< HEAD
       "      <th>9</th>\n",
>>>>>>> gabrabib
=======
       "      <th>17</th>\n",
>>>>>>> origin/marouan
       "      <td>not accepted before</td>\n",
       "      <td>4.943833e-05</td>\n",
       "    </tr>\n",
       "  </tbody>\n",
       "</table>\n",
       "</div>"
      ],
      "text/plain": [
<<<<<<< HEAD
<<<<<<< HEAD
=======
>>>>>>> origin/marouan
       "                   Feature       p_value\n",
       "0              text_length  1.491237e-30\n",
       "1                symptom_1  5.731039e-29\n",
       "2                symptom_0  2.359101e-10\n",
       "3          exam_identified  4.201840e-10\n",
       "4   comorbidity_identified  8.156181e-05\n",
       "5       medication_level_1  8.071507e-11\n",
       "6       medication_level_2  7.473917e-15\n",
       "7       medication_level_3  1.799237e-06\n",
       "8             outside area  1.106719e-27\n",
       "9                      SAM  1.051842e-04\n",
       "10                     SON  7.611581e-04\n",
       "11                 unknown  2.499057e-31\n",
       "12      Other specialities  4.704782e-23\n",
       "13                       2  3.219752e-02\n",
       "14                     HGO  1.195598e-30\n",
       "15                    HOSP  3.315177e-04\n",
       "16                   USF B  2.445800e-30\n",
       "17     not accepted before  4.943833e-05"
<<<<<<< HEAD
      ]
     },
     "execution_count": 35,
=======
       "               Feature       p_value\n",
       "0          text_length  1.491237e-30\n",
       "1         outside area  1.106719e-27\n",
       "2                  SAM  1.051842e-04\n",
       "3                  SON  7.611581e-04\n",
       "4              unknown  2.499057e-31\n",
       "5   Other specialities  4.704782e-23\n",
       "6                    2  3.219752e-02\n",
       "7                 HOSP  3.315177e-04\n",
       "8                USF B  2.682556e-30\n",
       "9  not accepted before  4.943833e-05"
      ]
     },
     "execution_count": 104,
>>>>>>> gabrabib
=======
      ]
     },
     "execution_count": 35,
>>>>>>> origin/marouan
     "metadata": {},
     "output_type": "execute_result"
    }
   ],
   "source": [
    "p_value(X,y)\n"
   ]
  }
 ],
 "metadata": {
  "kernelspec": {
   "display_name": "Python 3.9.12 ('base')",
   "language": "python",
   "name": "python3"
  },
  "language_info": {
   "codemirror_mode": {
    "name": "ipython",
    "version": 3
   },
   "file_extension": ".py",
   "mimetype": "text/x-python",
   "name": "python",
   "nbconvert_exporter": "python",
   "pygments_lexer": "ipython3",
<<<<<<< HEAD
   "version": "3.9.7"
=======
   "version": "3.10.10"
>>>>>>> gabrabib
  },
  "orig_nbformat": 4,
  "vscode": {
   "interpreter": {
    "hash": "eb98f5c2dde37d8a67961a214b34faf352e815d37d431ceb2c7a3f0b15f97046"
   }
  }
 },
 "nbformat": 4,
 "nbformat_minor": 2
}
