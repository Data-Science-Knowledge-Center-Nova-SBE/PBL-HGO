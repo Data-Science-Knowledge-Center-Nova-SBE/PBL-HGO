{
 "cells": [
  {
   "cell_type": "code",
   "execution_count": 1,
   "metadata": {},
   "outputs": [],
   "source": [
    "import mysql.connector\n",
    "import pandas as pd\n",
    "import seaborn as sns\n",
    "import numpy as np\n",
    "import matplotlib.pyplot as plt\n",
    "from pandas import Timestamp\n",
    "from IPython.display import display\n",
    "from Functions.connection.connection import *\n",
    "from Functions.AlertP1.data_cleaning import *\n",
    "from Functions.AlertP1.features import *\n",
    "from Functions.analysis.step_analysis import *\n",
    "from Functions.AlertP1.dummy_features import *\n",
    "from Functions.Models.decision_tree import *\n",
    "from Functions.Models.Logistic_regression import *\n",
    "from Functions.Models.evaluation import *\n",
    "import spacy\n",
    "\n",
    "creds = [\"uktuserdaroglu\",\"Vacy4201(Pri\",\"172.20.20.4\",\"hgo\",3306]\n",
    "#Connection to the database\n",
    "host = creds[2]\n",
    "user = creds[0]\n",
    "password = creds[1]\n",
    "database = creds[3]\n",
    "port = creds[4]\n",
    "mydb = mysql.connector.connect(host=host, user=user, database=database, port=port, password=password, auth_plugin='mysql_native_password')\n",
    "mycursor = mydb.cursor()\n",
    "\n",
    "#Safecheck to guarantee that the connection worked\n",
    "mycursor.execute('SHOW TABLES;')\n",
    "print(f\"Tables: {mycursor.fetchall()}\")\n",
    "print(mydb.connection_id) #it'll give connection_id,if got connected"
   ]
  },
  {
   "cell_type": "code",
   "execution_count": null,
   "metadata": {},
   "outputs": [
    {
     "name": "stderr",
     "output_type": "stream",
     "text": [
      "/Users/utkuserdaroglu/opt/anaconda3/lib/python3.9/site-packages/pandas/io/sql.py:762: UserWarning: pandas only support SQLAlchemy connectable(engine/connection) ordatabase string URI or sqlite3 DBAPI2 connectionother DBAPI2 objects are not tested, please consider using SQLAlchemy\n",
      "  warnings.warn(\n",
      "/Users/utkuserdaroglu/opt/anaconda3/lib/python3.9/site-packages/pandas/io/sql.py:762: UserWarning: pandas only support SQLAlchemy connectable(engine/connection) ordatabase string URI or sqlite3 DBAPI2 connectionother DBAPI2 objects are not tested, please consider using SQLAlchemy\n",
      "  warnings.warn(\n"
     ]
    }
   ],
   "source": [
    "alertP = pd.read_sql(\"\"\"SELECT * FROM consultaneurologia201216anon_true\"\"\",mydb)\n"
   ]
  },
  {
   "cell_type": "code",
   "execution_count": null,
   "metadata": {},
   "outputs": [
    {
     "name": "stdout",
     "output_type": "stream",
     "text": [
      "<class 'pandas.core.frame.DataFrame'>\n",
      "RangeIndex: 10150 entries, 0 to 10149\n",
      "Data columns (total 31 columns):\n",
      " #   Column               Non-Null Count  Dtype \n",
      "---  ------               --------------  ----- \n",
      " 0   ID_DOENTE            10150 non-null  object\n",
      " 1   PROCESSO             10150 non-null  object\n",
      " 2   COD_REFERENCIA       10150 non-null  object\n",
      " 3   COD_PZ               10150 non-null  object\n",
      " 4   COD_UNID_SAUDE_PROV  10150 non-null  int64 \n",
      " 5   UNID_PROV            10150 non-null  object\n",
      " 6   TIPO_UNID            10150 non-null  object\n",
      " 7   PROVENIENCIA         10150 non-null  object\n",
      " 8   COD_CTH_PRIOR        10150 non-null  object\n",
      " 9   CTH_PRIOR            10150 non-null  object\n",
      " 10  COD_MOTIVO_RECUSA    10150 non-null  int64 \n",
      " 11  DES_MOTIVO_RECUSA    10150 non-null  object\n",
      " 12  COD_ESPECIALIDADE    10150 non-null  int64 \n",
      " 13  DES_ESPECIALIDADE    10150 non-null  object\n",
      " 14  agrupadora           10150 non-null  object\n",
      " 15  OUTRA_ENTIDADE       10150 non-null  int64 \n",
      " 16  DATA_RECEPCAO        10150 non-null  object\n",
      " 17  DATA_ENVIO           10150 non-null  object\n",
      " 18  DATA_RETORNO         10150 non-null  object\n",
      " 19  NUM_TAXA             10150 non-null  int64 \n",
      " 20  ESTADO               10150 non-null  object\n",
      " 21  DATA_MARCACAO        10150 non-null  object\n",
      " 22  DATA_REALIZACAO      10150 non-null  object\n",
      " 23  OBSERVACOES          10150 non-null  object\n",
      " 24  Mês_entrada          10150 non-null  int64 \n",
      " 25  Ano_entrada          10150 non-null  int64 \n",
      " 26  trata data recusa    10150 non-null  object\n",
      " 27  resume saída         10150 non-null  object\n",
      " 28  mês_saida            10150 non-null  object\n",
      " 29  ano_saida            10150 non-null  object\n",
      " 30  Texto                10150 non-null  object\n",
      "dtypes: int64(7), object(24)\n",
      "memory usage: 2.4+ MB\n",
      "<class 'pandas.core.frame.DataFrame'>\n",
      "RangeIndex: 362 entries, 0 to 361\n",
      "Data columns (total 4 columns):\n",
      " #   Column               Non-Null Count  Dtype \n",
      "---  ------               --------------  ----- \n",
      " 0   Column1              362 non-null    int64 \n",
      " 1   PZ = COD_Pz          362 non-null    object\n",
      " 2   num_seq = ID_Doente  362 non-null    object\n",
      " 3   text                 362 non-null    object\n",
      "dtypes: int64(1), object(3)\n",
      "memory usage: 11.4+ KB\n"
     ]
    }
   ],
   "source": [
    "alertP.info()\n"
   ]
  }
 ],
 "metadata": {
  "kernelspec": {
   "display_name": "base",
   "language": "python",
   "name": "python3"
  },
  "language_info": {
   "codemirror_mode": {
    "name": "ipython",
    "version": 3
   },
   "file_extension": ".py",
   "mimetype": "text/x-python",
   "name": "python",
   "nbconvert_exporter": "python",
   "pygments_lexer": "ipython3",
   "version": "3.9.13"
  },
  "orig_nbformat": 4
 },
 "nbformat": 4,
 "nbformat_minor": 2
}
