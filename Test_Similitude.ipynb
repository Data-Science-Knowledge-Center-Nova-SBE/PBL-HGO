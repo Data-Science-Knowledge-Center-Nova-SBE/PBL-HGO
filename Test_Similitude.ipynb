{
 "cells": [
  {
   "cell_type": "code",
   "execution_count": 56,
   "metadata": {},
   "outputs": [],
   "source": [
    "import pandas as pd\n",
    "\n",
    "listdf = pd.DataFrame()\n"
   ]
  },
  {
   "cell_type": "code",
   "execution_count": 68,
   "metadata": {},
   "outputs": [
    {
     "name": "stderr",
     "output_type": "stream",
     "text": [
      "/var/folders/g5/fkg03q9j52z1zkf7tm78r7pr0000gn/T/ipykernel_78791/2798104773.py:17: FutureWarning: iteritems is deprecated and will be removed in a future version. Use .items instead.\n",
      "  for i, text in listdf[str(n)].iteritems():\n"
     ]
    },
    {
     "name": "stdout",
     "output_type": "stream",
     "text": [
      "0    medication_level_1 1 : medication_level_1, med...\n",
      "1    medication_level_1 2 : medication_level_1, med...\n",
      "2    medication_level_1 3: medication_level_3, medi...\n",
      "3    medication_level_2 medications: medication_lev...\n",
      "Name: 60, dtype: object\n",
      "0    medication_level_1 1 : medication_level_1, med...\n",
      "1    medication_level_1 2 : medication_level_2, med...\n",
      "2    medication_level_1 3: medication_level_3, medi...\n",
      "3    Not medications: medication_level_3, medicatio...\n",
      "Name: 65, dtype: object\n",
      "0    Medication 1 : medication_level_1, medication_...\n",
      "1    Medication 2 : medication_level_2, medication_...\n",
      "2    Medication 3: medication_level_3, medication_l...\n",
      "3    Not medications: Cefaleia, medication_level_1,...\n",
      "Name: 70, dtype: object\n",
      "0    Medication 1 : medication_level_1, medication_...\n",
      "1    Medication 2 : medication_level_2, medication_...\n",
      "2    Medication 3: medication_level_3, medication_l...\n",
      "3    Not medications: Cefaleia, medication_level_1,...\n",
      "Name: 75, dtype: object\n",
      "0    Medication 1 : medication_level_1, medication_...\n",
      "1    Medication 2 : medication_level_2, medication_...\n",
      "2    Medication 3: medication_level_3, medication_l...\n",
      "3    Not medications: Cefaleia, medication_level_1,...\n",
      "Name: 80, dtype: object\n",
      "Data file 'test_similitude.csv' downloaded and saved to 'downloads' directory.\n"
     ]
    },
    {
     "data": {
      "text/html": [
       "<div>\n",
       "<style scoped>\n",
       "    .dataframe tbody tr th:only-of-type {\n",
       "        vertical-align: middle;\n",
       "    }\n",
       "\n",
       "    .dataframe tbody tr th {\n",
       "        vertical-align: top;\n",
       "    }\n",
       "\n",
       "    .dataframe thead th {\n",
       "        text-align: right;\n",
       "    }\n",
       "</style>\n",
       "<table border=\"1\" class=\"dataframe\">\n",
       "  <thead>\n",
       "    <tr style=\"text-align: right;\">\n",
       "      <th></th>\n",
       "      <th>0</th>\n",
       "      <th>60</th>\n",
       "      <th>65</th>\n",
       "      <th>70</th>\n",
       "      <th>75</th>\n",
       "      <th>80</th>\n",
       "    </tr>\n",
       "  </thead>\n",
       "  <tbody>\n",
       "    <tr>\n",
       "      <th>0</th>\n",
       "      <td>Medication 1 : Tegretol, Tegretal, Tegratal, T...</td>\n",
       "      <td>medication_level_1 1 : medication_level_1, med...</td>\n",
       "      <td>medication_level_1 1 : medication_level_1, med...</td>\n",
       "      <td>Medication 1 : medication_level_1, medication_...</td>\n",
       "      <td>Medication 1 : medication_level_1, medication_...</td>\n",
       "      <td>Medication 1 : medication_level_1, medication_...</td>\n",
       "    </tr>\n",
       "    <tr>\n",
       "      <th>1</th>\n",
       "      <td>Medication 2 : Bromalex, Bromolex, Bromolox, B...</td>\n",
       "      <td>medication_level_1 2 : medication_level_1, med...</td>\n",
       "      <td>medication_level_1 2 : medication_level_2, med...</td>\n",
       "      <td>Medication 2 : medication_level_2, medication_...</td>\n",
       "      <td>Medication 2 : medication_level_2, medication_...</td>\n",
       "      <td>Medication 2 : medication_level_2, medication_...</td>\n",
       "    </tr>\n",
       "    <tr>\n",
       "      <th>2</th>\n",
       "      <td>Medication 3: Trajenta, Trajento, Trajinto, Tr...</td>\n",
       "      <td>medication_level_1 3: medication_level_3, medi...</td>\n",
       "      <td>medication_level_1 3: medication_level_3, medi...</td>\n",
       "      <td>Medication 3: medication_level_3, medication_l...</td>\n",
       "      <td>Medication 3: medication_level_3, medication_l...</td>\n",
       "      <td>Medication 3: medication_level_3, medication_l...</td>\n",
       "    </tr>\n",
       "    <tr>\n",
       "      <th>3</th>\n",
       "      <td>Not medications: Cefaleia, Neuro, Neurologia, ...</td>\n",
       "      <td>medication_level_2 medications: medication_lev...</td>\n",
       "      <td>Not medications: medication_level_3, medicatio...</td>\n",
       "      <td>Not medications: Cefaleia, medication_level_1,...</td>\n",
       "      <td>Not medications: Cefaleia, medication_level_1,...</td>\n",
       "      <td>Not medications: Cefaleia, medication_level_1,...</td>\n",
       "    </tr>\n",
       "  </tbody>\n",
       "</table>\n",
       "</div>"
      ],
      "text/plain": [
       "                                                   0  \\\n",
       "0  Medication 1 : Tegretol, Tegretal, Tegratal, T...   \n",
       "1  Medication 2 : Bromalex, Bromolex, Bromolox, B...   \n",
       "2  Medication 3: Trajenta, Trajento, Trajinto, Tr...   \n",
       "3  Not medications: Cefaleia, Neuro, Neurologia, ...   \n",
       "\n",
       "                                                  60  \\\n",
       "0  medication_level_1 1 : medication_level_1, med...   \n",
       "1  medication_level_1 2 : medication_level_1, med...   \n",
       "2  medication_level_1 3: medication_level_3, medi...   \n",
       "3  medication_level_2 medications: medication_lev...   \n",
       "\n",
       "                                                  65  \\\n",
       "0  medication_level_1 1 : medication_level_1, med...   \n",
       "1  medication_level_1 2 : medication_level_2, med...   \n",
       "2  medication_level_1 3: medication_level_3, medi...   \n",
       "3  Not medications: medication_level_3, medicatio...   \n",
       "\n",
       "                                                  70  \\\n",
       "0  Medication 1 : medication_level_1, medication_...   \n",
       "1  Medication 2 : medication_level_2, medication_...   \n",
       "2  Medication 3: medication_level_3, medication_l...   \n",
       "3  Not medications: Cefaleia, medication_level_1,...   \n",
       "\n",
       "                                                  75  \\\n",
       "0  Medication 1 : medication_level_1, medication_...   \n",
       "1  Medication 2 : medication_level_2, medication_...   \n",
       "2  Medication 3: medication_level_3, medication_l...   \n",
       "3  Not medications: Cefaleia, medication_level_1,...   \n",
       "\n",
       "                                                  80  \n",
       "0  Medication 1 : medication_level_1, medication_...  \n",
       "1  Medication 2 : medication_level_2, medication_...  \n",
       "2  Medication 3: medication_level_3, medication_l...  \n",
       "3  Not medications: Cefaleia, medication_level_1,...  "
      ]
     },
     "execution_count": 68,
     "metadata": {},
     "output_type": "execute_result"
    }
   ],
   "source": [
    "data = [\"Medication 1 : Tegretol, Tegretal, Tegratal, Tegrelot, Tegretoli, Tegreitoli; Naramig, Naranig, Naranig, Naragim, Naramigg, Naramiigg;\" , \"Medication 2 : Bromalex, Bromolex, Bromolox, Bromelax, Bromalexx, Bromailexx; Imuran, Imuron, Imoron, Imarun, Imurano, Imuriano;\", \"Medication 3: Trajenta, Trajento, Trajinto, Trajante, Trajental, Trajeintal; Idecortex, Idecortax, Idecartax, Idecertox, Idecortexx, Iddecortexx;\", \"Not medications: Cefaleia, Neuro, Neurologia, Dr, Utente, Epilepsia, Alterações, Agravamento\"]\n",
    "listdf = pd.DataFrame(data)\n",
    "listdf[\"60\"] = listdf[0]\n",
    "listdf[\"65\"] = listdf[0]\n",
    "listdf[\"70\"] = listdf[0]\n",
    "listdf[\"75\"] = listdf[0]\n",
    "listdf[\"80\"] = listdf[0]\n",
    "\n",
    "\n",
    "from fuzzywuzzy import fuzz\n",
    "from fuzzywuzzy import process\n",
    "import re\n",
    "\n",
    "medications_df = pd.read_excel(\"Data/drugs_data.xlsx\",header= 0)\n",
    "\n",
    "for n in [60,65,70,75,80]:\n",
    "    for i, text in listdf[str(n)].iteritems():\n",
    "        words = re.findall(r'\\b\\w+\\b', text)\n",
    "        for index, row in medications_df.iterrows():\n",
    "            medication_name = row[\"name\"]\n",
    "            medication_level = 'medication_level_' + str(row['level'])\n",
    "            for word in words:\n",
    "                ratio = fuzz.ratio(medication_name, word)\n",
    "                if ratio >= n:\n",
    "                    text = re.sub(r'\\b' + word + r'\\b(?![\\w])', medication_level, text)\n",
    "        listdf.at[i, str(n)] = text\n",
    "    print(listdf[str(n)])\n",
    "    \n",
    "\n",
    "listdf\n",
    "load_data(\"test_similitude.csv\",listdf)"
   ]
  },
  {
   "cell_type": "code",
   "execution_count": 75,
   "metadata": {},
   "outputs": [
    {
     "name": "stderr",
     "output_type": "stream",
     "text": [
      "/var/folders/g5/fkg03q9j52z1zkf7tm78r7pr0000gn/T/ipykernel_78791/2331293409.py:17: FutureWarning: iteritems is deprecated and will be removed in a future version. Use .items instead.\n",
      "  for i, text in listdf[str(n)].iteritems():\n"
     ]
    },
    {
     "name": "stdout",
     "output_type": "stream",
     "text": [
      "0    Sexo feminino, 15 anos AP regurgitação mitral ...\n",
      "Name: 60, dtype: object\n",
      "0    Sexo feminino, 15 anos AP regurgitação mitral ...\n",
      "Name: 65, dtype: object\n",
      "0    Sexo feminino, 15 anos AP regurgitação mitral ...\n",
      "Name: 70, dtype: object\n",
      "0    Sexo feminino, 15 anos AP regurgitação mitral ...\n",
      "Name: 75, dtype: object\n",
      "0    Sexo feminino, 15 anos AP regurgitação mitral ...\n",
      "Name: 80, dtype: object\n",
      "Data file 'reff_similitude.csv' downloaded and saved to 'downloads' directory.\n"
     ]
    },
    {
     "data": {
      "text/html": [
       "<div>\n",
       "<style scoped>\n",
       "    .dataframe tbody tr th:only-of-type {\n",
       "        vertical-align: middle;\n",
       "    }\n",
       "\n",
       "    .dataframe tbody tr th {\n",
       "        vertical-align: top;\n",
       "    }\n",
       "\n",
       "    .dataframe thead th {\n",
       "        text-align: right;\n",
       "    }\n",
       "</style>\n",
       "<table border=\"1\" class=\"dataframe\">\n",
       "  <thead>\n",
       "    <tr style=\"text-align: right;\">\n",
       "      <th></th>\n",
       "      <th>0</th>\n",
       "      <th>60</th>\n",
       "      <th>65</th>\n",
       "      <th>70</th>\n",
       "      <th>75</th>\n",
       "      <th>80</th>\n",
       "    </tr>\n",
       "  </thead>\n",
       "  <tbody>\n",
       "    <tr>\n",
       "      <th>0</th>\n",
       "      <td>Sexo feminino, 15 anos AP regurgitação mitral ...</td>\n",
       "      <td>Sexo feminino, 15 anos AP regurgitação mitral ...</td>\n",
       "      <td>Sexo feminino, 15 anos AP regurgitação mitral ...</td>\n",
       "      <td>Sexo feminino, 15 anos AP regurgitação mitral ...</td>\n",
       "      <td>Sexo feminino, 15 anos AP regurgitação mitral ...</td>\n",
       "      <td>Sexo feminino, 15 anos AP regurgitação mitral ...</td>\n",
       "    </tr>\n",
       "  </tbody>\n",
       "</table>\n",
       "</div>"
      ],
      "text/plain": [
       "                                                   0  \\\n",
       "0  Sexo feminino, 15 anos AP regurgitação mitral ...   \n",
       "\n",
       "                                                  60  \\\n",
       "0  Sexo feminino, 15 anos AP regurgitação mitral ...   \n",
       "\n",
       "                                                  65  \\\n",
       "0  Sexo feminino, 15 anos AP regurgitação mitral ...   \n",
       "\n",
       "                                                  70  \\\n",
       "0  Sexo feminino, 15 anos AP regurgitação mitral ...   \n",
       "\n",
       "                                                  75  \\\n",
       "0  Sexo feminino, 15 anos AP regurgitação mitral ...   \n",
       "\n",
       "                                                  80  \n",
       "0  Sexo feminino, 15 anos AP regurgitação mitral ...  "
      ]
     },
     "execution_count": 75,
     "metadata": {},
     "output_type": "execute_result"
    }
   ],
   "source": [
    "data =[\"Sexo feminino, 15 anos AP regurgitação mitral ligeira. A Luísa refere desde início do ano história de cefaleia biparietal, duração cerca de 1h, só de dia. Toma BUR e alivia. Coincidindo com aparecimento da cefaleia refere mancha branca nos olhos. Refere náuseas, não vómitos. Refere coincidir com aparecimento da menstruação. Alivia no escuro, deitada. Já seguida consulta NP por cefaleia mas teve alta. Foi pedido calendário cefaleia: cefaleia cerca 1x/mês, coincidindo com menstruação. O ENS foi sempre normal.Mãe e irmão com enxaqueca. Há cerca de 3 semanas, enquanto estava de férias episódio de dor no peito , estava na praia, de manhã, quando se ia levantar para ir embora sentiu uma dor muito grande no peito, sensação de não ver, começa a cambalear e desmaiou (sic). Não conseguiu chamar mãe porque não conseguia falar. Quando voltou a ela, estava muito confusa. Simultaneamente refere ausência sensibilidade no braço direito. Depois apareceram tonturas e desequilibrio. Foi hospital Litoral Alentejano, e lá é que disseram que era um AVC (sic). Não foi vista por um Neurologista. Fez TAC que foi normal. Fez análises que foram normais. Apesar de explicado à mãe a impobrabilidade do diagnóstico (e que mais provavelmente enxaqueca com aura), por dúvida da mesma em relação ao diagnóstico e por não conseguir excluir outra patologia que se apresente com o quadro clínico descrito, envio para vossa avaliação.\"]\n",
    "listdf = pd.DataFrame(data)\n",
    "listdf[\"60\"] = listdf[0]\n",
    "listdf[\"65\"] = listdf[0]\n",
    "listdf[\"70\"] = listdf[0]\n",
    "listdf[\"75\"] = listdf[0]\n",
    "listdf[\"80\"] = listdf[0]\n",
    "\n",
    "\n",
    "from fuzzywuzzy import fuzz\n",
    "from fuzzywuzzy import process\n",
    "import re\n",
    "\n",
    "medications_df = pd.read_excel(\"Data/drugs_data.xlsx\",header= 0)\n",
    "\n",
    "for n in [60,65,70,75,80]:\n",
    "    for i, text in listdf[str(n)].iteritems():\n",
    "        words = re.findall(r'\\b\\w+\\b', text)\n",
    "        for index, row in medications_df.iterrows():\n",
    "            medication_name = row[\"name\"]\n",
    "            medication_level = 'medication_level_' + str(row['level'])\n",
    "            for word in words:\n",
    "                ratio = fuzz.ratio(medication_name, word)\n",
    "                if ratio >= n:\n",
    "                    text = re.sub(r'\\b' + word + r'\\b(?![\\w])', medication_level, text)\n",
    "        listdf.at[i, str(n)] = text\n",
    "    print(listdf[str(n)])\n",
    "    \n",
    "\n",
    "listdf\n",
    "load_data(\"reff_similitude.csv\",listdf)"
   ]
  },
  {
   "cell_type": "code",
   "execution_count": 63,
   "metadata": {},
   "outputs": [
    {
     "ename": "ValueError",
     "evalue": "Length of values (1) does not match length of index (4)",
     "output_type": "error",
     "traceback": [
      "\u001b[0;31m---------------------------------------------------------------------------\u001b[0m",
      "\u001b[0;31mValueError\u001b[0m                                Traceback (most recent call last)",
      "Cell \u001b[0;32mIn[63], line 1\u001b[0m\n\u001b[0;32m----> 1\u001b[0m listdf[\u001b[39m\"\u001b[39;49m\u001b[39mstring\u001b[39;49m\u001b[39m\"\u001b[39;49m] \u001b[39m=\u001b[39m [\u001b[39m\"\u001b[39m\u001b[39mMedication 1 : Tegretol, Tegretal, Tegratal, Tegrelot, Tegretoli, Tegreitoli; Naramig, Naranig, Naranig, Naragim, Naramigg, Naramiigg;], Medication 2 : Bromalex, Bromolex, Bromolox, Bromelax; Imuran, Imuron, Imoron, Imarun, Imurano, Imuriano; Medication 3: Trajenta, Trajento, Trajinto, Trajante, Trajental, Trajeintal; Idecortex, Idecortax, Idecartax, Idecertox, Idecortexx, Iddecortexx; Not medications: Cefaleia, Neuro, Neurologia, Dr, Utente, Epilepsia, Alterações, Agravamento\u001b[39m\u001b[39m\"\u001b[39m]\n",
      "File \u001b[0;32m/usr/local/lib/python3.11/site-packages/pandas/core/frame.py:3980\u001b[0m, in \u001b[0;36mDataFrame.__setitem__\u001b[0;34m(self, key, value)\u001b[0m\n\u001b[1;32m   3977\u001b[0m     \u001b[39mself\u001b[39m\u001b[39m.\u001b[39m_setitem_array([key], value)\n\u001b[1;32m   3978\u001b[0m \u001b[39melse\u001b[39;00m:\n\u001b[1;32m   3979\u001b[0m     \u001b[39m# set column\u001b[39;00m\n\u001b[0;32m-> 3980\u001b[0m     \u001b[39mself\u001b[39;49m\u001b[39m.\u001b[39;49m_set_item(key, value)\n",
      "File \u001b[0;32m/usr/local/lib/python3.11/site-packages/pandas/core/frame.py:4174\u001b[0m, in \u001b[0;36mDataFrame._set_item\u001b[0;34m(self, key, value)\u001b[0m\n\u001b[1;32m   4164\u001b[0m \u001b[39mdef\u001b[39;00m \u001b[39m_set_item\u001b[39m(\u001b[39mself\u001b[39m, key, value) \u001b[39m-\u001b[39m\u001b[39m>\u001b[39m \u001b[39mNone\u001b[39;00m:\n\u001b[1;32m   4165\u001b[0m \u001b[39m    \u001b[39m\u001b[39m\"\"\"\u001b[39;00m\n\u001b[1;32m   4166\u001b[0m \u001b[39m    Add series to DataFrame in specified column.\u001b[39;00m\n\u001b[1;32m   4167\u001b[0m \n\u001b[0;32m   (...)\u001b[0m\n\u001b[1;32m   4172\u001b[0m \u001b[39m    ensure homogeneity.\u001b[39;00m\n\u001b[1;32m   4173\u001b[0m \u001b[39m    \"\"\"\u001b[39;00m\n\u001b[0;32m-> 4174\u001b[0m     value \u001b[39m=\u001b[39m \u001b[39mself\u001b[39;49m\u001b[39m.\u001b[39;49m_sanitize_column(value)\n\u001b[1;32m   4176\u001b[0m     \u001b[39mif\u001b[39;00m (\n\u001b[1;32m   4177\u001b[0m         key \u001b[39min\u001b[39;00m \u001b[39mself\u001b[39m\u001b[39m.\u001b[39mcolumns\n\u001b[1;32m   4178\u001b[0m         \u001b[39mand\u001b[39;00m value\u001b[39m.\u001b[39mndim \u001b[39m==\u001b[39m \u001b[39m1\u001b[39m\n\u001b[1;32m   4179\u001b[0m         \u001b[39mand\u001b[39;00m \u001b[39mnot\u001b[39;00m is_extension_array_dtype(value)\n\u001b[1;32m   4180\u001b[0m     ):\n\u001b[1;32m   4181\u001b[0m         \u001b[39m# broadcast across multiple columns if necessary\u001b[39;00m\n\u001b[1;32m   4182\u001b[0m         \u001b[39mif\u001b[39;00m \u001b[39mnot\u001b[39;00m \u001b[39mself\u001b[39m\u001b[39m.\u001b[39mcolumns\u001b[39m.\u001b[39mis_unique \u001b[39mor\u001b[39;00m \u001b[39misinstance\u001b[39m(\u001b[39mself\u001b[39m\u001b[39m.\u001b[39mcolumns, MultiIndex):\n",
      "File \u001b[0;32m/usr/local/lib/python3.11/site-packages/pandas/core/frame.py:4915\u001b[0m, in \u001b[0;36mDataFrame._sanitize_column\u001b[0;34m(self, value)\u001b[0m\n\u001b[1;32m   4912\u001b[0m     \u001b[39mreturn\u001b[39;00m _reindex_for_setitem(Series(value), \u001b[39mself\u001b[39m\u001b[39m.\u001b[39mindex)\n\u001b[1;32m   4914\u001b[0m \u001b[39mif\u001b[39;00m is_list_like(value):\n\u001b[0;32m-> 4915\u001b[0m     com\u001b[39m.\u001b[39;49mrequire_length_match(value, \u001b[39mself\u001b[39;49m\u001b[39m.\u001b[39;49mindex)\n\u001b[1;32m   4916\u001b[0m \u001b[39mreturn\u001b[39;00m sanitize_array(value, \u001b[39mself\u001b[39m\u001b[39m.\u001b[39mindex, copy\u001b[39m=\u001b[39m\u001b[39mTrue\u001b[39;00m, allow_2d\u001b[39m=\u001b[39m\u001b[39mTrue\u001b[39;00m)\n",
      "File \u001b[0;32m/usr/local/lib/python3.11/site-packages/pandas/core/common.py:571\u001b[0m, in \u001b[0;36mrequire_length_match\u001b[0;34m(data, index)\u001b[0m\n\u001b[1;32m    567\u001b[0m \u001b[39m\u001b[39m\u001b[39m\"\"\"\u001b[39;00m\n\u001b[1;32m    568\u001b[0m \u001b[39mCheck the length of data matches the length of the index.\u001b[39;00m\n\u001b[1;32m    569\u001b[0m \u001b[39m\"\"\"\u001b[39;00m\n\u001b[1;32m    570\u001b[0m \u001b[39mif\u001b[39;00m \u001b[39mlen\u001b[39m(data) \u001b[39m!=\u001b[39m \u001b[39mlen\u001b[39m(index):\n\u001b[0;32m--> 571\u001b[0m     \u001b[39mraise\u001b[39;00m \u001b[39mValueError\u001b[39;00m(\n\u001b[1;32m    572\u001b[0m         \u001b[39m\"\u001b[39m\u001b[39mLength of values \u001b[39m\u001b[39m\"\u001b[39m\n\u001b[1;32m    573\u001b[0m         \u001b[39mf\u001b[39m\u001b[39m\"\u001b[39m\u001b[39m(\u001b[39m\u001b[39m{\u001b[39;00m\u001b[39mlen\u001b[39m(data)\u001b[39m}\u001b[39;00m\u001b[39m) \u001b[39m\u001b[39m\"\u001b[39m\n\u001b[1;32m    574\u001b[0m         \u001b[39m\"\u001b[39m\u001b[39mdoes not match length of index \u001b[39m\u001b[39m\"\u001b[39m\n\u001b[1;32m    575\u001b[0m         \u001b[39mf\u001b[39m\u001b[39m\"\u001b[39m\u001b[39m(\u001b[39m\u001b[39m{\u001b[39;00m\u001b[39mlen\u001b[39m(index)\u001b[39m}\u001b[39;00m\u001b[39m)\u001b[39m\u001b[39m\"\u001b[39m\n\u001b[1;32m    576\u001b[0m     )\n",
      "\u001b[0;31mValueError\u001b[0m: Length of values (1) does not match length of index (4)"
     ]
    }
   ],
   "source": [
    "listdf[\"string\"] = [\"Medication 1 : Tegretol, Tegretal, Tegratal, Tegrelot, Tegretoli, Tegreitoli; Naramig, Naranig, Naranig, Naragim, Naramigg, Naramiigg;], Medication 2 : Bromalex, Bromolex, Bromolox, Bromelax; Imuran, Imuron, Imoron, Imarun, Imurano, Imuriano; Medication 3: Trajenta, Trajento, Trajinto, Trajante, Trajental, Trajeintal; Idecortex, Idecortax, Idecartax, Idecertox, Idecortexx, Iddecortexx; Not medications: Cefaleia, Neuro, Neurologia, Dr, Utente, Epilepsia, Alterações, Agravamento\"]\n"
   ]
  },
  {
   "cell_type": "code",
   "execution_count": 64,
   "metadata": {},
   "outputs": [],
   "source": [
    "from Functions.NLP.alertp1_nlp import *\n",
    "from Functions.connection.connection import *\n",
    "from Functions.AlertP1.data_cleaning import *"
   ]
  },
  {
   "cell_type": "code",
   "execution_count": 30,
   "metadata": {},
   "outputs": [
    {
     "name": "stderr",
     "output_type": "stream",
     "text": [
      "/Users/miguelcosta/Desktop/PBL/PBL-HGO-1/Functions/NLP/alertp1_nlp.py:150: FutureWarning: iteritems is deprecated and will be removed in a future version. Use .items instead.\n",
      "  for i, text in df[column].iteritems():\n",
      "/Users/miguelcosta/Desktop/PBL/PBL-HGO-1/Functions/NLP/alertp1_nlp.py:150: FutureWarning: iteritems is deprecated and will be removed in a future version. Use .items instead.\n",
      "  for i, text in df[column].iteritems():\n",
      "/Users/miguelcosta/Desktop/PBL/PBL-HGO-1/Functions/NLP/alertp1_nlp.py:150: FutureWarning: iteritems is deprecated and will be removed in a future version. Use .items instead.\n",
      "  for i, text in df[column].iteritems():\n",
      "/Users/miguelcosta/Desktop/PBL/PBL-HGO-1/Functions/NLP/alertp1_nlp.py:150: FutureWarning: iteritems is deprecated and will be removed in a future version. Use .items instead.\n",
      "  for i, text in df[column].iteritems():\n",
      "/Users/miguelcosta/Desktop/PBL/PBL-HGO-1/Functions/NLP/alertp1_nlp.py:150: FutureWarning: iteritems is deprecated and will be removed in a future version. Use .items instead.\n",
      "  for i, text in df[column].iteritems():\n"
     ]
    },
    {
     "data": {
      "text/html": [
       "<div>\n",
       "<style scoped>\n",
       "    .dataframe tbody tr th:only-of-type {\n",
       "        vertical-align: middle;\n",
       "    }\n",
       "\n",
       "    .dataframe tbody tr th {\n",
       "        vertical-align: top;\n",
       "    }\n",
       "\n",
       "    .dataframe thead th {\n",
       "        text-align: right;\n",
       "    }\n",
       "</style>\n",
       "<table border=\"1\" class=\"dataframe\">\n",
       "  <thead>\n",
       "    <tr style=\"text-align: right;\">\n",
       "      <th></th>\n",
       "      <th>string</th>\n",
       "      <th>60</th>\n",
       "      <th>65</th>\n",
       "      <th>70</th>\n",
       "      <th>75</th>\n",
       "      <th>80</th>\n",
       "    </tr>\n",
       "  </thead>\n",
       "  <tbody>\n",
       "    <tr>\n",
       "      <th>0</th>\n",
       "      <td>Medication 1 : Tegretol, Tegretal, Tegratal, T...</td>\n",
       "      <td>medication_level_1 1 : Tegretol, Tegretal, Teg...</td>\n",
       "      <td>medication_level_1 1 : Tegretol, Tegretal, Teg...</td>\n",
       "      <td>Medication 1 : Tegretol, Tegretal, Tegratal, T...</td>\n",
       "      <td>Medication 1 : Tegretol, Tegretal, Tegratal, T...</td>\n",
       "      <td>Medication 1 : Tegretol, Tegretal, Tegratal, T...</td>\n",
       "    </tr>\n",
       "  </tbody>\n",
       "</table>\n",
       "</div>"
      ],
      "text/plain": [
       "                                              string  \\\n",
       "0  Medication 1 : Tegretol, Tegretal, Tegratal, T...   \n",
       "\n",
       "                                                  60  \\\n",
       "0  medication_level_1 1 : Tegretol, Tegretal, Teg...   \n",
       "\n",
       "                                                  65  \\\n",
       "0  medication_level_1 1 : Tegretol, Tegretal, Teg...   \n",
       "\n",
       "                                                  70  \\\n",
       "0  Medication 1 : Tegretol, Tegretal, Tegratal, T...   \n",
       "\n",
       "                                                  75  \\\n",
       "0  Medication 1 : Tegretol, Tegretal, Tegratal, T...   \n",
       "\n",
       "                                                  80  \n",
       "0  Medication 1 : Tegretol, Tegretal, Tegratal, T...  "
      ]
     },
     "execution_count": 30,
     "metadata": {},
     "output_type": "execute_result"
    }
   ],
   "source": [
    "for i in [60,65,70,75,80]:\n",
    "    categorize_medication(listdf, str(i), \"Data/drugs_data.xlsx\", i)\n",
    "\n",
    "listdf"
   ]
  },
  {
   "cell_type": "code",
   "execution_count": 40,
   "metadata": {},
   "outputs": [
    {
     "name": "stderr",
     "output_type": "stream",
     "text": [
      "/var/folders/g5/fkg03q9j52z1zkf7tm78r7pr0000gn/T/ipykernel_78791/1039642457.py:8: FutureWarning: iteritems is deprecated and will be removed in a future version. Use .items instead.\n",
      "  for i, text in listdf[str(n)].iteritems():\n"
     ]
    },
    {
     "name": "stdout",
     "output_type": "stream",
     "text": [
      "0    medication_level_1 1 : medication_level_1, med...\n",
      "Name: 60, dtype: object\n",
      "0    medication_level_1 1 : medication_level_1, med...\n",
      "Name: 65, dtype: object\n",
      "0    Medication 1 : medication_level_1, medication_...\n",
      "Name: 70, dtype: object\n",
      "0    Medication 1 : medication_level_1, medication_...\n",
      "Name: 75, dtype: object\n",
      "0    Medication 1 : medication_level_1, medication_...\n",
      "Name: 80, dtype: object\n"
     ]
    }
   ],
   "source": [
    "from fuzzywuzzy import fuzz\n",
    "from fuzzywuzzy import process\n",
    "import re\n",
    "\n",
    "medications_df = pd.read_excel(\"Data/drugs_data.xlsx\",header= 0)\n",
    "\n",
    "for n in [60,65,70,75,80]:\n",
    "    for i, text in listdf[str(n)].iteritems():\n",
    "        words = re.findall(r'\\b\\w+\\b', text)\n",
    "        for index, row in medications_df.iterrows():\n",
    "            medication_name = row[\"name\"]\n",
    "            medication_level = 'medication_level_' + str(row['level'])\n",
    "            for word in words:\n",
    "                ratio = fuzz.ratio(medication_name, word)\n",
    "                if ratio >= n:\n",
    "                    text = re.sub(r'\\b' + word + r'\\b(?![\\w])', medication_level, text)\n",
    "        listdf.at[i, str(n)] = text\n",
    "    print(listdf[str(n)])\n",
    "    "
   ]
  },
  {
   "cell_type": "code",
   "execution_count": 26,
   "metadata": {},
   "outputs": [
    {
     "name": "stderr",
     "output_type": "stream",
     "text": [
      "/Users/miguelcosta/Desktop/PBL/PBL-HGO-1/Functions/NLP/alertp1_nlp.py:150: FutureWarning: iteritems is deprecated and will be removed in a future version. Use .items instead.\n",
      "  for i, text in df[column].iteritems():\n"
     ]
    },
    {
     "name": "stdout",
     "output_type": "stream",
     "text": [
      "0    Medication 1 : Tegretol, Tegretal, Tegratal, T...\n",
      "Name: 70, dtype: object\n"
     ]
    },
    {
     "ename": "AttributeError",
     "evalue": "'NoneType' object has no attribute 'item'",
     "output_type": "error",
     "traceback": [
      "\u001b[0;31m---------------------------------------------------------------------------\u001b[0m",
      "\u001b[0;31mAttributeError\u001b[0m                            Traceback (most recent call last)",
      "Cell \u001b[0;32mIn[26], line 3\u001b[0m\n\u001b[1;32m      1\u001b[0m categorize_medication(listdf,\u001b[39m\"\u001b[39m\u001b[39m70\u001b[39m\u001b[39m\"\u001b[39m,\u001b[39m\"\u001b[39m\u001b[39mData/drugs_data_big.xlsx\u001b[39m\u001b[39m\"\u001b[39m, \u001b[39m70\u001b[39m)\n\u001b[0;32m----> 3\u001b[0m \u001b[39mprint\u001b[39;49m(listdf[\u001b[39m\"\u001b[39;49m\u001b[39m70\u001b[39;49m\u001b[39m\"\u001b[39;49m])\u001b[39m.\u001b[39;49mitem\n",
      "\u001b[0;31mAttributeError\u001b[0m: 'NoneType' object has no attribute 'item'"
     ]
    }
   ],
   "source": [
    "categorize_medication(listdf,\"70\",\"Data/drugs_data_big.xlsx\", 70)\n",
    "\n",
    "print(listdf[\"70\"])"
   ]
  },
  {
   "cell_type": "code",
   "execution_count": 27,
   "metadata": {},
   "outputs": [
    {
     "name": "stdout",
     "output_type": "stream",
     "text": [
      "['Medication', '1', ':', 'Tegretol,', 'Tegretal,', 'Tegratal,', 'Tegrelot,', 'Tegretoli,', 'Tegreitoli;', 'Naramig,', 'Naranig,', 'Naranig,', 'Naragim,', 'Naramigg,', 'Naramiigg;', 'Medication', '2', ':', 'Bromalex,', 'Bromolex,', 'Bromolox,', 'Bromelax;', 'Imuran,', 'Imuron,', 'Imoron,', 'Imarun,', 'Imurano,', 'Imuriano;', 'Medication', '3:', 'Trajenta,', 'Trajento,', 'Trajinto,', 'Trajante,', 'Trajental,', 'Trajeintal;', 'Idecortex,', 'Idecortax,', 'Idecartax,', 'Idecertox,', 'Idecortexx,', 'Iddecortexx;', 'Not', 'medications:', 'Cefaleia,', 'Neuro,', 'Neurologia,', 'Dr,', 'Utente,', 'Epilepsia,', 'Alterações,', 'Agravamento']\n"
     ]
    },
    {
     "name": "stderr",
     "output_type": "stream",
     "text": [
      "/var/folders/g5/fkg03q9j52z1zkf7tm78r7pr0000gn/T/ipykernel_78791/3574895259.py:1: FutureWarning: iteritems is deprecated and will be removed in a future version. Use .items instead.\n",
      "  for i, text in listdf[\"70\"].iteritems():\n"
     ]
    }
   ],
   "source": [
    "for i, text in listdf[\"70\"].iteritems():\n",
    "    words = text.split()\n",
    "    print(words)"
   ]
  },
  {
   "cell_type": "code",
   "execution_count": 41,
   "metadata": {},
   "outputs": [
    {
     "name": "stdout",
     "output_type": "stream",
     "text": [
      "Data file 'test_similitude.csv' downloaded and saved to 'downloads' directory.\n"
     ]
    },
    {
     "data": {
      "text/html": [
       "<div>\n",
       "<style scoped>\n",
       "    .dataframe tbody tr th:only-of-type {\n",
       "        vertical-align: middle;\n",
       "    }\n",
       "\n",
       "    .dataframe tbody tr th {\n",
       "        vertical-align: top;\n",
       "    }\n",
       "\n",
       "    .dataframe thead th {\n",
       "        text-align: right;\n",
       "    }\n",
       "</style>\n",
       "<table border=\"1\" class=\"dataframe\">\n",
       "  <thead>\n",
       "    <tr style=\"text-align: right;\">\n",
       "      <th></th>\n",
       "      <th>string</th>\n",
       "      <th>60</th>\n",
       "      <th>65</th>\n",
       "      <th>70</th>\n",
       "      <th>75</th>\n",
       "      <th>80</th>\n",
       "    </tr>\n",
       "  </thead>\n",
       "  <tbody>\n",
       "    <tr>\n",
       "      <th>0</th>\n",
       "      <td>Medication 1 : Tegretol, Tegretal, Tegratal, T...</td>\n",
       "      <td>medication_level_1 1 : medication_level_1, med...</td>\n",
       "      <td>medication_level_1 1 : medication_level_1, med...</td>\n",
       "      <td>Medication 1 : medication_level_1, medication_...</td>\n",
       "      <td>Medication 1 : medication_level_1, medication_...</td>\n",
       "      <td>Medication 1 : medication_level_1, medication_...</td>\n",
       "    </tr>\n",
       "  </tbody>\n",
       "</table>\n",
       "</div>"
      ],
      "text/plain": [
       "                                              string  \\\n",
       "0  Medication 1 : Tegretol, Tegretal, Tegratal, T...   \n",
       "\n",
       "                                                  60  \\\n",
       "0  medication_level_1 1 : medication_level_1, med...   \n",
       "\n",
       "                                                  65  \\\n",
       "0  medication_level_1 1 : medication_level_1, med...   \n",
       "\n",
       "                                                  70  \\\n",
       "0  Medication 1 : medication_level_1, medication_...   \n",
       "\n",
       "                                                  75  \\\n",
       "0  Medication 1 : medication_level_1, medication_...   \n",
       "\n",
       "                                                  80  \n",
       "0  Medication 1 : medication_level_1, medication_...  "
      ]
     },
     "execution_count": 41,
     "metadata": {},
     "output_type": "execute_result"
    }
   ],
   "source": [
    "listdf\n",
    "\n",
    "load_data(\"test_similitude.csv\",listdf)"
   ]
  }
 ],
 "metadata": {
  "kernelspec": {
   "display_name": "Python 3",
   "language": "python",
   "name": "python3"
  },
  "language_info": {
   "codemirror_mode": {
    "name": "ipython",
    "version": 3
   },
   "file_extension": ".py",
   "mimetype": "text/x-python",
   "name": "python",
   "nbconvert_exporter": "python",
   "pygments_lexer": "ipython3",
   "version": "3.11.2"
  },
  "orig_nbformat": 4
 },
 "nbformat": 4,
 "nbformat_minor": 2
}
