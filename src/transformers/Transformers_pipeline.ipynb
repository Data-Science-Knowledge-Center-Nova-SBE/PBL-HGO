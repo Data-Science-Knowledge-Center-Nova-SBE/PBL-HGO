{
 "cells": [
  {
   "cell_type": "code",
   "execution_count": 1,
   "metadata": {},
   "outputs": [
    {
     "name": "stdout",
     "output_type": "stream",
     "text": [
      "Tables: [(bytearray(b'ConsultaUrgencia_doentespedidosconsultaNeurologia2012'),), (bytearray(b'consultaneurologia2012'),), (bytearray(b'consultaneurologia201216anon_true'),), (bytearray(b'hgo_data_032023'),)]\n",
      "521\n"
     ]
    },
    {
     "name": "stderr",
     "output_type": "stream",
     "text": [
      "/home/miguelcosta/Desktop/PBL-HGO/src/db/connection.py:30: UserWarning: pandas only supports SQLAlchemy connectable (engine/connection) or database string URI or sqlite3 DBAPI2 connection. Other DBAPI2 objects are not tested. Please consider using SQLAlchemy.\n",
      "  alertP1 = pd.read_sql(\"\"\"SELECT * FROM consultaneurologia201216anon_true\"\"\",mydb)\n",
      "/home/miguelcosta/Desktop/PBL-HGO/src/pre_processing/data_cleaning.py:14: SettingWithCopyWarning: \n",
      "A value is trying to be set on a copy of a slice from a DataFrame\n",
      "\n",
      "See the caveats in the documentation: https://pandas.pydata.org/pandas-docs/stable/user_guide/indexing.html#returning-a-view-versus-a-copy\n",
      "  alertP1['PROVENIENCIA'][alertP1['PROVENIENCIA']=='']='unknown'\n",
      "/home/miguelcosta/Desktop/PBL-HGO/src/pre_processing/data_cleaning.py:15: SettingWithCopyWarning: \n",
      "A value is trying to be set on a copy of a slice from a DataFrame\n",
      "\n",
      "See the caveats in the documentation: https://pandas.pydata.org/pandas-docs/stable/user_guide/indexing.html#returning-a-view-versus-a-copy\n",
      "  alertP1['CTH_PRIOR'][alertP1['CTH_PRIOR']=='']='unknown'\n",
      "/home/miguelcosta/Desktop/PBL-HGO/src/pre_processing/data_cleaning.py:25: SettingWithCopyWarning: \n",
      "A value is trying to be set on a copy of a slice from a DataFrame\n",
      "\n",
      "See the caveats in the documentation: https://pandas.pydata.org/pandas-docs/stable/user_guide/indexing.html#returning-a-view-versus-a-copy\n",
      "  alertP1['COD_UNID_SAUDE_PROV'][alertP1['COD_UNID_SAUDE_PROV']==3151401]=3151400\n",
      "/home/miguelcosta/Desktop/PBL-HGO/src/pre_processing/data_cleaning.py:26: SettingWithCopyWarning: \n",
      "A value is trying to be set on a copy of a slice from a DataFrame\n",
      "\n",
      "See the caveats in the documentation: https://pandas.pydata.org/pandas-docs/stable/user_guide/indexing.html#returning-a-view-versus-a-copy\n",
      "  alertP1['COD_UNID_SAUDE_PROV'][alertP1['COD_UNID_SAUDE_PROV']==3150503]=3150572\n",
      "/home/miguelcosta/Desktop/PBL-HGO/src/pre_processing/data_cleaning.py:27: SettingWithCopyWarning: \n",
      "A value is trying to be set on a copy of a slice from a DataFrame\n",
      "\n",
      "See the caveats in the documentation: https://pandas.pydata.org/pandas-docs/stable/user_guide/indexing.html#returning-a-view-versus-a-copy\n",
      "  alertP1['COD_UNID_SAUDE_PROV'][alertP1['COD_UNID_SAUDE_PROV']==3151603]=3151671\n",
      "/home/miguelcosta/Desktop/PBL-HGO/src/pre_processing/data_cleaning.py:28: SettingWithCopyWarning: \n",
      "A value is trying to be set on a copy of a slice from a DataFrame\n",
      "\n",
      "See the caveats in the documentation: https://pandas.pydata.org/pandas-docs/stable/user_guide/indexing.html#returning-a-view-versus-a-copy\n",
      "  alertP1['COD_UNID_SAUDE_PROV'][alertP1['COD_UNID_SAUDE_PROV']==3152101]=3152100\n",
      "/home/miguelcosta/Desktop/PBL-HGO/src/pre_processing/data_cleaning.py:30: SettingWithCopyWarning: \n",
      "A value is trying to be set on a copy of a slice from a DataFrame\n",
      "\n",
      "See the caveats in the documentation: https://pandas.pydata.org/pandas-docs/stable/user_guide/indexing.html#returning-a-view-versus-a-copy\n",
      "  alertP1['PROVENIENCIA'][alertP1['COD_UNID_SAUDE_PROV']==3150371]='CTH'\n",
      "/home/miguelcosta/Desktop/PBL-HGO/src/pre_processing/features_creation/features_creation_baseline.py:40: FutureWarning: Setting an item of incompatible dtype is deprecated and will raise in a future error of pandas. Value 'accepted before' has dtype incompatible with int64, please explicitly cast to a compatible dtype first.\n",
      "  alertP1.loc[alertP1['before_accepted']==1, 'before_accepted'] = 'accepted before'\n",
      "/home/miguelcosta/Desktop/PBL-HGO/src/pre_processing/features_creation/features_creation_baseline.py:20: SettingWithCopyWarning: \n",
      "A value is trying to be set on a copy of a slice from a DataFrame\n",
      "\n",
      "See the caveats in the documentation: https://pandas.pydata.org/pandas-docs/stable/user_guide/indexing.html#returning-a-view-versus-a-copy\n",
      "  alertP1['step'][alertP1['step']>=3]='3+'\n",
      "/home/miguelcosta/Desktop/PBL-HGO/src/pre_processing/features_creation/features_creation_baseline.py:20: FutureWarning: Setting an item of incompatible dtype is deprecated and will raise in a future error of pandas. Value '3+' has dtype incompatible with int64, please explicitly cast to a compatible dtype first.\n",
      "  alertP1['step'][alertP1['step']>=3]='3+'\n"
     ]
    }
   ],
   "source": [
    "import sys\n",
    "sys.path.append('/home/miguelcosta/Desktop/PBL-HGO')\n",
    "import pandas as pd\n",
    "# import pandasql as ps\n",
    "#import matplotlib.pyplot as plt\n",
    "# Import argsort\n",
    "from numpy import argsort\n",
    "from src.db.connection import *\n",
    "from src.modelling_pipelines.final_model_pipeline import *\n",
    "from src.modelling_pipelines.modelling_functions.xgboost import *\n",
    "alertP1=connection(\"credentials.txt\")\n",
    "data = pre_process(alertP1)\n",
    "\n",
    "X = data.Texto\n",
    "y = data.result # Target variable\n",
    "\n",
    "# split X and y into training and testing sets\n",
    "X_train, X_test, y_train, y_test = train_test_split(X, y, test_size=0.2,random_state=16,shuffle=False)\n"
   ]
  },
  {
   "cell_type": "code",
   "execution_count": 3,
   "metadata": {},
   "outputs": [
    {
     "name": "stderr",
     "output_type": "stream",
     "text": [
      "/home/miguelcosta/.conda/envs/aequitas/lib/python3.11/site-packages/tqdm/auto.py:21: TqdmWarning: IProgress not found. Please update jupyter and ipywidgets. See https://ipywidgets.readthedocs.io/en/stable/user_install.html\n",
      "  from .autonotebook import tqdm as notebook_tqdm\n"
     ]
    }
   ],
   "source": [
    "from transformers import AutoTokenizer, AutoModelForSequenceClassification, AdamW\n",
    "from torch.nn import CrossEntropyLoss\n",
    "from torch.utils.data import Dataset, DataLoader\n",
    "import torch\n",
    "\n",
    "class TextDataset(Dataset):\n",
    "    def __init__(self, texts, labels, tokenizer):\n",
    "        self.texts = texts\n",
    "        self.labels = labels\n",
    "        self.tokenizer = tokenizer\n",
    "\n",
    "    def __len__(self):\n",
    "        return len(self.texts)\n",
    "\n",
    "    def __getitem__(self, idx):\n",
    "        text = self.texts[idx]\n",
    "        label = self.labels[idx]\n",
    "        encoding = self.tokenizer.encode_plus(\n",
    "            text,\n",
    "            truncation=True,\n",
    "            padding='max_length',\n",
    "            max_length=512,\n",
    "            return_tensors='pt'\n",
    "        )\n",
    "        return {\n",
    "            'input_ids': encoding['input_ids'].flatten(),\n",
    "            'attention_mask': encoding['attention_mask'].flatten(),\n",
    "            'labels': torch.tensor(label, dtype=torch.long)\n",
    "        }\n",
    "\n",
    "def train_model(X_train, y_train, model_name, learning_rate, weight_decay=1e-3, dropout_rate=0.5, optimizer_name=\"Adam\", num_epochs=1):\n",
    "    # Convert Series to lists\n",
    "    X_train = X_train.tolist()\n",
    "    y_train = y_train.tolist()\n",
    "\n",
    "    # Load model and tokenizer\n",
    "    model = AutoModelForSequenceClassification.from_pretrained(model_name)\n",
    "    tokenizer = AutoTokenizer.from_pretrained(model_name)\n",
    "\n",
    "    # Add dropout layers to the model\n",
    "    model.config.hidden_dropout_prob = dropout_rate\n",
    "    model.config.attention_probs_dropout_prob = dropout_rate\n",
    "\n",
    "    # Convert data to tensors\n",
    "    dataset = TextDataset(X_train, y_train, tokenizer)\n",
    "    dataloader = DataLoader(dataset, batch_size=64)\n",
    "\n",
    "    # Define optimizer using the sampled learning_rate and weight_decay\n",
    "    if optimizer_name == \"Adam\":\n",
    "        optimizer = AdamW(model.parameters(), lr=learning_rate, weight_decay=weight_decay)\n",
    "    elif optimizer_name == \"SGD\":\n",
    "        optimizer = torch.optim.SGD(model.parameters(), lr=learning_rate, weight_decay=weight_decay)\n",
    "    elif optimizer_name == \"RMSProp\":\n",
    "        optimizer = torch.optim.RMSprop(model.parameters(), lr=learning_rate, weight_decay=weight_decay)\n",
    "    else:\n",
    "        raise ValueError(\"Unknown optimizer: \" + optimizer_name)\n",
    "\n",
    "    # Define loss function\n",
    "    loss_fn = CrossEntropyLoss()\n",
    "\n",
    "    # Training loop\n",
    "    for epoch in range(num_epochs):  # Number of epochs\n",
    "        for batch in dataloader:\n",
    "            input_ids = batch['input_ids']\n",
    "            attention_mask = batch['attention_mask']\n",
    "            labels = batch['labels']\n",
    "\n",
    "            # Forward pass\n",
    "            outputs = model(input_ids=input_ids, attention_mask=attention_mask)\n",
    "            logits = outputs.logits\n",
    "\n",
    "            # Compute loss\n",
    "            loss = loss_fn(logits.view(-1, model.config.num_labels), labels.view(-1))\n",
    "\n",
    "            # Backward pass and optimization\n",
    "            optimizer.zero_grad()\n",
    "            loss.backward()\n",
    "            optimizer.step()\n",
    "\n",
    "    return model\n",
    "\n",
    "\n",
    "def predict(model, X_test, model_name):\n",
    "    # Convert Series to list\n",
    "    X_test = X_test.tolist()\n",
    "\n",
    "    # Load tokenizer\n",
    "    tokenizer = AutoTokenizer.from_pretrained(model_name)\n",
    "\n",
    "    # Convert data to tensors\n",
    "    dataset = TextDataset(X_test, [0]*len(X_test), tokenizer)  # Dummy labels for prediction\n",
    "    dataloader = DataLoader(dataset, batch_size=64)\n",
    "\n",
    "    predictions = []\n",
    "\n",
    "    # Prediction loop\n",
    "    model.eval()\n",
    "    with torch.no_grad():\n",
    "        for batch in dataloader:\n",
    "            input_ids = batch['input_ids']\n",
    "            attention_mask = batch['attention_mask']\n",
    "\n",
    "            # Forward pass\n",
    "            outputs = model(input_ids=input_ids, attention_mask=attention_mask)\n",
    "            logits = outputs.logits\n",
    "\n",
    "            # Get predictions\n",
    "            _, preds = torch.max(logits.view(-1, model.config.num_labels), dim=1)\n",
    "            predictions.extend(preds.tolist())\n",
    "\n",
    "    return predictions\n"
   ]
  },
  {
   "cell_type": "code",
   "execution_count": 4,
   "metadata": {},
   "outputs": [],
   "source": [
    "import optuna\n",
    "from sklearn.metrics import f1_score\n",
    "\n",
    "# Define the objective function using F1 score\n",
    "def objective(trial):\n",
    "    # Sample hyperparameters\n",
    "    learning_rate = trial.suggest_loguniform(\"learning_rate\", 1e-5, 1e-3)\n",
    "    #num_epochs = trial.suggest_int(\"num_epochs\", 3, 10)\n",
    "    #weight_decay = trial.suggest_loguniform(\"weight_decay\", 1e-6, 1e-3)\n",
    "    #dropout_rate = trial.suggest_uniform(\"dropout_rate\", 0.0, 0.5)\n",
    "    #optimizer_name = trial.suggest_categorical(\"optimizer\", [\"Adam\", \"SGD\", \"RMSProp\"])\n",
    "    \n",
    "    # Train and evaluate a model using the sampled hyperparameters\n",
    "    #model = train_model(X_train, y_train, model_name, learning_rate, weight_decay, dropout_rate, optimizer_name, num_epochs)\n",
    "    model = train_model(X_train, y_train, model_name, learning_rate)\n",
    "\n",
    "    predictions = predict(model, X_test, model_name)\n",
    "    \n",
    "    # Calculate F1 score\n",
    "    f1 = f1_score(y_test, predictions)\n",
    "\n",
    "    return f1\n",
    "\n",
    "# Create an Optuna study\n",
    "#study = optuna.create_study(direction=\"maximize\")  # Note the direction \"maximize\" for F1 score\n",
    "\n",
    "# Start the optimization process\n",
    "#study.optimize(objective, n_trials=50)  # You can adjust the number of trials\n",
    "\n",
    "# Access the best hyperparameters\n",
    "#best_params = study.best_params\n",
    "\n",
    "# Train the final model with the best hyperparameters\n",
    "#final_model = train_model(X_train, y_train, model_name, **best_params)\n",
    "\n",
    "# Evaluate the final model on the test set\n",
    "#test_predictions = predict(final_model, X_test, model_name)\n",
    "#test_f1 = f1_score(y_test, test_predictions)\n"
   ]
  },
  {
   "cell_type": "code",
   "execution_count": 1,
   "metadata": {},
   "outputs": [
    {
     "name": "stdout",
     "output_type": "stream",
     "text": [
      "2.1.0\n"
     ]
    }
   ],
   "source": [
    "import torch\n",
    "\n",
    "print(torch.__version__)\n",
    "\n"
   ]
  },
  {
   "cell_type": "code",
   "execution_count": 5,
   "metadata": {},
   "outputs": [
    {
     "name": "stderr",
     "output_type": "stream",
     "text": [
      "[I 2023-10-13 17:44:59,801] A new study created in memory with name: no-name-ecc74221-e6a9-462f-b7b0-4e1ae9da2f5d\n",
      "/tmp/ipykernel_385016/1110449813.py:7: FutureWarning: suggest_loguniform has been deprecated in v3.0.0. This feature will be removed in v6.0.0. See https://github.com/optuna/optuna/releases/tag/v3.0.0. Use suggest_float(..., log=True) instead.\n",
      "  learning_rate = trial.suggest_loguniform(\"learning_rate\", 1e-5, 1e-3)\n",
      "Some weights of BertForSequenceClassification were not initialized from the model checkpoint at pucpr/biobertpt-all and are newly initialized: ['classifier.bias', 'classifier.weight']\n",
      "You should probably TRAIN this model on a down-stream task to be able to use it for predictions and inference.\n",
      "/home/miguelcosta/.conda/envs/aequitas/lib/python3.11/site-packages/transformers/optimization.py:411: FutureWarning: This implementation of AdamW is deprecated and will be removed in a future version. Use the PyTorch implementation torch.optim.AdamW instead, or set `no_deprecation_warning=True` to disable this warning\n",
      "  warnings.warn(\n",
      "[I 2023-10-13 17:57:00,385] Trial 0 finished with value: 0.0 and parameters: {'learning_rate': 0.00044253794423686086}. Best is trial 0 with value: 0.0.\n"
     ]
    }
   ],
   "source": [
    "model_name = \"pucpr/biobertpt-all\"\n",
    "\n",
    "# Create an Optuna study\n",
    "study = optuna.create_study(direction=\"maximize\")  # Note the direction \"maximize\" for F1 score\n",
    "\n",
    "# Start the optimization process\n",
    "study.optimize(objective, n_trials=1)  # You can adjust the number of trials\n",
    "\n",
    "# Access the best hyperparameters\n",
    "best_params = study.best_params"
   ]
  },
  {
   "cell_type": "code",
   "execution_count": 6,
   "metadata": {},
   "outputs": [
    {
     "name": "stderr",
     "output_type": "stream",
     "text": [
      "Some weights of BertForSequenceClassification were not initialized from the model checkpoint at pucpr/biobertpt-all and are newly initialized: ['classifier.bias', 'classifier.weight']\n",
      "You should probably TRAIN this model on a down-stream task to be able to use it for predictions and inference.\n",
      "/home/miguelcosta/.conda/envs/aequitas/lib/python3.11/site-packages/transformers/optimization.py:411: FutureWarning: This implementation of AdamW is deprecated and will be removed in a future version. Use the PyTorch implementation torch.optim.AdamW instead, or set `no_deprecation_warning=True` to disable this warning\n",
      "  warnings.warn(\n"
     ]
    }
   ],
   "source": [
    "# Train the final model with the best hyperparameters\n",
    "final_model = train_model(X_train, y_train, model_name, **best_params)\n",
    "\n",
    "# Evaluate the final model on the test set\n",
    "test_predictions = predict(final_model, X_test, model_name)\n",
    "test_f1 = f1_score(y_test, test_predictions)\n"
   ]
  },
  {
   "cell_type": "code",
   "execution_count": 7,
   "metadata": {},
   "outputs": [
    {
     "data": {
      "text/plain": [
       "0.7917448405253283"
      ]
     },
     "execution_count": 7,
     "metadata": {},
     "output_type": "execute_result"
    }
   ],
   "source": [
    "test_f1"
   ]
  },
  {
   "cell_type": "code",
   "execution_count": 10,
   "metadata": {},
   "outputs": [
    {
     "name": "stderr",
     "output_type": "stream",
     "text": [
      "/tmp/ipykernel_385016/3358216001.py:6: FutureWarning: \n",
      "\n",
      "Passing `palette` without assigning `hue` is deprecated and will be removed in v0.14.0. Assign the `x` variable to `hue` and set `legend=False` for the same effect.\n",
      "\n",
      "  sns.countplot(x=test_predictions, palette='Set2')\n"
     ]
    },
    {
     "data": {
      "image/png": "[encoded data removed]",
      "text/plain": [
       "<Figure size 800x600 with 1 Axes>"
      ]
     },
     "metadata": {},
     "output_type": "display_data"
    }
   ],
   "source": [
    "\n",
    "import matplotlib.pyplot as plt\n",
    "import seaborn as sns\n",
    "\n",
    "# Create a count plot\n",
    "plt.figure(figsize=(8, 6))\n",
    "sns.countplot(x=test_predictions, palette='Set2')\n",
    "plt.xlabel('Predicted Labels')\n",
    "plt.ylabel('Count')\n",
    "plt.title('Distribution of Predicted Labels')\n",
    "plt.show()"
   ]
  },
  {
   "cell_type": "code",
   "execution_count": null,
   "metadata": {},
   "outputs": [],
   "source": []
  }
 ],
 "metadata": {
  "kernelspec": {
   "display_name": "aequitas",
   "language": "python",
   "name": "python3"
  },
  "language_info": {
   "codemirror_mode": {
    "name": "ipython",
    "version": 3
   },
   "file_extension": ".py",
   "mimetype": "text/x-python",
   "name": "python",
   "nbconvert_exporter": "python",
   "pygments_lexer": "ipython3",
   "version": "3.11.3"
  }
 },
 "nbformat": 4,
 "nbformat_minor": 2
}
