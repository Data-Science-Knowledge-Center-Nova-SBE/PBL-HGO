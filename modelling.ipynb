{
 "cells": [
  {
   "cell_type": "code",
   "execution_count": 8,
   "metadata": {},
   "outputs": [],
   "source": [
    "import mysql.connector\n",
    "import pandas as pd\n",
    "import pandasql as ps\n",
    "import matplotlib.pyplot as plt\n",
    "# Import argsort\n",
    "from numpy import argsort"
   ]
  },
  {
   "cell_type": "code",
   "execution_count": 9,
   "metadata": {},
   "outputs": [],
   "source": [
    "creds = pd.read_csv('credentials.csv')"
   ]
  },
  {
   "cell_type": "code",
   "execution_count": 10,
   "metadata": {},
   "outputs": [
    {
     "name": "stdout",
     "output_type": "stream",
     "text": [
      "Tables: [('ConsultaUrgencia_doentespedidosconsultaNeurologia2012',), ('consultaneurologia2012',), ('consultaneurologia201216anon_true',)]\n",
      "680\n"
     ]
    }
   ],
   "source": [
    "#Connection to the database\n",
    "host = creds['value'][0]\n",
    "user = creds['value'][1]\n",
    "password = creds['value'][2]\n",
    "database = creds['value'][3]\n",
    "port = creds['value'][4]\n",
    "mydb = mysql.connector.connect(host=host, user=user, database=database, port=port, password=password, auth_plugin='mysql_native_password')\n",
    "mycursor = mydb.cursor()\n",
    "#Safecheck to guarantee that the connection worked\n",
    "mycursor.execute('SHOW TABLES;')\n",
    "print(f\"Tables: {mycursor.fetchall()}\")\n",
    "print(mydb.connection_id) #it'll give connection_id,if got connected\n",
    "\n"
   ]
  },
  {
   "cell_type": "code",
   "execution_count": 21,
   "metadata": {},
   "outputs": [
    {
     "name": "stderr",
     "output_type": "stream",
     "text": [
      "C:\\Users\\MAROUA~1\\AppData\\Local\\Temp/ipykernel_12460/1306523630.py:9: SettingWithCopyWarning: \n",
      "A value is trying to be set on a copy of a slice from a DataFrame\n",
      "\n",
      "See the caveats in the documentation: https://pandas.pydata.org/pandas-docs/stable/user_guide/indexing.html#returning-a-view-versus-a-copy\n",
      "  alertP1['PROVENIENCIA'][alertP1['PROVENIENCIA']=='']='unknown'\n",
      "C:\\Users\\MAROUA~1\\AppData\\Local\\Temp/ipykernel_12460/1306523630.py:10: SettingWithCopyWarning: \n",
      "A value is trying to be set on a copy of a slice from a DataFrame\n",
      "\n",
      "See the caveats in the documentation: https://pandas.pydata.org/pandas-docs/stable/user_guide/indexing.html#returning-a-view-versus-a-copy\n",
      "  alertP1['CTH_PRIOR'][alertP1['CTH_PRIOR']=='']='unknown'\n"
     ]
    }
   ],
   "source": [
    "alertP1 = pd.read_sql(\"\"\"SELECT * FROM consultaneurologia201216anon_true\"\"\",mydb)\n",
    "#changing columns with date to a datetime\n",
    "alertP1[\"DATA_ENVIO\"] = pd.to_datetime(alertP1[\"DATA_ENVIO\"],dayfirst=True, yearfirst=False )\n",
    "alertP1[\"DATA_RECEPCAO\"] = pd.to_datetime(alertP1[\"DATA_RECEPCAO\"],dayfirst=True, yearfirst=False)\n",
    "alertP1[\"DATA_RETORNO\"] = pd.to_datetime(alertP1[alertP1[\"DATA_RETORNO\"]!='26/06/0214'][\"DATA_RETORNO\"],dayfirst=True, yearfirst=False)\n",
    "alertP1[\"DATA_REALIZACAO\"] = pd.to_datetime(alertP1[\"DATA_REALIZACAO\"],dayfirst=True, yearfirst=False)\n",
    "alertP1[\"DATA_MARCACAO\"] = pd.to_datetime(alertP1[\"DATA_MARCACAO\"],dayfirst=True, yearfirst=False)\n",
    "#change the blank values in proveniencia to unknown\n",
    "alertP1['PROVENIENCIA'][alertP1['PROVENIENCIA']=='']='unknown'\n",
    "alertP1['CTH_PRIOR'][alertP1['CTH_PRIOR']=='']='unknown'\n",
    "#create a column with the output of a referral\n",
    "alertP1['result']=['Accepted' if x in [0,14,15,53,8,12,13] else 'Refused' if x in [1,6,10,7] else '' for x in alertP1['COD_MOTIVO_RECUSA'] ]\n",
    "#create a list with code of units inside area\n",
    "area_list=[3150502,3151672,3150671,3150572,3150305,3150571,3151571,3151574,3150371,3151573,3150672,3152401,3150605,3152471,3151575,3151671,3151601,3150573,3151576,3150506,3150504,3152400,3150501,3150603,3151707,9999999,3152403,3151400,3152100,3151401,4021100,4021104,3152002]\n",
    "#create a column with area of the unit\n",
    "alertP1['area']=['inside area' if x in area_list else 'outside area' for x in alertP1['COD_UNID_SAUDE_PROV'] ]\n",
    "#compute length of text\n",
    "alertP1['text_length']=alertP1['Texto'].str.len()\n",
    "#step of referral(first or second or ..)\n",
    "alertP1['step']=alertP1.sort_values(by=['DATA_RECEPCAO']).groupby('ID_DOENTE').cumcount()+1\n",
    "\n",
    "alertP1.head()"
   ]
  },
  {
   "cell_type": "code",
   "execution_count": 47,
   "metadata": {},
   "outputs": [
    {
     "data": {
      "text/html": [
       "<div>\n",
       "<style scoped>\n",
       "    .dataframe tbody tr th:only-of-type {\n",
       "        vertical-align: middle;\n",
       "    }\n",
       "\n",
       "    .dataframe tbody tr th {\n",
       "        vertical-align: top;\n",
       "    }\n",
       "\n",
       "    .dataframe thead th {\n",
       "        text-align: right;\n",
       "    }\n",
       "</style>\n",
       "<table border=\"1\" class=\"dataframe\">\n",
       "  <thead>\n",
       "    <tr style=\"text-align: right;\">\n",
       "      <th></th>\n",
       "      <th>step</th>\n",
       "      <th>number_of_acceptance</th>\n",
       "      <th>percentage</th>\n",
       "    </tr>\n",
       "  </thead>\n",
       "  <tbody>\n",
       "    <tr>\n",
       "      <th>0</th>\n",
       "      <td>1</td>\n",
       "      <td>4985</td>\n",
       "      <td>61.0</td>\n",
       "    </tr>\n",
       "    <tr>\n",
       "      <th>1</th>\n",
       "      <td>2</td>\n",
       "      <td>1029</td>\n",
       "      <td>66.0</td>\n",
       "    </tr>\n",
       "    <tr>\n",
       "      <th>2</th>\n",
       "      <td>3</td>\n",
       "      <td>192</td>\n",
       "      <td>64.0</td>\n",
       "    </tr>\n",
       "    <tr>\n",
       "      <th>3</th>\n",
       "      <td>4</td>\n",
       "      <td>38</td>\n",
       "      <td>57.0</td>\n",
       "    </tr>\n",
       "    <tr>\n",
       "      <th>4</th>\n",
       "      <td>5</td>\n",
       "      <td>6</td>\n",
       "      <td>35.0</td>\n",
       "    </tr>\n",
       "    <tr>\n",
       "      <th>5</th>\n",
       "      <td>6</td>\n",
       "      <td>4</td>\n",
       "      <td>57.0</td>\n",
       "    </tr>\n",
       "  </tbody>\n",
       "</table>\n",
       "</div>"
      ],
      "text/plain": [
       "   step  number_of_acceptance  percentage\n",
       "0     1                  4985        61.0\n",
       "1     2                  1029        66.0\n",
       "2     3                   192        64.0\n",
       "3     4                    38        57.0\n",
       "4     5                     6        35.0\n",
       "5     6                     4        57.0"
      ]
     },
     "execution_count": 47,
     "metadata": {},
     "output_type": "execute_result"
    }
   ],
   "source": [
    "accepted=alertP1[alertP1['result']=='Accepted']['ID_DOENTE'].groupby(alertP1['step']).count().reset_index().rename(columns={\"ID_DOENTE\":\"number_of_acceptance\"})\n",
    "\n",
    "total_referrals = alertP1['ID_DOENTE'].groupby(alertP1['step']).count().reset_index().rename(columns={\"ID_DOENTE\":\"number_of_referrals\"})\n",
    "total_referrals\n",
    "#divide the number of referrals for each specialty and priority level by the total number of referrals for that specialty, then multiply by 100 to get the percentage\n",
    "accepted['percentage'] = round(accepted['number_of_acceptance'] / total_referrals['number_of_referrals'] * 100)\n",
    "accepted"
   ]
  }
 ],
 "metadata": {
  "kernelspec": {
   "display_name": "base",
   "language": "python",
   "name": "python3"
  },
  "language_info": {
   "codemirror_mode": {
    "name": "ipython",
    "version": 3
   },
   "file_extension": ".py",
   "mimetype": "text/x-python",
   "name": "python",
   "nbconvert_exporter": "python",
   "pygments_lexer": "ipython3",
   "version": "3.9.7"
  },
  "orig_nbformat": 4,
  "vscode": {
   "interpreter": {
    "hash": "9d91b5d41c32464a82f078828d67789b294595d7d55688d7b087827f8c0aadb0"
   }
  }
 },
 "nbformat": 4,
 "nbformat_minor": 2
}
