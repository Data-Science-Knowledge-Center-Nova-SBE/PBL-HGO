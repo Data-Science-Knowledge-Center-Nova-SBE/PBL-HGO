{
 "cells": [
  {
   "cell_type": "code",
   "execution_count": null,
   "metadata": {},
   "outputs": [],
   "source": [
    "import pandas as pd\n",
    "from Functions.AlertP1.data_cleaning import *\n",
    "from Functions.NLP.alertp1_nlp import *\n",
    "from Functions.connection.connection import *"
   ]
  },
  {
   "cell_type": "code",
   "execution_count": null,
   "metadata": {},
   "outputs": [],
   "source": [
    "df = pd.read_csv(\"credentials.txt\", sep=\" \", header=None, names=[\"Value\"])\n",
    "\n",
    "#Connection to the database\n",
    "host = df[\"Value\"][2]\n",
    "user = df[\"Value\"][0]\n",
    "password = df[\"Value\"][1]\n",
    "database = df[\"Value\"][3]\n",
    "port = df[\"Value\"][4]\n",
    "mydb = mysql.connector.connect(host=host, user=user, database=database, port=port, password=password, auth_plugin='mysql_native_password')\n",
    "mycursor = mydb.cursor()\n",
    "\n",
    "#Safecheck to guarantee that the connection worked\n",
    "mycursor.execute('SHOW TABLES;')\n",
    "print(f\"Tables: {mycursor.fetchall()}\")\n",
    "print(mydb.connection_id) #it'll give connection_id,if got connected\n",
    "\n",
    "#Create a DataFrame\n",
    "alertP1 = pd.read_sql(\"\"\"SELECT * FROM consultaneurologia201216anon_true\"\"\",mydb)"
   ]
  },
  {
   "cell_type": "code",
   "execution_count": null,
   "metadata": {},
   "outputs": [],
   "source": [
    "#Data Cleaning\n",
    "date_format_alertP1(alertP1)\n",
    "replace_blank(alertP1)\n",
    "\n",
    "#NLP\n",
    "remove_stop_words(alertP1, \"Texto\", \"clean_text\")\n",
    "spacy_lemmatizer(alertP1, \"clean_text\", \"clean_text\")\n",
    "\n",
    "alertP1.head()\n",
    "categorize_medication(alertP1, \"clean_text\", \"Data/drugs_data_big.xlsx\", 75)\n",
    "load_data(\"data_with_meds.csv\",alertP1)"
   ]
  }
 ],
 "metadata": {
  "language_info": {
   "name": "python"
  },
  "orig_nbformat": 4
 },
 "nbformat": 4,
 "nbformat_minor": 2
}
