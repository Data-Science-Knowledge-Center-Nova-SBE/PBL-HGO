{
 "cells": [
  {
   "attachments": {},
   "cell_type": "markdown",
   "metadata": {},
   "source": [
    "https://towardsdatascience.com/bert-for-measuring-text-similarity-eec91c6bf9e1\n",
    "\n",
    "\n",
    "https://towardsdatascience.com/similarity-metrics-in-nlp-acc0777e234c \n",
    "\n",
    "https://www.youtube.com/watch?v=Ey81KfQ3PQU\n"
   ]
  },
  {
   "attachments": {},
   "cell_type": "markdown",
   "metadata": {},
   "source": [
    "Model semantic search: 'multi-qa-MiniLM-L6-cos-v1'\n",
    "\n",
    "Model assymetric : 'msmarco-MiniLM-L-6-v3'"
   ]
  },
  {
   "cell_type": "code",
   "execution_count": 1,
   "metadata": {},
   "outputs": [
    {
     "name": "stderr",
     "output_type": "stream",
     "text": [
      "/home/gabrielabib/.conda/envs/nova/lib/python3.11/site-packages/tqdm/auto.py:21: TqdmWarning: IProgress not found. Please update jupyter and ipywidgets. See https://ipywidgets.readthedocs.io/en/stable/user_install.html\n",
      "  from .autonotebook import tqdm as notebook_tqdm\n"
     ]
    }
   ],
   "source": [
    "import pandas as pd\n",
    "from Functions.connection.connection import *\n",
    "from Functions.AlertP1.data_cleaning import *\n",
    "from Functions.AlertP1.features import *\n",
    "from Functions.analysis.step_analysis import *\n",
    "from Functions.AlertP1.dummy_features import *\n",
    "from Functions.Models.Logistic_regression import *\n",
    "from Functions.Models.evaluation import *\n",
    "from Data_with_NLP import *\n",
    "import pandas as pd\n",
    "# import pandasql as ps\n",
    "import matplotlib.pyplot as plt\n",
    "# Import argsort\n",
    "from numpy import argsort\n",
    "from Functions.connection.connection import *\n",
    "from Functions.AlertP1.data_cleaning import *\n",
    "from Functions.AlertP1.features import *\n",
    "from Functions.analysis.step_analysis import *\n",
    "from Functions.AlertP1.dummy_features import *\n",
    "from Functions.Models.Logistic_regression import *\n",
    "from Functions.Models.evaluation import *\n",
    "from Functions.BERT.bert import *\n",
    "from Data_with_NLP import *\n",
    "from Functions.pipeline import *\n",
    "import warnings\n",
    "warnings.filterwarnings('ignore')"
   ]
  },
  {
   "cell_type": "code",
   "execution_count": 2,
   "metadata": {},
   "outputs": [],
   "source": [
    "protocols = pd.read_csv('./BERT/protocols.csv')\n",
    "protocols_acceptance = protocols[['Acceptance']]\n",
    "protocols_refusal = protocols[['Refusal']]\n",
    "protocols_acceptance.dropna(inplace=True)"
   ]
  },
  {
   "cell_type": "code",
   "execution_count": 3,
   "metadata": {},
   "outputs": [
    {
     "name": "stderr",
     "output_type": "stream",
     "text": [
      "[nltk_data] Downloading package stopwords to\n",
      "[nltk_data]     /home/gabrielabib/nltk_data...\n",
      "[nltk_data]   Package stopwords is already up-to-date!\n",
      "[nltk_data] Downloading package punkt to\n",
      "[nltk_data]     /home/gabrielabib/nltk_data...\n",
      "[nltk_data]   Package punkt is already up-to-date!\n",
      "[nltk_data] Downloading package stopwords to\n",
      "[nltk_data]     /home/gabrielabib/nltk_data...\n",
      "[nltk_data]   Package stopwords is already up-to-date!\n",
      "[nltk_data] Downloading package punkt to\n",
      "[nltk_data]     /home/gabrielabib/nltk_data...\n",
      "[nltk_data]   Package punkt is already up-to-date!\n"
     ]
    },
    {
     "data": {
      "text/html": [
       "<div>\n",
       "<style scoped>\n",
       "    .dataframe tbody tr th:only-of-type {\n",
       "        vertical-align: middle;\n",
       "    }\n",
       "\n",
       "    .dataframe tbody tr th {\n",
       "        vertical-align: top;\n",
       "    }\n",
       "\n",
       "    .dataframe thead th {\n",
       "        text-align: right;\n",
       "    }\n",
       "</style>\n",
       "<table border=\"1\" class=\"dataframe\">\n",
       "  <thead>\n",
       "    <tr style=\"text-align: right;\">\n",
       "      <th></th>\n",
       "      <th>Acceptance</th>\n",
       "    </tr>\n",
       "  </thead>\n",
       "  <tbody>\n",
       "    <tr>\n",
       "      <th>0</th>\n",
       "      <td>cefaleia crónico refratária associar abuso med...</td>\n",
       "    </tr>\n",
       "    <tr>\n",
       "      <th>1</th>\n",
       "      <td>distúrbio movimento distúrbio equilíbrio quer ...</td>\n",
       "    </tr>\n",
       "    <tr>\n",
       "      <th>2</th>\n",
       "      <td>doença neuromuscular genético dor neuropático ...</td>\n",
       "    </tr>\n",
       "    <tr>\n",
       "      <th>3</th>\n",
       "      <td>distúrbio aprendizagem retardor psicomotor</td>\n",
       "    </tr>\n",
       "    <tr>\n",
       "      <th>4</th>\n",
       "      <td>síndromes demencial demência primário secundár...</td>\n",
       "    </tr>\n",
       "    <tr>\n",
       "      <th>5</th>\n",
       "      <td>esclerose múltiplo outro doença desmielinizant...</td>\n",
       "    </tr>\n",
       "  </tbody>\n",
       "</table>\n",
       "</div>"
      ],
      "text/plain": [
       "                                          Acceptance\n",
       "0  cefaleia crónico refratária associar abuso med...\n",
       "1  distúrbio movimento distúrbio equilíbrio quer ...\n",
       "2  doença neuromuscular genético dor neuropático ...\n",
       "3         distúrbio aprendizagem retardor psicomotor\n",
       "4  síndromes demencial demência primário secundár...\n",
       "5  esclerose múltiplo outro doença desmielinizant..."
      ]
     },
     "execution_count": 3,
     "metadata": {},
     "output_type": "execute_result"
    }
   ],
   "source": [
    "# # 1. Data cleaning\n",
    "lower_text(protocols_acceptance,'Acceptance', 'Acceptance')\n",
    "lower_text(protocols_refusal,'Refusal', 'Refusal')\n",
    "remove_stop_words(protocols_acceptance,'Acceptance', 'Acceptance')\n",
    "remove_stop_words(protocols_refusal,'Refusal', 'Refusal')\n",
    "spacy_lemmatizer(protocols_acceptance,'Acceptance', 'Acceptance')\n",
    "spacy_lemmatizer(protocols_refusal,'Refusal', 'Refusal')\n",
    "\n",
    "protocols_acceptance"
   ]
  },
  {
   "cell_type": "code",
   "execution_count": 4,
   "metadata": {},
   "outputs": [
    {
     "data": {
      "text/plain": [
       "['cefaleia crónico refratária associar abuso medicamentoso',\n",
       " 'distúrbio movimento distúrbio equilíbrio quer frequente distonia doença parkinson parkinsonismo esclarecer tremor essencial difícil controle ataxias esclarecer coreia / balismos etc',\n",
       " 'doença neuromuscular genético dor neuropático refratário parestesia recorrente e/ou progressivo paraplegia paresio esclerose lateral amiotrófico suspeito miopatia miastenia grave outro transtorno neuromuscular amiotrofia espinhal síndromes correlato polineuropatia outro transtorno sistema nervoso periférico snp doenço neurogenético',\n",
       " 'distúrbio aprendizagem retardor psicomotor',\n",
       " 'síndromes demencial demência primário secundário dúvida diagnósticar demência rapidamente progressivo',\n",
       " 'esclerose múltiplo outro doença desmielinizante neuroimunológico']"
      ]
     },
     "execution_count": 4,
     "metadata": {},
     "output_type": "execute_result"
    }
   ],
   "source": [
    "acceptance_list = protocols_acceptance['Acceptance'].tolist()\n",
    "acceptance_list"
   ]
  },
  {
   "cell_type": "code",
   "execution_count": 5,
   "metadata": {},
   "outputs": [
    {
     "data": {
      "text/plain": [
       "['cefaleia crónico refratária associar abuso medicamentoso']"
      ]
     },
     "execution_count": 5,
     "metadata": {},
     "output_type": "execute_result"
    }
   ],
   "source": [
    "[acceptance_list[0]]"
   ]
  },
  {
   "cell_type": "code",
   "execution_count": 6,
   "metadata": {},
   "outputs": [
    {
     "name": "stdout",
     "output_type": "stream",
     "text": [
      "Tables: [('ConsultaUrgencia_doentespedidosconsultaNeurologia2012',), ('consultaneurologia2012',), ('consultaneurologia201216anon_true',), ('hgo_data_032023',)]\n",
      "39\n"
     ]
    },
    {
     "name": "stderr",
     "output_type": "stream",
     "text": [
      "[nltk_data] Downloading package stopwords to\n",
      "[nltk_data]     /home/gabrielabib/nltk_data...\n",
      "[nltk_data]   Package stopwords is already up-to-date!\n",
      "[nltk_data] Downloading package punkt to\n",
      "[nltk_data]     /home/gabrielabib/nltk_data...\n",
      "[nltk_data]   Package punkt is already up-to-date!\n"
     ]
    }
   ],
   "source": [
    "alertP1 = connection('credentials.txt')\n",
    "data = pre_process(alertP1)\n"
   ]
  },
  {
   "cell_type": "code",
   "execution_count": 7,
   "metadata": {},
   "outputs": [],
   "source": [
    "# alertP1_simplified = alertP1[['COD_REFERENCIA', 'Texto']]"
   ]
  },
  {
   "cell_type": "code",
   "execution_count": 8,
   "metadata": {},
   "outputs": [],
   "source": [
    "# alertP1_simplified.info()"
   ]
  },
  {
   "cell_type": "code",
   "execution_count": 9,
   "metadata": {},
   "outputs": [],
   "source": [
    "# lower_text(alertP1_simplified,'Texto', 'Texto')\n",
    "# remove_stop_words(alertP1_simplified,'Texto', 'Texto_Stop_Words')\n",
    "# spacy_lemmatizer(alertP1_simplified,'Texto_Stop_Words', 'text_lemmatized')\n",
    "# alertP1_simplified"
   ]
  },
  {
   "cell_type": "code",
   "execution_count": 10,
   "metadata": {},
   "outputs": [],
   "source": [
    "model_name = 'pucpr/biobertpt-all'"
   ]
  },
  {
   "cell_type": "code",
   "execution_count": 11,
   "metadata": {},
   "outputs": [],
   "source": [
    "from sentence_transformers import SentenceTransformer"
   ]
  },
  {
   "cell_type": "code",
   "execution_count": 12,
   "metadata": {},
   "outputs": [
    {
     "name": "stderr",
     "output_type": "stream",
     "text": [
      "Downloading (…)f7df7/.gitattributes: 100%|██████████| 391/391 [00:00<00:00, 1.57MB/s]\n",
      "Downloading (…)c504af7df7/README.md: 100%|██████████| 4.05k/4.05k [00:00<00:00, 15.4MB/s]\n",
      "Downloading (…)04af7df7/config.json: 100%|██████████| 1.32k/1.32k [00:00<00:00, 5.21MB/s]\n",
      "Downloading pytorch_model.bin: 100%|██████████| 714M/714M [00:44<00:00, 16.2MB/s] \n",
      "Downloading (…)cial_tokens_map.json: 100%|██████████| 112/112 [00:00<00:00, 508kB/s]\n",
      "Downloading (…)okenizer_config.json: 100%|██████████| 40.0/40.0 [00:00<00:00, 178kB/s]\n",
      "Downloading (…)c504af7df7/vocab.txt: 100%|██████████| 996k/996k [00:00<00:00, 2.36MB/s]\n",
      "No sentence-transformers model found with name /home/gabrielabib/.cache/torch/sentence_transformers/pucpr_biobertpt-all. Creating a new one with MEAN pooling.\n",
      "Some weights of the model checkpoint at /home/gabrielabib/.cache/torch/sentence_transformers/pucpr_biobertpt-all were not used when initializing BertModel: ['cls.predictions.transform.LayerNorm.weight', 'cls.predictions.bias', 'cls.predictions.transform.dense.weight', 'cls.predictions.transform.dense.bias', 'cls.predictions.decoder.bias', 'cls.predictions.decoder.weight', 'cls.predictions.transform.LayerNorm.bias']\n",
      "- This IS expected if you are initializing BertModel from the checkpoint of a model trained on another task or with another architecture (e.g. initializing a BertForSequenceClassification model from a BertForPreTraining model).\n",
      "- This IS NOT expected if you are initializing BertModel from the checkpoint of a model that you expect to be exactly identical (initializing a BertForSequenceClassification model from a BertForSequenceClassification model).\n"
     ]
    }
   ],
   "source": [
    "model = SentenceTransformer(model_name)"
   ]
  },
  {
   "cell_type": "code",
   "execution_count": 13,
   "metadata": {},
   "outputs": [],
   "source": [
    "from sklearn.metrics.pairwise import cosine_similarity\n",
    "\n",
    "referrals = data['clean_text'].tolist()\n",
    "\n",
    "\n",
    "for index, protocol in enumerate(acceptance_list):\n",
    "\n",
    "    sentences = [protocol] + referrals\n",
    "\n",
    "    sentences_vectors = model.encode(sentences)\n",
    "\n",
    "    results = cosine_similarity([sentences_vectors[0]], sentences_vectors[1:])\n",
    "\n",
    "    column_name = 'acc_prot_' + str(index)\n",
    "\n",
    "    data[column_name] = results[0]\n",
    "\n",
    "    \n"
   ]
  },
  {
   "cell_type": "code",
   "execution_count": 14,
   "metadata": {},
   "outputs": [],
   "source": [
    "# alertP1_simplified.describe()\n",
    "import xgboost as xgb\n"
   ]
  },
  {
   "cell_type": "code",
   "execution_count": 15,
   "metadata": {},
   "outputs": [],
   "source": [
    "def precision_at_k(y_true, y_pred, k):\n",
    "    y_true = y_true.to_numpy()\n",
    "    # Get the indices of the top k predictions\n",
    "    top_k_indices = np.argsort(y_pred)[-k:]\n",
    "    # Get the top k predictions\n",
    "    top_k_predictions = y_true[top_k_indices]\n",
    "    # Calculate precision@k\n",
    "    precision = np.sum(top_k_predictions) / k\n",
    "    return precision"
   ]
  },
  {
   "cell_type": "code",
   "execution_count": 16,
   "metadata": {},
   "outputs": [],
   "source": [
    "def xgb_classifier(features, target):\n",
    "    \n",
    "    # split X and y into training and testing sets\n",
    "    X_train, X_test, y_train, y_test = train_test_split(features, target, test_size=0.2,random_state=16,shuffle=False)\n",
    "\n",
    "    # X_train['before_accepted'] = X_train['before_accepted'].astype('category')\n",
    "    # X_test['before_accepted'] = X_test['before_accepted'].astype('category')\n",
    "\n",
    "    # Convert data into DMatrix format\n",
    "    dtrain = xgb.DMatrix(X_train, label=y_train, enable_categorical = True)\n",
    "    dtest = xgb.DMatrix(X_test, enable_categorical = True)\n",
    "\n",
    "    # Set parameters for the XGBoost model\n",
    "    param = {\n",
    "        'max_depth': 3,\n",
    "        'eta': 0.3,\n",
    "        'objective': 'binary:logistic',\n",
    "        'seed': 16\n",
    "    }\n",
    "\n",
    "    # Train the model\n",
    "    num_round = 10\n",
    "    bst = xgb.train(param, dtrain, num_round)\n",
    "\n",
    "    # Make preictions on the train set\n",
    "    y_pred_train = bst.predict(dtrain)\n",
    "    # Make predictions on the test set\n",
    "    y_pred_test = bst.predict(dtest)\n",
    "    \n",
    "    return y_pred_train, y_pred_test, bst.get_score(), X_train, X_test, y_train, y_test    "
   ]
  },
  {
   "cell_type": "code",
   "execution_count": 17,
   "metadata": {},
   "outputs": [],
   "source": [
    "eliminate_cols=['ID_DOENTE','PROCESSO','COD_REFERENCIA','result','COD_PZ','COD_UNID_SAUDE_PROV','UNID_PROV','TIPO_UNID','COD_CTH_PRIOR','CTH_PRIOR','COD_MOTIVO_RECUSA','DES_MOTIVO_RECUSA','COD_ESPECIALIDADE','DES_ESPECIALIDADE','agrupadora','OUTRA_ENTIDADE','DATA_RECEPCAO','DATA_ENVIO','DATA_RETORNO','NUM_TAXA','ESTADO','DATA_MARCACAO','DATA_REALIZACAO','OBSERVACOES','Mês_entrada','Ano_entrada','trata data recusa','resume saída','mês_saida','ano_saida','Texto','clean_text']\n",
    "X = data.drop(eliminate_cols,axis=1)# Features\n",
    "y = data.result # Target variable\n",
    "features=X.columns\n",
    "\n",
    "y_pred_train, y_pred_test, model_score, X_train, X_test, y_train, y_test = xgb_classifier(X,y)"
   ]
  },
  {
   "cell_type": "code",
   "execution_count": 18,
   "metadata": {},
   "outputs": [],
   "source": [
    "import pandas as pd\n",
    "from sklearn.metrics import accuracy_score, recall_score, precision_score, precision_recall_curve, auc, confusion_matrix, cohen_kappa_score\n",
    "\n",
    "def evaluate_thresholds(y_pred_train, y_train, y_pred_test, y_test, metrics = \"test\", k=211):\n",
    "    #Precion@k\n",
    "    def precision_at_k(y_true, y_pred, k):\n",
    "        y_true = y_true.to_numpy()\n",
    "        # Get the indices of the top k predictions\n",
    "        top_k_indices = np.argsort(y_pred)[-k:]\n",
    "        # Get the top k predictions\n",
    "        top_k_predictions = y_true[top_k_indices]\n",
    "        # Calculate precision@k\n",
    "        precision = np.sum(top_k_predictions) / k\n",
    "        return precision\n",
    "\n",
    "    if metrics == \"test\":\n",
    "        # Default threshold (0.5)\n",
    "        default_threshold = 0.5\n",
    "        default_y_pred_binary = (y_pred_test >= default_threshold).astype(int)\n",
    "        default_accuracy = accuracy_score(y_test, default_y_pred_binary)\n",
    "        default_recall = recall_score(y_test, default_y_pred_binary)\n",
    "        default_precision = precision_score(y_test, default_y_pred_binary)\n",
    "        default_precision_at_k = precision_at_k(y_test, default_y_pred_binary, k)\n",
    "        \n",
    "        # Define thresholds\n",
    "    \n",
    "\n",
    "        # Precision-Recall trade-off\n",
    "        precision, recall, thresholds = precision_recall_curve(y_train, y_pred_train)\n",
    "        f1_scores = 2 * precision * recall / (precision + recall)\n",
    "        best_index = pd.Series(f1_scores).idxmax()\n",
    "        pr_threshold = thresholds[best_index]\n",
    "        pr_y_pred_binary = (y_pred_test >= pr_threshold).astype(int)\n",
    "        pr_accuracy = accuracy_score(y_test, pr_y_pred_binary)\n",
    "        pr_recall = recall_score(y_test, pr_y_pred_binary)\n",
    "        pr_precision = precision_score(y_test, pr_y_pred_binary)\n",
    "        pr_precision_at_k = precision_at_k(y_test, pr_y_pred_binary, k)\n",
    "        \n",
    "        thresholds = np.linspace(0, 1, 100)\n",
    "\n",
    "        # Balanced Accuracy\n",
    "        cms = [confusion_matrix(y_train, (y_pred_train >= t).astype(int)) for t in thresholds]\n",
    "        sensitivity = [cm[1, 1] / (cm[1, 1] + cm[1, 0]) for cm in cms]\n",
    "        specificity = [cm[0, 0] / (cm[0, 0] + cm[0, 1]) for cm in cms]\n",
    "        balanced_accuracy = [(s + sp) / 2 for s, sp in zip(sensitivity, specificity)]\n",
    "        ba_threshold = thresholds[np.argmax(balanced_accuracy)]\n",
    "        ba_y_pred_binary = (y_pred_test >= ba_threshold).astype(int)\n",
    "        ba_accuracy = accuracy_score(y_test, ba_y_pred_binary)\n",
    "        ba_recall = recall_score(y_test, ba_y_pred_binary)\n",
    "        ba_precision = precision_score(y_test, ba_y_pred_binary)\n",
    "        ba_precision_at_k = precision_at_k(y_test, ba_y_pred_binary,k)\n",
    "        \n",
    "        # Cohen's Kappa\n",
    "        kappas = [cohen_kappa_score(y_train, (y_pred_train >= t).astype(int)) for t in thresholds]\n",
    "        kappa_threshold = thresholds[np.argmax(kappas)]\n",
    "        kappa_y_pred_binary = (y_pred_test >= kappa_threshold).astype(int)\n",
    "        kappa_kappa = cohen_kappa_score(y_test, kappa_y_pred_binary)\n",
    "        kappa_accuracy = accuracy_score(y_test, kappa_y_pred_binary)\n",
    "        kappa_recall = recall_score(y_test, kappa_y_pred_binary)\n",
    "        kappa_precision = precision_score(y_test, kappa_y_pred_binary)\n",
    "        kappa_precision_at_k = precision_at_k(y_test, kappa_y_pred_binary, k)\n",
    "\n",
    "        # Limit to K\n",
    "        len_train_k = int(len(y_pred_train)*0.65)\n",
    "        limit_to_k_threshold = np.sort(y_pred_train)[-len_train_k]\n",
    "        limit_to_k_y_pred_binary = (y_pred_test >= limit_to_k_threshold).astype(int)\n",
    "        limit_to_k_accuracy = accuracy_score(y_test, limit_to_k_y_pred_binary)\n",
    "        limit_to_k_recall = recall_score(y_test, limit_to_k_y_pred_binary)\n",
    "        limit_to_k_precision = precision_score(y_test, limit_to_k_y_pred_binary)\n",
    "        limit_to_k_precision_at_k = precision_at_k(y_test, limit_to_k_y_pred_binary, k)\n",
    "\n",
    "    else:\n",
    "        # Default threshold (0.5)\n",
    "        default_threshold = 0.5\n",
    "        default_y_pred_binary = (y_pred_train >= default_threshold).astype(int)\n",
    "        default_accuracy = accuracy_score(y_train, default_y_pred_binary)\n",
    "        default_recall = recall_score(y_train, default_y_pred_binary)\n",
    "        default_precision = precision_score(y_train, default_y_pred_binary)\n",
    "        default_precision_at_k = precision_at_k(y_train, default_y_pred_binary, k)\n",
    "        \n",
    "        # Define thresholds\n",
    "    \n",
    "\n",
    "        # Precision-Recall trade-off\n",
    "        precision, recall, thresholds = precision_recall_curve(y_train, y_pred_train)\n",
    "        f1_scores = 2 * precision * recall / (precision + recall)\n",
    "        best_index = pd.Series(f1_scores).idxmax()\n",
    "        pr_threshold = thresholds[best_index]\n",
    "        pr_y_pred_binary = (y_pred_train >= pr_threshold).astype(int)\n",
    "        pr_accuracy = accuracy_score(y_train, pr_y_pred_binary)\n",
    "        pr_recall = recall_score(y_train, pr_y_pred_binary)\n",
    "        pr_precision = precision_score(y_train, pr_y_pred_binary)\n",
    "        pr_precision_at_k = precision_at_k(y_train, pr_y_pred_binary, k)\n",
    "        \n",
    "        thresholds = np.linspace(0, 1, 100)\n",
    "\n",
    "        # Balanced Accuracy\n",
    "        cms = [confusion_matrix(y_train, (y_pred_train >= t).astype(int)) for t in thresholds]\n",
    "        sensitivity = [cm[1, 1] / (cm[1, 1] + cm[1, 0]) for cm in cms]\n",
    "        specificity = [cm[0, 0] / (cm[0, 0] + cm[0, 1]) for cm in cms]\n",
    "        balanced_accuracy = [(s + sp) / 2 for s, sp in zip(sensitivity, specificity)]\n",
    "        ba_threshold = thresholds[np.argmax(balanced_accuracy)]\n",
    "        ba_y_pred_binary = (y_pred_train >= ba_threshold).astype(int)\n",
    "        ba_accuracy = accuracy_score(y_train, ba_y_pred_binary)\n",
    "        ba_recall = recall_score(y_train, ba_y_pred_binary)\n",
    "        ba_precision = precision_score(y_train, ba_y_pred_binary)\n",
    "        ba_precision_at_k = precision_at_k(y_train, ba_y_pred_binary,k)\n",
    "        \n",
    "        # Cohen's Kappa\n",
    "        kappas = [cohen_kappa_score(y_train, (y_pred_train >= t).astype(int)) for t in thresholds]\n",
    "        kappa_threshold = thresholds[np.argmax(kappas)]\n",
    "        kappa_y_pred_binary = (y_pred_train >= kappa_threshold).astype(int)\n",
    "        kappa_kappa = cohen_kappa_score(y_train, kappa_y_pred_binary)\n",
    "        kappa_accuracy = accuracy_score(y_train, kappa_y_pred_binary)\n",
    "        kappa_recall = recall_score(y_train, kappa_y_pred_binary)\n",
    "        kappa_precision = precision_score(y_train, kappa_y_pred_binary)\n",
    "        kappa_precision_at_k = precision_at_k(y_train, kappa_y_pred_binary, k)\n",
    "\n",
    "        # Limit to K\n",
    "        len_train_k = int(len(y_pred_train)*0.65)\n",
    "        limit_to_k_threshold = np.sort(y_pred_train)[-len_train_k]\n",
    "        limit_to_k_y_pred_binary = (y_pred_train >= limit_to_k_threshold).astype(int)\n",
    "        limit_to_k_accuracy = accuracy_score(y_train, limit_to_k_y_pred_binary)\n",
    "        limit_to_k_recall = recall_score(y_train, limit_to_k_y_pred_binary)\n",
    "        limit_to_k_precision = precision_score(y_train, limit_to_k_y_pred_binary)\n",
    "        limit_to_k_precision_at_k = precision_at_k(y_train, limit_to_k_y_pred_binary, k)\n",
    "\n",
    "    # Create output dataframe\n",
    "    data = {\n",
    "        'Analysis': ['Default', 'Precision-Recall trade-off', 'Balanced Accuracy', \"Cohen's Kappa\", 'Limit to K'],\n",
    "        'Threshold': [round(default_threshold, 2), round(pr_threshold, 2), round(ba_threshold, 2), round(kappa_threshold, 2), round(limit_to_k_threshold, 2)],\n",
    "        'Accuracy': [round(default_accuracy, 2), round(pr_accuracy, 2), round(ba_accuracy, 2), round(kappa_accuracy, 2), round(limit_to_k_accuracy, 2)],\n",
    "        'Recall': [round(default_recall, 2), round(pr_recall, 2), round(ba_recall, 2), round(kappa_recall, 2), round(limit_to_k_recall, 2)],\n",
    "        'Precision': [round(default_precision, 2), round(pr_precision, 2), round(ba_precision, 2), round(kappa_precision, 2), round(limit_to_k_precision, 2)],\n",
    "        'Precision@211': [round(default_precision_at_k, 2), round(pr_precision_at_k, 2), round(ba_precision_at_k, 2), round(kappa_precision_at_k, 2), round(limit_to_k_precision_at_k, 2)]\n",
    "    }\n",
    "    \n",
    "    df = pd.DataFrame(data)\n",
    "    return df\n",
    "\n"
   ]
  },
  {
   "cell_type": "code",
   "execution_count": 19,
   "metadata": {},
   "outputs": [
    {
     "data": {
      "text/html": [
       "<div>\n",
       "<style scoped>\n",
       "    .dataframe tbody tr th:only-of-type {\n",
       "        vertical-align: middle;\n",
       "    }\n",
       "\n",
       "    .dataframe tbody tr th {\n",
       "        vertical-align: top;\n",
       "    }\n",
       "\n",
       "    .dataframe thead th {\n",
       "        text-align: right;\n",
       "    }\n",
       "</style>\n",
       "<table border=\"1\" class=\"dataframe\">\n",
       "  <thead>\n",
       "    <tr style=\"text-align: right;\">\n",
       "      <th></th>\n",
       "      <th>Analysis</th>\n",
       "      <th>Threshold</th>\n",
       "      <th>Accuracy</th>\n",
       "      <th>Recall</th>\n",
       "      <th>Precision</th>\n",
       "      <th>Precision@211</th>\n",
       "    </tr>\n",
       "  </thead>\n",
       "  <tbody>\n",
       "    <tr>\n",
       "      <th>0</th>\n",
       "      <td>Default</td>\n",
       "      <td>0.50</td>\n",
       "      <td>0.81</td>\n",
       "      <td>0.97</td>\n",
       "      <td>0.80</td>\n",
       "      <td>0.89</td>\n",
       "    </tr>\n",
       "    <tr>\n",
       "      <th>1</th>\n",
       "      <td>Precision-Recall trade-off</td>\n",
       "      <td>0.56</td>\n",
       "      <td>0.82</td>\n",
       "      <td>0.92</td>\n",
       "      <td>0.84</td>\n",
       "      <td>0.90</td>\n",
       "    </tr>\n",
       "    <tr>\n",
       "      <th>2</th>\n",
       "      <td>Balanced Accuracy</td>\n",
       "      <td>0.69</td>\n",
       "      <td>0.78</td>\n",
       "      <td>0.76</td>\n",
       "      <td>0.90</td>\n",
       "      <td>0.91</td>\n",
       "    </tr>\n",
       "    <tr>\n",
       "      <th>3</th>\n",
       "      <td>Cohen's Kappa</td>\n",
       "      <td>0.59</td>\n",
       "      <td>0.82</td>\n",
       "      <td>0.92</td>\n",
       "      <td>0.84</td>\n",
       "      <td>0.90</td>\n",
       "    </tr>\n",
       "    <tr>\n",
       "      <th>4</th>\n",
       "      <td>Limit to K</td>\n",
       "      <td>0.65</td>\n",
       "      <td>0.80</td>\n",
       "      <td>0.83</td>\n",
       "      <td>0.88</td>\n",
       "      <td>0.90</td>\n",
       "    </tr>\n",
       "  </tbody>\n",
       "</table>\n",
       "</div>"
      ],
      "text/plain": [
       "                     Analysis  Threshold  Accuracy  Recall  Precision  \\\n",
       "0                     Default       0.50      0.81    0.97       0.80   \n",
       "1  Precision-Recall trade-off       0.56      0.82    0.92       0.84   \n",
       "2           Balanced Accuracy       0.69      0.78    0.76       0.90   \n",
       "3               Cohen's Kappa       0.59      0.82    0.92       0.84   \n",
       "4                  Limit to K       0.65      0.80    0.83       0.88   \n",
       "\n",
       "   Precision@211  \n",
       "0           0.89  \n",
       "1           0.90  \n",
       "2           0.91  \n",
       "3           0.90  \n",
       "4           0.90  "
      ]
     },
     "execution_count": 19,
     "metadata": {},
     "output_type": "execute_result"
    }
   ],
   "source": [
    "evaluate_thresholds(y_pred_train,y_train,y_pred_test,y_test,metrics=\"train\")"
   ]
  },
  {
   "cell_type": "code",
   "execution_count": 20,
   "metadata": {},
   "outputs": [
    {
     "data": {
      "text/html": [
       "<div>\n",
       "<style scoped>\n",
       "    .dataframe tbody tr th:only-of-type {\n",
       "        vertical-align: middle;\n",
       "    }\n",
       "\n",
       "    .dataframe tbody tr th {\n",
       "        vertical-align: top;\n",
       "    }\n",
       "\n",
       "    .dataframe thead th {\n",
       "        text-align: right;\n",
       "    }\n",
       "</style>\n",
       "<table border=\"1\" class=\"dataframe\">\n",
       "  <thead>\n",
       "    <tr style=\"text-align: right;\">\n",
       "      <th></th>\n",
       "      <th>Analysis</th>\n",
       "      <th>Threshold</th>\n",
       "      <th>Accuracy</th>\n",
       "      <th>Recall</th>\n",
       "      <th>Precision</th>\n",
       "      <th>Precision@211</th>\n",
       "    </tr>\n",
       "  </thead>\n",
       "  <tbody>\n",
       "    <tr>\n",
       "      <th>0</th>\n",
       "      <td>Default</td>\n",
       "      <td>0.50</td>\n",
       "      <td>0.68</td>\n",
       "      <td>0.97</td>\n",
       "      <td>0.68</td>\n",
       "      <td>0.68</td>\n",
       "    </tr>\n",
       "    <tr>\n",
       "      <th>1</th>\n",
       "      <td>Precision-Recall trade-off</td>\n",
       "      <td>0.56</td>\n",
       "      <td>0.68</td>\n",
       "      <td>0.89</td>\n",
       "      <td>0.70</td>\n",
       "      <td>0.70</td>\n",
       "    </tr>\n",
       "    <tr>\n",
       "      <th>2</th>\n",
       "      <td>Balanced Accuracy</td>\n",
       "      <td>0.69</td>\n",
       "      <td>0.71</td>\n",
       "      <td>0.75</td>\n",
       "      <td>0.79</td>\n",
       "      <td>0.77</td>\n",
       "    </tr>\n",
       "    <tr>\n",
       "      <th>3</th>\n",
       "      <td>Cohen's Kappa</td>\n",
       "      <td>0.59</td>\n",
       "      <td>0.68</td>\n",
       "      <td>0.87</td>\n",
       "      <td>0.70</td>\n",
       "      <td>0.70</td>\n",
       "    </tr>\n",
       "    <tr>\n",
       "      <th>4</th>\n",
       "      <td>Limit to K</td>\n",
       "      <td>0.65</td>\n",
       "      <td>0.69</td>\n",
       "      <td>0.79</td>\n",
       "      <td>0.75</td>\n",
       "      <td>0.75</td>\n",
       "    </tr>\n",
       "  </tbody>\n",
       "</table>\n",
       "</div>"
      ],
      "text/plain": [
       "                     Analysis  Threshold  Accuracy  Recall  Precision  \\\n",
       "0                     Default       0.50      0.68    0.97       0.68   \n",
       "1  Precision-Recall trade-off       0.56      0.68    0.89       0.70   \n",
       "2           Balanced Accuracy       0.69      0.71    0.75       0.79   \n",
       "3               Cohen's Kappa       0.59      0.68    0.87       0.70   \n",
       "4                  Limit to K       0.65      0.69    0.79       0.75   \n",
       "\n",
       "   Precision@211  \n",
       "0           0.68  \n",
       "1           0.70  \n",
       "2           0.77  \n",
       "3           0.70  \n",
       "4           0.75  "
      ]
     },
     "execution_count": 20,
     "metadata": {},
     "output_type": "execute_result"
    }
   ],
   "source": [
    "evaluate_thresholds(y_pred_train,y_train,y_pred_test,y_test,metrics=\"test\")"
   ]
  },
  {
   "cell_type": "code",
   "execution_count": 21,
   "metadata": {},
   "outputs": [
    {
     "data": {
      "image/png": "[encoded data removed]",
      "text/plain": [
       "<Figure size 640x480 with 1 Axes>"
      ]
     },
     "metadata": {},
     "output_type": "display_data"
    }
   ],
   "source": [
    "from xgboost import plot_importance\n",
    "\n",
    "# Plot the feature importance scores\n",
    "plot_importance(model_score)\n",
    "plt.show()"
   ]
  },
  {
   "cell_type": "code",
   "execution_count": 22,
   "metadata": {},
   "outputs": [
    {
     "data": {
      "text/plain": [
       "['nervosismo razão encaminhar neurologista exceto presente sinal sintoma lesão orgânico sistema nervoso central snc avaliar caso encaminhar saúde mental antes encaminhamento formal',\n",
       " 'queixa somático explicação médico',\n",
       " 'epilepsia controlar medicação dois ano monoterapia',\n",
       " 'alteração sono insônio',\n",
       " 'prevenção primário secundário doença cerebrovascular',\n",
       " 'cefaleia primário típico enxaqueca tensional salvo episódica abuso medicamentoso',\n",
       " 'paralisia facial periférico',\n",
       " 'neurocisticercose calcificar lesão crônico inativo']"
      ]
     },
     "execution_count": 22,
     "metadata": {},
     "output_type": "execute_result"
    }
   ],
   "source": [
    "rejection_list = protocols_refusal['Refusal'].tolist()\n",
    "rejection_list"
   ]
  },
  {
   "cell_type": "code",
   "execution_count": 23,
   "metadata": {},
   "outputs": [],
   "source": [
    "from sklearn.metrics.pairwise import cosine_similarity\n",
    "\n",
    "referrals = data['clean_text'].tolist()\n",
    "\n",
    "\n",
    "for index, protocol in enumerate(rejection_list):\n",
    "\n",
    "    sentences = [protocol] + referrals\n",
    "\n",
    "    sentences_vectors = model.encode(sentences)\n",
    "\n",
    "    results = cosine_similarity([sentences_vectors[0]], sentences_vectors[1:])\n",
    "\n",
    "    column_name = 'rej_prot_' + str(index)\n",
    "\n",
    "    data[column_name] = results[0]\n"
   ]
  },
  {
   "cell_type": "code",
   "execution_count": 24,
   "metadata": {},
   "outputs": [],
   "source": [
    "eliminate_cols=['ID_DOENTE','PROCESSO','COD_REFERENCIA','result','COD_PZ','COD_UNID_SAUDE_PROV','UNID_PROV','TIPO_UNID','COD_CTH_PRIOR','CTH_PRIOR','COD_MOTIVO_RECUSA','DES_MOTIVO_RECUSA','COD_ESPECIALIDADE','DES_ESPECIALIDADE','agrupadora','OUTRA_ENTIDADE','DATA_RECEPCAO','DATA_ENVIO','DATA_RETORNO','NUM_TAXA','ESTADO','DATA_MARCACAO','DATA_REALIZACAO','OBSERVACOES','Mês_entrada','Ano_entrada','trata data recusa','resume saída','mês_saida','ano_saida','Texto','clean_text']\n",
    "X = data.drop(eliminate_cols,axis=1)# Features\n",
    "y = data.result # Target variable\n",
    "features=X.columns\n",
    "\n",
    "y_pred_train, y_pred_test, model_score, X_train, X_test, y_train, y_test = xgb_classifier(X,y)"
   ]
  },
  {
   "cell_type": "code",
   "execution_count": 25,
   "metadata": {},
   "outputs": [
    {
     "data": {
      "text/html": [
       "<div>\n",
       "<style scoped>\n",
       "    .dataframe tbody tr th:only-of-type {\n",
       "        vertical-align: middle;\n",
       "    }\n",
       "\n",
       "    .dataframe tbody tr th {\n",
       "        vertical-align: top;\n",
       "    }\n",
       "\n",
       "    .dataframe thead th {\n",
       "        text-align: right;\n",
       "    }\n",
       "</style>\n",
       "<table border=\"1\" class=\"dataframe\">\n",
       "  <thead>\n",
       "    <tr style=\"text-align: right;\">\n",
       "      <th></th>\n",
       "      <th>Analysis</th>\n",
       "      <th>Threshold</th>\n",
       "      <th>Accuracy</th>\n",
       "      <th>Recall</th>\n",
       "      <th>Precision</th>\n",
       "      <th>Precision@211</th>\n",
       "    </tr>\n",
       "  </thead>\n",
       "  <tbody>\n",
       "    <tr>\n",
       "      <th>0</th>\n",
       "      <td>Default</td>\n",
       "      <td>0.50</td>\n",
       "      <td>0.80</td>\n",
       "      <td>0.98</td>\n",
       "      <td>0.78</td>\n",
       "      <td>0.88</td>\n",
       "    </tr>\n",
       "    <tr>\n",
       "      <th>1</th>\n",
       "      <td>Precision-Recall trade-off</td>\n",
       "      <td>0.59</td>\n",
       "      <td>0.82</td>\n",
       "      <td>0.94</td>\n",
       "      <td>0.83</td>\n",
       "      <td>0.89</td>\n",
       "    </tr>\n",
       "    <tr>\n",
       "      <th>2</th>\n",
       "      <td>Balanced Accuracy</td>\n",
       "      <td>0.69</td>\n",
       "      <td>0.76</td>\n",
       "      <td>0.73</td>\n",
       "      <td>0.90</td>\n",
       "      <td>0.93</td>\n",
       "    </tr>\n",
       "    <tr>\n",
       "      <th>3</th>\n",
       "      <td>Cohen's Kappa</td>\n",
       "      <td>0.62</td>\n",
       "      <td>0.81</td>\n",
       "      <td>0.88</td>\n",
       "      <td>0.85</td>\n",
       "      <td>0.90</td>\n",
       "    </tr>\n",
       "    <tr>\n",
       "      <th>4</th>\n",
       "      <td>Limit to K</td>\n",
       "      <td>0.66</td>\n",
       "      <td>0.78</td>\n",
       "      <td>0.81</td>\n",
       "      <td>0.86</td>\n",
       "      <td>0.89</td>\n",
       "    </tr>\n",
       "  </tbody>\n",
       "</table>\n",
       "</div>"
      ],
      "text/plain": [
       "                     Analysis  Threshold  Accuracy  Recall  Precision  \\\n",
       "0                     Default       0.50      0.80    0.98       0.78   \n",
       "1  Precision-Recall trade-off       0.59      0.82    0.94       0.83   \n",
       "2           Balanced Accuracy       0.69      0.76    0.73       0.90   \n",
       "3               Cohen's Kappa       0.62      0.81    0.88       0.85   \n",
       "4                  Limit to K       0.66      0.78    0.81       0.86   \n",
       "\n",
       "   Precision@211  \n",
       "0           0.88  \n",
       "1           0.89  \n",
       "2           0.93  \n",
       "3           0.90  \n",
       "4           0.89  "
      ]
     },
     "execution_count": 25,
     "metadata": {},
     "output_type": "execute_result"
    }
   ],
   "source": [
    "evaluate_thresholds(y_pred_train,y_train,y_pred_test,y_test,metrics=\"train\")"
   ]
  },
  {
   "cell_type": "code",
   "execution_count": 26,
   "metadata": {},
   "outputs": [
    {
     "data": {
      "text/html": [
       "<div>\n",
       "<style scoped>\n",
       "    .dataframe tbody tr th:only-of-type {\n",
       "        vertical-align: middle;\n",
       "    }\n",
       "\n",
       "    .dataframe tbody tr th {\n",
       "        vertical-align: top;\n",
       "    }\n",
       "\n",
       "    .dataframe thead th {\n",
       "        text-align: right;\n",
       "    }\n",
       "</style>\n",
       "<table border=\"1\" class=\"dataframe\">\n",
       "  <thead>\n",
       "    <tr style=\"text-align: right;\">\n",
       "      <th></th>\n",
       "      <th>Analysis</th>\n",
       "      <th>Threshold</th>\n",
       "      <th>Accuracy</th>\n",
       "      <th>Recall</th>\n",
       "      <th>Precision</th>\n",
       "      <th>Precision@211</th>\n",
       "    </tr>\n",
       "  </thead>\n",
       "  <tbody>\n",
       "    <tr>\n",
       "      <th>0</th>\n",
       "      <td>Default</td>\n",
       "      <td>0.50</td>\n",
       "      <td>0.66</td>\n",
       "      <td>0.97</td>\n",
       "      <td>0.67</td>\n",
       "      <td>0.67</td>\n",
       "    </tr>\n",
       "    <tr>\n",
       "      <th>1</th>\n",
       "      <td>Precision-Recall trade-off</td>\n",
       "      <td>0.59</td>\n",
       "      <td>0.67</td>\n",
       "      <td>0.89</td>\n",
       "      <td>0.69</td>\n",
       "      <td>0.70</td>\n",
       "    </tr>\n",
       "    <tr>\n",
       "      <th>2</th>\n",
       "      <td>Balanced Accuracy</td>\n",
       "      <td>0.69</td>\n",
       "      <td>0.70</td>\n",
       "      <td>0.71</td>\n",
       "      <td>0.81</td>\n",
       "      <td>0.76</td>\n",
       "    </tr>\n",
       "    <tr>\n",
       "      <th>3</th>\n",
       "      <td>Cohen's Kappa</td>\n",
       "      <td>0.62</td>\n",
       "      <td>0.67</td>\n",
       "      <td>0.80</td>\n",
       "      <td>0.73</td>\n",
       "      <td>0.72</td>\n",
       "    </tr>\n",
       "    <tr>\n",
       "      <th>4</th>\n",
       "      <td>Limit to K</td>\n",
       "      <td>0.66</td>\n",
       "      <td>0.67</td>\n",
       "      <td>0.74</td>\n",
       "      <td>0.75</td>\n",
       "      <td>0.75</td>\n",
       "    </tr>\n",
       "  </tbody>\n",
       "</table>\n",
       "</div>"
      ],
      "text/plain": [
       "                     Analysis  Threshold  Accuracy  Recall  Precision  \\\n",
       "0                     Default       0.50      0.66    0.97       0.67   \n",
       "1  Precision-Recall trade-off       0.59      0.67    0.89       0.69   \n",
       "2           Balanced Accuracy       0.69      0.70    0.71       0.81   \n",
       "3               Cohen's Kappa       0.62      0.67    0.80       0.73   \n",
       "4                  Limit to K       0.66      0.67    0.74       0.75   \n",
       "\n",
       "   Precision@211  \n",
       "0           0.67  \n",
       "1           0.70  \n",
       "2           0.76  \n",
       "3           0.72  \n",
       "4           0.75  "
      ]
     },
     "execution_count": 26,
     "metadata": {},
     "output_type": "execute_result"
    }
   ],
   "source": [
    "evaluate_thresholds(y_pred_train,y_train,y_pred_test,y_test,metrics=\"test\")"
   ]
  },
  {
   "cell_type": "code",
   "execution_count": 27,
   "metadata": {},
   "outputs": [
    {
     "data": {
      "image/png": "[encoded data removed]",
      "text/plain": [
       "<Figure size 640x480 with 1 Axes>"
      ]
     },
     "metadata": {},
     "output_type": "display_data"
    }
   ],
   "source": [
    "from xgboost import plot_importance\n",
    "\n",
    "# Plot the feature importance scores\n",
    "plot_importance(model_score)\n",
    "plt.show()"
   ]
  }
 ],
 "metadata": {
  "kernelspec": {
   "display_name": "nova",
   "language": "python",
   "name": "python3"
  },
  "language_info": {
   "codemirror_mode": {
    "name": "ipython",
    "version": 3
   },
   "file_extension": ".py",
   "mimetype": "text/x-python",
   "name": "python",
   "nbconvert_exporter": "python",
   "pygments_lexer": "ipython3",
   "version": "3.11.3"
  },
  "orig_nbformat": 4
 },
 "nbformat": 4,
 "nbformat_minor": 2
}
