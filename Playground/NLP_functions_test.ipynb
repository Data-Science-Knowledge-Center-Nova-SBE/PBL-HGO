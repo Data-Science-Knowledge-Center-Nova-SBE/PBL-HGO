{
 "cells": [
  {
   "cell_type": "code",
   "execution_count": 10,
   "metadata": {},
   "outputs": [],
   "source": [
    "import pandas as pd\n",
    "from Functions.AlertP1.data_cleaning import *\n",
    "from Functions.NLP.alertp1_nlp import *"
   ]
  },
  {
   "cell_type": "code",
   "execution_count": null,
   "metadata": {},
   "outputs": [],
   "source": [
    "#Create a DataFrame\n",
    "cone\n",
    "\n",
    "#Data Cleaning\n",
    "date_format_alertP1(alertP1)\n",
    "replace_blank(alertP1)\n",
    "\n",
    "#NLP\n",
    "remove_stop_words(alertP1, \"Texto\", \"clean_text\")\n",
    "spacy_lemmatizer(alertP1, \"clean_text\", \"clean_text\")\n",
    "disease_class(alertP1, \"clean_text\")\n",
    "\n",
    "print(alertP1.head())\n",
    "\n",
    "#Save the new, clean and ready to slay CSV\n",
    "load_data(\"modified_dataset.csv\",alertP1)"
   ]
  },
  {
   "cell_type": "code",
   "execution_count": null,
   "metadata": {},
   "outputs": [],
   "source": []
  }
 ],
 "metadata": {
  "kernelspec": {
   "display_name": "Python 3",
   "language": "python",
   "name": "python3"
  },
  "language_info": {
   "name": "python",
   "version": "3.11.2"
  },
  "orig_nbformat": 4
 },
 "nbformat": 4,
 "nbformat_minor": 2
}
