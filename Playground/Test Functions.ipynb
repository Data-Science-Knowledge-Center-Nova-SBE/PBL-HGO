{
 "cells": [
  {
   "cell_type": "code",
   "execution_count": 1,
   "metadata": {},
   "outputs": [],
   "source": [
    "from Functions.NLP.alertp1_nlp import *"
   ]
  },
  {
   "cell_type": "code",
   "execution_count": 2,
   "metadata": {},
   "outputs": [
    {
     "data": {
      "text/html": [
       "<div>\n",
       "<style scoped>\n",
       "    .dataframe tbody tr th:only-of-type {\n",
       "        vertical-align: middle;\n",
       "    }\n",
       "\n",
       "    .dataframe tbody tr th {\n",
       "        vertical-align: top;\n",
       "    }\n",
       "\n",
       "    .dataframe thead th {\n",
       "        text-align: right;\n",
       "    }\n",
       "</style>\n",
       "<table border=\"1\" class=\"dataframe\">\n",
       "  <thead>\n",
       "    <tr style=\"text-align: right;\">\n",
       "      <th></th>\n",
       "      <th>queens</th>\n",
       "    </tr>\n",
       "  </thead>\n",
       "  <tbody>\n",
       "    <tr>\n",
       "      <th>0</th>\n",
       "      <td>Gaga</td>\n",
       "    </tr>\n",
       "    <tr>\n",
       "      <th>1</th>\n",
       "      <td>Beyoncé</td>\n",
       "    </tr>\n",
       "    <tr>\n",
       "      <th>2</th>\n",
       "      <td>Katy</td>\n",
       "    </tr>\n",
       "  </tbody>\n",
       "</table>\n",
       "</div>"
      ],
      "text/plain": [
       "    queens\n",
       "0     Gaga\n",
       "1  Beyoncé\n",
       "2     Katy"
      ]
     },
     "execution_count": 2,
     "metadata": {},
     "output_type": "execute_result"
    }
   ],
   "source": [
    "import pandas as pd\n",
    "data = pd.DataFrame()\n",
    "data[\"queens\"] = [\"Gaga\", \"Beyoncé\", \"Katy\"]\n",
    "data"
   ]
  },
  {
   "cell_type": "code",
   "execution_count": 3,
   "metadata": {},
   "outputs": [],
   "source": [
    "x = text_list(data[\"queens\"])"
   ]
  },
  {
   "cell_type": "code",
   "execution_count": 4,
   "metadata": {},
   "outputs": [
    {
     "data": {
      "text/plain": [
       "['gaga', 'beyoncé', 'Katy']"
      ]
     },
     "execution_count": 4,
     "metadata": {},
     "output_type": "execute_result"
    }
   ],
   "source": [
    "spacy_lemmatizer(x)"
   ]
  },
  {
   "cell_type": "code",
   "execution_count": 13,
   "metadata": {},
   "outputs": [],
   "source": [
    "x = ['Utente de 37 anos de idade, sem antecedentes pessoais relevnates para a historia da doença actual Queixas de cefaleia occipital com irradiação a restante cabeça tipo \"pedra\" sic, com varios meses de evolução, agrava no final do dia. Nega despertar nocturno, ou alterações das caracteristicas da cefaleia. ENS- sem alts Mediquei com AINE e relaxante muscular com alivio parcial, mas persistem crises ocasionais. Apesar do diagnostico presumptivo de cefaleia de tensão, a utente pretende consulta de especialidade']"
   ]
  },
  {
   "cell_type": "code",
   "execution_count": 14,
   "metadata": {},
   "outputs": [
    {
     "data": {
      "text/plain": [
       "['Utente de 37 ano de idade , sem antecedente pessoal relevnate para o historia de o doença actual Queixas de cefaleia occipital com irradiação a restante cabeça tipo \" pedra \" sic , com vario mês de evolução , agrar em o final de o dia . Nega despertar nocturno , ou alteração de o caracteristica de o cefaleia . ENS- sem alts Mediquei com AINE e relaxante muscular com alivio parcial , mas persistir crise ocasional . apesar de o diagnostico presumptivo de cefaleia de tensão , o utente pretender consulta de especialidade']"
      ]
     },
     "execution_count": 14,
     "metadata": {},
     "output_type": "execute_result"
    }
   ],
   "source": [
    "spacy_lemmatizer(x)"
   ]
  },
  {
   "cell_type": "code",
   "execution_count": 16,
   "metadata": {},
   "outputs": [
    {
     "data": {
      "text/plain": [
       "'Utente de 83 anos de idade, com diagnostico de Parkinson com alterações da marcha e demencia; com Bradicinesia, Hipertonia axial, sem tremor; alargamento da base de sustentac?o em pe e Plantares flexores. Foi seguido por vós até inicio de 2015, não tendo eu acesso a nota de alta da vossa consulta; pelo que não consigo/sei explicar a esposa a situação do marido; assim como o que esperar da evolução do quadro. Agradeço a vossa atenção e melhor orientação da situação atendendo ás duvidas que persistem.'"
      ]
     },
     "execution_count": 16,
     "metadata": {},
     "output_type": "execute_result"
    }
   ],
   "source": [
    "\"Utente de 83 anos de idade, com diagnostico de Parkinson com alterações da marcha e demencia; com Bradicinesia, Hipertonia axial, sem tremor; alargamento da base de sustentac?o em pe e Plantares flexores. Foi seguido por vós até inicio de 2015, não tendo eu acesso a nota de alta da vossa consulta; pelo que não consigo/sei explicar a esposa a situação do marido; assim como o que esperar da evolução do quadro. Agradeço a vossa atenção e melhor orientação da situação atendendo ás duvidas que persistem.\""
   ]
  },
  {
   "cell_type": "code",
   "execution_count": 17,
   "metadata": {},
   "outputs": [
    {
     "data": {
      "text/plain": [
       "'Utente de 59 anos com antecedentes de Sindrome Depressivo e Perturbação da Personalidade Histrionica. Seguida em consulta de Psiquiatria e medicada com Venlafaxina e Mirtazapina. Segundo o Psiquiatra a utente encontra-se mais equilibrada do ponto de vista do humor, mantendo no entando alterações mnésicas graves, com episodios frequentes de desorientação temporal. Realizou TC-CE e EEG que nao revelaram alterações, colocando-se a possibilidade de Sindrome Demencial, pelo que envio a utente ao vosso cuidado para observação.'"
      ]
     },
     "execution_count": 17,
     "metadata": {},
     "output_type": "execute_result"
    }
   ],
   "source": [
    "\"Utente de 59 anos com antecedentes de Sindrome Depressivo e Perturbação da Personalidade Histrionica. Seguida em consulta de Psiquiatria e medicada com Venlafaxina e Mirtazapina. Segundo o Psiquiatra a utente encontra-se mais equilibrada do ponto de vista do humor, mantendo no entando alterações mnésicas graves, com episodios frequentes de desorientação temporal. Realizou TC-CE e EEG que nao revelaram alterações, colocando-se a possibilidade de Sindrome Demencial, pelo que envio a utente ao vosso cuidado para observação.\""
   ]
  },
  {
   "cell_type": "code",
   "execution_count": 18,
   "metadata": {},
   "outputs": [
    {
     "data": {
      "text/plain": [
       "'Doente com queixas de défices cognitivos graves mas incongruentes já avaliada no passado. Entretanto foi feito o Diagnóstico de Apneia do Sono. Uma vez que já iniciou ventiloterapia com sucesso, peço nova avaliação neuropsicológica a fim de podermos comparar os resultados com a avaliação anterior e analisar a progressão dos defeitos identificados de modo a excluir possibilidade de haver alguma intencionalidade nos defeitos apresentados nos testes. '"
      ]
     },
     "execution_count": 18,
     "metadata": {},
     "output_type": "execute_result"
    }
   ],
   "source": [
    "\"Doente com queixas de défices cognitivos graves mas incongruentes já avaliada no passado. Entretanto foi feito o Diagnóstico de Apneia do Sono. Uma vez que já iniciou ventiloterapia com sucesso, peço nova avaliação neuropsicológica a fim de podermos comparar os resultados com a avaliação anterior e analisar a progressão dos defeitos identificados de modo a excluir possibilidade de haver alguma intencionalidade nos defeitos apresentados nos testes. \""
   ]
  },
  {
   "cell_type": "code",
   "execution_count": 21,
   "metadata": {},
   "outputs": [
    {
     "data": {
      "text/plain": [
       "'Doente com antec de depressão, abandonou cons de psiquiatria, porque \"os medicamentos lhe faziam todos mal\" Entretanto tem tido queixas de vertigens e a familia tem revelado alterações cognitivas. Está quase sempre deitada, não quer comer. periodos de confusão mental, \"esquecimento\" e durante a noite chama pelas pessoas que já faleceram. Esta situação tem-se vindo a agravar. Depressão arrastada? Quadro demencial? TAC CE sem alt significativa Analises sem alterações significativas Está medicada com sertralina, triticum AC 150, analgésicos, symbicort, fosinopril,'"
      ]
     },
     "execution_count": 21,
     "metadata": {},
     "output_type": "execute_result"
    }
   ],
   "source": [
    "'Doente com antec de depressão, abandonou cons de psiquiatria, porque \"os medicamentos lhe faziam todos mal\" Entretanto tem tido queixas de vertigens e a familia tem revelado alterações cognitivas. Está quase sempre deitada, não quer comer. periodos de confusão mental, \"esquecimento\" e durante a noite chama pelas pessoas que já faleceram. Esta situação tem-se vindo a agravar. Depressão arrastada? Quadro demencial? TAC CE sem alt significativa Analises sem alterações significativas Está medicada com sertralina, triticum AC 150, analgésicos, symbicort, fosinopril,'"
   ]
  },
  {
   "cell_type": "code",
   "execution_count": null,
   "metadata": {},
   "outputs": [],
   "source": []
  }
 ],
 "metadata": {
  "kernelspec": {
   "display_name": "Python 3.9.12 ('base')",
   "language": "python",
   "name": "python3"
  },
  "language_info": {
   "codemirror_mode": {
    "name": "ipython",
    "version": 3
   },
   "file_extension": ".py",
   "mimetype": "text/x-python",
   "name": "python",
   "nbconvert_exporter": "python",
   "pygments_lexer": "ipython3",
   "version": "3.9.12"
  },
  "orig_nbformat": 4,
  "vscode": {
   "interpreter": {
    "hash": "eb98f5c2dde37d8a67961a214b34faf352e815d37d431ceb2c7a3f0b15f97046"
   }
  }
 },
 "nbformat": 4,
 "nbformat_minor": 2
}
